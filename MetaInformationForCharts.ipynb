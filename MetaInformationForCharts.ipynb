{
  "nbformat": 4,
  "nbformat_minor": 0,
  "metadata": {
    "colab": {
      "name": "MetaInformationForCharts.ipynb",
      "provenance": [],
      "mount_file_id": "1j8teuTyRZJ61rithTWT6zOFkhv1Zh6xZ",
      "authorship_tag": "ABX9TyPdbogidg3rZEAhtNol02xL",
      "include_colab_link": true
    },
    "kernelspec": {
      "name": "python3",
      "display_name": "Python 3"
    }
  },
  "cells": [
    {
      "cell_type": "markdown",
      "metadata": {
        "id": "view-in-github",
        "colab_type": "text"
      },
      "source": [
        "<a href=\"https://colab.research.google.com/github/mihirahuja1/Spotify-Artist-Promotion/blob/master/MetaInformationForCharts.ipynb\" target=\"_parent\"><img src=\"https://colab.research.google.com/assets/colab-badge.svg\" alt=\"Open In Colab\"/></a>"
      ]
    },
    {
      "cell_type": "markdown",
      "metadata": {
        "id": "5Ei75npNEA8B",
        "colab_type": "text"
      },
      "source": [
        "This notebook covers the way to extract meta information for the previously obtained tracks!"
      ]
    },
    {
      "cell_type": "code",
      "metadata": {
        "id": "C4j6pwskgJha",
        "colab_type": "code",
        "colab": {
          "base_uri": "https://localhost:8080/",
          "height": 187
        },
        "outputId": "0a7c3338-b4e1-41d0-f87e-73507653f1d8"
      },
      "source": [
        "import pandas as pd\n",
        "import numpy as np\n",
        "!pip install spotipy\n",
        "import spotipy\n",
        "from spotipy.oauth2 import SpotifyClientCredentials"
      ],
      "execution_count": 2,
      "outputs": [
        {
          "output_type": "stream",
          "text": [
            "Collecting spotipy\n",
            "  Downloading https://files.pythonhosted.org/packages/f1/62/210c7942dede1c0d39aa56520d59c4565e232f957ea4caea87da7e6f3e61/spotipy-2.13.0-py3-none-any.whl\n",
            "Requirement already satisfied: six>=1.10.0 in /usr/local/lib/python3.6/dist-packages (from spotipy) (1.12.0)\n",
            "Requirement already satisfied: requests>=2.20.0 in /usr/local/lib/python3.6/dist-packages (from spotipy) (2.23.0)\n",
            "Requirement already satisfied: idna<3,>=2.5 in /usr/local/lib/python3.6/dist-packages (from requests>=2.20.0->spotipy) (2.10)\n",
            "Requirement already satisfied: urllib3!=1.25.0,!=1.25.1,<1.26,>=1.21.1 in /usr/local/lib/python3.6/dist-packages (from requests>=2.20.0->spotipy) (1.24.3)\n",
            "Requirement already satisfied: chardet<4,>=3.0.2 in /usr/local/lib/python3.6/dist-packages (from requests>=2.20.0->spotipy) (3.0.4)\n",
            "Requirement already satisfied: certifi>=2017.4.17 in /usr/local/lib/python3.6/dist-packages (from requests>=2.20.0->spotipy) (2020.6.20)\n",
            "Installing collected packages: spotipy\n",
            "Successfully installed spotipy-2.13.0\n"
          ],
          "name": "stdout"
        }
      ]
    },
    {
      "cell_type": "code",
      "metadata": {
        "id": "xUYyhvBTgoy-",
        "colab_type": "code",
        "colab": {}
      },
      "source": [
        "chartcollection = pd.read_csv('drive/My Drive/SpotifyDS/chartCollection.csv')"
      ],
      "execution_count": 15,
      "outputs": []
    },
    {
      "cell_type": "code",
      "metadata": {
        "id": "Kv4ySTtrgaMx",
        "colab_type": "code",
        "colab": {}
      },
      "source": [
        "cid= 'Your Client ID here'\n",
        "secret= 'Your Secret Key here'"
      ],
      "execution_count": 16,
      "outputs": []
    },
    {
      "cell_type": "code",
      "metadata": {
        "id": "d8aRqACCgbWg",
        "colab_type": "code",
        "colab": {}
      },
      "source": [
        "\n",
        "client_credentials_manager = SpotifyClientCredentials(client_id=cid, client_secret=secret)\n",
        "sp = spotipy.Spotify(client_credentials_manager\n",
        "=\n",
        "client_credentials_manager)"
      ],
      "execution_count": 17,
      "outputs": []
    },
    {
      "cell_type": "markdown",
      "metadata": {
        "id": "u7a_tyepETj8",
        "colab_type": "text"
      },
      "source": [
        "Function to generate audio features"
      ]
    },
    {
      "cell_type": "code",
      "metadata": {
        "id": "gwkhsnJ3gcbv",
        "colab_type": "code",
        "colab": {}
      },
      "source": [
        "cnt=0\n",
        "main_df = pd.DataFrame()\n",
        "\n",
        "def create_audio_features_df(song):\n",
        "  global cnt\n",
        "  global main_df\n",
        "  try:\n",
        "    d = sp.audio_features(song)[0]\n",
        "    \n",
        "    new_df = pd.DataFrame(d.values())\n",
        "    new_df = new_df.transpose()\n",
        "  except:\n",
        "    new_df = pd.DataFrame(index=np.arange(1), columns=np.arange(18))\n",
        "  if cnt == 0:\n",
        "    main_df = new_df\n",
        "  else:\n",
        "    \n",
        "    x = pd.concat([main_df, new_df], ignore_index=True)\n",
        "    main_df = x\n",
        "  cnt+=1\n"
      ],
      "execution_count": 3,
      "outputs": []
    },
    {
      "cell_type": "code",
      "metadata": {
        "id": "3-vkscFoWQgE",
        "colab_type": "code",
        "colab": {
          "base_uri": "https://localhost:8080/",
          "height": 32
        },
        "outputId": "521234bd-7009-47e5-94bb-4eb62206dae6"
      },
      "source": [
        "main_df"
      ],
      "execution_count": 41,
      "outputs": [
        {
          "output_type": "execute_result",
          "data": {
            "text/html": [
              "<div>\n",
              "<style scoped>\n",
              "    .dataframe tbody tr th:only-of-type {\n",
              "        vertical-align: middle;\n",
              "    }\n",
              "\n",
              "    .dataframe tbody tr th {\n",
              "        vertical-align: top;\n",
              "    }\n",
              "\n",
              "    .dataframe thead th {\n",
              "        text-align: right;\n",
              "    }\n",
              "</style>\n",
              "<table border=\"1\" class=\"dataframe\">\n",
              "  <thead>\n",
              "    <tr style=\"text-align: right;\">\n",
              "      <th></th>\n",
              "    </tr>\n",
              "  </thead>\n",
              "  <tbody>\n",
              "  </tbody>\n",
              "</table>\n",
              "</div>"
            ],
            "text/plain": [
              "Empty DataFrame\n",
              "Columns: []\n",
              "Index: []"
            ]
          },
          "metadata": {
            "tags": []
          },
          "execution_count": 41
        }
      ]
    },
    {
      "cell_type": "code",
      "metadata": {
        "id": "EEXT0foUgnFP",
        "colab_type": "code",
        "colab": {}
      },
      "source": [
        "chartcollection['URL'].apply(lambda x : create_audio_features_df(x[31:]))"
      ],
      "execution_count": 52,
      "outputs": []
    },
    {
      "cell_type": "code",
      "metadata": {
        "id": "1m22Djwpg5qL",
        "colab_type": "code",
        "colab": {}
      },
      "source": [
        "main_df.to_csv('drive/My Drive/SpotifyDS/only_audio_features.csv')"
      ],
      "execution_count": 45,
      "outputs": []
    },
    {
      "cell_type": "code",
      "metadata": {
        "id": "V0IIJC4Ih7dv",
        "colab_type": "code",
        "colab": {}
      },
      "source": [
        "main_df.columns = main_df.columns.astype(str)\n",
        "main_df= main_df[['0','1','2','3','4','5','6','7','8','9','10']]\n",
        "main_df.columns = ['danceability', 'energy','key','loudness','mode','speechiness','acousticness','instrumentalness','liveness','valence','tempo']"
      ],
      "execution_count": 46,
      "outputs": []
    },
    {
      "cell_type": "code",
      "metadata": {
        "id": "6BkYdr8DiMC-",
        "colab_type": "code",
        "colab": {
          "base_uri": "https://localhost:8080/",
          "height": 419
        },
        "outputId": "3d33257f-477b-495d-9752-043761a5ccb0"
      },
      "source": [
        "main_df"
      ],
      "execution_count": 47,
      "outputs": [
        {
          "output_type": "execute_result",
          "data": {
            "text/html": [
              "<div>\n",
              "<style scoped>\n",
              "    .dataframe tbody tr th:only-of-type {\n",
              "        vertical-align: middle;\n",
              "    }\n",
              "\n",
              "    .dataframe tbody tr th {\n",
              "        vertical-align: top;\n",
              "    }\n",
              "\n",
              "    .dataframe thead th {\n",
              "        text-align: right;\n",
              "    }\n",
              "</style>\n",
              "<table border=\"1\" class=\"dataframe\">\n",
              "  <thead>\n",
              "    <tr style=\"text-align: right;\">\n",
              "      <th></th>\n",
              "      <th>danceability</th>\n",
              "      <th>energy</th>\n",
              "      <th>key</th>\n",
              "      <th>loudness</th>\n",
              "      <th>mode</th>\n",
              "      <th>speechiness</th>\n",
              "      <th>acousticness</th>\n",
              "      <th>instrumentalness</th>\n",
              "      <th>liveness</th>\n",
              "      <th>valence</th>\n",
              "      <th>tempo</th>\n",
              "    </tr>\n",
              "  </thead>\n",
              "  <tbody>\n",
              "    <tr>\n",
              "      <th>0</th>\n",
              "      <td>0.747</td>\n",
              "      <td>0.622</td>\n",
              "      <td>11</td>\n",
              "      <td>-5.825</td>\n",
              "      <td>1</td>\n",
              "      <td>0.0838</td>\n",
              "      <td>0.176</td>\n",
              "      <td>0</td>\n",
              "      <td>0.151</td>\n",
              "      <td>0.57</td>\n",
              "      <td>159.93</td>\n",
              "    </tr>\n",
              "    <tr>\n",
              "      <th>1</th>\n",
              "      <td>0.625</td>\n",
              "      <td>0.814</td>\n",
              "      <td>0</td>\n",
              "      <td>-5.181</td>\n",
              "      <td>1</td>\n",
              "      <td>0.0657</td>\n",
              "      <td>0.0172</td>\n",
              "      <td>0</td>\n",
              "      <td>0.158</td>\n",
              "      <td>0.535</td>\n",
              "      <td>144.991</td>\n",
              "    </tr>\n",
              "    <tr>\n",
              "      <th>2</th>\n",
              "      <td>0.63</td>\n",
              "      <td>0.446</td>\n",
              "      <td>1</td>\n",
              "      <td>-8.9</td>\n",
              "      <td>1</td>\n",
              "      <td>0.0351</td>\n",
              "      <td>0.337</td>\n",
              "      <td>0</td>\n",
              "      <td>0.166</td>\n",
              "      <td>0.177</td>\n",
              "      <td>143.078</td>\n",
              "    </tr>\n",
              "    <tr>\n",
              "      <th>3</th>\n",
              "      <td>0.701</td>\n",
              "      <td>0.65</td>\n",
              "      <td>6</td>\n",
              "      <td>-6.313</td>\n",
              "      <td>1</td>\n",
              "      <td>0.104</td>\n",
              "      <td>0.291</td>\n",
              "      <td>0</td>\n",
              "      <td>0.112</td>\n",
              "      <td>0.647</td>\n",
              "      <td>90.003</td>\n",
              "    </tr>\n",
              "    <tr>\n",
              "      <th>4</th>\n",
              "      <td>0.568</td>\n",
              "      <td>0.545</td>\n",
              "      <td>1</td>\n",
              "      <td>-6.668</td>\n",
              "      <td>0</td>\n",
              "      <td>0.0447</td>\n",
              "      <td>0.168</td>\n",
              "      <td>0</td>\n",
              "      <td>0.112</td>\n",
              "      <td>0.234</td>\n",
              "      <td>174.144</td>\n",
              "    </tr>\n",
              "    <tr>\n",
              "      <th>...</th>\n",
              "      <td>...</td>\n",
              "      <td>...</td>\n",
              "      <td>...</td>\n",
              "      <td>...</td>\n",
              "      <td>...</td>\n",
              "      <td>...</td>\n",
              "      <td>...</td>\n",
              "      <td>...</td>\n",
              "      <td>...</td>\n",
              "      <td>...</td>\n",
              "      <td>...</td>\n",
              "    </tr>\n",
              "    <tr>\n",
              "      <th>10977</th>\n",
              "      <td>0.667</td>\n",
              "      <td>0.719</td>\n",
              "      <td>7</td>\n",
              "      <td>-5.371</td>\n",
              "      <td>0</td>\n",
              "      <td>0.0346</td>\n",
              "      <td>0.00285</td>\n",
              "      <td>8.1e-05</td>\n",
              "      <td>0.0736</td>\n",
              "      <td>0.717</td>\n",
              "      <td>100.021</td>\n",
              "    </tr>\n",
              "    <tr>\n",
              "      <th>10978</th>\n",
              "      <td>0.878</td>\n",
              "      <td>0.525</td>\n",
              "      <td>5</td>\n",
              "      <td>-6.832</td>\n",
              "      <td>1</td>\n",
              "      <td>0.0578</td>\n",
              "      <td>0.183</td>\n",
              "      <td>0</td>\n",
              "      <td>0.0714</td>\n",
              "      <td>0.694</td>\n",
              "      <td>112.022</td>\n",
              "    </tr>\n",
              "    <tr>\n",
              "      <th>10979</th>\n",
              "      <td>0.585</td>\n",
              "      <td>0.187</td>\n",
              "      <td>9</td>\n",
              "      <td>-12.514</td>\n",
              "      <td>1</td>\n",
              "      <td>0.0364</td>\n",
              "      <td>0.903</td>\n",
              "      <td>0</td>\n",
              "      <td>0.0929</td>\n",
              "      <td>0.179</td>\n",
              "      <td>123.862</td>\n",
              "    </tr>\n",
              "    <tr>\n",
              "      <th>10980</th>\n",
              "      <td>0.61</td>\n",
              "      <td>0.83</td>\n",
              "      <td>0</td>\n",
              "      <td>-4.105</td>\n",
              "      <td>1</td>\n",
              "      <td>0.0571</td>\n",
              "      <td>0.033</td>\n",
              "      <td>0</td>\n",
              "      <td>0.118</td>\n",
              "      <td>0.728</td>\n",
              "      <td>182.162</td>\n",
              "    </tr>\n",
              "    <tr>\n",
              "      <th>10981</th>\n",
              "      <td>0.542</td>\n",
              "      <td>0.337</td>\n",
              "      <td>5</td>\n",
              "      <td>-12.701</td>\n",
              "      <td>1</td>\n",
              "      <td>0.0306</td>\n",
              "      <td>0.648</td>\n",
              "      <td>0.00138</td>\n",
              "      <td>0.0635</td>\n",
              "      <td>0.205</td>\n",
              "      <td>134.17</td>\n",
              "    </tr>\n",
              "  </tbody>\n",
              "</table>\n",
              "<p>10982 rows × 11 columns</p>\n",
              "</div>"
            ],
            "text/plain": [
              "      danceability energy key  ... liveness valence    tempo\n",
              "0            0.747  0.622  11  ...    0.151    0.57   159.93\n",
              "1            0.625  0.814   0  ...    0.158   0.535  144.991\n",
              "2             0.63  0.446   1  ...    0.166   0.177  143.078\n",
              "3            0.701   0.65   6  ...    0.112   0.647   90.003\n",
              "4            0.568  0.545   1  ...    0.112   0.234  174.144\n",
              "...            ...    ...  ..  ...      ...     ...      ...\n",
              "10977        0.667  0.719   7  ...   0.0736   0.717  100.021\n",
              "10978        0.878  0.525   5  ...   0.0714   0.694  112.022\n",
              "10979        0.585  0.187   9  ...   0.0929   0.179  123.862\n",
              "10980         0.61   0.83   0  ...    0.118   0.728  182.162\n",
              "10981        0.542  0.337   5  ...   0.0635   0.205   134.17\n",
              "\n",
              "[10982 rows x 11 columns]"
            ]
          },
          "metadata": {
            "tags": []
          },
          "execution_count": 47
        }
      ]
    },
    {
      "cell_type": "code",
      "metadata": {
        "id": "0yid92fqjTnw",
        "colab_type": "code",
        "colab": {}
      },
      "source": [
        "charts_with_audio_info = pd.concat([chartcollection, main_df], axis=1)\n"
      ],
      "execution_count": 49,
      "outputs": []
    },
    {
      "cell_type": "code",
      "metadata": {
        "id": "24hJYhlXg2bA",
        "colab_type": "code",
        "colab": {}
      },
      "source": [
        "charts_with_audio_info.to_csv('drive/My Drive/SpotifyDS/charts_with_audio_info.csv')"
      ],
      "execution_count": 51,
      "outputs": []
    },
    {
      "cell_type": "code",
      "metadata": {
        "id": "SmKAH_kjiXA1",
        "colab_type": "code",
        "colab": {}
      },
      "source": [
        ""
      ],
      "execution_count": null,
      "outputs": []
    }
  ]
}