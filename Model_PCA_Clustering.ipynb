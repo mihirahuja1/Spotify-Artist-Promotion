{
  "nbformat": 4,
  "nbformat_minor": 0,
  "metadata": {
    "colab": {
      "name": "PCA.ipynb",
      "provenance": [],
      "mount_file_id": "1GmdcRJjkP4IMpoCYIllY4CIGrQlhUpFP",
      "authorship_tag": "ABX9TyMoFJrG3swKKp0nf3E+WYJZ",
      "include_colab_link": true
    },
    "kernelspec": {
      "name": "python3",
      "display_name": "Python 3"
    }
  },
  "cells": [
    {
      "cell_type": "markdown",
      "metadata": {
        "id": "view-in-github",
        "colab_type": "text"
      },
      "source": [
        "<a href=\"https://colab.research.google.com/github/mihirahuja1/Spotify-Artist-Promotion/blob/master/Model_PCA_Clustering.ipynb\" target=\"_parent\"><img src=\"https://colab.research.google.com/assets/colab-badge.svg\" alt=\"Open In Colab\"/></a>"
      ]
    },
    {
      "cell_type": "markdown",
      "metadata": {
        "id": "AmX6VBAqH1L1",
        "colab_type": "text"
      },
      "source": [
        "This notebook covers the following\n",
        "1. Obtained PCA for our original dataset generated in Metainfo Notebook\n",
        "2. Descriptive Analysis\n",
        "3. Testing it on an 'Artist'"
      ]
    },
    {
      "cell_type": "code",
      "metadata": {
        "id": "6awEc_-o517p",
        "colab_type": "code",
        "colab": {}
      },
      "source": [
        "### Setup"
      ],
      "execution_count": null,
      "outputs": []
    },
    {
      "cell_type": "code",
      "metadata": {
        "id": "pP7iWiYb56y0",
        "colab_type": "code",
        "colab": {
          "base_uri": "https://localhost:8080/",
          "height": 136
        },
        "outputId": "24e45bed-df58-454e-ed4a-f4b18b7e70d0"
      },
      "source": [
        "import pandas as pd\n",
        "import numpy as np\n",
        "from sklearn import preprocessing\n",
        "from sklearn.decomposition import PCA\n",
        "import scipy.cluster.hierarchy as shc\n",
        "import matplotlib.pyplot as plt\n",
        "from sklearn.cluster import KMeans\n",
        "from sklearn.decomposition import PCA\n",
        "from sklearn.preprocessing import StandardScaler\n",
        "import plotly.express as px\n",
        "!pip install spotipy\n",
        "import spotipy\n",
        "from spotipy.oauth2 import SpotifyClientCredentials\n",
        "import plotly.graph_objects as go\n",
        "\n",
        "%config InlineBackend.figure_format='retina'\n",
        "%matplotlib inline"
      ],
      "execution_count": null,
      "outputs": [
        {
          "output_type": "stream",
          "text": [
            "Requirement already satisfied: spotipy in /usr/local/lib/python3.6/dist-packages (2.13.0)\n",
            "Requirement already satisfied: requests>=2.20.0 in /usr/local/lib/python3.6/dist-packages (from spotipy) (2.23.0)\n",
            "Requirement already satisfied: six>=1.10.0 in /usr/local/lib/python3.6/dist-packages (from spotipy) (1.12.0)\n",
            "Requirement already satisfied: certifi>=2017.4.17 in /usr/local/lib/python3.6/dist-packages (from requests>=2.20.0->spotipy) (2020.6.20)\n",
            "Requirement already satisfied: chardet<4,>=3.0.2 in /usr/local/lib/python3.6/dist-packages (from requests>=2.20.0->spotipy) (3.0.4)\n",
            "Requirement already satisfied: urllib3!=1.25.0,!=1.25.1,<1.26,>=1.21.1 in /usr/local/lib/python3.6/dist-packages (from requests>=2.20.0->spotipy) (1.24.3)\n",
            "Requirement already satisfied: idna<3,>=2.5 in /usr/local/lib/python3.6/dist-packages (from requests>=2.20.0->spotipy) (2.10)\n"
          ],
          "name": "stdout"
        }
      ]
    },
    {
      "cell_type": "code",
      "metadata": {
        "id": "fgQWFhqj59cp",
        "colab_type": "code",
        "colab": {}
      },
      "source": [
        "charts_with_audio_info = pd.read_csv('drive/My Drive/SpotifyDS/charts_with_audio_info.csv')"
      ],
      "execution_count": null,
      "outputs": []
    },
    {
      "cell_type": "code",
      "metadata": {
        "id": "0np-W5Tf6oDP",
        "colab_type": "code",
        "colab": {
          "base_uri": "https://localhost:8080/",
          "height": 394
        },
        "outputId": "c55ede81-d13a-477d-8006-ba44b1433a65"
      },
      "source": [
        "charts_with_audio_info.head()"
      ],
      "execution_count": null,
      "outputs": [
        {
          "output_type": "execute_result",
          "data": {
            "text/html": [
              "<div>\n",
              "<style scoped>\n",
              "    .dataframe tbody tr th:only-of-type {\n",
              "        vertical-align: middle;\n",
              "    }\n",
              "\n",
              "    .dataframe tbody tr th {\n",
              "        vertical-align: top;\n",
              "    }\n",
              "\n",
              "    .dataframe thead th {\n",
              "        text-align: right;\n",
              "    }\n",
              "</style>\n",
              "<table border=\"1\" class=\"dataframe\">\n",
              "  <thead>\n",
              "    <tr style=\"text-align: right;\">\n",
              "      <th></th>\n",
              "      <th>Unnamed: 0</th>\n",
              "      <th>Unnamed: 0.1</th>\n",
              "      <th>Position</th>\n",
              "      <th>Track Name</th>\n",
              "      <th>Artist</th>\n",
              "      <th>Streams</th>\n",
              "      <th>URL</th>\n",
              "      <th>country_code</th>\n",
              "      <th>country_name</th>\n",
              "      <th>danceability</th>\n",
              "      <th>energy</th>\n",
              "      <th>key</th>\n",
              "      <th>loudness</th>\n",
              "      <th>mode</th>\n",
              "      <th>speechiness</th>\n",
              "      <th>acousticness</th>\n",
              "      <th>instrumentalness</th>\n",
              "      <th>liveness</th>\n",
              "      <th>valence</th>\n",
              "      <th>tempo</th>\n",
              "    </tr>\n",
              "  </thead>\n",
              "  <tbody>\n",
              "    <tr>\n",
              "      <th>0</th>\n",
              "      <td>0</td>\n",
              "      <td>0</td>\n",
              "      <td>1</td>\n",
              "      <td>Conversations</td>\n",
              "      <td>Juice WRLD</td>\n",
              "      <td>3452709</td>\n",
              "      <td>https://open.spotify.com/track/2fZTS0VboxRpF0F...</td>\n",
              "      <td>us</td>\n",
              "      <td>United States</td>\n",
              "      <td>0.747</td>\n",
              "      <td>0.622</td>\n",
              "      <td>11.0</td>\n",
              "      <td>-5.825</td>\n",
              "      <td>1.0</td>\n",
              "      <td>0.0838</td>\n",
              "      <td>0.1760</td>\n",
              "      <td>0.0</td>\n",
              "      <td>0.151</td>\n",
              "      <td>0.570</td>\n",
              "      <td>159.930</td>\n",
              "    </tr>\n",
              "    <tr>\n",
              "      <th>1</th>\n",
              "      <td>1</td>\n",
              "      <td>1</td>\n",
              "      <td>2</td>\n",
              "      <td>Come &amp; Go (with Marshmello)</td>\n",
              "      <td>Juice WRLD</td>\n",
              "      <td>3220828</td>\n",
              "      <td>https://open.spotify.com/track/7y7w4tl4MaRC2UM...</td>\n",
              "      <td>us</td>\n",
              "      <td>United States</td>\n",
              "      <td>0.625</td>\n",
              "      <td>0.814</td>\n",
              "      <td>0.0</td>\n",
              "      <td>-5.181</td>\n",
              "      <td>1.0</td>\n",
              "      <td>0.0657</td>\n",
              "      <td>0.0172</td>\n",
              "      <td>0.0</td>\n",
              "      <td>0.158</td>\n",
              "      <td>0.535</td>\n",
              "      <td>144.991</td>\n",
              "    </tr>\n",
              "    <tr>\n",
              "      <th>2</th>\n",
              "      <td>2</td>\n",
              "      <td>2</td>\n",
              "      <td>3</td>\n",
              "      <td>Life's A Mess (feat. Halsey)</td>\n",
              "      <td>Juice WRLD</td>\n",
              "      <td>3094307</td>\n",
              "      <td>https://open.spotify.com/track/4h5N4KyWZMtpeH9...</td>\n",
              "      <td>us</td>\n",
              "      <td>United States</td>\n",
              "      <td>0.630</td>\n",
              "      <td>0.446</td>\n",
              "      <td>1.0</td>\n",
              "      <td>-8.900</td>\n",
              "      <td>1.0</td>\n",
              "      <td>0.0351</td>\n",
              "      <td>0.3370</td>\n",
              "      <td>0.0</td>\n",
              "      <td>0.166</td>\n",
              "      <td>0.177</td>\n",
              "      <td>143.078</td>\n",
              "    </tr>\n",
              "    <tr>\n",
              "      <th>3</th>\n",
              "      <td>3</td>\n",
              "      <td>3</td>\n",
              "      <td>4</td>\n",
              "      <td>Hate The Other Side (with Marshmello feat. Pol...</td>\n",
              "      <td>Juice WRLD</td>\n",
              "      <td>2855162</td>\n",
              "      <td>https://open.spotify.com/track/66FgjA5ZQJJuypF...</td>\n",
              "      <td>us</td>\n",
              "      <td>United States</td>\n",
              "      <td>0.701</td>\n",
              "      <td>0.650</td>\n",
              "      <td>6.0</td>\n",
              "      <td>-6.313</td>\n",
              "      <td>1.0</td>\n",
              "      <td>0.1040</td>\n",
              "      <td>0.2910</td>\n",
              "      <td>0.0</td>\n",
              "      <td>0.112</td>\n",
              "      <td>0.647</td>\n",
              "      <td>90.003</td>\n",
              "    </tr>\n",
              "    <tr>\n",
              "      <th>4</th>\n",
              "      <td>4</td>\n",
              "      <td>4</td>\n",
              "      <td>5</td>\n",
              "      <td>Titanic</td>\n",
              "      <td>Juice WRLD</td>\n",
              "      <td>2826000</td>\n",
              "      <td>https://open.spotify.com/track/1QoG0Yqz1onMsdb...</td>\n",
              "      <td>us</td>\n",
              "      <td>United States</td>\n",
              "      <td>0.568</td>\n",
              "      <td>0.545</td>\n",
              "      <td>1.0</td>\n",
              "      <td>-6.668</td>\n",
              "      <td>0.0</td>\n",
              "      <td>0.0447</td>\n",
              "      <td>0.1680</td>\n",
              "      <td>0.0</td>\n",
              "      <td>0.112</td>\n",
              "      <td>0.234</td>\n",
              "      <td>174.144</td>\n",
              "    </tr>\n",
              "  </tbody>\n",
              "</table>\n",
              "</div>"
            ],
            "text/plain": [
              "   Unnamed: 0  Unnamed: 0.1  Position  ... liveness valence    tempo\n",
              "0           0             0         1  ...    0.151   0.570  159.930\n",
              "1           1             1         2  ...    0.158   0.535  144.991\n",
              "2           2             2         3  ...    0.166   0.177  143.078\n",
              "3           3             3         4  ...    0.112   0.647   90.003\n",
              "4           4             4         5  ...    0.112   0.234  174.144\n",
              "\n",
              "[5 rows x 20 columns]"
            ]
          },
          "metadata": {
            "tags": []
          },
          "execution_count": 20
        }
      ]
    },
    {
      "cell_type": "code",
      "metadata": {
        "id": "tV3Vhwws62JM",
        "colab_type": "code",
        "colab": {}
      },
      "source": [
        "#Performing computation only on Audio Features\n",
        "original_base_audio_information = charts_with_audio_info[['danceability',\t'energy',\t'key','loudness',\t'mode','speechiness',\t'acousticness',\t'instrumentalness',\t'liveness',\t'valence',\t'tempo']]\n"
      ],
      "execution_count": null,
      "outputs": []
    },
    {
      "cell_type": "markdown",
      "metadata": {
        "id": "qRPPPtBwILBn",
        "colab_type": "text"
      },
      "source": [
        "### Normalization"
      ]
    },
    {
      "cell_type": "code",
      "metadata": {
        "id": "pqK_IxQX7MGW",
        "colab_type": "code",
        "colab": {}
      },
      "source": [
        "min_max_scaler = preprocessing.MinMaxScaler()\n",
        "x_scaled = min_max_scaler.fit_transform(original_base_audio_information)\n",
        "original_base_audio_information = pd.DataFrame(x_scaled)\n"
      ],
      "execution_count": null,
      "outputs": []
    },
    {
      "cell_type": "code",
      "metadata": {
        "id": "MDJfOy_77o2V",
        "colab_type": "code",
        "colab": {}
      },
      "source": [
        "original_base_audio_information\n",
        "original_base_audio_information.columns = original_base_audio_information.columns.astype(str)\n",
        "original_base_audio_information= original_base_audio_information[['0','1','2','3','4','5','6','7','8','9','10']]\n",
        "original_base_audio_information.columns = ['danceability', 'energy','key','loudness','mode','speechiness','acousticness','instrumentalness','liveness','valence','tempo']"
      ],
      "execution_count": null,
      "outputs": []
    },
    {
      "cell_type": "code",
      "metadata": {
        "id": "Z57cWKEo7qCM",
        "colab_type": "code",
        "colab": {}
      },
      "source": [
        "song_info = charts_with_audio_info[['Position','Track Name','Artist','country_code','country_name']]"
      ],
      "execution_count": null,
      "outputs": []
    },
    {
      "cell_type": "code",
      "metadata": {
        "id": "-iK-MIxO8DmG",
        "colab_type": "code",
        "colab": {}
      },
      "source": [
        "song_with_normalized_meta_data = pd.concat([song_info,original_base_audio_information],axis=1)\n"
      ],
      "execution_count": null,
      "outputs": []
    },
    {
      "cell_type": "code",
      "metadata": {
        "id": "VoJQt8z58PBm",
        "colab_type": "code",
        "colab": {
          "base_uri": "https://localhost:8080/",
          "height": 711
        },
        "outputId": "03b9e36f-cafd-41d2-e6b9-1d8ee9616238"
      },
      "source": [
        "song_with_normalized_meta_data"
      ],
      "execution_count": null,
      "outputs": [
        {
          "output_type": "execute_result",
          "data": {
            "text/html": [
              "<div>\n",
              "<style scoped>\n",
              "    .dataframe tbody tr th:only-of-type {\n",
              "        vertical-align: middle;\n",
              "    }\n",
              "\n",
              "    .dataframe tbody tr th {\n",
              "        vertical-align: top;\n",
              "    }\n",
              "\n",
              "    .dataframe thead th {\n",
              "        text-align: right;\n",
              "    }\n",
              "</style>\n",
              "<table border=\"1\" class=\"dataframe\">\n",
              "  <thead>\n",
              "    <tr style=\"text-align: right;\">\n",
              "      <th></th>\n",
              "      <th>Position</th>\n",
              "      <th>Track Name</th>\n",
              "      <th>Artist</th>\n",
              "      <th>country_code</th>\n",
              "      <th>country_name</th>\n",
              "      <th>danceability</th>\n",
              "      <th>energy</th>\n",
              "      <th>key</th>\n",
              "      <th>loudness</th>\n",
              "      <th>mode</th>\n",
              "      <th>speechiness</th>\n",
              "      <th>acousticness</th>\n",
              "      <th>instrumentalness</th>\n",
              "      <th>liveness</th>\n",
              "      <th>valence</th>\n",
              "      <th>tempo</th>\n",
              "    </tr>\n",
              "  </thead>\n",
              "  <tbody>\n",
              "    <tr>\n",
              "      <th>0</th>\n",
              "      <td>1</td>\n",
              "      <td>Conversations</td>\n",
              "      <td>Juice WRLD</td>\n",
              "      <td>us</td>\n",
              "      <td>United States</td>\n",
              "      <td>0.712859</td>\n",
              "      <td>0.595604</td>\n",
              "      <td>1.000000</td>\n",
              "      <td>0.638559</td>\n",
              "      <td>1.0</td>\n",
              "      <td>0.070646</td>\n",
              "      <td>0.178634</td>\n",
              "      <td>0.000000</td>\n",
              "      <td>0.137877</td>\n",
              "      <td>0.565865</td>\n",
              "      <td>0.667574</td>\n",
              "    </tr>\n",
              "    <tr>\n",
              "      <th>1</th>\n",
              "      <td>2</td>\n",
              "      <td>Come &amp; Go (with Marshmello)</td>\n",
              "      <td>Juice WRLD</td>\n",
              "      <td>us</td>\n",
              "      <td>United States</td>\n",
              "      <td>0.560549</td>\n",
              "      <td>0.806593</td>\n",
              "      <td>0.000000</td>\n",
              "      <td>0.670297</td>\n",
              "      <td>1.0</td>\n",
              "      <td>0.049545</td>\n",
              "      <td>0.017407</td>\n",
              "      <td>0.000000</td>\n",
              "      <td>0.145140</td>\n",
              "      <td>0.528623</td>\n",
              "      <td>0.579529</td>\n",
              "    </tr>\n",
              "    <tr>\n",
              "      <th>2</th>\n",
              "      <td>3</td>\n",
              "      <td>Life's A Mess (feat. Halsey)</td>\n",
              "      <td>Juice WRLD</td>\n",
              "      <td>us</td>\n",
              "      <td>United States</td>\n",
              "      <td>0.566792</td>\n",
              "      <td>0.402198</td>\n",
              "      <td>0.090909</td>\n",
              "      <td>0.487014</td>\n",
              "      <td>1.0</td>\n",
              "      <td>0.013873</td>\n",
              "      <td>0.342095</td>\n",
              "      <td>0.000000</td>\n",
              "      <td>0.153439</td>\n",
              "      <td>0.147691</td>\n",
              "      <td>0.568254</td>\n",
              "    </tr>\n",
              "    <tr>\n",
              "      <th>3</th>\n",
              "      <td>4</td>\n",
              "      <td>Hate The Other Side (with Marshmello feat. Pol...</td>\n",
              "      <td>Juice WRLD</td>\n",
              "      <td>us</td>\n",
              "      <td>United States</td>\n",
              "      <td>0.655431</td>\n",
              "      <td>0.626374</td>\n",
              "      <td>0.545455</td>\n",
              "      <td>0.614509</td>\n",
              "      <td>1.0</td>\n",
              "      <td>0.094194</td>\n",
              "      <td>0.295392</td>\n",
              "      <td>0.000000</td>\n",
              "      <td>0.097417</td>\n",
              "      <td>0.647797</td>\n",
              "      <td>0.255449</td>\n",
              "    </tr>\n",
              "    <tr>\n",
              "      <th>4</th>\n",
              "      <td>5</td>\n",
              "      <td>Titanic</td>\n",
              "      <td>Juice WRLD</td>\n",
              "      <td>us</td>\n",
              "      <td>United States</td>\n",
              "      <td>0.489388</td>\n",
              "      <td>0.510989</td>\n",
              "      <td>0.090909</td>\n",
              "      <td>0.597013</td>\n",
              "      <td>0.0</td>\n",
              "      <td>0.025064</td>\n",
              "      <td>0.170512</td>\n",
              "      <td>0.000000</td>\n",
              "      <td>0.097417</td>\n",
              "      <td>0.208342</td>\n",
              "      <td>0.751347</td>\n",
              "    </tr>\n",
              "    <tr>\n",
              "      <th>...</th>\n",
              "      <td>...</td>\n",
              "      <td>...</td>\n",
              "      <td>...</td>\n",
              "      <td>...</td>\n",
              "      <td>...</td>\n",
              "      <td>...</td>\n",
              "      <td>...</td>\n",
              "      <td>...</td>\n",
              "      <td>...</td>\n",
              "      <td>...</td>\n",
              "      <td>...</td>\n",
              "      <td>...</td>\n",
              "      <td>...</td>\n",
              "      <td>...</td>\n",
              "      <td>...</td>\n",
              "      <td>...</td>\n",
              "    </tr>\n",
              "    <tr>\n",
              "      <th>10977</th>\n",
              "      <td>196</td>\n",
              "      <td>In Your Eyes</td>\n",
              "      <td>The Weeknd</td>\n",
              "      <td>tw</td>\n",
              "      <td>Taiwan</td>\n",
              "      <td>0.612984</td>\n",
              "      <td>0.702198</td>\n",
              "      <td>0.636364</td>\n",
              "      <td>0.660933</td>\n",
              "      <td>0.0</td>\n",
              "      <td>0.013290</td>\n",
              "      <td>0.002837</td>\n",
              "      <td>0.000084</td>\n",
              "      <td>0.057579</td>\n",
              "      <td>0.722281</td>\n",
              "      <td>0.314491</td>\n",
              "    </tr>\n",
              "    <tr>\n",
              "      <th>10978</th>\n",
              "      <td>197</td>\n",
              "      <td>Sunday Best</td>\n",
              "      <td>Surfaces</td>\n",
              "      <td>tw</td>\n",
              "      <td>Taiwan</td>\n",
              "      <td>0.876404</td>\n",
              "      <td>0.489011</td>\n",
              "      <td>0.454545</td>\n",
              "      <td>0.588931</td>\n",
              "      <td>1.0</td>\n",
              "      <td>0.040336</td>\n",
              "      <td>0.185741</td>\n",
              "      <td>0.000000</td>\n",
              "      <td>0.055296</td>\n",
              "      <td>0.697808</td>\n",
              "      <td>0.385221</td>\n",
              "    </tr>\n",
              "    <tr>\n",
              "      <th>10979</th>\n",
              "      <td>198</td>\n",
              "      <td>你啊你啊 - 電視劇「用九柑仔店」插曲</td>\n",
              "      <td>Waa Wei</td>\n",
              "      <td>tw</td>\n",
              "      <td>Taiwan</td>\n",
              "      <td>0.510612</td>\n",
              "      <td>0.117582</td>\n",
              "      <td>0.818182</td>\n",
              "      <td>0.308905</td>\n",
              "      <td>1.0</td>\n",
              "      <td>0.015388</td>\n",
              "      <td>0.916747</td>\n",
              "      <td>0.000000</td>\n",
              "      <td>0.077601</td>\n",
              "      <td>0.149819</td>\n",
              "      <td>0.455002</td>\n",
              "    </tr>\n",
              "    <tr>\n",
              "      <th>10980</th>\n",
              "      <td>199</td>\n",
              "      <td>ME! (feat. Brendon Urie of Panic! At The Disco)</td>\n",
              "      <td>Taylor Swift</td>\n",
              "      <td>tw</td>\n",
              "      <td>Taiwan</td>\n",
              "      <td>0.541823</td>\n",
              "      <td>0.824176</td>\n",
              "      <td>0.000000</td>\n",
              "      <td>0.723326</td>\n",
              "      <td>1.0</td>\n",
              "      <td>0.039520</td>\n",
              "      <td>0.033448</td>\n",
              "      <td>0.000000</td>\n",
              "      <td>0.103641</td>\n",
              "      <td>0.733986</td>\n",
              "      <td>0.798602</td>\n",
              "    </tr>\n",
              "    <tr>\n",
              "      <th>10981</th>\n",
              "      <td>200</td>\n",
              "      <td>水星記</td>\n",
              "      <td>Guo Ding</td>\n",
              "      <td>tw</td>\n",
              "      <td>Taiwan</td>\n",
              "      <td>0.456929</td>\n",
              "      <td>0.282418</td>\n",
              "      <td>0.454545</td>\n",
              "      <td>0.299690</td>\n",
              "      <td>1.0</td>\n",
              "      <td>0.008627</td>\n",
              "      <td>0.657849</td>\n",
              "      <td>0.001429</td>\n",
              "      <td>0.047100</td>\n",
              "      <td>0.177485</td>\n",
              "      <td>0.515754</td>\n",
              "    </tr>\n",
              "  </tbody>\n",
              "</table>\n",
              "<p>10982 rows × 16 columns</p>\n",
              "</div>"
            ],
            "text/plain": [
              "       Position  ...     tempo\n",
              "0             1  ...  0.667574\n",
              "1             2  ...  0.579529\n",
              "2             3  ...  0.568254\n",
              "3             4  ...  0.255449\n",
              "4             5  ...  0.751347\n",
              "...         ...  ...       ...\n",
              "10977       196  ...  0.314491\n",
              "10978       197  ...  0.385221\n",
              "10979       198  ...  0.455002\n",
              "10980       199  ...  0.798602\n",
              "10981       200  ...  0.515754\n",
              "\n",
              "[10982 rows x 16 columns]"
            ]
          },
          "metadata": {
            "tags": []
          },
          "execution_count": 26
        }
      ]
    },
    {
      "cell_type": "code",
      "metadata": {
        "id": "QBmA1Xto8P7_",
        "colab_type": "code",
        "colab": {}
      },
      "source": [
        ""
      ],
      "execution_count": null,
      "outputs": []
    },
    {
      "cell_type": "code",
      "metadata": {
        "id": "NEEr8Wob8gjd",
        "colab_type": "code",
        "colab": {}
      },
      "source": [
        "song_with_normalized_meta_data.to_csv('drive/My Drive/SpotifyDS/song_with_normalized_meta_data.csv')"
      ],
      "execution_count": null,
      "outputs": []
    },
    {
      "cell_type": "markdown",
      "metadata": {
        "id": "DQPwWfynITTD",
        "colab_type": "text"
      },
      "source": [
        "### Analysis on Meta data"
      ]
    },
    {
      "cell_type": "code",
      "metadata": {
        "id": "9nlB2KUQ_Bk3",
        "colab_type": "code",
        "colab": {}
      },
      "source": [
        "def barplot_for_meta_data(audio_feature):\n",
        "    temp = song_with_normalized_meta_data.groupby(['country_name'])[audio_feature].mean().reset_index(name='Average').sort_values('Average')\n",
        "    fig = px.bar(temp, y='Average', x='country_name',color='Average',title=audio_feature)\n",
        "    fig.update_traces(texttemplate='%{text:.2s}', textposition='outside')\n",
        "    #fig.update_layout(uniformtext_minsize=8, uniformtext_mode='hide')\n",
        "    print(fig.show())"
      ],
      "execution_count": null,
      "outputs": []
    },
    {
      "cell_type": "markdown",
      "metadata": {
        "id": "0eorE-hbIeTy",
        "colab_type": "text"
      },
      "source": [
        "## Q How each country does in terms of individual audio features?"
      ]
    },
    {
      "cell_type": "code",
      "metadata": {
        "id": "XmYt4dgFIeBD",
        "colab_type": "code",
        "colab": {}
      },
      "source": [
        ""
      ],
      "execution_count": null,
      "outputs": []
    },
    {
      "cell_type": "code",
      "metadata": {
        "id": "L_UBQ6O__SZU",
        "colab_type": "code",
        "colab": {
          "base_uri": "https://localhost:8080/",
          "height": 1000
        },
        "outputId": "0c8be1a3-ab84-4ff8-d52c-f5c4402fcf80"
      },
      "source": [
        "for feat in song_with_normalized_meta_data.columns[5:]:\n",
        "    barplot_for_meta_data(feat)"
      ],
      "execution_count": null,
      "outputs": [
        {
          "output_type": "display_data",
          "data": {
            "text/html": [
              "<html>\n",
              "<head><meta charset=\"utf-8\" /></head>\n",
              "<body>\n",
              "    <div>\n",
              "            <script src=\"https://cdnjs.cloudflare.com/ajax/libs/mathjax/2.7.5/MathJax.js?config=TeX-AMS-MML_SVG\"></script><script type=\"text/javascript\">if (window.MathJax) {MathJax.Hub.Config({SVG: {font: \"STIX-Web\"}});}</script>\n",
              "                <script type=\"text/javascript\">window.PlotlyConfig = {MathJaxConfig: 'local'};</script>\n",
              "        <script src=\"https://cdn.plot.ly/plotly-latest.min.js\"></script>    \n",
              "            <div id=\"886631ae-3ebe-484c-a99a-b70fdc5f6253\" class=\"plotly-graph-div\" style=\"height:525px; width:100%;\"></div>\n",
              "            <script type=\"text/javascript\">\n",
              "                \n",
              "                    window.PLOTLYENV=window.PLOTLYENV || {};\n",
              "                    \n",
              "                if (document.getElementById(\"886631ae-3ebe-484c-a99a-b70fdc5f6253\")) {\n",
              "                    Plotly.newPlot(\n",
              "                        '886631ae-3ebe-484c-a99a-b70fdc5f6253',\n",
              "                        [{\"alignmentgroup\": \"True\", \"hoverlabel\": {\"namelength\": 0}, \"hovertemplate\": \"country_name=%{x}<br>Average=%{marker.color}\", \"legendgroup\": \"\", \"marker\": {\"color\": [0.5287453183520602, 0.5321660424469414, 0.5457865168539326, 0.5531897627965047, 0.5747253433208488, 0.5757053682896384, 0.5796317103620475, 0.5858239700374533, 0.5873345817727842, 0.5977652933832711, 0.6196839377913287, 0.625424249838456, 0.6280277793461693, 0.6293383270911362, 0.6295505617977531, 0.6301733386031282, 0.6354117654439491, 0.63754477757075, 0.6400749063670415, 0.644903669408215, 0.6468672952778877, 0.6537141073657929, 0.6541054451166811, 0.6550103827502058, 0.6550873907615481, 0.6551935081148563, 0.6586329588014985, 0.6603366395021303, 0.6604686061614905, 0.6654370479112168, 0.6682937311966602, 0.6742509363295887, 0.6771808676654183, 0.6773283395755308, 0.678826466916355, 0.6793882646691638, 0.679558842903657, 0.6807570938337132, 0.6810112359550566, 0.6855243445692883, 0.6879275905118603, 0.688333333333333, 0.6887702871410734, 0.688975464086977, 0.6964357053682897, 0.6985767790262174, 0.6997565543071161, 0.7023533083645446, 0.7026217228464422, 0.7027465667915105, 0.706004993757803, 0.7078963795255929, 0.7111548064918849, 0.7172097378277151, 0.720705368289638, 0.7212734082397004, 0.7218168011634944, 0.7246317103620483], \"coloraxis\": \"coloraxis\"}, \"name\": \"\", \"offsetgroup\": \"\", \"orientation\": \"v\", \"showlegend\": false, \"textposition\": \"outside\", \"texttemplate\": \"%{text:.2s}\", \"type\": \"bar\", \"x\": [\"Indonesia\", \"Japan\", \"Hong Kong\", \"Taiwan\", \"India\", \"Malaysia\", \"Philippines\", \"Singapore\", \"Thailand\", \"Israel\", \"Norway\", \"Australia\", \"Ireland\", \"Czech Republic\", \"Brazil\", \"Sweden\", \"United Kingdom\", \"New Zealand\", \"Iceland\", \"Netherlands\", \"Finland\", \"Bulgaria\", \"Luxembourg\", \"Hungary\", \"Turkey\", \"Portugal\", \"Slovakia\", \"United States\", \"Canada\", \"Belgium\", \"Latvia\", \"Italy\", \"Lithuania\", \"Poland\", \"Estonia\", \"Switzerland\", \"Austria\", \"Romania\", \"Mexico\", \"Greece\", \"Costa Rica\", \"Germany\", \"Argentina\", \"Denmark\", \"Guatemala\", \"Paraguay\", \"Bolivia\", \"Honduras\", \"El Salvador\", \"Panama\", \"Peru\", \"Colombia\", \"Spain\", \"Chile\", \"Ecuador\", \"Dominican Republic\", \"Nicaragua\", \"France\"], \"xaxis\": \"x\", \"y\": [0.5287453183520602, 0.5321660424469414, 0.5457865168539326, 0.5531897627965047, 0.5747253433208488, 0.5757053682896384, 0.5796317103620475, 0.5858239700374533, 0.5873345817727842, 0.5977652933832711, 0.6196839377913287, 0.625424249838456, 0.6280277793461693, 0.6293383270911362, 0.6295505617977531, 0.6301733386031282, 0.6354117654439491, 0.63754477757075, 0.6400749063670415, 0.644903669408215, 0.6468672952778877, 0.6537141073657929, 0.6541054451166811, 0.6550103827502058, 0.6550873907615481, 0.6551935081148563, 0.6586329588014985, 0.6603366395021303, 0.6604686061614905, 0.6654370479112168, 0.6682937311966602, 0.6742509363295887, 0.6771808676654183, 0.6773283395755308, 0.678826466916355, 0.6793882646691638, 0.679558842903657, 0.6807570938337132, 0.6810112359550566, 0.6855243445692883, 0.6879275905118603, 0.688333333333333, 0.6887702871410734, 0.688975464086977, 0.6964357053682897, 0.6985767790262174, 0.6997565543071161, 0.7023533083645446, 0.7026217228464422, 0.7027465667915105, 0.706004993757803, 0.7078963795255929, 0.7111548064918849, 0.7172097378277151, 0.720705368289638, 0.7212734082397004, 0.7218168011634944, 0.7246317103620483], \"yaxis\": \"y\"}],\n",
              "                        {\"barmode\": \"relative\", \"coloraxis\": {\"colorbar\": {\"title\": {\"text\": \"Average\"}}, \"colorscale\": [[0.0, \"#0d0887\"], [0.1111111111111111, \"#46039f\"], [0.2222222222222222, \"#7201a8\"], [0.3333333333333333, \"#9c179e\"], [0.4444444444444444, \"#bd3786\"], [0.5555555555555556, \"#d8576b\"], [0.6666666666666666, \"#ed7953\"], [0.7777777777777778, \"#fb9f3a\"], [0.8888888888888888, \"#fdca26\"], [1.0, \"#f0f921\"]]}, \"legend\": {\"tracegroupgap\": 0}, \"template\": {\"data\": {\"bar\": [{\"error_x\": {\"color\": \"#2a3f5f\"}, \"error_y\": {\"color\": \"#2a3f5f\"}, \"marker\": {\"line\": {\"color\": \"#E5ECF6\", \"width\": 0.5}}, \"type\": \"bar\"}], \"barpolar\": [{\"marker\": {\"line\": {\"color\": \"#E5ECF6\", \"width\": 0.5}}, \"type\": \"barpolar\"}], \"carpet\": [{\"aaxis\": {\"endlinecolor\": \"#2a3f5f\", \"gridcolor\": \"white\", \"linecolor\": \"white\", \"minorgridcolor\": \"white\", \"startlinecolor\": \"#2a3f5f\"}, \"baxis\": {\"endlinecolor\": \"#2a3f5f\", \"gridcolor\": \"white\", \"linecolor\": \"white\", \"minorgridcolor\": \"white\", \"startlinecolor\": \"#2a3f5f\"}, \"type\": \"carpet\"}], \"choropleth\": [{\"colorbar\": {\"outlinewidth\": 0, \"ticks\": \"\"}, \"type\": \"choropleth\"}], \"contour\": [{\"colorbar\": {\"outlinewidth\": 0, \"ticks\": \"\"}, \"colorscale\": [[0.0, \"#0d0887\"], [0.1111111111111111, \"#46039f\"], [0.2222222222222222, \"#7201a8\"], [0.3333333333333333, \"#9c179e\"], [0.4444444444444444, \"#bd3786\"], [0.5555555555555556, \"#d8576b\"], [0.6666666666666666, \"#ed7953\"], [0.7777777777777778, \"#fb9f3a\"], [0.8888888888888888, \"#fdca26\"], [1.0, \"#f0f921\"]], \"type\": \"contour\"}], \"contourcarpet\": [{\"colorbar\": {\"outlinewidth\": 0, \"ticks\": \"\"}, \"type\": \"contourcarpet\"}], \"heatmap\": [{\"colorbar\": {\"outlinewidth\": 0, \"ticks\": \"\"}, \"colorscale\": [[0.0, \"#0d0887\"], [0.1111111111111111, \"#46039f\"], [0.2222222222222222, \"#7201a8\"], [0.3333333333333333, \"#9c179e\"], [0.4444444444444444, \"#bd3786\"], [0.5555555555555556, \"#d8576b\"], [0.6666666666666666, \"#ed7953\"], [0.7777777777777778, \"#fb9f3a\"], [0.8888888888888888, \"#fdca26\"], [1.0, \"#f0f921\"]], \"type\": \"heatmap\"}], \"heatmapgl\": [{\"colorbar\": {\"outlinewidth\": 0, \"ticks\": \"\"}, \"colorscale\": [[0.0, \"#0d0887\"], [0.1111111111111111, \"#46039f\"], [0.2222222222222222, \"#7201a8\"], [0.3333333333333333, \"#9c179e\"], [0.4444444444444444, \"#bd3786\"], [0.5555555555555556, \"#d8576b\"], [0.6666666666666666, \"#ed7953\"], [0.7777777777777778, \"#fb9f3a\"], [0.8888888888888888, \"#fdca26\"], [1.0, \"#f0f921\"]], \"type\": \"heatmapgl\"}], \"histogram\": [{\"marker\": {\"colorbar\": {\"outlinewidth\": 0, \"ticks\": \"\"}}, \"type\": \"histogram\"}], \"histogram2d\": [{\"colorbar\": {\"outlinewidth\": 0, \"ticks\": \"\"}, \"colorscale\": [[0.0, \"#0d0887\"], [0.1111111111111111, \"#46039f\"], [0.2222222222222222, \"#7201a8\"], [0.3333333333333333, \"#9c179e\"], [0.4444444444444444, \"#bd3786\"], [0.5555555555555556, \"#d8576b\"], [0.6666666666666666, \"#ed7953\"], [0.7777777777777778, \"#fb9f3a\"], [0.8888888888888888, \"#fdca26\"], [1.0, \"#f0f921\"]], \"type\": \"histogram2d\"}], \"histogram2dcontour\": [{\"colorbar\": {\"outlinewidth\": 0, \"ticks\": \"\"}, \"colorscale\": [[0.0, \"#0d0887\"], [0.1111111111111111, \"#46039f\"], [0.2222222222222222, \"#7201a8\"], [0.3333333333333333, \"#9c179e\"], [0.4444444444444444, \"#bd3786\"], [0.5555555555555556, \"#d8576b\"], [0.6666666666666666, \"#ed7953\"], [0.7777777777777778, \"#fb9f3a\"], [0.8888888888888888, \"#fdca26\"], [1.0, \"#f0f921\"]], \"type\": \"histogram2dcontour\"}], \"mesh3d\": [{\"colorbar\": {\"outlinewidth\": 0, \"ticks\": \"\"}, \"type\": \"mesh3d\"}], \"parcoords\": [{\"line\": {\"colorbar\": {\"outlinewidth\": 0, \"ticks\": \"\"}}, \"type\": \"parcoords\"}], \"pie\": [{\"automargin\": true, \"type\": \"pie\"}], \"scatter\": [{\"marker\": {\"colorbar\": {\"outlinewidth\": 0, \"ticks\": \"\"}}, \"type\": \"scatter\"}], \"scatter3d\": [{\"line\": {\"colorbar\": {\"outlinewidth\": 0, \"ticks\": \"\"}}, \"marker\": {\"colorbar\": {\"outlinewidth\": 0, \"ticks\": \"\"}}, \"type\": \"scatter3d\"}], \"scattercarpet\": [{\"marker\": {\"colorbar\": {\"outlinewidth\": 0, \"ticks\": \"\"}}, \"type\": \"scattercarpet\"}], \"scattergeo\": [{\"marker\": {\"colorbar\": {\"outlinewidth\": 0, \"ticks\": \"\"}}, \"type\": \"scattergeo\"}], \"scattergl\": [{\"marker\": {\"colorbar\": {\"outlinewidth\": 0, \"ticks\": \"\"}}, \"type\": \"scattergl\"}], \"scattermapbox\": [{\"marker\": {\"colorbar\": {\"outlinewidth\": 0, \"ticks\": \"\"}}, \"type\": \"scattermapbox\"}], \"scatterpolar\": [{\"marker\": {\"colorbar\": {\"outlinewidth\": 0, \"ticks\": \"\"}}, \"type\": \"scatterpolar\"}], \"scatterpolargl\": [{\"marker\": {\"colorbar\": {\"outlinewidth\": 0, \"ticks\": \"\"}}, \"type\": \"scatterpolargl\"}], \"scatterternary\": [{\"marker\": {\"colorbar\": {\"outlinewidth\": 0, \"ticks\": \"\"}}, \"type\": \"scatterternary\"}], \"surface\": [{\"colorbar\": {\"outlinewidth\": 0, \"ticks\": \"\"}, \"colorscale\": [[0.0, \"#0d0887\"], [0.1111111111111111, \"#46039f\"], [0.2222222222222222, \"#7201a8\"], [0.3333333333333333, \"#9c179e\"], [0.4444444444444444, \"#bd3786\"], [0.5555555555555556, \"#d8576b\"], [0.6666666666666666, \"#ed7953\"], [0.7777777777777778, \"#fb9f3a\"], [0.8888888888888888, \"#fdca26\"], [1.0, \"#f0f921\"]], \"type\": \"surface\"}], \"table\": [{\"cells\": {\"fill\": {\"color\": \"#EBF0F8\"}, \"line\": {\"color\": \"white\"}}, \"header\": {\"fill\": {\"color\": \"#C8D4E3\"}, \"line\": {\"color\": \"white\"}}, \"type\": \"table\"}]}, \"layout\": {\"annotationdefaults\": {\"arrowcolor\": \"#2a3f5f\", \"arrowhead\": 0, \"arrowwidth\": 1}, \"coloraxis\": {\"colorbar\": {\"outlinewidth\": 0, \"ticks\": \"\"}}, \"colorscale\": {\"diverging\": [[0, \"#8e0152\"], [0.1, \"#c51b7d\"], [0.2, \"#de77ae\"], [0.3, \"#f1b6da\"], [0.4, \"#fde0ef\"], [0.5, \"#f7f7f7\"], [0.6, \"#e6f5d0\"], [0.7, \"#b8e186\"], [0.8, \"#7fbc41\"], [0.9, \"#4d9221\"], [1, \"#276419\"]], \"sequential\": [[0.0, \"#0d0887\"], [0.1111111111111111, \"#46039f\"], [0.2222222222222222, \"#7201a8\"], [0.3333333333333333, \"#9c179e\"], [0.4444444444444444, \"#bd3786\"], [0.5555555555555556, \"#d8576b\"], [0.6666666666666666, \"#ed7953\"], [0.7777777777777778, \"#fb9f3a\"], [0.8888888888888888, \"#fdca26\"], [1.0, \"#f0f921\"]], \"sequentialminus\": [[0.0, \"#0d0887\"], [0.1111111111111111, \"#46039f\"], [0.2222222222222222, \"#7201a8\"], [0.3333333333333333, \"#9c179e\"], [0.4444444444444444, \"#bd3786\"], [0.5555555555555556, \"#d8576b\"], [0.6666666666666666, \"#ed7953\"], [0.7777777777777778, \"#fb9f3a\"], [0.8888888888888888, \"#fdca26\"], [1.0, \"#f0f921\"]]}, \"colorway\": [\"#636efa\", \"#EF553B\", \"#00cc96\", \"#ab63fa\", \"#FFA15A\", \"#19d3f3\", \"#FF6692\", \"#B6E880\", \"#FF97FF\", \"#FECB52\"], \"font\": {\"color\": \"#2a3f5f\"}, \"geo\": {\"bgcolor\": \"white\", \"lakecolor\": \"white\", \"landcolor\": \"#E5ECF6\", \"showlakes\": true, \"showland\": true, \"subunitcolor\": \"white\"}, \"hoverlabel\": {\"align\": \"left\"}, \"hovermode\": \"closest\", \"mapbox\": {\"style\": \"light\"}, \"paper_bgcolor\": \"white\", \"plot_bgcolor\": \"#E5ECF6\", \"polar\": {\"angularaxis\": {\"gridcolor\": \"white\", \"linecolor\": \"white\", \"ticks\": \"\"}, \"bgcolor\": \"#E5ECF6\", \"radialaxis\": {\"gridcolor\": \"white\", \"linecolor\": \"white\", \"ticks\": \"\"}}, \"scene\": {\"xaxis\": {\"backgroundcolor\": \"#E5ECF6\", \"gridcolor\": \"white\", \"gridwidth\": 2, \"linecolor\": \"white\", \"showbackground\": true, \"ticks\": \"\", \"zerolinecolor\": \"white\"}, \"yaxis\": {\"backgroundcolor\": \"#E5ECF6\", \"gridcolor\": \"white\", \"gridwidth\": 2, \"linecolor\": \"white\", \"showbackground\": true, \"ticks\": \"\", \"zerolinecolor\": \"white\"}, \"zaxis\": {\"backgroundcolor\": \"#E5ECF6\", \"gridcolor\": \"white\", \"gridwidth\": 2, \"linecolor\": \"white\", \"showbackground\": true, \"ticks\": \"\", \"zerolinecolor\": \"white\"}}, \"shapedefaults\": {\"line\": {\"color\": \"#2a3f5f\"}}, \"ternary\": {\"aaxis\": {\"gridcolor\": \"white\", \"linecolor\": \"white\", \"ticks\": \"\"}, \"baxis\": {\"gridcolor\": \"white\", \"linecolor\": \"white\", \"ticks\": \"\"}, \"bgcolor\": \"#E5ECF6\", \"caxis\": {\"gridcolor\": \"white\", \"linecolor\": \"white\", \"ticks\": \"\"}}, \"title\": {\"x\": 0.05}, \"xaxis\": {\"automargin\": true, \"gridcolor\": \"white\", \"linecolor\": \"white\", \"ticks\": \"\", \"title\": {\"standoff\": 15}, \"zerolinecolor\": \"white\", \"zerolinewidth\": 2}, \"yaxis\": {\"automargin\": true, \"gridcolor\": \"white\", \"linecolor\": \"white\", \"ticks\": \"\", \"title\": {\"standoff\": 15}, \"zerolinecolor\": \"white\", \"zerolinewidth\": 2}}}, \"title\": {\"text\": \"danceability\"}, \"xaxis\": {\"anchor\": \"y\", \"domain\": [0.0, 1.0], \"title\": {\"text\": \"country_name\"}}, \"yaxis\": {\"anchor\": \"x\", \"domain\": [0.0, 1.0], \"title\": {\"text\": \"Average\"}}},\n",
              "                        {\"responsive\": true}\n",
              "                    ).then(function(){\n",
              "                            \n",
              "var gd = document.getElementById('886631ae-3ebe-484c-a99a-b70fdc5f6253');\n",
              "var x = new MutationObserver(function (mutations, observer) {{\n",
              "        var display = window.getComputedStyle(gd).display;\n",
              "        if (!display || display === 'none') {{\n",
              "            console.log([gd, 'removed!']);\n",
              "            Plotly.purge(gd);\n",
              "            observer.disconnect();\n",
              "        }}\n",
              "}});\n",
              "\n",
              "// Listen for the removal of the full notebook cells\n",
              "var notebookContainer = gd.closest('#notebook-container');\n",
              "if (notebookContainer) {{\n",
              "    x.observe(notebookContainer, {childList: true});\n",
              "}}\n",
              "\n",
              "// Listen for the clearing of the current output cell\n",
              "var outputEl = gd.closest('.output');\n",
              "if (outputEl) {{\n",
              "    x.observe(outputEl, {childList: true});\n",
              "}}\n",
              "\n",
              "                        })\n",
              "                };\n",
              "                \n",
              "            </script>\n",
              "        </div>\n",
              "</body>\n",
              "</html>"
            ]
          },
          "metadata": {
            "tags": []
          }
        },
        {
          "output_type": "stream",
          "text": [
            "None\n"
          ],
          "name": "stdout"
        },
        {
          "output_type": "display_data",
          "data": {
            "text/html": [
              "<html>\n",
              "<head><meta charset=\"utf-8\" /></head>\n",
              "<body>\n",
              "    <div>\n",
              "            <script src=\"https://cdnjs.cloudflare.com/ajax/libs/mathjax/2.7.5/MathJax.js?config=TeX-AMS-MML_SVG\"></script><script type=\"text/javascript\">if (window.MathJax) {MathJax.Hub.Config({SVG: {font: \"STIX-Web\"}});}</script>\n",
              "                <script type=\"text/javascript\">window.PlotlyConfig = {MathJaxConfig: 'local'};</script>\n",
              "        <script src=\"https://cdn.plot.ly/plotly-latest.min.js\"></script>    \n",
              "            <div id=\"6795f14e-5e1b-4ca0-a0f7-014c4c8e36d1\" class=\"plotly-graph-div\" style=\"height:525px; width:100%;\"></div>\n",
              "            <script type=\"text/javascript\">\n",
              "                \n",
              "                    window.PLOTLYENV=window.PLOTLYENV || {};\n",
              "                    \n",
              "                if (document.getElementById(\"6795f14e-5e1b-4ca0-a0f7-014c4c8e36d1\")) {\n",
              "                    Plotly.newPlot(\n",
              "                        '6795f14e-5e1b-4ca0-a0f7-014c4c8e36d1',\n",
              "                        [{\"alignmentgroup\": \"True\", \"hoverlabel\": {\"namelength\": 0}, \"hovertemplate\": \"country_name=%{x}<br>Average=%{marker.color}\", \"legendgroup\": \"\", \"marker\": {\"color\": [0.4671648351648349, 0.5133406593406589, 0.5392747252747252, 0.5435989010989012, 0.5478736263736262, 0.5560219780219778, 0.556412087912088, 0.5634767242807445, 0.5711331609566902, 0.5733392235904795, 0.5763736263736265, 0.5846648351648355, 0.5893606393606392, 0.5896813186813187, 0.5927770721740572, 0.5931153846153844, 0.5982743818681316, 0.5985090286597826, 0.5989414103484454, 0.6012203876525485, 0.6025697379543531, 0.6045557457617757, 0.6060853719145177, 0.6062150963790307, 0.6073168037992154, 0.613313821856535, 0.6145618200894585, 0.618252747252747, 0.6209890109890108, 0.6212087912087911, 0.6270164835164836, 0.6281373626373623, 0.6292124542124542, 0.6299999999999999, 0.6319945054945056, 0.634379120879121, 0.6356813186813187, 0.6389198740957535, 0.6398461538461536, 0.6400659340659339, 0.645818681318681, 0.6466703296703297, 0.6510329670329668, 0.6512507592909603, 0.6593021978021973, 0.6601098901098902, 0.6627533270749351, 0.6643571428571426, 0.6649175824175826, 0.6652802197802197, 0.6694505494505495, 0.6721208791208791, 0.676141384388807, 0.6783736263736266, 0.680351648351648, 0.6911758241758241, 0.6933516483516486, 0.7315439560439558], \"coloraxis\": \"coloraxis\"}, \"name\": \"\", \"offsetgroup\": \"\", \"orientation\": \"v\", \"showlegend\": false, \"textposition\": \"outside\", \"texttemplate\": \"%{text:.2s}\", \"type\": \"bar\", \"x\": [\"Indonesia\", \"Philippines\", \"Hong Kong\", \"Taiwan\", \"Israel\", \"Malaysia\", \"Singapore\", \"New Zealand\", \"Iceland\", \"United States\", \"Portugal\", \"India\", \"Canada\", \"Thailand\", \"Australia\", \"Turkey\", \"Lithuania\", \"Romania\", \"Sweden\", \"Denmark\", \"Luxembourg\", \"Norway\", \"Belgium\", \"Latvia\", \"United Kingdom\", \"Ireland\", \"Netherlands\", \"France\", \"Estonia\", \"Switzerland\", \"Greece\", \"Guatemala\", \"Bulgaria\", \"Germany\", \"Slovakia\", \"Czech Republic\", \"Mexico\", \"Austria\", \"Argentina\", \"Costa Rica\", \"Honduras\", \"Poland\", \"El Salvador\", \"Hungary\", \"Panama\", \"Bolivia\", \"Finland\", \"Paraguay\", \"Colombia\", \"Ecuador\", \"Dominican Republic\", \"Italy\", \"Nicaragua\", \"Chile\", \"Peru\", \"Spain\", \"Brazil\", \"Japan\"], \"xaxis\": \"x\", \"y\": [0.4671648351648349, 0.5133406593406589, 0.5392747252747252, 0.5435989010989012, 0.5478736263736262, 0.5560219780219778, 0.556412087912088, 0.5634767242807445, 0.5711331609566902, 0.5733392235904795, 0.5763736263736265, 0.5846648351648355, 0.5893606393606392, 0.5896813186813187, 0.5927770721740572, 0.5931153846153844, 0.5982743818681316, 0.5985090286597826, 0.5989414103484454, 0.6012203876525485, 0.6025697379543531, 0.6045557457617757, 0.6060853719145177, 0.6062150963790307, 0.6073168037992154, 0.613313821856535, 0.6145618200894585, 0.618252747252747, 0.6209890109890108, 0.6212087912087911, 0.6270164835164836, 0.6281373626373623, 0.6292124542124542, 0.6299999999999999, 0.6319945054945056, 0.634379120879121, 0.6356813186813187, 0.6389198740957535, 0.6398461538461536, 0.6400659340659339, 0.645818681318681, 0.6466703296703297, 0.6510329670329668, 0.6512507592909603, 0.6593021978021973, 0.6601098901098902, 0.6627533270749351, 0.6643571428571426, 0.6649175824175826, 0.6652802197802197, 0.6694505494505495, 0.6721208791208791, 0.676141384388807, 0.6783736263736266, 0.680351648351648, 0.6911758241758241, 0.6933516483516486, 0.7315439560439558], \"yaxis\": \"y\"}],\n",
              "                        {\"barmode\": \"relative\", \"coloraxis\": {\"colorbar\": {\"title\": {\"text\": \"Average\"}}, \"colorscale\": [[0.0, \"#0d0887\"], [0.1111111111111111, \"#46039f\"], [0.2222222222222222, \"#7201a8\"], [0.3333333333333333, \"#9c179e\"], [0.4444444444444444, \"#bd3786\"], [0.5555555555555556, \"#d8576b\"], [0.6666666666666666, \"#ed7953\"], [0.7777777777777778, \"#fb9f3a\"], [0.8888888888888888, \"#fdca26\"], [1.0, \"#f0f921\"]]}, \"legend\": {\"tracegroupgap\": 0}, \"template\": {\"data\": {\"bar\": [{\"error_x\": {\"color\": \"#2a3f5f\"}, \"error_y\": {\"color\": \"#2a3f5f\"}, \"marker\": {\"line\": {\"color\": \"#E5ECF6\", \"width\": 0.5}}, \"type\": \"bar\"}], \"barpolar\": [{\"marker\": {\"line\": {\"color\": \"#E5ECF6\", \"width\": 0.5}}, \"type\": \"barpolar\"}], \"carpet\": [{\"aaxis\": {\"endlinecolor\": \"#2a3f5f\", \"gridcolor\": \"white\", \"linecolor\": \"white\", \"minorgridcolor\": \"white\", \"startlinecolor\": \"#2a3f5f\"}, \"baxis\": {\"endlinecolor\": \"#2a3f5f\", \"gridcolor\": \"white\", \"linecolor\": \"white\", \"minorgridcolor\": \"white\", \"startlinecolor\": \"#2a3f5f\"}, \"type\": \"carpet\"}], \"choropleth\": [{\"colorbar\": {\"outlinewidth\": 0, \"ticks\": \"\"}, \"type\": \"choropleth\"}], \"contour\": [{\"colorbar\": {\"outlinewidth\": 0, \"ticks\": \"\"}, \"colorscale\": [[0.0, \"#0d0887\"], [0.1111111111111111, \"#46039f\"], [0.2222222222222222, \"#7201a8\"], [0.3333333333333333, \"#9c179e\"], [0.4444444444444444, \"#bd3786\"], [0.5555555555555556, \"#d8576b\"], [0.6666666666666666, \"#ed7953\"], [0.7777777777777778, \"#fb9f3a\"], [0.8888888888888888, \"#fdca26\"], [1.0, \"#f0f921\"]], \"type\": \"contour\"}], \"contourcarpet\": [{\"colorbar\": {\"outlinewidth\": 0, \"ticks\": \"\"}, \"type\": \"contourcarpet\"}], \"heatmap\": [{\"colorbar\": {\"outlinewidth\": 0, \"ticks\": \"\"}, \"colorscale\": [[0.0, \"#0d0887\"], [0.1111111111111111, \"#46039f\"], [0.2222222222222222, \"#7201a8\"], [0.3333333333333333, \"#9c179e\"], [0.4444444444444444, \"#bd3786\"], [0.5555555555555556, \"#d8576b\"], [0.6666666666666666, \"#ed7953\"], [0.7777777777777778, \"#fb9f3a\"], [0.8888888888888888, \"#fdca26\"], [1.0, \"#f0f921\"]], \"type\": \"heatmap\"}], \"heatmapgl\": [{\"colorbar\": {\"outlinewidth\": 0, \"ticks\": \"\"}, \"colorscale\": [[0.0, \"#0d0887\"], [0.1111111111111111, \"#46039f\"], [0.2222222222222222, \"#7201a8\"], [0.3333333333333333, \"#9c179e\"], [0.4444444444444444, \"#bd3786\"], [0.5555555555555556, \"#d8576b\"], [0.6666666666666666, \"#ed7953\"], [0.7777777777777778, \"#fb9f3a\"], [0.8888888888888888, \"#fdca26\"], [1.0, \"#f0f921\"]], \"type\": \"heatmapgl\"}], \"histogram\": [{\"marker\": {\"colorbar\": {\"outlinewidth\": 0, \"ticks\": \"\"}}, \"type\": \"histogram\"}], \"histogram2d\": [{\"colorbar\": {\"outlinewidth\": 0, \"ticks\": \"\"}, \"colorscale\": [[0.0, \"#0d0887\"], [0.1111111111111111, \"#46039f\"], [0.2222222222222222, \"#7201a8\"], [0.3333333333333333, \"#9c179e\"], [0.4444444444444444, \"#bd3786\"], [0.5555555555555556, \"#d8576b\"], [0.6666666666666666, \"#ed7953\"], [0.7777777777777778, \"#fb9f3a\"], [0.8888888888888888, \"#fdca26\"], [1.0, \"#f0f921\"]], \"type\": \"histogram2d\"}], \"histogram2dcontour\": [{\"colorbar\": {\"outlinewidth\": 0, \"ticks\": \"\"}, \"colorscale\": [[0.0, \"#0d0887\"], [0.1111111111111111, \"#46039f\"], [0.2222222222222222, \"#7201a8\"], [0.3333333333333333, \"#9c179e\"], [0.4444444444444444, \"#bd3786\"], [0.5555555555555556, \"#d8576b\"], [0.6666666666666666, \"#ed7953\"], [0.7777777777777778, \"#fb9f3a\"], [0.8888888888888888, \"#fdca26\"], [1.0, \"#f0f921\"]], \"type\": \"histogram2dcontour\"}], \"mesh3d\": [{\"colorbar\": {\"outlinewidth\": 0, \"ticks\": \"\"}, \"type\": \"mesh3d\"}], \"parcoords\": [{\"line\": {\"colorbar\": {\"outlinewidth\": 0, \"ticks\": \"\"}}, \"type\": \"parcoords\"}], \"pie\": [{\"automargin\": true, \"type\": \"pie\"}], \"scatter\": [{\"marker\": {\"colorbar\": {\"outlinewidth\": 0, \"ticks\": \"\"}}, \"type\": \"scatter\"}], \"scatter3d\": [{\"line\": {\"colorbar\": {\"outlinewidth\": 0, \"ticks\": \"\"}}, \"marker\": {\"colorbar\": {\"outlinewidth\": 0, \"ticks\": \"\"}}, \"type\": \"scatter3d\"}], \"scattercarpet\": [{\"marker\": {\"colorbar\": {\"outlinewidth\": 0, \"ticks\": \"\"}}, \"type\": \"scattercarpet\"}], \"scattergeo\": [{\"marker\": {\"colorbar\": {\"outlinewidth\": 0, \"ticks\": \"\"}}, \"type\": \"scattergeo\"}], \"scattergl\": [{\"marker\": {\"colorbar\": {\"outlinewidth\": 0, \"ticks\": \"\"}}, \"type\": \"scattergl\"}], \"scattermapbox\": [{\"marker\": {\"colorbar\": {\"outlinewidth\": 0, \"ticks\": \"\"}}, \"type\": \"scattermapbox\"}], \"scatterpolar\": [{\"marker\": {\"colorbar\": {\"outlinewidth\": 0, \"ticks\": \"\"}}, \"type\": \"scatterpolar\"}], \"scatterpolargl\": [{\"marker\": {\"colorbar\": {\"outlinewidth\": 0, \"ticks\": \"\"}}, \"type\": \"scatterpolargl\"}], \"scatterternary\": [{\"marker\": {\"colorbar\": {\"outlinewidth\": 0, \"ticks\": \"\"}}, \"type\": \"scatterternary\"}], \"surface\": [{\"colorbar\": {\"outlinewidth\": 0, \"ticks\": \"\"}, \"colorscale\": [[0.0, \"#0d0887\"], [0.1111111111111111, \"#46039f\"], [0.2222222222222222, \"#7201a8\"], [0.3333333333333333, \"#9c179e\"], [0.4444444444444444, \"#bd3786\"], [0.5555555555555556, \"#d8576b\"], [0.6666666666666666, \"#ed7953\"], [0.7777777777777778, \"#fb9f3a\"], [0.8888888888888888, \"#fdca26\"], [1.0, \"#f0f921\"]], \"type\": \"surface\"}], \"table\": [{\"cells\": {\"fill\": {\"color\": \"#EBF0F8\"}, \"line\": {\"color\": \"white\"}}, \"header\": {\"fill\": {\"color\": \"#C8D4E3\"}, \"line\": {\"color\": \"white\"}}, \"type\": \"table\"}]}, \"layout\": {\"annotationdefaults\": {\"arrowcolor\": \"#2a3f5f\", \"arrowhead\": 0, \"arrowwidth\": 1}, \"coloraxis\": {\"colorbar\": {\"outlinewidth\": 0, \"ticks\": \"\"}}, \"colorscale\": {\"diverging\": [[0, \"#8e0152\"], [0.1, \"#c51b7d\"], [0.2, \"#de77ae\"], [0.3, \"#f1b6da\"], [0.4, \"#fde0ef\"], [0.5, \"#f7f7f7\"], [0.6, \"#e6f5d0\"], [0.7, \"#b8e186\"], [0.8, \"#7fbc41\"], [0.9, \"#4d9221\"], [1, \"#276419\"]], \"sequential\": [[0.0, \"#0d0887\"], [0.1111111111111111, \"#46039f\"], [0.2222222222222222, \"#7201a8\"], [0.3333333333333333, \"#9c179e\"], [0.4444444444444444, \"#bd3786\"], [0.5555555555555556, \"#d8576b\"], [0.6666666666666666, \"#ed7953\"], [0.7777777777777778, \"#fb9f3a\"], [0.8888888888888888, \"#fdca26\"], [1.0, \"#f0f921\"]], \"sequentialminus\": [[0.0, \"#0d0887\"], [0.1111111111111111, \"#46039f\"], [0.2222222222222222, \"#7201a8\"], [0.3333333333333333, \"#9c179e\"], [0.4444444444444444, \"#bd3786\"], [0.5555555555555556, \"#d8576b\"], [0.6666666666666666, \"#ed7953\"], [0.7777777777777778, \"#fb9f3a\"], [0.8888888888888888, \"#fdca26\"], [1.0, \"#f0f921\"]]}, \"colorway\": [\"#636efa\", \"#EF553B\", \"#00cc96\", \"#ab63fa\", \"#FFA15A\", \"#19d3f3\", \"#FF6692\", \"#B6E880\", \"#FF97FF\", \"#FECB52\"], \"font\": {\"color\": \"#2a3f5f\"}, \"geo\": {\"bgcolor\": \"white\", \"lakecolor\": \"white\", \"landcolor\": \"#E5ECF6\", \"showlakes\": true, \"showland\": true, \"subunitcolor\": \"white\"}, \"hoverlabel\": {\"align\": \"left\"}, \"hovermode\": \"closest\", \"mapbox\": {\"style\": \"light\"}, \"paper_bgcolor\": \"white\", \"plot_bgcolor\": \"#E5ECF6\", \"polar\": {\"angularaxis\": {\"gridcolor\": \"white\", \"linecolor\": \"white\", \"ticks\": \"\"}, \"bgcolor\": \"#E5ECF6\", \"radialaxis\": {\"gridcolor\": \"white\", \"linecolor\": \"white\", \"ticks\": \"\"}}, \"scene\": {\"xaxis\": {\"backgroundcolor\": \"#E5ECF6\", \"gridcolor\": \"white\", \"gridwidth\": 2, \"linecolor\": \"white\", \"showbackground\": true, \"ticks\": \"\", \"zerolinecolor\": \"white\"}, \"yaxis\": {\"backgroundcolor\": \"#E5ECF6\", \"gridcolor\": \"white\", \"gridwidth\": 2, \"linecolor\": \"white\", \"showbackground\": true, \"ticks\": \"\", \"zerolinecolor\": \"white\"}, \"zaxis\": {\"backgroundcolor\": \"#E5ECF6\", \"gridcolor\": \"white\", \"gridwidth\": 2, \"linecolor\": \"white\", \"showbackground\": true, \"ticks\": \"\", \"zerolinecolor\": \"white\"}}, \"shapedefaults\": {\"line\": {\"color\": \"#2a3f5f\"}}, \"ternary\": {\"aaxis\": {\"gridcolor\": \"white\", \"linecolor\": \"white\", \"ticks\": \"\"}, \"baxis\": {\"gridcolor\": \"white\", \"linecolor\": \"white\", \"ticks\": \"\"}, \"bgcolor\": \"#E5ECF6\", \"caxis\": {\"gridcolor\": \"white\", \"linecolor\": \"white\", \"ticks\": \"\"}}, \"title\": {\"x\": 0.05}, \"xaxis\": {\"automargin\": true, \"gridcolor\": \"white\", \"linecolor\": \"white\", \"ticks\": \"\", \"title\": {\"standoff\": 15}, \"zerolinecolor\": \"white\", \"zerolinewidth\": 2}, \"yaxis\": {\"automargin\": true, \"gridcolor\": \"white\", \"linecolor\": \"white\", \"ticks\": \"\", \"title\": {\"standoff\": 15}, \"zerolinecolor\": \"white\", \"zerolinewidth\": 2}}}, \"title\": {\"text\": \"energy\"}, \"xaxis\": {\"anchor\": \"y\", \"domain\": [0.0, 1.0], \"title\": {\"text\": \"country_name\"}}, \"yaxis\": {\"anchor\": \"x\", \"domain\": [0.0, 1.0], \"title\": {\"text\": \"Average\"}}},\n",
              "                        {\"responsive\": true}\n",
              "                    ).then(function(){\n",
              "                            \n",
              "var gd = document.getElementById('6795f14e-5e1b-4ca0-a0f7-014c4c8e36d1');\n",
              "var x = new MutationObserver(function (mutations, observer) {{\n",
              "        var display = window.getComputedStyle(gd).display;\n",
              "        if (!display || display === 'none') {{\n",
              "            console.log([gd, 'removed!']);\n",
              "            Plotly.purge(gd);\n",
              "            observer.disconnect();\n",
              "        }}\n",
              "}});\n",
              "\n",
              "// Listen for the removal of the full notebook cells\n",
              "var notebookContainer = gd.closest('#notebook-container');\n",
              "if (notebookContainer) {{\n",
              "    x.observe(notebookContainer, {childList: true});\n",
              "}}\n",
              "\n",
              "// Listen for the clearing of the current output cell\n",
              "var outputEl = gd.closest('.output');\n",
              "if (outputEl) {{\n",
              "    x.observe(outputEl, {childList: true});\n",
              "}}\n",
              "\n",
              "                        })\n",
              "                };\n",
              "                \n",
              "            </script>\n",
              "        </div>\n",
              "</body>\n",
              "</html>"
            ]
          },
          "metadata": {
            "tags": []
          }
        },
        {
          "output_type": "stream",
          "text": [
            "None\n"
          ],
          "name": "stdout"
        },
        {
          "output_type": "display_data",
          "data": {
            "text/html": [
              "<html>\n",
              "<head><meta charset=\"utf-8\" /></head>\n",
              "<body>\n",
              "    <div>\n",
              "            <script src=\"https://cdnjs.cloudflare.com/ajax/libs/mathjax/2.7.5/MathJax.js?config=TeX-AMS-MML_SVG\"></script><script type=\"text/javascript\">if (window.MathJax) {MathJax.Hub.Config({SVG: {font: \"STIX-Web\"}});}</script>\n",
              "                <script type=\"text/javascript\">window.PlotlyConfig = {MathJaxConfig: 'local'};</script>\n",
              "        <script src=\"https://cdn.plot.ly/plotly-latest.min.js\"></script>    \n",
              "            <div id=\"2bb0d39c-22a1-49bf-98b0-060ea4882ae4\" class=\"plotly-graph-div\" style=\"height:525px; width:100%;\"></div>\n",
              "            <script type=\"text/javascript\">\n",
              "                \n",
              "                    window.PLOTLYENV=window.PLOTLYENV || {};\n",
              "                    \n",
              "                if (document.getElementById(\"2bb0d39c-22a1-49bf-98b0-060ea4882ae4\")) {\n",
              "                    Plotly.newPlot(\n",
              "                        '2bb0d39c-22a1-49bf-98b0-060ea4882ae4',\n",
              "                        [{\"alignmentgroup\": \"True\", \"hoverlabel\": {\"namelength\": 0}, \"hovertemplate\": \"country_name=%{x}<br>Average=%{marker.color}\", \"legendgroup\": \"\", \"marker\": {\"color\": [0.4690909090909093, 0.4727272727272728, 0.4727272727272731, 0.47772727272727267, 0.4800000000000006, 0.4831818181818185, 0.4840909090909093, 0.4859090909090911, 0.4877272727272727, 0.4881818181818186, 0.48863636363636387, 0.490909090909091, 0.4909090909090911, 0.49090909090909113, 0.4919786096256685, 0.49227272727272725, 0.493832800365464, 0.4940909090909093, 0.4940909090909094, 0.4945454545454546, 0.49454545454545484, 0.4959090909090913, 0.4963636363636361, 0.4972727272727277, 0.4977272727272728, 0.49772727272727296, 0.4988579259936045, 0.5000000000000002, 0.5020557332115122, 0.5020557332115123, 0.5027272727272731, 0.5036363636363635, 0.5040909090909091, 0.5040909090909093, 0.5043398812243036, 0.5050000000000002, 0.5075376884422113, 0.5098218364550026, 0.5100000000000002, 0.5120738636363635, 0.5136363636363638, 0.5140909090909093, 0.5145267104029989, 0.5145454545454548, 0.514846962083143, 0.514903129657228, 0.5153037916857013, 0.5153037916857013, 0.5209090909090912, 0.5212425765189586, 0.5218181818181816, 0.5222727272727273, 0.5258108725445415, 0.5303791685701235, 0.5358611238008224, 0.536818181818182, 0.5369318181818182, 0.5431588613406795], \"coloraxis\": \"coloraxis\"}, \"name\": \"\", \"offsetgroup\": \"\", \"orientation\": \"v\", \"showlegend\": false, \"textposition\": \"outside\", \"texttemplate\": \"%{text:.2s}\", \"type\": \"bar\", \"x\": [\"Japan\", \"Luxembourg\", \"Chile\", \"France\", \"Costa Rica\", \"Peru\", \"Italy\", \"Brazil\", \"Czech Republic\", \"Colombia\", \"India\", \"Paraguay\", \"Panama\", \"Spain\", \"Iceland\", \"Indonesia\", \"Austria\", \"El Salvador\", \"Argentina\", \"Hong Kong\", \"Mexico\", \"Ecuador\", \"Taiwan\", \"Honduras\", \"Poland\", \"Bolivia\", \"New Zealand\", \"Guatemala\", \"Norway\", \"Denmark\", \"Dominican Republic\", \"Singapore\", \"Malaysia\", \"Philippines\", \"Belgium\", \"Greece\", \"Sweden\", \"Romania\", \"Germany\", \"Lithuania\", \"Portugal\", \"Slovakia\", \"Nicaragua\", \"Turkey\", \"Ireland\", \"Latvia\", \"Australia\", \"United States\", \"Thailand\", \"Hungary\", \"Estonia\", \"Switzerland\", \"Finland\", \"United Kingdom\", \"Netherlands\", \"Israel\", \"Bulgaria\", \"Canada\"], \"xaxis\": \"x\", \"y\": [0.4690909090909093, 0.4727272727272728, 0.4727272727272731, 0.47772727272727267, 0.4800000000000006, 0.4831818181818185, 0.4840909090909093, 0.4859090909090911, 0.4877272727272727, 0.4881818181818186, 0.48863636363636387, 0.490909090909091, 0.4909090909090911, 0.49090909090909113, 0.4919786096256685, 0.49227272727272725, 0.493832800365464, 0.4940909090909093, 0.4940909090909094, 0.4945454545454546, 0.49454545454545484, 0.4959090909090913, 0.4963636363636361, 0.4972727272727277, 0.4977272727272728, 0.49772727272727296, 0.4988579259936045, 0.5000000000000002, 0.5020557332115122, 0.5020557332115123, 0.5027272727272731, 0.5036363636363635, 0.5040909090909091, 0.5040909090909093, 0.5043398812243036, 0.5050000000000002, 0.5075376884422113, 0.5098218364550026, 0.5100000000000002, 0.5120738636363635, 0.5136363636363638, 0.5140909090909093, 0.5145267104029989, 0.5145454545454548, 0.514846962083143, 0.514903129657228, 0.5153037916857013, 0.5153037916857013, 0.5209090909090912, 0.5212425765189586, 0.5218181818181816, 0.5222727272727273, 0.5258108725445415, 0.5303791685701235, 0.5358611238008224, 0.536818181818182, 0.5369318181818182, 0.5431588613406795], \"yaxis\": \"y\"}],\n",
              "                        {\"barmode\": \"relative\", \"coloraxis\": {\"colorbar\": {\"title\": {\"text\": \"Average\"}}, \"colorscale\": [[0.0, \"#0d0887\"], [0.1111111111111111, \"#46039f\"], [0.2222222222222222, \"#7201a8\"], [0.3333333333333333, \"#9c179e\"], [0.4444444444444444, \"#bd3786\"], [0.5555555555555556, \"#d8576b\"], [0.6666666666666666, \"#ed7953\"], [0.7777777777777778, \"#fb9f3a\"], [0.8888888888888888, \"#fdca26\"], [1.0, \"#f0f921\"]]}, \"legend\": {\"tracegroupgap\": 0}, \"template\": {\"data\": {\"bar\": [{\"error_x\": {\"color\": \"#2a3f5f\"}, \"error_y\": {\"color\": \"#2a3f5f\"}, \"marker\": {\"line\": {\"color\": \"#E5ECF6\", \"width\": 0.5}}, \"type\": \"bar\"}], \"barpolar\": [{\"marker\": {\"line\": {\"color\": \"#E5ECF6\", \"width\": 0.5}}, \"type\": \"barpolar\"}], \"carpet\": [{\"aaxis\": {\"endlinecolor\": \"#2a3f5f\", \"gridcolor\": \"white\", \"linecolor\": \"white\", \"minorgridcolor\": \"white\", \"startlinecolor\": \"#2a3f5f\"}, \"baxis\": {\"endlinecolor\": \"#2a3f5f\", \"gridcolor\": \"white\", \"linecolor\": \"white\", \"minorgridcolor\": \"white\", \"startlinecolor\": \"#2a3f5f\"}, \"type\": \"carpet\"}], \"choropleth\": [{\"colorbar\": {\"outlinewidth\": 0, \"ticks\": \"\"}, \"type\": \"choropleth\"}], \"contour\": [{\"colorbar\": {\"outlinewidth\": 0, \"ticks\": \"\"}, \"colorscale\": [[0.0, \"#0d0887\"], [0.1111111111111111, \"#46039f\"], [0.2222222222222222, \"#7201a8\"], [0.3333333333333333, \"#9c179e\"], [0.4444444444444444, \"#bd3786\"], [0.5555555555555556, \"#d8576b\"], [0.6666666666666666, \"#ed7953\"], [0.7777777777777778, \"#fb9f3a\"], [0.8888888888888888, \"#fdca26\"], [1.0, \"#f0f921\"]], \"type\": \"contour\"}], \"contourcarpet\": [{\"colorbar\": {\"outlinewidth\": 0, \"ticks\": \"\"}, \"type\": \"contourcarpet\"}], \"heatmap\": [{\"colorbar\": {\"outlinewidth\": 0, \"ticks\": \"\"}, \"colorscale\": [[0.0, \"#0d0887\"], [0.1111111111111111, \"#46039f\"], [0.2222222222222222, \"#7201a8\"], [0.3333333333333333, \"#9c179e\"], [0.4444444444444444, \"#bd3786\"], [0.5555555555555556, \"#d8576b\"], [0.6666666666666666, \"#ed7953\"], [0.7777777777777778, \"#fb9f3a\"], [0.8888888888888888, \"#fdca26\"], [1.0, \"#f0f921\"]], \"type\": \"heatmap\"}], \"heatmapgl\": [{\"colorbar\": {\"outlinewidth\": 0, \"ticks\": \"\"}, \"colorscale\": [[0.0, \"#0d0887\"], [0.1111111111111111, \"#46039f\"], [0.2222222222222222, \"#7201a8\"], [0.3333333333333333, \"#9c179e\"], [0.4444444444444444, \"#bd3786\"], [0.5555555555555556, \"#d8576b\"], [0.6666666666666666, \"#ed7953\"], [0.7777777777777778, \"#fb9f3a\"], [0.8888888888888888, \"#fdca26\"], [1.0, \"#f0f921\"]], \"type\": \"heatmapgl\"}], \"histogram\": [{\"marker\": {\"colorbar\": {\"outlinewidth\": 0, \"ticks\": \"\"}}, \"type\": \"histogram\"}], \"histogram2d\": [{\"colorbar\": {\"outlinewidth\": 0, \"ticks\": \"\"}, \"colorscale\": [[0.0, \"#0d0887\"], [0.1111111111111111, \"#46039f\"], [0.2222222222222222, \"#7201a8\"], [0.3333333333333333, \"#9c179e\"], [0.4444444444444444, \"#bd3786\"], [0.5555555555555556, \"#d8576b\"], [0.6666666666666666, \"#ed7953\"], [0.7777777777777778, \"#fb9f3a\"], [0.8888888888888888, \"#fdca26\"], [1.0, \"#f0f921\"]], \"type\": \"histogram2d\"}], \"histogram2dcontour\": [{\"colorbar\": {\"outlinewidth\": 0, \"ticks\": \"\"}, \"colorscale\": [[0.0, \"#0d0887\"], [0.1111111111111111, \"#46039f\"], [0.2222222222222222, \"#7201a8\"], [0.3333333333333333, \"#9c179e\"], [0.4444444444444444, \"#bd3786\"], [0.5555555555555556, \"#d8576b\"], [0.6666666666666666, \"#ed7953\"], [0.7777777777777778, \"#fb9f3a\"], [0.8888888888888888, \"#fdca26\"], [1.0, \"#f0f921\"]], \"type\": \"histogram2dcontour\"}], \"mesh3d\": [{\"colorbar\": {\"outlinewidth\": 0, \"ticks\": \"\"}, \"type\": \"mesh3d\"}], \"parcoords\": [{\"line\": {\"colorbar\": {\"outlinewidth\": 0, \"ticks\": \"\"}}, \"type\": \"parcoords\"}], \"pie\": [{\"automargin\": true, \"type\": \"pie\"}], \"scatter\": [{\"marker\": {\"colorbar\": {\"outlinewidth\": 0, \"ticks\": \"\"}}, \"type\": \"scatter\"}], \"scatter3d\": [{\"line\": {\"colorbar\": {\"outlinewidth\": 0, \"ticks\": \"\"}}, \"marker\": {\"colorbar\": {\"outlinewidth\": 0, \"ticks\": \"\"}}, \"type\": \"scatter3d\"}], \"scattercarpet\": [{\"marker\": {\"colorbar\": {\"outlinewidth\": 0, \"ticks\": \"\"}}, \"type\": \"scattercarpet\"}], \"scattergeo\": [{\"marker\": {\"colorbar\": {\"outlinewidth\": 0, \"ticks\": \"\"}}, \"type\": \"scattergeo\"}], \"scattergl\": [{\"marker\": {\"colorbar\": {\"outlinewidth\": 0, \"ticks\": \"\"}}, \"type\": \"scattergl\"}], \"scattermapbox\": [{\"marker\": {\"colorbar\": {\"outlinewidth\": 0, \"ticks\": \"\"}}, \"type\": \"scattermapbox\"}], \"scatterpolar\": [{\"marker\": {\"colorbar\": {\"outlinewidth\": 0, \"ticks\": \"\"}}, \"type\": \"scatterpolar\"}], \"scatterpolargl\": [{\"marker\": {\"colorbar\": {\"outlinewidth\": 0, \"ticks\": \"\"}}, \"type\": \"scatterpolargl\"}], \"scatterternary\": [{\"marker\": {\"colorbar\": {\"outlinewidth\": 0, \"ticks\": \"\"}}, \"type\": \"scatterternary\"}], \"surface\": [{\"colorbar\": {\"outlinewidth\": 0, \"ticks\": \"\"}, \"colorscale\": [[0.0, \"#0d0887\"], [0.1111111111111111, \"#46039f\"], [0.2222222222222222, \"#7201a8\"], [0.3333333333333333, \"#9c179e\"], [0.4444444444444444, \"#bd3786\"], [0.5555555555555556, \"#d8576b\"], [0.6666666666666666, \"#ed7953\"], [0.7777777777777778, \"#fb9f3a\"], [0.8888888888888888, \"#fdca26\"], [1.0, \"#f0f921\"]], \"type\": \"surface\"}], \"table\": [{\"cells\": {\"fill\": {\"color\": \"#EBF0F8\"}, \"line\": {\"color\": \"white\"}}, \"header\": {\"fill\": {\"color\": \"#C8D4E3\"}, \"line\": {\"color\": \"white\"}}, \"type\": \"table\"}]}, \"layout\": {\"annotationdefaults\": {\"arrowcolor\": \"#2a3f5f\", \"arrowhead\": 0, \"arrowwidth\": 1}, \"coloraxis\": {\"colorbar\": {\"outlinewidth\": 0, \"ticks\": \"\"}}, \"colorscale\": {\"diverging\": [[0, \"#8e0152\"], [0.1, \"#c51b7d\"], [0.2, \"#de77ae\"], [0.3, \"#f1b6da\"], [0.4, \"#fde0ef\"], [0.5, \"#f7f7f7\"], [0.6, \"#e6f5d0\"], [0.7, \"#b8e186\"], [0.8, \"#7fbc41\"], [0.9, \"#4d9221\"], [1, \"#276419\"]], \"sequential\": [[0.0, \"#0d0887\"], [0.1111111111111111, \"#46039f\"], [0.2222222222222222, \"#7201a8\"], [0.3333333333333333, \"#9c179e\"], [0.4444444444444444, \"#bd3786\"], [0.5555555555555556, \"#d8576b\"], [0.6666666666666666, \"#ed7953\"], [0.7777777777777778, \"#fb9f3a\"], [0.8888888888888888, \"#fdca26\"], [1.0, \"#f0f921\"]], \"sequentialminus\": [[0.0, \"#0d0887\"], [0.1111111111111111, \"#46039f\"], [0.2222222222222222, \"#7201a8\"], [0.3333333333333333, \"#9c179e\"], [0.4444444444444444, \"#bd3786\"], [0.5555555555555556, \"#d8576b\"], [0.6666666666666666, \"#ed7953\"], [0.7777777777777778, \"#fb9f3a\"], [0.8888888888888888, \"#fdca26\"], [1.0, \"#f0f921\"]]}, \"colorway\": [\"#636efa\", \"#EF553B\", \"#00cc96\", \"#ab63fa\", \"#FFA15A\", \"#19d3f3\", \"#FF6692\", \"#B6E880\", \"#FF97FF\", \"#FECB52\"], \"font\": {\"color\": \"#2a3f5f\"}, \"geo\": {\"bgcolor\": \"white\", \"lakecolor\": \"white\", \"landcolor\": \"#E5ECF6\", \"showlakes\": true, \"showland\": true, \"subunitcolor\": \"white\"}, \"hoverlabel\": {\"align\": \"left\"}, \"hovermode\": \"closest\", \"mapbox\": {\"style\": \"light\"}, \"paper_bgcolor\": \"white\", \"plot_bgcolor\": \"#E5ECF6\", \"polar\": {\"angularaxis\": {\"gridcolor\": \"white\", \"linecolor\": \"white\", \"ticks\": \"\"}, \"bgcolor\": \"#E5ECF6\", \"radialaxis\": {\"gridcolor\": \"white\", \"linecolor\": \"white\", \"ticks\": \"\"}}, \"scene\": {\"xaxis\": {\"backgroundcolor\": \"#E5ECF6\", \"gridcolor\": \"white\", \"gridwidth\": 2, \"linecolor\": \"white\", \"showbackground\": true, \"ticks\": \"\", \"zerolinecolor\": \"white\"}, \"yaxis\": {\"backgroundcolor\": \"#E5ECF6\", \"gridcolor\": \"white\", \"gridwidth\": 2, \"linecolor\": \"white\", \"showbackground\": true, \"ticks\": \"\", \"zerolinecolor\": \"white\"}, \"zaxis\": {\"backgroundcolor\": \"#E5ECF6\", \"gridcolor\": \"white\", \"gridwidth\": 2, \"linecolor\": \"white\", \"showbackground\": true, \"ticks\": \"\", \"zerolinecolor\": \"white\"}}, \"shapedefaults\": {\"line\": {\"color\": \"#2a3f5f\"}}, \"ternary\": {\"aaxis\": {\"gridcolor\": \"white\", \"linecolor\": \"white\", \"ticks\": \"\"}, \"baxis\": {\"gridcolor\": \"white\", \"linecolor\": \"white\", \"ticks\": \"\"}, \"bgcolor\": \"#E5ECF6\", \"caxis\": {\"gridcolor\": \"white\", \"linecolor\": \"white\", \"ticks\": \"\"}}, \"title\": {\"x\": 0.05}, \"xaxis\": {\"automargin\": true, \"gridcolor\": \"white\", \"linecolor\": \"white\", \"ticks\": \"\", \"title\": {\"standoff\": 15}, \"zerolinecolor\": \"white\", \"zerolinewidth\": 2}, \"yaxis\": {\"automargin\": true, \"gridcolor\": \"white\", \"linecolor\": \"white\", \"ticks\": \"\", \"title\": {\"standoff\": 15}, \"zerolinecolor\": \"white\", \"zerolinewidth\": 2}}}, \"title\": {\"text\": \"key\"}, \"xaxis\": {\"anchor\": \"y\", \"domain\": [0.0, 1.0], \"title\": {\"text\": \"country_name\"}}, \"yaxis\": {\"anchor\": \"x\", \"domain\": [0.0, 1.0], \"title\": {\"text\": \"Average\"}}},\n",
              "                        {\"responsive\": true}\n",
              "                    ).then(function(){\n",
              "                            \n",
              "var gd = document.getElementById('2bb0d39c-22a1-49bf-98b0-060ea4882ae4');\n",
              "var x = new MutationObserver(function (mutations, observer) {{\n",
              "        var display = window.getComputedStyle(gd).display;\n",
              "        if (!display || display === 'none') {{\n",
              "            console.log([gd, 'removed!']);\n",
              "            Plotly.purge(gd);\n",
              "            observer.disconnect();\n",
              "        }}\n",
              "}});\n",
              "\n",
              "// Listen for the removal of the full notebook cells\n",
              "var notebookContainer = gd.closest('#notebook-container');\n",
              "if (notebookContainer) {{\n",
              "    x.observe(notebookContainer, {childList: true});\n",
              "}}\n",
              "\n",
              "// Listen for the clearing of the current output cell\n",
              "var outputEl = gd.closest('.output');\n",
              "if (outputEl) {{\n",
              "    x.observe(outputEl, {childList: true});\n",
              "}}\n",
              "\n",
              "                        })\n",
              "                };\n",
              "                \n",
              "            </script>\n",
              "        </div>\n",
              "</body>\n",
              "</html>"
            ]
          },
          "metadata": {
            "tags": []
          }
        },
        {
          "output_type": "stream",
          "text": [
            "None\n"
          ],
          "name": "stdout"
        },
        {
          "output_type": "display_data",
          "data": {
            "text/html": [
              "<html>\n",
              "<head><meta charset=\"utf-8\" /></head>\n",
              "<body>\n",
              "    <div>\n",
              "            <script src=\"https://cdnjs.cloudflare.com/ajax/libs/mathjax/2.7.5/MathJax.js?config=TeX-AMS-MML_SVG\"></script><script type=\"text/javascript\">if (window.MathJax) {MathJax.Hub.Config({SVG: {font: \"STIX-Web\"}});}</script>\n",
              "                <script type=\"text/javascript\">window.PlotlyConfig = {MathJaxConfig: 'local'};</script>\n",
              "        <script src=\"https://cdn.plot.ly/plotly-latest.min.js\"></script>    \n",
              "            <div id=\"1aae4505-a120-44e9-8092-0d9298b46525\" class=\"plotly-graph-div\" style=\"height:525px; width:100%;\"></div>\n",
              "            <script type=\"text/javascript\">\n",
              "                \n",
              "                    window.PLOTLYENV=window.PLOTLYENV || {};\n",
              "                    \n",
              "                if (document.getElementById(\"1aae4505-a120-44e9-8092-0d9298b46525\")) {\n",
              "                    Plotly.newPlot(\n",
              "                        '1aae4505-a120-44e9-8092-0d9298b46525',\n",
              "                        [{\"alignmentgroup\": \"True\", \"hoverlabel\": {\"namelength\": 0}, \"hovertemplate\": \"country_name=%{x}<br>Average=%{marker.color}\", \"legendgroup\": \"\", \"marker\": {\"color\": [0.549632349317431, 0.5578162732245819, 0.5726250699382802, 0.5727916317579221, 0.5782453244983968, 0.5803293239149272, 0.5842136907988761, 0.5852446897639344, 0.5873566944704549, 0.5880511064018529, 0.5889662904736086, 0.5917510226208662, 0.5922670149327282, 0.5924663643980086, 0.5969641713074759, 0.5980835402273962, 0.5980897935045091, 0.5991739784130843, 0.5993920950174949, 0.6003379471899934, 0.6004251210217959, 0.6010038933517324, 0.6014326548716176, 0.6016185604975248, 0.602915023592656, 0.6029308733802569, 0.6031671677098218, 0.6032955497511209, 0.6039269334697733, 0.6063878074022965, 0.6065161448660681, 0.6071157088603246, 0.6080611714932349, 0.6114875298081258, 0.6137888719136559, 0.6152815727149871, 0.6202123683734986, 0.6240700310482475, 0.6267236705928736, 0.6360888766933578, 0.6579276526538856, 0.6610837317037108, 0.6639231679069539, 0.6697126804987431, 0.6700906805973089, 0.6739046868069586, 0.6743689320388345, 0.677308659011384, 0.6804356611305507, 0.6832312355231381, 0.6834130895470899, 0.6843620324281702, 0.6845401902321225, 0.6861818047410183, 0.6898082893893839, 0.6917670395741955, 0.692357131570698, 0.7040914691242421], \"coloraxis\": \"coloraxis\"}, \"name\": \"\", \"offsetgroup\": \"\", \"orientation\": \"v\", \"showlegend\": false, \"textposition\": \"outside\", \"texttemplate\": \"%{text:.2s}\", \"type\": \"bar\", \"x\": [\"Indonesia\", \"Turkey\", \"Iceland\", \"Philippines\", \"New Zealand\", \"Sweden\", \"Taiwan\", \"Israel\", \"Lithuania\", \"Hong Kong\", \"Portugal\", \"France\", \"Poland\", \"Greece\", \"Romania\", \"Latvia\", \"Estonia\", \"Belgium\", \"Czech Republic\", \"Netherlands\", \"United Kingdom\", \"Malaysia\", \"Singapore\", \"Ireland\", \"Norway\", \"Australia\", \"India\", \"Thailand\", \"United States\", \"Germany\", \"Denmark\", \"Canada\", \"Luxembourg\", \"Finland\", \"Switzerland\", \"Austria\", \"Bulgaria\", \"Slovakia\", \"Italy\", \"Hungary\", \"Brazil\", \"Argentina\", \"Mexico\", \"Honduras\", \"Costa Rica\", \"Guatemala\", \"El Salvador\", \"Dominican Republic\", \"Paraguay\", \"Ecuador\", \"Panama\", \"Colombia\", \"Spain\", \"Chile\", \"Bolivia\", \"Peru\", \"Nicaragua\", \"Japan\"], \"xaxis\": \"x\", \"y\": [0.549632349317431, 0.5578162732245819, 0.5726250699382802, 0.5727916317579221, 0.5782453244983968, 0.5803293239149272, 0.5842136907988761, 0.5852446897639344, 0.5873566944704549, 0.5880511064018529, 0.5889662904736086, 0.5917510226208662, 0.5922670149327282, 0.5924663643980086, 0.5969641713074759, 0.5980835402273962, 0.5980897935045091, 0.5991739784130843, 0.5993920950174949, 0.6003379471899934, 0.6004251210217959, 0.6010038933517324, 0.6014326548716176, 0.6016185604975248, 0.602915023592656, 0.6029308733802569, 0.6031671677098218, 0.6032955497511209, 0.6039269334697733, 0.6063878074022965, 0.6065161448660681, 0.6071157088603246, 0.6080611714932349, 0.6114875298081258, 0.6137888719136559, 0.6152815727149871, 0.6202123683734986, 0.6240700310482475, 0.6267236705928736, 0.6360888766933578, 0.6579276526538856, 0.6610837317037108, 0.6639231679069539, 0.6697126804987431, 0.6700906805973089, 0.6739046868069586, 0.6743689320388345, 0.677308659011384, 0.6804356611305507, 0.6832312355231381, 0.6834130895470899, 0.6843620324281702, 0.6845401902321225, 0.6861818047410183, 0.6898082893893839, 0.6917670395741955, 0.692357131570698, 0.7040914691242421], \"yaxis\": \"y\"}],\n",
              "                        {\"barmode\": \"relative\", \"coloraxis\": {\"colorbar\": {\"title\": {\"text\": \"Average\"}}, \"colorscale\": [[0.0, \"#0d0887\"], [0.1111111111111111, \"#46039f\"], [0.2222222222222222, \"#7201a8\"], [0.3333333333333333, \"#9c179e\"], [0.4444444444444444, \"#bd3786\"], [0.5555555555555556, \"#d8576b\"], [0.6666666666666666, \"#ed7953\"], [0.7777777777777778, \"#fb9f3a\"], [0.8888888888888888, \"#fdca26\"], [1.0, \"#f0f921\"]]}, \"legend\": {\"tracegroupgap\": 0}, \"template\": {\"data\": {\"bar\": [{\"error_x\": {\"color\": \"#2a3f5f\"}, \"error_y\": {\"color\": \"#2a3f5f\"}, \"marker\": {\"line\": {\"color\": \"#E5ECF6\", \"width\": 0.5}}, \"type\": \"bar\"}], \"barpolar\": [{\"marker\": {\"line\": {\"color\": \"#E5ECF6\", \"width\": 0.5}}, \"type\": \"barpolar\"}], \"carpet\": [{\"aaxis\": {\"endlinecolor\": \"#2a3f5f\", \"gridcolor\": \"white\", \"linecolor\": \"white\", \"minorgridcolor\": \"white\", \"startlinecolor\": \"#2a3f5f\"}, \"baxis\": {\"endlinecolor\": \"#2a3f5f\", \"gridcolor\": \"white\", \"linecolor\": \"white\", \"minorgridcolor\": \"white\", \"startlinecolor\": \"#2a3f5f\"}, \"type\": \"carpet\"}], \"choropleth\": [{\"colorbar\": {\"outlinewidth\": 0, \"ticks\": \"\"}, \"type\": \"choropleth\"}], \"contour\": [{\"colorbar\": {\"outlinewidth\": 0, \"ticks\": \"\"}, \"colorscale\": [[0.0, \"#0d0887\"], [0.1111111111111111, \"#46039f\"], [0.2222222222222222, \"#7201a8\"], [0.3333333333333333, \"#9c179e\"], [0.4444444444444444, \"#bd3786\"], [0.5555555555555556, \"#d8576b\"], [0.6666666666666666, \"#ed7953\"], [0.7777777777777778, \"#fb9f3a\"], [0.8888888888888888, \"#fdca26\"], [1.0, \"#f0f921\"]], \"type\": \"contour\"}], \"contourcarpet\": [{\"colorbar\": {\"outlinewidth\": 0, \"ticks\": \"\"}, \"type\": \"contourcarpet\"}], \"heatmap\": [{\"colorbar\": {\"outlinewidth\": 0, \"ticks\": \"\"}, \"colorscale\": [[0.0, \"#0d0887\"], [0.1111111111111111, \"#46039f\"], [0.2222222222222222, \"#7201a8\"], [0.3333333333333333, \"#9c179e\"], [0.4444444444444444, \"#bd3786\"], [0.5555555555555556, \"#d8576b\"], [0.6666666666666666, \"#ed7953\"], [0.7777777777777778, \"#fb9f3a\"], [0.8888888888888888, \"#fdca26\"], [1.0, \"#f0f921\"]], \"type\": \"heatmap\"}], \"heatmapgl\": [{\"colorbar\": {\"outlinewidth\": 0, \"ticks\": \"\"}, \"colorscale\": [[0.0, \"#0d0887\"], [0.1111111111111111, \"#46039f\"], [0.2222222222222222, \"#7201a8\"], [0.3333333333333333, \"#9c179e\"], [0.4444444444444444, \"#bd3786\"], [0.5555555555555556, \"#d8576b\"], [0.6666666666666666, \"#ed7953\"], [0.7777777777777778, \"#fb9f3a\"], [0.8888888888888888, \"#fdca26\"], [1.0, \"#f0f921\"]], \"type\": \"heatmapgl\"}], \"histogram\": [{\"marker\": {\"colorbar\": {\"outlinewidth\": 0, \"ticks\": \"\"}}, \"type\": \"histogram\"}], \"histogram2d\": [{\"colorbar\": {\"outlinewidth\": 0, \"ticks\": \"\"}, \"colorscale\": [[0.0, \"#0d0887\"], [0.1111111111111111, \"#46039f\"], [0.2222222222222222, \"#7201a8\"], [0.3333333333333333, \"#9c179e\"], [0.4444444444444444, \"#bd3786\"], [0.5555555555555556, \"#d8576b\"], [0.6666666666666666, \"#ed7953\"], [0.7777777777777778, \"#fb9f3a\"], [0.8888888888888888, \"#fdca26\"], [1.0, \"#f0f921\"]], \"type\": \"histogram2d\"}], \"histogram2dcontour\": [{\"colorbar\": {\"outlinewidth\": 0, \"ticks\": \"\"}, \"colorscale\": [[0.0, \"#0d0887\"], [0.1111111111111111, \"#46039f\"], [0.2222222222222222, \"#7201a8\"], [0.3333333333333333, \"#9c179e\"], [0.4444444444444444, \"#bd3786\"], [0.5555555555555556, \"#d8576b\"], [0.6666666666666666, \"#ed7953\"], [0.7777777777777778, \"#fb9f3a\"], [0.8888888888888888, \"#fdca26\"], [1.0, \"#f0f921\"]], \"type\": \"histogram2dcontour\"}], \"mesh3d\": [{\"colorbar\": {\"outlinewidth\": 0, \"ticks\": \"\"}, \"type\": \"mesh3d\"}], \"parcoords\": [{\"line\": {\"colorbar\": {\"outlinewidth\": 0, \"ticks\": \"\"}}, \"type\": \"parcoords\"}], \"pie\": [{\"automargin\": true, \"type\": \"pie\"}], \"scatter\": [{\"marker\": {\"colorbar\": {\"outlinewidth\": 0, \"ticks\": \"\"}}, \"type\": \"scatter\"}], \"scatter3d\": [{\"line\": {\"colorbar\": {\"outlinewidth\": 0, \"ticks\": \"\"}}, \"marker\": {\"colorbar\": {\"outlinewidth\": 0, \"ticks\": \"\"}}, \"type\": \"scatter3d\"}], \"scattercarpet\": [{\"marker\": {\"colorbar\": {\"outlinewidth\": 0, \"ticks\": \"\"}}, \"type\": \"scattercarpet\"}], \"scattergeo\": [{\"marker\": {\"colorbar\": {\"outlinewidth\": 0, \"ticks\": \"\"}}, \"type\": \"scattergeo\"}], \"scattergl\": [{\"marker\": {\"colorbar\": {\"outlinewidth\": 0, \"ticks\": \"\"}}, \"type\": \"scattergl\"}], \"scattermapbox\": [{\"marker\": {\"colorbar\": {\"outlinewidth\": 0, \"ticks\": \"\"}}, \"type\": \"scattermapbox\"}], \"scatterpolar\": [{\"marker\": {\"colorbar\": {\"outlinewidth\": 0, \"ticks\": \"\"}}, \"type\": \"scatterpolar\"}], \"scatterpolargl\": [{\"marker\": {\"colorbar\": {\"outlinewidth\": 0, \"ticks\": \"\"}}, \"type\": \"scatterpolargl\"}], \"scatterternary\": [{\"marker\": {\"colorbar\": {\"outlinewidth\": 0, \"ticks\": \"\"}}, \"type\": \"scatterternary\"}], \"surface\": [{\"colorbar\": {\"outlinewidth\": 0, \"ticks\": \"\"}, \"colorscale\": [[0.0, \"#0d0887\"], [0.1111111111111111, \"#46039f\"], [0.2222222222222222, \"#7201a8\"], [0.3333333333333333, \"#9c179e\"], [0.4444444444444444, \"#bd3786\"], [0.5555555555555556, \"#d8576b\"], [0.6666666666666666, \"#ed7953\"], [0.7777777777777778, \"#fb9f3a\"], [0.8888888888888888, \"#fdca26\"], [1.0, \"#f0f921\"]], \"type\": \"surface\"}], \"table\": [{\"cells\": {\"fill\": {\"color\": \"#EBF0F8\"}, \"line\": {\"color\": \"white\"}}, \"header\": {\"fill\": {\"color\": \"#C8D4E3\"}, \"line\": {\"color\": \"white\"}}, \"type\": \"table\"}]}, \"layout\": {\"annotationdefaults\": {\"arrowcolor\": \"#2a3f5f\", \"arrowhead\": 0, \"arrowwidth\": 1}, \"coloraxis\": {\"colorbar\": {\"outlinewidth\": 0, \"ticks\": \"\"}}, \"colorscale\": {\"diverging\": [[0, \"#8e0152\"], [0.1, \"#c51b7d\"], [0.2, \"#de77ae\"], [0.3, \"#f1b6da\"], [0.4, \"#fde0ef\"], [0.5, \"#f7f7f7\"], [0.6, \"#e6f5d0\"], [0.7, \"#b8e186\"], [0.8, \"#7fbc41\"], [0.9, \"#4d9221\"], [1, \"#276419\"]], \"sequential\": [[0.0, \"#0d0887\"], [0.1111111111111111, \"#46039f\"], [0.2222222222222222, \"#7201a8\"], [0.3333333333333333, \"#9c179e\"], [0.4444444444444444, \"#bd3786\"], [0.5555555555555556, \"#d8576b\"], [0.6666666666666666, \"#ed7953\"], [0.7777777777777778, \"#fb9f3a\"], [0.8888888888888888, \"#fdca26\"], [1.0, \"#f0f921\"]], \"sequentialminus\": [[0.0, \"#0d0887\"], [0.1111111111111111, \"#46039f\"], [0.2222222222222222, \"#7201a8\"], [0.3333333333333333, \"#9c179e\"], [0.4444444444444444, \"#bd3786\"], [0.5555555555555556, \"#d8576b\"], [0.6666666666666666, \"#ed7953\"], [0.7777777777777778, \"#fb9f3a\"], [0.8888888888888888, \"#fdca26\"], [1.0, \"#f0f921\"]]}, \"colorway\": [\"#636efa\", \"#EF553B\", \"#00cc96\", \"#ab63fa\", \"#FFA15A\", \"#19d3f3\", \"#FF6692\", \"#B6E880\", \"#FF97FF\", \"#FECB52\"], \"font\": {\"color\": \"#2a3f5f\"}, \"geo\": {\"bgcolor\": \"white\", \"lakecolor\": \"white\", \"landcolor\": \"#E5ECF6\", \"showlakes\": true, \"showland\": true, \"subunitcolor\": \"white\"}, \"hoverlabel\": {\"align\": \"left\"}, \"hovermode\": \"closest\", \"mapbox\": {\"style\": \"light\"}, \"paper_bgcolor\": \"white\", \"plot_bgcolor\": \"#E5ECF6\", \"polar\": {\"angularaxis\": {\"gridcolor\": \"white\", \"linecolor\": \"white\", \"ticks\": \"\"}, \"bgcolor\": \"#E5ECF6\", \"radialaxis\": {\"gridcolor\": \"white\", \"linecolor\": \"white\", \"ticks\": \"\"}}, \"scene\": {\"xaxis\": {\"backgroundcolor\": \"#E5ECF6\", \"gridcolor\": \"white\", \"gridwidth\": 2, \"linecolor\": \"white\", \"showbackground\": true, \"ticks\": \"\", \"zerolinecolor\": \"white\"}, \"yaxis\": {\"backgroundcolor\": \"#E5ECF6\", \"gridcolor\": \"white\", \"gridwidth\": 2, \"linecolor\": \"white\", \"showbackground\": true, \"ticks\": \"\", \"zerolinecolor\": \"white\"}, \"zaxis\": {\"backgroundcolor\": \"#E5ECF6\", \"gridcolor\": \"white\", \"gridwidth\": 2, \"linecolor\": \"white\", \"showbackground\": true, \"ticks\": \"\", \"zerolinecolor\": \"white\"}}, \"shapedefaults\": {\"line\": {\"color\": \"#2a3f5f\"}}, \"ternary\": {\"aaxis\": {\"gridcolor\": \"white\", \"linecolor\": \"white\", \"ticks\": \"\"}, \"baxis\": {\"gridcolor\": \"white\", \"linecolor\": \"white\", \"ticks\": \"\"}, \"bgcolor\": \"#E5ECF6\", \"caxis\": {\"gridcolor\": \"white\", \"linecolor\": \"white\", \"ticks\": \"\"}}, \"title\": {\"x\": 0.05}, \"xaxis\": {\"automargin\": true, \"gridcolor\": \"white\", \"linecolor\": \"white\", \"ticks\": \"\", \"title\": {\"standoff\": 15}, \"zerolinecolor\": \"white\", \"zerolinewidth\": 2}, \"yaxis\": {\"automargin\": true, \"gridcolor\": \"white\", \"linecolor\": \"white\", \"ticks\": \"\", \"title\": {\"standoff\": 15}, \"zerolinecolor\": \"white\", \"zerolinewidth\": 2}}}, \"title\": {\"text\": \"loudness\"}, \"xaxis\": {\"anchor\": \"y\", \"domain\": [0.0, 1.0], \"title\": {\"text\": \"country_name\"}}, \"yaxis\": {\"anchor\": \"x\", \"domain\": [0.0, 1.0], \"title\": {\"text\": \"Average\"}}},\n",
              "                        {\"responsive\": true}\n",
              "                    ).then(function(){\n",
              "                            \n",
              "var gd = document.getElementById('1aae4505-a120-44e9-8092-0d9298b46525');\n",
              "var x = new MutationObserver(function (mutations, observer) {{\n",
              "        var display = window.getComputedStyle(gd).display;\n",
              "        if (!display || display === 'none') {{\n",
              "            console.log([gd, 'removed!']);\n",
              "            Plotly.purge(gd);\n",
              "            observer.disconnect();\n",
              "        }}\n",
              "}});\n",
              "\n",
              "// Listen for the removal of the full notebook cells\n",
              "var notebookContainer = gd.closest('#notebook-container');\n",
              "if (notebookContainer) {{\n",
              "    x.observe(notebookContainer, {childList: true});\n",
              "}}\n",
              "\n",
              "// Listen for the clearing of the current output cell\n",
              "var outputEl = gd.closest('.output');\n",
              "if (outputEl) {{\n",
              "    x.observe(outputEl, {childList: true});\n",
              "}}\n",
              "\n",
              "                        })\n",
              "                };\n",
              "                \n",
              "            </script>\n",
              "        </div>\n",
              "</body>\n",
              "</html>"
            ]
          },
          "metadata": {
            "tags": []
          }
        },
        {
          "output_type": "stream",
          "text": [
            "None\n"
          ],
          "name": "stdout"
        },
        {
          "output_type": "display_data",
          "data": {
            "text/html": [
              "<html>\n",
              "<head><meta charset=\"utf-8\" /></head>\n",
              "<body>\n",
              "    <div>\n",
              "            <script src=\"https://cdnjs.cloudflare.com/ajax/libs/mathjax/2.7.5/MathJax.js?config=TeX-AMS-MML_SVG\"></script><script type=\"text/javascript\">if (window.MathJax) {MathJax.Hub.Config({SVG: {font: \"STIX-Web\"}});}</script>\n",
              "                <script type=\"text/javascript\">window.PlotlyConfig = {MathJaxConfig: 'local'};</script>\n",
              "        <script src=\"https://cdn.plot.ly/plotly-latest.min.js\"></script>    \n",
              "            <div id=\"582e60ed-52c3-4e2c-8a9a-03b6f9e67459\" class=\"plotly-graph-div\" style=\"height:525px; width:100%;\"></div>\n",
              "            <script type=\"text/javascript\">\n",
              "                \n",
              "                    window.PLOTLYENV=window.PLOTLYENV || {};\n",
              "                    \n",
              "                if (document.getElementById(\"582e60ed-52c3-4e2c-8a9a-03b6f9e67459\")) {\n",
              "                    Plotly.newPlot(\n",
              "                        '582e60ed-52c3-4e2c-8a9a-03b6f9e67459',\n",
              "                        [{\"alignmentgroup\": \"True\", \"hoverlabel\": {\"namelength\": 0}, \"hovertemplate\": \"country_name=%{x}<br>Average=%{marker.color}\", \"legendgroup\": \"\", \"marker\": {\"color\": [0.35, 0.39, 0.4, 0.42, 0.43, 0.44, 0.4479166666666667, 0.4623115577889447, 0.47738693467336685, 0.48, 0.48743718592964824, 0.48743718592964824, 0.4918032786885246, 0.495, 0.515, 0.52, 0.5276381909547738, 0.53, 0.535, 0.535, 0.5384615384615384, 0.5390625, 0.5477386934673367, 0.5628140703517588, 0.565, 0.5678391959798995, 0.57, 0.5728643216080402, 0.5778894472361809, 0.5778894472361809, 0.58, 0.5858585858585859, 0.59, 0.59, 0.592964824120603, 0.592964824120603, 0.595, 0.595, 0.6, 0.6, 0.61, 0.61, 0.611764705882353, 0.615, 0.615, 0.6185567010309279, 0.62, 0.6231155778894473, 0.625, 0.63, 0.635, 0.65, 0.735, 0.755, 0.77, 0.78, 0.79, 0.83], \"coloraxis\": \"coloraxis\"}, \"name\": \"\", \"offsetgroup\": \"\", \"orientation\": \"v\", \"showlegend\": false, \"textposition\": \"outside\", \"texttemplate\": \"%{text:.2s}\", \"type\": \"bar\", \"x\": [\"Turkey\", \"Israel\", \"France\", \"Germany\", \"Greece\", \"Portugal\", \"Bulgaria\", \"Finland\", \"Denmark\", \"Italy\", \"Romania\", \"Austria\", \"Latvia\", \"Switzerland\", \"Slovakia\", \"Estonia\", \"Belgium\", \"Czech Republic\", \"Poland\", \"India\", \"Luxembourg\", \"Lithuania\", \"Netherlands\", \"Hungary\", \"Malaysia\", \"United Kingdom\", \"Argentina\", \"United States\", \"Ireland\", \"Sweden\", \"Dominican Republic\", \"Canada\", \"Brazil\", \"Chile\", \"Australia\", \"New Zealand\", \"Honduras\", \"El Salvador\", \"Bolivia\", \"Ecuador\", \"Mexico\", \"Panama\", \"Iceland\", \"Costa Rica\", \"Spain\", \"Nicaragua\", \"Guatemala\", \"Norway\", \"Paraguay\", \"Colombia\", \"Peru\", \"Singapore\", \"Thailand\", \"Taiwan\", \"Hong Kong\", \"Indonesia\", \"Philippines\", \"Japan\"], \"xaxis\": \"x\", \"y\": [0.35, 0.39, 0.4, 0.42, 0.43, 0.44, 0.4479166666666667, 0.4623115577889447, 0.47738693467336685, 0.48, 0.48743718592964824, 0.48743718592964824, 0.4918032786885246, 0.495, 0.515, 0.52, 0.5276381909547738, 0.53, 0.535, 0.535, 0.5384615384615384, 0.5390625, 0.5477386934673367, 0.5628140703517588, 0.565, 0.5678391959798995, 0.57, 0.5728643216080402, 0.5778894472361809, 0.5778894472361809, 0.58, 0.5858585858585859, 0.59, 0.59, 0.592964824120603, 0.592964824120603, 0.595, 0.595, 0.6, 0.6, 0.61, 0.61, 0.611764705882353, 0.615, 0.615, 0.6185567010309279, 0.62, 0.6231155778894473, 0.625, 0.63, 0.635, 0.65, 0.735, 0.755, 0.77, 0.78, 0.79, 0.83], \"yaxis\": \"y\"}],\n",
              "                        {\"barmode\": \"relative\", \"coloraxis\": {\"colorbar\": {\"title\": {\"text\": \"Average\"}}, \"colorscale\": [[0.0, \"#0d0887\"], [0.1111111111111111, \"#46039f\"], [0.2222222222222222, \"#7201a8\"], [0.3333333333333333, \"#9c179e\"], [0.4444444444444444, \"#bd3786\"], [0.5555555555555556, \"#d8576b\"], [0.6666666666666666, \"#ed7953\"], [0.7777777777777778, \"#fb9f3a\"], [0.8888888888888888, \"#fdca26\"], [1.0, \"#f0f921\"]]}, \"legend\": {\"tracegroupgap\": 0}, \"template\": {\"data\": {\"bar\": [{\"error_x\": {\"color\": \"#2a3f5f\"}, \"error_y\": {\"color\": \"#2a3f5f\"}, \"marker\": {\"line\": {\"color\": \"#E5ECF6\", \"width\": 0.5}}, \"type\": \"bar\"}], \"barpolar\": [{\"marker\": {\"line\": {\"color\": \"#E5ECF6\", \"width\": 0.5}}, \"type\": \"barpolar\"}], \"carpet\": [{\"aaxis\": {\"endlinecolor\": \"#2a3f5f\", \"gridcolor\": \"white\", \"linecolor\": \"white\", \"minorgridcolor\": \"white\", \"startlinecolor\": \"#2a3f5f\"}, \"baxis\": {\"endlinecolor\": \"#2a3f5f\", \"gridcolor\": \"white\", \"linecolor\": \"white\", \"minorgridcolor\": \"white\", \"startlinecolor\": \"#2a3f5f\"}, \"type\": \"carpet\"}], \"choropleth\": [{\"colorbar\": {\"outlinewidth\": 0, \"ticks\": \"\"}, \"type\": \"choropleth\"}], \"contour\": [{\"colorbar\": {\"outlinewidth\": 0, \"ticks\": \"\"}, \"colorscale\": [[0.0, \"#0d0887\"], [0.1111111111111111, \"#46039f\"], [0.2222222222222222, \"#7201a8\"], [0.3333333333333333, \"#9c179e\"], [0.4444444444444444, \"#bd3786\"], [0.5555555555555556, \"#d8576b\"], [0.6666666666666666, \"#ed7953\"], [0.7777777777777778, \"#fb9f3a\"], [0.8888888888888888, \"#fdca26\"], [1.0, \"#f0f921\"]], \"type\": \"contour\"}], \"contourcarpet\": [{\"colorbar\": {\"outlinewidth\": 0, \"ticks\": \"\"}, \"type\": \"contourcarpet\"}], \"heatmap\": [{\"colorbar\": {\"outlinewidth\": 0, \"ticks\": \"\"}, \"colorscale\": [[0.0, \"#0d0887\"], [0.1111111111111111, \"#46039f\"], [0.2222222222222222, \"#7201a8\"], [0.3333333333333333, \"#9c179e\"], [0.4444444444444444, \"#bd3786\"], [0.5555555555555556, \"#d8576b\"], [0.6666666666666666, \"#ed7953\"], [0.7777777777777778, \"#fb9f3a\"], [0.8888888888888888, \"#fdca26\"], [1.0, \"#f0f921\"]], \"type\": \"heatmap\"}], \"heatmapgl\": [{\"colorbar\": {\"outlinewidth\": 0, \"ticks\": \"\"}, \"colorscale\": [[0.0, \"#0d0887\"], [0.1111111111111111, \"#46039f\"], [0.2222222222222222, \"#7201a8\"], [0.3333333333333333, \"#9c179e\"], [0.4444444444444444, \"#bd3786\"], [0.5555555555555556, \"#d8576b\"], [0.6666666666666666, \"#ed7953\"], [0.7777777777777778, \"#fb9f3a\"], [0.8888888888888888, \"#fdca26\"], [1.0, \"#f0f921\"]], \"type\": \"heatmapgl\"}], \"histogram\": [{\"marker\": {\"colorbar\": {\"outlinewidth\": 0, \"ticks\": \"\"}}, \"type\": \"histogram\"}], \"histogram2d\": [{\"colorbar\": {\"outlinewidth\": 0, \"ticks\": \"\"}, \"colorscale\": [[0.0, \"#0d0887\"], [0.1111111111111111, \"#46039f\"], [0.2222222222222222, \"#7201a8\"], [0.3333333333333333, \"#9c179e\"], [0.4444444444444444, \"#bd3786\"], [0.5555555555555556, \"#d8576b\"], [0.6666666666666666, \"#ed7953\"], [0.7777777777777778, \"#fb9f3a\"], [0.8888888888888888, \"#fdca26\"], [1.0, \"#f0f921\"]], \"type\": \"histogram2d\"}], \"histogram2dcontour\": [{\"colorbar\": {\"outlinewidth\": 0, \"ticks\": \"\"}, \"colorscale\": [[0.0, \"#0d0887\"], [0.1111111111111111, \"#46039f\"], [0.2222222222222222, \"#7201a8\"], [0.3333333333333333, \"#9c179e\"], [0.4444444444444444, \"#bd3786\"], [0.5555555555555556, \"#d8576b\"], [0.6666666666666666, \"#ed7953\"], [0.7777777777777778, \"#fb9f3a\"], [0.8888888888888888, \"#fdca26\"], [1.0, \"#f0f921\"]], \"type\": \"histogram2dcontour\"}], \"mesh3d\": [{\"colorbar\": {\"outlinewidth\": 0, \"ticks\": \"\"}, \"type\": \"mesh3d\"}], \"parcoords\": [{\"line\": {\"colorbar\": {\"outlinewidth\": 0, \"ticks\": \"\"}}, \"type\": \"parcoords\"}], \"pie\": [{\"automargin\": true, \"type\": \"pie\"}], \"scatter\": [{\"marker\": {\"colorbar\": {\"outlinewidth\": 0, \"ticks\": \"\"}}, \"type\": \"scatter\"}], \"scatter3d\": [{\"line\": {\"colorbar\": {\"outlinewidth\": 0, \"ticks\": \"\"}}, \"marker\": {\"colorbar\": {\"outlinewidth\": 0, \"ticks\": \"\"}}, \"type\": \"scatter3d\"}], \"scattercarpet\": [{\"marker\": {\"colorbar\": {\"outlinewidth\": 0, \"ticks\": \"\"}}, \"type\": \"scattercarpet\"}], \"scattergeo\": [{\"marker\": {\"colorbar\": {\"outlinewidth\": 0, \"ticks\": \"\"}}, \"type\": \"scattergeo\"}], \"scattergl\": [{\"marker\": {\"colorbar\": {\"outlinewidth\": 0, \"ticks\": \"\"}}, \"type\": \"scattergl\"}], \"scattermapbox\": [{\"marker\": {\"colorbar\": {\"outlinewidth\": 0, \"ticks\": \"\"}}, \"type\": \"scattermapbox\"}], \"scatterpolar\": [{\"marker\": {\"colorbar\": {\"outlinewidth\": 0, \"ticks\": \"\"}}, \"type\": \"scatterpolar\"}], \"scatterpolargl\": [{\"marker\": {\"colorbar\": {\"outlinewidth\": 0, \"ticks\": \"\"}}, \"type\": \"scatterpolargl\"}], \"scatterternary\": [{\"marker\": {\"colorbar\": {\"outlinewidth\": 0, \"ticks\": \"\"}}, \"type\": \"scatterternary\"}], \"surface\": [{\"colorbar\": {\"outlinewidth\": 0, \"ticks\": \"\"}, \"colorscale\": [[0.0, \"#0d0887\"], [0.1111111111111111, \"#46039f\"], [0.2222222222222222, \"#7201a8\"], [0.3333333333333333, \"#9c179e\"], [0.4444444444444444, \"#bd3786\"], [0.5555555555555556, \"#d8576b\"], [0.6666666666666666, \"#ed7953\"], [0.7777777777777778, \"#fb9f3a\"], [0.8888888888888888, \"#fdca26\"], [1.0, \"#f0f921\"]], \"type\": \"surface\"}], \"table\": [{\"cells\": {\"fill\": {\"color\": \"#EBF0F8\"}, \"line\": {\"color\": \"white\"}}, \"header\": {\"fill\": {\"color\": \"#C8D4E3\"}, \"line\": {\"color\": \"white\"}}, \"type\": \"table\"}]}, \"layout\": {\"annotationdefaults\": {\"arrowcolor\": \"#2a3f5f\", \"arrowhead\": 0, \"arrowwidth\": 1}, \"coloraxis\": {\"colorbar\": {\"outlinewidth\": 0, \"ticks\": \"\"}}, \"colorscale\": {\"diverging\": [[0, \"#8e0152\"], [0.1, \"#c51b7d\"], [0.2, \"#de77ae\"], [0.3, \"#f1b6da\"], [0.4, \"#fde0ef\"], [0.5, \"#f7f7f7\"], [0.6, \"#e6f5d0\"], [0.7, \"#b8e186\"], [0.8, \"#7fbc41\"], [0.9, \"#4d9221\"], [1, \"#276419\"]], \"sequential\": [[0.0, \"#0d0887\"], [0.1111111111111111, \"#46039f\"], [0.2222222222222222, \"#7201a8\"], [0.3333333333333333, \"#9c179e\"], [0.4444444444444444, \"#bd3786\"], [0.5555555555555556, \"#d8576b\"], [0.6666666666666666, \"#ed7953\"], [0.7777777777777778, \"#fb9f3a\"], [0.8888888888888888, \"#fdca26\"], [1.0, \"#f0f921\"]], \"sequentialminus\": [[0.0, \"#0d0887\"], [0.1111111111111111, \"#46039f\"], [0.2222222222222222, \"#7201a8\"], [0.3333333333333333, \"#9c179e\"], [0.4444444444444444, \"#bd3786\"], [0.5555555555555556, \"#d8576b\"], [0.6666666666666666, \"#ed7953\"], [0.7777777777777778, \"#fb9f3a\"], [0.8888888888888888, \"#fdca26\"], [1.0, \"#f0f921\"]]}, \"colorway\": [\"#636efa\", \"#EF553B\", \"#00cc96\", \"#ab63fa\", \"#FFA15A\", \"#19d3f3\", \"#FF6692\", \"#B6E880\", \"#FF97FF\", \"#FECB52\"], \"font\": {\"color\": \"#2a3f5f\"}, \"geo\": {\"bgcolor\": \"white\", \"lakecolor\": \"white\", \"landcolor\": \"#E5ECF6\", \"showlakes\": true, \"showland\": true, \"subunitcolor\": \"white\"}, \"hoverlabel\": {\"align\": \"left\"}, \"hovermode\": \"closest\", \"mapbox\": {\"style\": \"light\"}, \"paper_bgcolor\": \"white\", \"plot_bgcolor\": \"#E5ECF6\", \"polar\": {\"angularaxis\": {\"gridcolor\": \"white\", \"linecolor\": \"white\", \"ticks\": \"\"}, \"bgcolor\": \"#E5ECF6\", \"radialaxis\": {\"gridcolor\": \"white\", \"linecolor\": \"white\", \"ticks\": \"\"}}, \"scene\": {\"xaxis\": {\"backgroundcolor\": \"#E5ECF6\", \"gridcolor\": \"white\", \"gridwidth\": 2, \"linecolor\": \"white\", \"showbackground\": true, \"ticks\": \"\", \"zerolinecolor\": \"white\"}, \"yaxis\": {\"backgroundcolor\": \"#E5ECF6\", \"gridcolor\": \"white\", \"gridwidth\": 2, \"linecolor\": \"white\", \"showbackground\": true, \"ticks\": \"\", \"zerolinecolor\": \"white\"}, \"zaxis\": {\"backgroundcolor\": \"#E5ECF6\", \"gridcolor\": \"white\", \"gridwidth\": 2, \"linecolor\": \"white\", \"showbackground\": true, \"ticks\": \"\", \"zerolinecolor\": \"white\"}}, \"shapedefaults\": {\"line\": {\"color\": \"#2a3f5f\"}}, \"ternary\": {\"aaxis\": {\"gridcolor\": \"white\", \"linecolor\": \"white\", \"ticks\": \"\"}, \"baxis\": {\"gridcolor\": \"white\", \"linecolor\": \"white\", \"ticks\": \"\"}, \"bgcolor\": \"#E5ECF6\", \"caxis\": {\"gridcolor\": \"white\", \"linecolor\": \"white\", \"ticks\": \"\"}}, \"title\": {\"x\": 0.05}, \"xaxis\": {\"automargin\": true, \"gridcolor\": \"white\", \"linecolor\": \"white\", \"ticks\": \"\", \"title\": {\"standoff\": 15}, \"zerolinecolor\": \"white\", \"zerolinewidth\": 2}, \"yaxis\": {\"automargin\": true, \"gridcolor\": \"white\", \"linecolor\": \"white\", \"ticks\": \"\", \"title\": {\"standoff\": 15}, \"zerolinecolor\": \"white\", \"zerolinewidth\": 2}}}, \"title\": {\"text\": \"mode\"}, \"xaxis\": {\"anchor\": \"y\", \"domain\": [0.0, 1.0], \"title\": {\"text\": \"country_name\"}}, \"yaxis\": {\"anchor\": \"x\", \"domain\": [0.0, 1.0], \"title\": {\"text\": \"Average\"}}},\n",
              "                        {\"responsive\": true}\n",
              "                    ).then(function(){\n",
              "                            \n",
              "var gd = document.getElementById('582e60ed-52c3-4e2c-8a9a-03b6f9e67459');\n",
              "var x = new MutationObserver(function (mutations, observer) {{\n",
              "        var display = window.getComputedStyle(gd).display;\n",
              "        if (!display || display === 'none') {{\n",
              "            console.log([gd, 'removed!']);\n",
              "            Plotly.purge(gd);\n",
              "            observer.disconnect();\n",
              "        }}\n",
              "}});\n",
              "\n",
              "// Listen for the removal of the full notebook cells\n",
              "var notebookContainer = gd.closest('#notebook-container');\n",
              "if (notebookContainer) {{\n",
              "    x.observe(notebookContainer, {childList: true});\n",
              "}}\n",
              "\n",
              "// Listen for the clearing of the current output cell\n",
              "var outputEl = gd.closest('.output');\n",
              "if (outputEl) {{\n",
              "    x.observe(outputEl, {childList: true});\n",
              "}}\n",
              "\n",
              "                        })\n",
              "                };\n",
              "                \n",
              "            </script>\n",
              "        </div>\n",
              "</body>\n",
              "</html>"
            ]
          },
          "metadata": {
            "tags": []
          }
        },
        {
          "output_type": "stream",
          "text": [
            "None\n"
          ],
          "name": "stdout"
        },
        {
          "output_type": "display_data",
          "data": {
            "text/html": [
              "<html>\n",
              "<head><meta charset=\"utf-8\" /></head>\n",
              "<body>\n",
              "    <div>\n",
              "            <script src=\"https://cdnjs.cloudflare.com/ajax/libs/mathjax/2.7.5/MathJax.js?config=TeX-AMS-MML_SVG\"></script><script type=\"text/javascript\">if (window.MathJax) {MathJax.Hub.Config({SVG: {font: \"STIX-Web\"}});}</script>\n",
              "                <script type=\"text/javascript\">window.PlotlyConfig = {MathJaxConfig: 'local'};</script>\n",
              "        <script src=\"https://cdn.plot.ly/plotly-latest.min.js\"></script>    \n",
              "            <div id=\"ae5f1efe-4f03-48a8-acef-ea2253210c8f\" class=\"plotly-graph-div\" style=\"height:525px; width:100%;\"></div>\n",
              "            <script type=\"text/javascript\">\n",
              "                \n",
              "                    window.PLOTLYENV=window.PLOTLYENV || {};\n",
              "                    \n",
              "                if (document.getElementById(\"ae5f1efe-4f03-48a8-acef-ea2253210c8f\")) {\n",
              "                    Plotly.newPlot(\n",
              "                        'ae5f1efe-4f03-48a8-acef-ea2253210c8f',\n",
              "                        [{\"alignmentgroup\": \"True\", \"hoverlabel\": {\"namelength\": 0}, \"hovertemplate\": \"country_name=%{x}<br>Average=%{marker.color}\", \"legendgroup\": \"\", \"marker\": {\"color\": [0.02960072277920262, 0.04224003264164141, 0.04713394730706459, 0.04852996036372114, 0.04914956866402426, 0.049699813476334856, 0.0574685241314992, 0.05899393798088133, 0.07074143156913033, 0.07515038470505946, 0.09255006672438901, 0.09385695966425744, 0.09389978570867866, 0.10173991606435073, 0.10199347167171842, 0.10364129167638138, 0.10377943576591281, 0.10480474182523723, 0.10539231480320697, 0.1081580788062486, 0.10860434136173991, 0.10889724912742779, 0.10934767719748198, 0.11316390767078573, 0.11800944276055025, 0.11812146207033625, 0.11916588948472835, 0.1217434133830729, 0.12180345068780606, 0.1222210375730365, 0.12224178130100256, 0.12330263464677083, 0.1234031339861662, 0.12352005129400803, 0.12386628584751691, 0.12417521566798792, 0.12450163208207046, 0.12451620424341335, 0.12595068780601545, 0.12640024557387072, 0.12729009936603045, 0.12732641992897575, 0.13352354861273028, 0.13478336642244307, 0.136054111092149, 0.13645225427674637, 0.13663037824847102, 0.13684475068276797, 0.13700396362788522, 0.13753308393213445, 0.14111564467241783, 0.1415708789927722, 0.14526871065516442, 0.14778485573120909, 0.14908603404056886, 0.1516309162975052, 0.15273840055957108, 0.15862730240149223], \"coloraxis\": \"coloraxis\"}, \"name\": \"\", \"offsetgroup\": \"\", \"orientation\": \"v\", \"showlegend\": false, \"textposition\": \"outside\", \"texttemplate\": \"%{text:.2s}\", \"type\": \"bar\", \"x\": [\"Indonesia\", \"Japan\", \"Hong Kong\", \"Thailand\", \"Taiwan\", \"Philippines\", \"Malaysia\", \"Singapore\", \"India\", \"Israel\", \"Finland\", \"Brazil\", \"Norway\", \"Spain\", \"Mexico\", \"Turkey\", \"Czech Republic\", \"Hungary\", \"New Zealand\", \"Estonia\", \"Ireland\", \"Australia\", \"Lithuania\", \"Guatemala\", \"Argentina\", \"Latvia\", \"Bolivia\", \"Ecuador\", \"Honduras\", \"Sweden\", \"Peru\", \"El Salvador\", \"Bulgaria\", \"Colombia\", \"Panama\", \"Costa Rica\", \"Chile\", \"Iceland\", \"Paraguay\", \"Netherlands\", \"United Kingdom\", \"Belgium\", \"Dominican Republic\", \"Canada\", \"Nicaragua\", \"Austria\", \"Luxembourg\", \"Denmark\", \"Italy\", \"Romania\", \"Switzerland\", \"Greece\", \"France\", \"United States\", \"Slovakia\", \"Poland\", \"Portugal\", \"Germany\"], \"xaxis\": \"x\", \"y\": [0.02960072277920262, 0.04224003264164141, 0.04713394730706459, 0.04852996036372114, 0.04914956866402426, 0.049699813476334856, 0.0574685241314992, 0.05899393798088133, 0.07074143156913033, 0.07515038470505946, 0.09255006672438901, 0.09385695966425744, 0.09389978570867866, 0.10173991606435073, 0.10199347167171842, 0.10364129167638138, 0.10377943576591281, 0.10480474182523723, 0.10539231480320697, 0.1081580788062486, 0.10860434136173991, 0.10889724912742779, 0.10934767719748198, 0.11316390767078573, 0.11800944276055025, 0.11812146207033625, 0.11916588948472835, 0.1217434133830729, 0.12180345068780606, 0.1222210375730365, 0.12224178130100256, 0.12330263464677083, 0.1234031339861662, 0.12352005129400803, 0.12386628584751691, 0.12417521566798792, 0.12450163208207046, 0.12451620424341335, 0.12595068780601545, 0.12640024557387072, 0.12729009936603045, 0.12732641992897575, 0.13352354861273028, 0.13478336642244307, 0.136054111092149, 0.13645225427674637, 0.13663037824847102, 0.13684475068276797, 0.13700396362788522, 0.13753308393213445, 0.14111564467241783, 0.1415708789927722, 0.14526871065516442, 0.14778485573120909, 0.14908603404056886, 0.1516309162975052, 0.15273840055957108, 0.15862730240149223], \"yaxis\": \"y\"}],\n",
              "                        {\"barmode\": \"relative\", \"coloraxis\": {\"colorbar\": {\"title\": {\"text\": \"Average\"}}, \"colorscale\": [[0.0, \"#0d0887\"], [0.1111111111111111, \"#46039f\"], [0.2222222222222222, \"#7201a8\"], [0.3333333333333333, \"#9c179e\"], [0.4444444444444444, \"#bd3786\"], [0.5555555555555556, \"#d8576b\"], [0.6666666666666666, \"#ed7953\"], [0.7777777777777778, \"#fb9f3a\"], [0.8888888888888888, \"#fdca26\"], [1.0, \"#f0f921\"]]}, \"legend\": {\"tracegroupgap\": 0}, \"template\": {\"data\": {\"bar\": [{\"error_x\": {\"color\": \"#2a3f5f\"}, \"error_y\": {\"color\": \"#2a3f5f\"}, \"marker\": {\"line\": {\"color\": \"#E5ECF6\", \"width\": 0.5}}, \"type\": \"bar\"}], \"barpolar\": [{\"marker\": {\"line\": {\"color\": \"#E5ECF6\", \"width\": 0.5}}, \"type\": \"barpolar\"}], \"carpet\": [{\"aaxis\": {\"endlinecolor\": \"#2a3f5f\", \"gridcolor\": \"white\", \"linecolor\": \"white\", \"minorgridcolor\": \"white\", \"startlinecolor\": \"#2a3f5f\"}, \"baxis\": {\"endlinecolor\": \"#2a3f5f\", \"gridcolor\": \"white\", \"linecolor\": \"white\", \"minorgridcolor\": \"white\", \"startlinecolor\": \"#2a3f5f\"}, \"type\": \"carpet\"}], \"choropleth\": [{\"colorbar\": {\"outlinewidth\": 0, \"ticks\": \"\"}, \"type\": \"choropleth\"}], \"contour\": [{\"colorbar\": {\"outlinewidth\": 0, \"ticks\": \"\"}, \"colorscale\": [[0.0, \"#0d0887\"], [0.1111111111111111, \"#46039f\"], [0.2222222222222222, \"#7201a8\"], [0.3333333333333333, \"#9c179e\"], [0.4444444444444444, \"#bd3786\"], [0.5555555555555556, \"#d8576b\"], [0.6666666666666666, \"#ed7953\"], [0.7777777777777778, \"#fb9f3a\"], [0.8888888888888888, \"#fdca26\"], [1.0, \"#f0f921\"]], \"type\": \"contour\"}], \"contourcarpet\": [{\"colorbar\": {\"outlinewidth\": 0, \"ticks\": \"\"}, \"type\": \"contourcarpet\"}], \"heatmap\": [{\"colorbar\": {\"outlinewidth\": 0, \"ticks\": \"\"}, \"colorscale\": [[0.0, \"#0d0887\"], [0.1111111111111111, \"#46039f\"], [0.2222222222222222, \"#7201a8\"], [0.3333333333333333, \"#9c179e\"], [0.4444444444444444, \"#bd3786\"], [0.5555555555555556, \"#d8576b\"], [0.6666666666666666, \"#ed7953\"], [0.7777777777777778, \"#fb9f3a\"], [0.8888888888888888, \"#fdca26\"], [1.0, \"#f0f921\"]], \"type\": \"heatmap\"}], \"heatmapgl\": [{\"colorbar\": {\"outlinewidth\": 0, \"ticks\": \"\"}, \"colorscale\": [[0.0, \"#0d0887\"], [0.1111111111111111, \"#46039f\"], [0.2222222222222222, \"#7201a8\"], [0.3333333333333333, \"#9c179e\"], [0.4444444444444444, \"#bd3786\"], [0.5555555555555556, \"#d8576b\"], [0.6666666666666666, \"#ed7953\"], [0.7777777777777778, \"#fb9f3a\"], [0.8888888888888888, \"#fdca26\"], [1.0, \"#f0f921\"]], \"type\": \"heatmapgl\"}], \"histogram\": [{\"marker\": {\"colorbar\": {\"outlinewidth\": 0, \"ticks\": \"\"}}, \"type\": \"histogram\"}], \"histogram2d\": [{\"colorbar\": {\"outlinewidth\": 0, \"ticks\": \"\"}, \"colorscale\": [[0.0, \"#0d0887\"], [0.1111111111111111, \"#46039f\"], [0.2222222222222222, \"#7201a8\"], [0.3333333333333333, \"#9c179e\"], [0.4444444444444444, \"#bd3786\"], [0.5555555555555556, \"#d8576b\"], [0.6666666666666666, \"#ed7953\"], [0.7777777777777778, \"#fb9f3a\"], [0.8888888888888888, \"#fdca26\"], [1.0, \"#f0f921\"]], \"type\": \"histogram2d\"}], \"histogram2dcontour\": [{\"colorbar\": {\"outlinewidth\": 0, \"ticks\": \"\"}, \"colorscale\": [[0.0, \"#0d0887\"], [0.1111111111111111, \"#46039f\"], [0.2222222222222222, \"#7201a8\"], [0.3333333333333333, \"#9c179e\"], [0.4444444444444444, \"#bd3786\"], [0.5555555555555556, \"#d8576b\"], [0.6666666666666666, \"#ed7953\"], [0.7777777777777778, \"#fb9f3a\"], [0.8888888888888888, \"#fdca26\"], [1.0, \"#f0f921\"]], \"type\": \"histogram2dcontour\"}], \"mesh3d\": [{\"colorbar\": {\"outlinewidth\": 0, \"ticks\": \"\"}, \"type\": \"mesh3d\"}], \"parcoords\": [{\"line\": {\"colorbar\": {\"outlinewidth\": 0, \"ticks\": \"\"}}, \"type\": \"parcoords\"}], \"pie\": [{\"automargin\": true, \"type\": \"pie\"}], \"scatter\": [{\"marker\": {\"colorbar\": {\"outlinewidth\": 0, \"ticks\": \"\"}}, \"type\": \"scatter\"}], \"scatter3d\": [{\"line\": {\"colorbar\": {\"outlinewidth\": 0, \"ticks\": \"\"}}, \"marker\": {\"colorbar\": {\"outlinewidth\": 0, \"ticks\": \"\"}}, \"type\": \"scatter3d\"}], \"scattercarpet\": [{\"marker\": {\"colorbar\": {\"outlinewidth\": 0, \"ticks\": \"\"}}, \"type\": \"scattercarpet\"}], \"scattergeo\": [{\"marker\": {\"colorbar\": {\"outlinewidth\": 0, \"ticks\": \"\"}}, \"type\": \"scattergeo\"}], \"scattergl\": [{\"marker\": {\"colorbar\": {\"outlinewidth\": 0, \"ticks\": \"\"}}, \"type\": \"scattergl\"}], \"scattermapbox\": [{\"marker\": {\"colorbar\": {\"outlinewidth\": 0, \"ticks\": \"\"}}, \"type\": \"scattermapbox\"}], \"scatterpolar\": [{\"marker\": {\"colorbar\": {\"outlinewidth\": 0, \"ticks\": \"\"}}, \"type\": \"scatterpolar\"}], \"scatterpolargl\": [{\"marker\": {\"colorbar\": {\"outlinewidth\": 0, \"ticks\": \"\"}}, \"type\": \"scatterpolargl\"}], \"scatterternary\": [{\"marker\": {\"colorbar\": {\"outlinewidth\": 0, \"ticks\": \"\"}}, \"type\": \"scatterternary\"}], \"surface\": [{\"colorbar\": {\"outlinewidth\": 0, \"ticks\": \"\"}, \"colorscale\": [[0.0, \"#0d0887\"], [0.1111111111111111, \"#46039f\"], [0.2222222222222222, \"#7201a8\"], [0.3333333333333333, \"#9c179e\"], [0.4444444444444444, \"#bd3786\"], [0.5555555555555556, \"#d8576b\"], [0.6666666666666666, \"#ed7953\"], [0.7777777777777778, \"#fb9f3a\"], [0.8888888888888888, \"#fdca26\"], [1.0, \"#f0f921\"]], \"type\": \"surface\"}], \"table\": [{\"cells\": {\"fill\": {\"color\": \"#EBF0F8\"}, \"line\": {\"color\": \"white\"}}, \"header\": {\"fill\": {\"color\": \"#C8D4E3\"}, \"line\": {\"color\": \"white\"}}, \"type\": \"table\"}]}, \"layout\": {\"annotationdefaults\": {\"arrowcolor\": \"#2a3f5f\", \"arrowhead\": 0, \"arrowwidth\": 1}, \"coloraxis\": {\"colorbar\": {\"outlinewidth\": 0, \"ticks\": \"\"}}, \"colorscale\": {\"diverging\": [[0, \"#8e0152\"], [0.1, \"#c51b7d\"], [0.2, \"#de77ae\"], [0.3, \"#f1b6da\"], [0.4, \"#fde0ef\"], [0.5, \"#f7f7f7\"], [0.6, \"#e6f5d0\"], [0.7, \"#b8e186\"], [0.8, \"#7fbc41\"], [0.9, \"#4d9221\"], [1, \"#276419\"]], \"sequential\": [[0.0, \"#0d0887\"], [0.1111111111111111, \"#46039f\"], [0.2222222222222222, \"#7201a8\"], [0.3333333333333333, \"#9c179e\"], [0.4444444444444444, \"#bd3786\"], [0.5555555555555556, \"#d8576b\"], [0.6666666666666666, \"#ed7953\"], [0.7777777777777778, \"#fb9f3a\"], [0.8888888888888888, \"#fdca26\"], [1.0, \"#f0f921\"]], \"sequentialminus\": [[0.0, \"#0d0887\"], [0.1111111111111111, \"#46039f\"], [0.2222222222222222, \"#7201a8\"], [0.3333333333333333, \"#9c179e\"], [0.4444444444444444, \"#bd3786\"], [0.5555555555555556, \"#d8576b\"], [0.6666666666666666, \"#ed7953\"], [0.7777777777777778, \"#fb9f3a\"], [0.8888888888888888, \"#fdca26\"], [1.0, \"#f0f921\"]]}, \"colorway\": [\"#636efa\", \"#EF553B\", \"#00cc96\", \"#ab63fa\", \"#FFA15A\", \"#19d3f3\", \"#FF6692\", \"#B6E880\", \"#FF97FF\", \"#FECB52\"], \"font\": {\"color\": \"#2a3f5f\"}, \"geo\": {\"bgcolor\": \"white\", \"lakecolor\": \"white\", \"landcolor\": \"#E5ECF6\", \"showlakes\": true, \"showland\": true, \"subunitcolor\": \"white\"}, \"hoverlabel\": {\"align\": \"left\"}, \"hovermode\": \"closest\", \"mapbox\": {\"style\": \"light\"}, \"paper_bgcolor\": \"white\", \"plot_bgcolor\": \"#E5ECF6\", \"polar\": {\"angularaxis\": {\"gridcolor\": \"white\", \"linecolor\": \"white\", \"ticks\": \"\"}, \"bgcolor\": \"#E5ECF6\", \"radialaxis\": {\"gridcolor\": \"white\", \"linecolor\": \"white\", \"ticks\": \"\"}}, \"scene\": {\"xaxis\": {\"backgroundcolor\": \"#E5ECF6\", \"gridcolor\": \"white\", \"gridwidth\": 2, \"linecolor\": \"white\", \"showbackground\": true, \"ticks\": \"\", \"zerolinecolor\": \"white\"}, \"yaxis\": {\"backgroundcolor\": \"#E5ECF6\", \"gridcolor\": \"white\", \"gridwidth\": 2, \"linecolor\": \"white\", \"showbackground\": true, \"ticks\": \"\", \"zerolinecolor\": \"white\"}, \"zaxis\": {\"backgroundcolor\": \"#E5ECF6\", \"gridcolor\": \"white\", \"gridwidth\": 2, \"linecolor\": \"white\", \"showbackground\": true, \"ticks\": \"\", \"zerolinecolor\": \"white\"}}, \"shapedefaults\": {\"line\": {\"color\": \"#2a3f5f\"}}, \"ternary\": {\"aaxis\": {\"gridcolor\": \"white\", \"linecolor\": \"white\", \"ticks\": \"\"}, \"baxis\": {\"gridcolor\": \"white\", \"linecolor\": \"white\", \"ticks\": \"\"}, \"bgcolor\": \"#E5ECF6\", \"caxis\": {\"gridcolor\": \"white\", \"linecolor\": \"white\", \"ticks\": \"\"}}, \"title\": {\"x\": 0.05}, \"xaxis\": {\"automargin\": true, \"gridcolor\": \"white\", \"linecolor\": \"white\", \"ticks\": \"\", \"title\": {\"standoff\": 15}, \"zerolinecolor\": \"white\", \"zerolinewidth\": 2}, \"yaxis\": {\"automargin\": true, \"gridcolor\": \"white\", \"linecolor\": \"white\", \"ticks\": \"\", \"title\": {\"standoff\": 15}, \"zerolinecolor\": \"white\", \"zerolinewidth\": 2}}}, \"title\": {\"text\": \"speechiness\"}, \"xaxis\": {\"anchor\": \"y\", \"domain\": [0.0, 1.0], \"title\": {\"text\": \"country_name\"}}, \"yaxis\": {\"anchor\": \"x\", \"domain\": [0.0, 1.0], \"title\": {\"text\": \"Average\"}}},\n",
              "                        {\"responsive\": true}\n",
              "                    ).then(function(){\n",
              "                            \n",
              "var gd = document.getElementById('ae5f1efe-4f03-48a8-acef-ea2253210c8f');\n",
              "var x = new MutationObserver(function (mutations, observer) {{\n",
              "        var display = window.getComputedStyle(gd).display;\n",
              "        if (!display || display === 'none') {{\n",
              "            console.log([gd, 'removed!']);\n",
              "            Plotly.purge(gd);\n",
              "            observer.disconnect();\n",
              "        }}\n",
              "}});\n",
              "\n",
              "// Listen for the removal of the full notebook cells\n",
              "var notebookContainer = gd.closest('#notebook-container');\n",
              "if (notebookContainer) {{\n",
              "    x.observe(notebookContainer, {childList: true});\n",
              "}}\n",
              "\n",
              "// Listen for the clearing of the current output cell\n",
              "var outputEl = gd.closest('.output');\n",
              "if (outputEl) {{\n",
              "    x.observe(outputEl, {childList: true});\n",
              "}}\n",
              "\n",
              "                        })\n",
              "                };\n",
              "                \n",
              "            </script>\n",
              "        </div>\n",
              "</body>\n",
              "</html>"
            ]
          },
          "metadata": {
            "tags": []
          }
        },
        {
          "output_type": "stream",
          "text": [
            "None\n"
          ],
          "name": "stdout"
        },
        {
          "output_type": "display_data",
          "data": {
            "text/html": [
              "<html>\n",
              "<head><meta charset=\"utf-8\" /></head>\n",
              "<body>\n",
              "    <div>\n",
              "            <script src=\"https://cdnjs.cloudflare.com/ajax/libs/mathjax/2.7.5/MathJax.js?config=TeX-AMS-MML_SVG\"></script><script type=\"text/javascript\">if (window.MathJax) {MathJax.Hub.Config({SVG: {font: \"STIX-Web\"}});}</script>\n",
              "                <script type=\"text/javascript\">window.PlotlyConfig = {MathJaxConfig: 'local'};</script>\n",
              "        <script src=\"https://cdn.plot.ly/plotly-latest.min.js\"></script>    \n",
              "            <div id=\"c45f950a-22c9-47be-9901-4707957d5915\" class=\"plotly-graph-div\" style=\"height:525px; width:100%;\"></div>\n",
              "            <script type=\"text/javascript\">\n",
              "                \n",
              "                    window.PLOTLYENV=window.PLOTLYENV || {};\n",
              "                    \n",
              "                if (document.getElementById(\"c45f950a-22c9-47be-9901-4707957d5915\")) {\n",
              "                    Plotly.newPlot(\n",
              "                        'c45f950a-22c9-47be-9901-4707957d5915',\n",
              "                        [{\"alignmentgroup\": \"True\", \"hoverlabel\": {\"namelength\": 0}, \"hovertemplate\": \"country_name=%{x}<br>Average=%{marker.color}\", \"legendgroup\": \"\", \"marker\": {\"color\": [0.17837267615525446, 0.18150111336211197, 0.18314706228147246, 0.19129085888938568, 0.19173811308319028, 0.19763923778048031, 0.1996147543444164, 0.20171929974538674, 0.2105617222024468, 0.21131932777663917, 0.21318762496895757, 0.21965457721248646, 0.22305029941754945, 0.2241801721639978, 0.22661946171934624, 0.22680986885511692, 0.22770988858218846, 0.229555769510173, 0.2305436772789049, 0.23097776260715588, 0.2334110466720667, 0.23351623025295035, 0.23392691324974027, 0.23522627567073315, 0.23627009072388447, 0.23749472812988667, 0.2392956416025836, 0.23955360754381944, 0.24230124212062287, 0.2430260777619571, 0.243545444946113, 0.24396199542593586, 0.24436369365598085, 0.24520343580745554, 0.24701846174901637, 0.24853560903846855, 0.2490190311211413, 0.249329657728973, 0.25107584731161536, 0.25937783708850226, 0.2611540791228259, 0.26382995969280626, 0.26458175296785336, 0.275588284828227, 0.28121256769162456, 0.2820821939308484, 0.30501555112845957, 0.3059663457213735, 0.32656374784937137, 0.3320840583318088, 0.34241067974787626, 0.3480003951491284, 0.3537692881406732, 0.35746377004351326, 0.3635334921375273, 0.38094315152344643, 0.40586120275191123, 0.49657494949462155], \"coloraxis\": \"coloraxis\"}, \"name\": \"\", \"offsetgroup\": \"\", \"orientation\": \"v\", \"showlegend\": false, \"textposition\": \"outside\", \"texttemplate\": \"%{text:.2s}\", \"type\": \"bar\", \"x\": [\"Bulgaria\", \"Japan\", \"Italy\", \"Finland\", \"Austria\", \"Estonia\", \"Hungary\", \"Germany\", \"Lithuania\", \"Luxembourg\", \"Czech Republic\", \"Nicaragua\", \"Denmark\", \"Switzerland\", \"Romania\", \"Canada\", \"United Kingdom\", \"Ireland\", \"Greece\", \"Colombia\", \"Panama\", \"Paraguay\", \"Spain\", \"Slovakia\", \"El Salvador\", \"Dominican Republic\", \"Honduras\", \"Sweden\", \"Ecuador\", \"Latvia\", \"United States\", \"Peru\", \"Norway\", \"Bolivia\", \"Costa Rica\", \"Australia\", \"Poland\", \"Argentina\", \"Chile\", \"Mexico\", \"Guatemala\", \"Iceland\", \"New Zealand\", \"Netherlands\", \"Turkey\", \"Belgium\", \"France\", \"Portugal\", \"Malaysia\", \"Brazil\", \"Singapore\", \"Thailand\", \"Israel\", \"India\", \"Philippines\", \"Taiwan\", \"Hong Kong\", \"Indonesia\"], \"xaxis\": \"x\", \"y\": [0.17837267615525446, 0.18150111336211197, 0.18314706228147246, 0.19129085888938568, 0.19173811308319028, 0.19763923778048031, 0.1996147543444164, 0.20171929974538674, 0.2105617222024468, 0.21131932777663917, 0.21318762496895757, 0.21965457721248646, 0.22305029941754945, 0.2241801721639978, 0.22661946171934624, 0.22680986885511692, 0.22770988858218846, 0.229555769510173, 0.2305436772789049, 0.23097776260715588, 0.2334110466720667, 0.23351623025295035, 0.23392691324974027, 0.23522627567073315, 0.23627009072388447, 0.23749472812988667, 0.2392956416025836, 0.23955360754381944, 0.24230124212062287, 0.2430260777619571, 0.243545444946113, 0.24396199542593586, 0.24436369365598085, 0.24520343580745554, 0.24701846174901637, 0.24853560903846855, 0.2490190311211413, 0.249329657728973, 0.25107584731161536, 0.25937783708850226, 0.2611540791228259, 0.26382995969280626, 0.26458175296785336, 0.275588284828227, 0.28121256769162456, 0.2820821939308484, 0.30501555112845957, 0.3059663457213735, 0.32656374784937137, 0.3320840583318088, 0.34241067974787626, 0.3480003951491284, 0.3537692881406732, 0.35746377004351326, 0.3635334921375273, 0.38094315152344643, 0.40586120275191123, 0.49657494949462155], \"yaxis\": \"y\"}],\n",
              "                        {\"barmode\": \"relative\", \"coloraxis\": {\"colorbar\": {\"title\": {\"text\": \"Average\"}}, \"colorscale\": [[0.0, \"#0d0887\"], [0.1111111111111111, \"#46039f\"], [0.2222222222222222, \"#7201a8\"], [0.3333333333333333, \"#9c179e\"], [0.4444444444444444, \"#bd3786\"], [0.5555555555555556, \"#d8576b\"], [0.6666666666666666, \"#ed7953\"], [0.7777777777777778, \"#fb9f3a\"], [0.8888888888888888, \"#fdca26\"], [1.0, \"#f0f921\"]]}, \"legend\": {\"tracegroupgap\": 0}, \"template\": {\"data\": {\"bar\": [{\"error_x\": {\"color\": \"#2a3f5f\"}, \"error_y\": {\"color\": \"#2a3f5f\"}, \"marker\": {\"line\": {\"color\": \"#E5ECF6\", \"width\": 0.5}}, \"type\": \"bar\"}], \"barpolar\": [{\"marker\": {\"line\": {\"color\": \"#E5ECF6\", \"width\": 0.5}}, \"type\": \"barpolar\"}], \"carpet\": [{\"aaxis\": {\"endlinecolor\": \"#2a3f5f\", \"gridcolor\": \"white\", \"linecolor\": \"white\", \"minorgridcolor\": \"white\", \"startlinecolor\": \"#2a3f5f\"}, \"baxis\": {\"endlinecolor\": \"#2a3f5f\", \"gridcolor\": \"white\", \"linecolor\": \"white\", \"minorgridcolor\": \"white\", \"startlinecolor\": \"#2a3f5f\"}, \"type\": \"carpet\"}], \"choropleth\": [{\"colorbar\": {\"outlinewidth\": 0, \"ticks\": \"\"}, \"type\": \"choropleth\"}], \"contour\": [{\"colorbar\": {\"outlinewidth\": 0, \"ticks\": \"\"}, \"colorscale\": [[0.0, \"#0d0887\"], [0.1111111111111111, \"#46039f\"], [0.2222222222222222, \"#7201a8\"], [0.3333333333333333, \"#9c179e\"], [0.4444444444444444, \"#bd3786\"], [0.5555555555555556, \"#d8576b\"], [0.6666666666666666, \"#ed7953\"], [0.7777777777777778, \"#fb9f3a\"], [0.8888888888888888, \"#fdca26\"], [1.0, \"#f0f921\"]], \"type\": \"contour\"}], \"contourcarpet\": [{\"colorbar\": {\"outlinewidth\": 0, \"ticks\": \"\"}, \"type\": \"contourcarpet\"}], \"heatmap\": [{\"colorbar\": {\"outlinewidth\": 0, \"ticks\": \"\"}, \"colorscale\": [[0.0, \"#0d0887\"], [0.1111111111111111, \"#46039f\"], [0.2222222222222222, \"#7201a8\"], [0.3333333333333333, \"#9c179e\"], [0.4444444444444444, \"#bd3786\"], [0.5555555555555556, \"#d8576b\"], [0.6666666666666666, \"#ed7953\"], [0.7777777777777778, \"#fb9f3a\"], [0.8888888888888888, \"#fdca26\"], [1.0, \"#f0f921\"]], \"type\": \"heatmap\"}], \"heatmapgl\": [{\"colorbar\": {\"outlinewidth\": 0, \"ticks\": \"\"}, \"colorscale\": [[0.0, \"#0d0887\"], [0.1111111111111111, \"#46039f\"], [0.2222222222222222, \"#7201a8\"], [0.3333333333333333, \"#9c179e\"], [0.4444444444444444, \"#bd3786\"], [0.5555555555555556, \"#d8576b\"], [0.6666666666666666, \"#ed7953\"], [0.7777777777777778, \"#fb9f3a\"], [0.8888888888888888, \"#fdca26\"], [1.0, \"#f0f921\"]], \"type\": \"heatmapgl\"}], \"histogram\": [{\"marker\": {\"colorbar\": {\"outlinewidth\": 0, \"ticks\": \"\"}}, \"type\": \"histogram\"}], \"histogram2d\": [{\"colorbar\": {\"outlinewidth\": 0, \"ticks\": \"\"}, \"colorscale\": [[0.0, \"#0d0887\"], [0.1111111111111111, \"#46039f\"], [0.2222222222222222, \"#7201a8\"], [0.3333333333333333, \"#9c179e\"], [0.4444444444444444, \"#bd3786\"], [0.5555555555555556, \"#d8576b\"], [0.6666666666666666, \"#ed7953\"], [0.7777777777777778, \"#fb9f3a\"], [0.8888888888888888, \"#fdca26\"], [1.0, \"#f0f921\"]], \"type\": \"histogram2d\"}], \"histogram2dcontour\": [{\"colorbar\": {\"outlinewidth\": 0, \"ticks\": \"\"}, \"colorscale\": [[0.0, \"#0d0887\"], [0.1111111111111111, \"#46039f\"], [0.2222222222222222, \"#7201a8\"], [0.3333333333333333, \"#9c179e\"], [0.4444444444444444, \"#bd3786\"], [0.5555555555555556, \"#d8576b\"], [0.6666666666666666, \"#ed7953\"], [0.7777777777777778, \"#fb9f3a\"], [0.8888888888888888, \"#fdca26\"], [1.0, \"#f0f921\"]], \"type\": \"histogram2dcontour\"}], \"mesh3d\": [{\"colorbar\": {\"outlinewidth\": 0, \"ticks\": \"\"}, \"type\": \"mesh3d\"}], \"parcoords\": [{\"line\": {\"colorbar\": {\"outlinewidth\": 0, \"ticks\": \"\"}}, \"type\": \"parcoords\"}], \"pie\": [{\"automargin\": true, \"type\": \"pie\"}], \"scatter\": [{\"marker\": {\"colorbar\": {\"outlinewidth\": 0, \"ticks\": \"\"}}, \"type\": \"scatter\"}], \"scatter3d\": [{\"line\": {\"colorbar\": {\"outlinewidth\": 0, \"ticks\": \"\"}}, \"marker\": {\"colorbar\": {\"outlinewidth\": 0, \"ticks\": \"\"}}, \"type\": \"scatter3d\"}], \"scattercarpet\": [{\"marker\": {\"colorbar\": {\"outlinewidth\": 0, \"ticks\": \"\"}}, \"type\": \"scattercarpet\"}], \"scattergeo\": [{\"marker\": {\"colorbar\": {\"outlinewidth\": 0, \"ticks\": \"\"}}, \"type\": \"scattergeo\"}], \"scattergl\": [{\"marker\": {\"colorbar\": {\"outlinewidth\": 0, \"ticks\": \"\"}}, \"type\": \"scattergl\"}], \"scattermapbox\": [{\"marker\": {\"colorbar\": {\"outlinewidth\": 0, \"ticks\": \"\"}}, \"type\": \"scattermapbox\"}], \"scatterpolar\": [{\"marker\": {\"colorbar\": {\"outlinewidth\": 0, \"ticks\": \"\"}}, \"type\": \"scatterpolar\"}], \"scatterpolargl\": [{\"marker\": {\"colorbar\": {\"outlinewidth\": 0, \"ticks\": \"\"}}, \"type\": \"scatterpolargl\"}], \"scatterternary\": [{\"marker\": {\"colorbar\": {\"outlinewidth\": 0, \"ticks\": \"\"}}, \"type\": \"scatterternary\"}], \"surface\": [{\"colorbar\": {\"outlinewidth\": 0, \"ticks\": \"\"}, \"colorscale\": [[0.0, \"#0d0887\"], [0.1111111111111111, \"#46039f\"], [0.2222222222222222, \"#7201a8\"], [0.3333333333333333, \"#9c179e\"], [0.4444444444444444, \"#bd3786\"], [0.5555555555555556, \"#d8576b\"], [0.6666666666666666, \"#ed7953\"], [0.7777777777777778, \"#fb9f3a\"], [0.8888888888888888, \"#fdca26\"], [1.0, \"#f0f921\"]], \"type\": \"surface\"}], \"table\": [{\"cells\": {\"fill\": {\"color\": \"#EBF0F8\"}, \"line\": {\"color\": \"white\"}}, \"header\": {\"fill\": {\"color\": \"#C8D4E3\"}, \"line\": {\"color\": \"white\"}}, \"type\": \"table\"}]}, \"layout\": {\"annotationdefaults\": {\"arrowcolor\": \"#2a3f5f\", \"arrowhead\": 0, \"arrowwidth\": 1}, \"coloraxis\": {\"colorbar\": {\"outlinewidth\": 0, \"ticks\": \"\"}}, \"colorscale\": {\"diverging\": [[0, \"#8e0152\"], [0.1, \"#c51b7d\"], [0.2, \"#de77ae\"], [0.3, \"#f1b6da\"], [0.4, \"#fde0ef\"], [0.5, \"#f7f7f7\"], [0.6, \"#e6f5d0\"], [0.7, \"#b8e186\"], [0.8, \"#7fbc41\"], [0.9, \"#4d9221\"], [1, \"#276419\"]], \"sequential\": [[0.0, \"#0d0887\"], [0.1111111111111111, \"#46039f\"], [0.2222222222222222, \"#7201a8\"], [0.3333333333333333, \"#9c179e\"], [0.4444444444444444, \"#bd3786\"], [0.5555555555555556, \"#d8576b\"], [0.6666666666666666, \"#ed7953\"], [0.7777777777777778, \"#fb9f3a\"], [0.8888888888888888, \"#fdca26\"], [1.0, \"#f0f921\"]], \"sequentialminus\": [[0.0, \"#0d0887\"], [0.1111111111111111, \"#46039f\"], [0.2222222222222222, \"#7201a8\"], [0.3333333333333333, \"#9c179e\"], [0.4444444444444444, \"#bd3786\"], [0.5555555555555556, \"#d8576b\"], [0.6666666666666666, \"#ed7953\"], [0.7777777777777778, \"#fb9f3a\"], [0.8888888888888888, \"#fdca26\"], [1.0, \"#f0f921\"]]}, \"colorway\": [\"#636efa\", \"#EF553B\", \"#00cc96\", \"#ab63fa\", \"#FFA15A\", \"#19d3f3\", \"#FF6692\", \"#B6E880\", \"#FF97FF\", \"#FECB52\"], \"font\": {\"color\": \"#2a3f5f\"}, \"geo\": {\"bgcolor\": \"white\", \"lakecolor\": \"white\", \"landcolor\": \"#E5ECF6\", \"showlakes\": true, \"showland\": true, \"subunitcolor\": \"white\"}, \"hoverlabel\": {\"align\": \"left\"}, \"hovermode\": \"closest\", \"mapbox\": {\"style\": \"light\"}, \"paper_bgcolor\": \"white\", \"plot_bgcolor\": \"#E5ECF6\", \"polar\": {\"angularaxis\": {\"gridcolor\": \"white\", \"linecolor\": \"white\", \"ticks\": \"\"}, \"bgcolor\": \"#E5ECF6\", \"radialaxis\": {\"gridcolor\": \"white\", \"linecolor\": \"white\", \"ticks\": \"\"}}, \"scene\": {\"xaxis\": {\"backgroundcolor\": \"#E5ECF6\", \"gridcolor\": \"white\", \"gridwidth\": 2, \"linecolor\": \"white\", \"showbackground\": true, \"ticks\": \"\", \"zerolinecolor\": \"white\"}, \"yaxis\": {\"backgroundcolor\": \"#E5ECF6\", \"gridcolor\": \"white\", \"gridwidth\": 2, \"linecolor\": \"white\", \"showbackground\": true, \"ticks\": \"\", \"zerolinecolor\": \"white\"}, \"zaxis\": {\"backgroundcolor\": \"#E5ECF6\", \"gridcolor\": \"white\", \"gridwidth\": 2, \"linecolor\": \"white\", \"showbackground\": true, \"ticks\": \"\", \"zerolinecolor\": \"white\"}}, \"shapedefaults\": {\"line\": {\"color\": \"#2a3f5f\"}}, \"ternary\": {\"aaxis\": {\"gridcolor\": \"white\", \"linecolor\": \"white\", \"ticks\": \"\"}, \"baxis\": {\"gridcolor\": \"white\", \"linecolor\": \"white\", \"ticks\": \"\"}, \"bgcolor\": \"#E5ECF6\", \"caxis\": {\"gridcolor\": \"white\", \"linecolor\": \"white\", \"ticks\": \"\"}}, \"title\": {\"x\": 0.05}, \"xaxis\": {\"automargin\": true, \"gridcolor\": \"white\", \"linecolor\": \"white\", \"ticks\": \"\", \"title\": {\"standoff\": 15}, \"zerolinecolor\": \"white\", \"zerolinewidth\": 2}, \"yaxis\": {\"automargin\": true, \"gridcolor\": \"white\", \"linecolor\": \"white\", \"ticks\": \"\", \"title\": {\"standoff\": 15}, \"zerolinecolor\": \"white\", \"zerolinewidth\": 2}}}, \"title\": {\"text\": \"acousticness\"}, \"xaxis\": {\"anchor\": \"y\", \"domain\": [0.0, 1.0], \"title\": {\"text\": \"country_name\"}}, \"yaxis\": {\"anchor\": \"x\", \"domain\": [0.0, 1.0], \"title\": {\"text\": \"Average\"}}},\n",
              "                        {\"responsive\": true}\n",
              "                    ).then(function(){\n",
              "                            \n",
              "var gd = document.getElementById('c45f950a-22c9-47be-9901-4707957d5915');\n",
              "var x = new MutationObserver(function (mutations, observer) {{\n",
              "        var display = window.getComputedStyle(gd).display;\n",
              "        if (!display || display === 'none') {{\n",
              "            console.log([gd, 'removed!']);\n",
              "            Plotly.purge(gd);\n",
              "            observer.disconnect();\n",
              "        }}\n",
              "}});\n",
              "\n",
              "// Listen for the removal of the full notebook cells\n",
              "var notebookContainer = gd.closest('#notebook-container');\n",
              "if (notebookContainer) {{\n",
              "    x.observe(notebookContainer, {childList: true});\n",
              "}}\n",
              "\n",
              "// Listen for the clearing of the current output cell\n",
              "var outputEl = gd.closest('.output');\n",
              "if (outputEl) {{\n",
              "    x.observe(outputEl, {childList: true});\n",
              "}}\n",
              "\n",
              "                        })\n",
              "                };\n",
              "                \n",
              "            </script>\n",
              "        </div>\n",
              "</body>\n",
              "</html>"
            ]
          },
          "metadata": {
            "tags": []
          }
        },
        {
          "output_type": "stream",
          "text": [
            "None\n"
          ],
          "name": "stdout"
        },
        {
          "output_type": "display_data",
          "data": {
            "text/html": [
              "<html>\n",
              "<head><meta charset=\"utf-8\" /></head>\n",
              "<body>\n",
              "    <div>\n",
              "            <script src=\"https://cdnjs.cloudflare.com/ajax/libs/mathjax/2.7.5/MathJax.js?config=TeX-AMS-MML_SVG\"></script><script type=\"text/javascript\">if (window.MathJax) {MathJax.Hub.Config({SVG: {font: \"STIX-Web\"}});}</script>\n",
              "                <script type=\"text/javascript\">window.PlotlyConfig = {MathJaxConfig: 'local'};</script>\n",
              "        <script src=\"https://cdn.plot.ly/plotly-latest.min.js\"></script>    \n",
              "            <div id=\"e9b5f382-d878-4c07-88d9-d75d064f0178\" class=\"plotly-graph-div\" style=\"height:525px; width:100%;\"></div>\n",
              "            <script type=\"text/javascript\">\n",
              "                \n",
              "                    window.PLOTLYENV=window.PLOTLYENV || {};\n",
              "                    \n",
              "                if (document.getElementById(\"e9b5f382-d878-4c07-88d9-d75d064f0178\")) {\n",
              "                    Plotly.newPlot(\n",
              "                        'e9b5f382-d878-4c07-88d9-d75d064f0178',\n",
              "                        [{\"alignmentgroup\": \"True\", \"hoverlabel\": {\"namelength\": 0}, \"hovertemplate\": \"country_name=%{x}<br>Average=%{marker.color}\", \"legendgroup\": \"\", \"marker\": {\"color\": [0.0007113550404473757, 0.0012841641957198, 0.001455753053830228, 0.0015268946687370603, 0.0018660166149068321, 0.0020657645445134576, 0.0021082294513457556, 0.0022257064182194613, 0.0034681881987577647, 0.0035263067287784676, 0.0038357375906447346, 0.003983287163561076, 0.003993871066252588, 0.004236632039337472, 0.0042868562629399575, 0.0043046549689441, 0.004481542132505176, 0.0049966262422360234, 0.005086284730848863, 0.005103125310559005, 0.005700570632266283, 0.0058441428571428585, 0.005951702173913043, 0.005979229824121127, 0.006029993809627851, 0.006147239094020827, 0.006194959476471386, 0.006291676501035194, 0.006294157173028707, 0.006520014699792962, 0.006751951059646055, 0.006963302432712216, 0.007130791614906833, 0.007158186533079476, 0.007265740659820843, 0.007407371687370602, 0.0077344291332438605, 0.009008651293995855, 0.009110357505175982, 0.009653014711237346, 0.010869602536231886, 0.010946629865424433, 0.011576663961630096, 0.011961439544513452, 0.01196953359213251, 0.012461536956521736, 0.013261092598343687, 0.013320019306418223, 0.01380792321276336, 0.014360643330524257, 0.014757653120675843, 0.015975831721141774, 0.018038138043478254, 0.02147843739216701, 0.022361508718297105, 0.024173751449275364, 0.02995954958592133, 0.02999099068322981], \"coloraxis\": \"coloraxis\"}, \"name\": \"\", \"offsetgroup\": \"\", \"orientation\": \"v\", \"showlegend\": false, \"textposition\": \"outside\", \"texttemplate\": \"%{text:.2s}\", \"type\": \"bar\", \"x\": [\"Nicaragua\", \"Netherlands\", \"Paraguay\", \"Panama\", \"El Salvador\", \"Peru\", \"Argentina\", \"Honduras\", \"Bolivia\", \"Guatemala\", \"Sweden\", \"Chile\", \"Czech Republic\", \"Spain\", \"Mexico\", \"Costa Rica\", \"Dominican Republic\", \"Colombia\", \"Brazil\", \"Italy\", \"Luxembourg\", \"Hong Kong\", \"Ecuador\", \"Canada\", \"United States\", \"Norway\", \"Denmark\", \"Philippines\", \"United Kingdom\", \"Slovakia\", \"Ireland\", \"Portugal\", \"Japan\", \"Austria\", \"Finland\", \"India\", \"Australia\", \"Germany\", \"Poland\", \"Romania\", \"Taiwan\", \"Israel\", \"New Zealand\", \"France\", \"Malaysia\", \"Thailand\", \"Switzerland\", \"Greece\", \"Iceland\", \"Hungary\", \"Belgium\", \"Latvia\", \"Indonesia\", \"Bulgaria\", \"Lithuania\", \"Singapore\", \"Turkey\", \"Estonia\"], \"xaxis\": \"x\", \"y\": [0.0007113550404473757, 0.0012841641957198, 0.001455753053830228, 0.0015268946687370603, 0.0018660166149068321, 0.0020657645445134576, 0.0021082294513457556, 0.0022257064182194613, 0.0034681881987577647, 0.0035263067287784676, 0.0038357375906447346, 0.003983287163561076, 0.003993871066252588, 0.004236632039337472, 0.0042868562629399575, 0.0043046549689441, 0.004481542132505176, 0.0049966262422360234, 0.005086284730848863, 0.005103125310559005, 0.005700570632266283, 0.0058441428571428585, 0.005951702173913043, 0.005979229824121127, 0.006029993809627851, 0.006147239094020827, 0.006194959476471386, 0.006291676501035194, 0.006294157173028707, 0.006520014699792962, 0.006751951059646055, 0.006963302432712216, 0.007130791614906833, 0.007158186533079476, 0.007265740659820843, 0.007407371687370602, 0.0077344291332438605, 0.009008651293995855, 0.009110357505175982, 0.009653014711237346, 0.010869602536231886, 0.010946629865424433, 0.011576663961630096, 0.011961439544513452, 0.01196953359213251, 0.012461536956521736, 0.013261092598343687, 0.013320019306418223, 0.01380792321276336, 0.014360643330524257, 0.014757653120675843, 0.015975831721141774, 0.018038138043478254, 0.02147843739216701, 0.022361508718297105, 0.024173751449275364, 0.02995954958592133, 0.02999099068322981], \"yaxis\": \"y\"}],\n",
              "                        {\"barmode\": \"relative\", \"coloraxis\": {\"colorbar\": {\"title\": {\"text\": \"Average\"}}, \"colorscale\": [[0.0, \"#0d0887\"], [0.1111111111111111, \"#46039f\"], [0.2222222222222222, \"#7201a8\"], [0.3333333333333333, \"#9c179e\"], [0.4444444444444444, \"#bd3786\"], [0.5555555555555556, \"#d8576b\"], [0.6666666666666666, \"#ed7953\"], [0.7777777777777778, \"#fb9f3a\"], [0.8888888888888888, \"#fdca26\"], [1.0, \"#f0f921\"]]}, \"legend\": {\"tracegroupgap\": 0}, \"template\": {\"data\": {\"bar\": [{\"error_x\": {\"color\": \"#2a3f5f\"}, \"error_y\": {\"color\": \"#2a3f5f\"}, \"marker\": {\"line\": {\"color\": \"#E5ECF6\", \"width\": 0.5}}, \"type\": \"bar\"}], \"barpolar\": [{\"marker\": {\"line\": {\"color\": \"#E5ECF6\", \"width\": 0.5}}, \"type\": \"barpolar\"}], \"carpet\": [{\"aaxis\": {\"endlinecolor\": \"#2a3f5f\", \"gridcolor\": \"white\", \"linecolor\": \"white\", \"minorgridcolor\": \"white\", \"startlinecolor\": \"#2a3f5f\"}, \"baxis\": {\"endlinecolor\": \"#2a3f5f\", \"gridcolor\": \"white\", \"linecolor\": \"white\", \"minorgridcolor\": \"white\", \"startlinecolor\": \"#2a3f5f\"}, \"type\": \"carpet\"}], \"choropleth\": [{\"colorbar\": {\"outlinewidth\": 0, \"ticks\": \"\"}, \"type\": \"choropleth\"}], \"contour\": [{\"colorbar\": {\"outlinewidth\": 0, \"ticks\": \"\"}, \"colorscale\": [[0.0, \"#0d0887\"], [0.1111111111111111, \"#46039f\"], [0.2222222222222222, \"#7201a8\"], [0.3333333333333333, \"#9c179e\"], [0.4444444444444444, \"#bd3786\"], [0.5555555555555556, \"#d8576b\"], [0.6666666666666666, \"#ed7953\"], [0.7777777777777778, \"#fb9f3a\"], [0.8888888888888888, \"#fdca26\"], [1.0, \"#f0f921\"]], \"type\": \"contour\"}], \"contourcarpet\": [{\"colorbar\": {\"outlinewidth\": 0, \"ticks\": \"\"}, \"type\": \"contourcarpet\"}], \"heatmap\": [{\"colorbar\": {\"outlinewidth\": 0, \"ticks\": \"\"}, \"colorscale\": [[0.0, \"#0d0887\"], [0.1111111111111111, \"#46039f\"], [0.2222222222222222, \"#7201a8\"], [0.3333333333333333, \"#9c179e\"], [0.4444444444444444, \"#bd3786\"], [0.5555555555555556, \"#d8576b\"], [0.6666666666666666, \"#ed7953\"], [0.7777777777777778, \"#fb9f3a\"], [0.8888888888888888, \"#fdca26\"], [1.0, \"#f0f921\"]], \"type\": \"heatmap\"}], \"heatmapgl\": [{\"colorbar\": {\"outlinewidth\": 0, \"ticks\": \"\"}, \"colorscale\": [[0.0, \"#0d0887\"], [0.1111111111111111, \"#46039f\"], [0.2222222222222222, \"#7201a8\"], [0.3333333333333333, \"#9c179e\"], [0.4444444444444444, \"#bd3786\"], [0.5555555555555556, \"#d8576b\"], [0.6666666666666666, \"#ed7953\"], [0.7777777777777778, \"#fb9f3a\"], [0.8888888888888888, \"#fdca26\"], [1.0, \"#f0f921\"]], \"type\": \"heatmapgl\"}], \"histogram\": [{\"marker\": {\"colorbar\": {\"outlinewidth\": 0, \"ticks\": \"\"}}, \"type\": \"histogram\"}], \"histogram2d\": [{\"colorbar\": {\"outlinewidth\": 0, \"ticks\": \"\"}, \"colorscale\": [[0.0, \"#0d0887\"], [0.1111111111111111, \"#46039f\"], [0.2222222222222222, \"#7201a8\"], [0.3333333333333333, \"#9c179e\"], [0.4444444444444444, \"#bd3786\"], [0.5555555555555556, \"#d8576b\"], [0.6666666666666666, \"#ed7953\"], [0.7777777777777778, \"#fb9f3a\"], [0.8888888888888888, \"#fdca26\"], [1.0, \"#f0f921\"]], \"type\": \"histogram2d\"}], \"histogram2dcontour\": [{\"colorbar\": {\"outlinewidth\": 0, \"ticks\": \"\"}, \"colorscale\": [[0.0, \"#0d0887\"], [0.1111111111111111, \"#46039f\"], [0.2222222222222222, \"#7201a8\"], [0.3333333333333333, \"#9c179e\"], [0.4444444444444444, \"#bd3786\"], [0.5555555555555556, \"#d8576b\"], [0.6666666666666666, \"#ed7953\"], [0.7777777777777778, \"#fb9f3a\"], [0.8888888888888888, \"#fdca26\"], [1.0, \"#f0f921\"]], \"type\": \"histogram2dcontour\"}], \"mesh3d\": [{\"colorbar\": {\"outlinewidth\": 0, \"ticks\": \"\"}, \"type\": \"mesh3d\"}], \"parcoords\": [{\"line\": {\"colorbar\": {\"outlinewidth\": 0, \"ticks\": \"\"}}, \"type\": \"parcoords\"}], \"pie\": [{\"automargin\": true, \"type\": \"pie\"}], \"scatter\": [{\"marker\": {\"colorbar\": {\"outlinewidth\": 0, \"ticks\": \"\"}}, \"type\": \"scatter\"}], \"scatter3d\": [{\"line\": {\"colorbar\": {\"outlinewidth\": 0, \"ticks\": \"\"}}, \"marker\": {\"colorbar\": {\"outlinewidth\": 0, \"ticks\": \"\"}}, \"type\": \"scatter3d\"}], \"scattercarpet\": [{\"marker\": {\"colorbar\": {\"outlinewidth\": 0, \"ticks\": \"\"}}, \"type\": \"scattercarpet\"}], \"scattergeo\": [{\"marker\": {\"colorbar\": {\"outlinewidth\": 0, \"ticks\": \"\"}}, \"type\": \"scattergeo\"}], \"scattergl\": [{\"marker\": {\"colorbar\": {\"outlinewidth\": 0, \"ticks\": \"\"}}, \"type\": \"scattergl\"}], \"scattermapbox\": [{\"marker\": {\"colorbar\": {\"outlinewidth\": 0, \"ticks\": \"\"}}, \"type\": \"scattermapbox\"}], \"scatterpolar\": [{\"marker\": {\"colorbar\": {\"outlinewidth\": 0, \"ticks\": \"\"}}, \"type\": \"scatterpolar\"}], \"scatterpolargl\": [{\"marker\": {\"colorbar\": {\"outlinewidth\": 0, \"ticks\": \"\"}}, \"type\": \"scatterpolargl\"}], \"scatterternary\": [{\"marker\": {\"colorbar\": {\"outlinewidth\": 0, \"ticks\": \"\"}}, \"type\": \"scatterternary\"}], \"surface\": [{\"colorbar\": {\"outlinewidth\": 0, \"ticks\": \"\"}, \"colorscale\": [[0.0, \"#0d0887\"], [0.1111111111111111, \"#46039f\"], [0.2222222222222222, \"#7201a8\"], [0.3333333333333333, \"#9c179e\"], [0.4444444444444444, \"#bd3786\"], [0.5555555555555556, \"#d8576b\"], [0.6666666666666666, \"#ed7953\"], [0.7777777777777778, \"#fb9f3a\"], [0.8888888888888888, \"#fdca26\"], [1.0, \"#f0f921\"]], \"type\": \"surface\"}], \"table\": [{\"cells\": {\"fill\": {\"color\": \"#EBF0F8\"}, \"line\": {\"color\": \"white\"}}, \"header\": {\"fill\": {\"color\": \"#C8D4E3\"}, \"line\": {\"color\": \"white\"}}, \"type\": \"table\"}]}, \"layout\": {\"annotationdefaults\": {\"arrowcolor\": \"#2a3f5f\", \"arrowhead\": 0, \"arrowwidth\": 1}, \"coloraxis\": {\"colorbar\": {\"outlinewidth\": 0, \"ticks\": \"\"}}, \"colorscale\": {\"diverging\": [[0, \"#8e0152\"], [0.1, \"#c51b7d\"], [0.2, \"#de77ae\"], [0.3, \"#f1b6da\"], [0.4, \"#fde0ef\"], [0.5, \"#f7f7f7\"], [0.6, \"#e6f5d0\"], [0.7, \"#b8e186\"], [0.8, \"#7fbc41\"], [0.9, \"#4d9221\"], [1, \"#276419\"]], \"sequential\": [[0.0, \"#0d0887\"], [0.1111111111111111, \"#46039f\"], [0.2222222222222222, \"#7201a8\"], [0.3333333333333333, \"#9c179e\"], [0.4444444444444444, \"#bd3786\"], [0.5555555555555556, \"#d8576b\"], [0.6666666666666666, \"#ed7953\"], [0.7777777777777778, \"#fb9f3a\"], [0.8888888888888888, \"#fdca26\"], [1.0, \"#f0f921\"]], \"sequentialminus\": [[0.0, \"#0d0887\"], [0.1111111111111111, \"#46039f\"], [0.2222222222222222, \"#7201a8\"], [0.3333333333333333, \"#9c179e\"], [0.4444444444444444, \"#bd3786\"], [0.5555555555555556, \"#d8576b\"], [0.6666666666666666, \"#ed7953\"], [0.7777777777777778, \"#fb9f3a\"], [0.8888888888888888, \"#fdca26\"], [1.0, \"#f0f921\"]]}, \"colorway\": [\"#636efa\", \"#EF553B\", \"#00cc96\", \"#ab63fa\", \"#FFA15A\", \"#19d3f3\", \"#FF6692\", \"#B6E880\", \"#FF97FF\", \"#FECB52\"], \"font\": {\"color\": \"#2a3f5f\"}, \"geo\": {\"bgcolor\": \"white\", \"lakecolor\": \"white\", \"landcolor\": \"#E5ECF6\", \"showlakes\": true, \"showland\": true, \"subunitcolor\": \"white\"}, \"hoverlabel\": {\"align\": \"left\"}, \"hovermode\": \"closest\", \"mapbox\": {\"style\": \"light\"}, \"paper_bgcolor\": \"white\", \"plot_bgcolor\": \"#E5ECF6\", \"polar\": {\"angularaxis\": {\"gridcolor\": \"white\", \"linecolor\": \"white\", \"ticks\": \"\"}, \"bgcolor\": \"#E5ECF6\", \"radialaxis\": {\"gridcolor\": \"white\", \"linecolor\": \"white\", \"ticks\": \"\"}}, \"scene\": {\"xaxis\": {\"backgroundcolor\": \"#E5ECF6\", \"gridcolor\": \"white\", \"gridwidth\": 2, \"linecolor\": \"white\", \"showbackground\": true, \"ticks\": \"\", \"zerolinecolor\": \"white\"}, \"yaxis\": {\"backgroundcolor\": \"#E5ECF6\", \"gridcolor\": \"white\", \"gridwidth\": 2, \"linecolor\": \"white\", \"showbackground\": true, \"ticks\": \"\", \"zerolinecolor\": \"white\"}, \"zaxis\": {\"backgroundcolor\": \"#E5ECF6\", \"gridcolor\": \"white\", \"gridwidth\": 2, \"linecolor\": \"white\", \"showbackground\": true, \"ticks\": \"\", \"zerolinecolor\": \"white\"}}, \"shapedefaults\": {\"line\": {\"color\": \"#2a3f5f\"}}, \"ternary\": {\"aaxis\": {\"gridcolor\": \"white\", \"linecolor\": \"white\", \"ticks\": \"\"}, \"baxis\": {\"gridcolor\": \"white\", \"linecolor\": \"white\", \"ticks\": \"\"}, \"bgcolor\": \"#E5ECF6\", \"caxis\": {\"gridcolor\": \"white\", \"linecolor\": \"white\", \"ticks\": \"\"}}, \"title\": {\"x\": 0.05}, \"xaxis\": {\"automargin\": true, \"gridcolor\": \"white\", \"linecolor\": \"white\", \"ticks\": \"\", \"title\": {\"standoff\": 15}, \"zerolinecolor\": \"white\", \"zerolinewidth\": 2}, \"yaxis\": {\"automargin\": true, \"gridcolor\": \"white\", \"linecolor\": \"white\", \"ticks\": \"\", \"title\": {\"standoff\": 15}, \"zerolinecolor\": \"white\", \"zerolinewidth\": 2}}}, \"title\": {\"text\": \"instrumentalness\"}, \"xaxis\": {\"anchor\": \"y\", \"domain\": [0.0, 1.0], \"title\": {\"text\": \"country_name\"}}, \"yaxis\": {\"anchor\": \"x\", \"domain\": [0.0, 1.0], \"title\": {\"text\": \"Average\"}}},\n",
              "                        {\"responsive\": true}\n",
              "                    ).then(function(){\n",
              "                            \n",
              "var gd = document.getElementById('e9b5f382-d878-4c07-88d9-d75d064f0178');\n",
              "var x = new MutationObserver(function (mutations, observer) {{\n",
              "        var display = window.getComputedStyle(gd).display;\n",
              "        if (!display || display === 'none') {{\n",
              "            console.log([gd, 'removed!']);\n",
              "            Plotly.purge(gd);\n",
              "            observer.disconnect();\n",
              "        }}\n",
              "}});\n",
              "\n",
              "// Listen for the removal of the full notebook cells\n",
              "var notebookContainer = gd.closest('#notebook-container');\n",
              "if (notebookContainer) {{\n",
              "    x.observe(notebookContainer, {childList: true});\n",
              "}}\n",
              "\n",
              "// Listen for the clearing of the current output cell\n",
              "var outputEl = gd.closest('.output');\n",
              "if (outputEl) {{\n",
              "    x.observe(outputEl, {childList: true});\n",
              "}}\n",
              "\n",
              "                        })\n",
              "                };\n",
              "                \n",
              "            </script>\n",
              "        </div>\n",
              "</body>\n",
              "</html>"
            ]
          },
          "metadata": {
            "tags": []
          }
        },
        {
          "output_type": "stream",
          "text": [
            "None\n"
          ],
          "name": "stdout"
        },
        {
          "output_type": "display_data",
          "data": {
            "text/html": [
              "<html>\n",
              "<head><meta charset=\"utf-8\" /></head>\n",
              "<body>\n",
              "    <div>\n",
              "            <script src=\"https://cdnjs.cloudflare.com/ajax/libs/mathjax/2.7.5/MathJax.js?config=TeX-AMS-MML_SVG\"></script><script type=\"text/javascript\">if (window.MathJax) {MathJax.Hub.Config({SVG: {font: \"STIX-Web\"}});}</script>\n",
              "                <script type=\"text/javascript\">window.PlotlyConfig = {MathJaxConfig: 'local'};</script>\n",
              "        <script src=\"https://cdn.plot.ly/plotly-latest.min.js\"></script>    \n",
              "            <div id=\"d7819d3b-bd5a-4cca-8769-3ef46b307140\" class=\"plotly-graph-div\" style=\"height:525px; width:100%;\"></div>\n",
              "            <script type=\"text/javascript\">\n",
              "                \n",
              "                    window.PLOTLYENV=window.PLOTLYENV || {};\n",
              "                    \n",
              "                if (document.getElementById(\"d7819d3b-bd5a-4cca-8769-3ef46b307140\")) {\n",
              "                    Plotly.newPlot(\n",
              "                        'd7819d3b-bd5a-4cca-8769-3ef46b307140',\n",
              "                        [{\"alignmentgroup\": \"True\", \"hoverlabel\": {\"namelength\": 0}, \"hovertemplate\": \"country_name=%{x}<br>Average=%{marker.color}\", \"legendgroup\": \"\", \"marker\": {\"color\": [0.13774406058719785, 0.13950876646955077, 0.13972559394128017, 0.13975568004979777, 0.13979147214441323, 0.14139485423799156, 0.14159093266936407, 0.14225178425703994, 0.14241363211951452, 0.14260141093474427, 0.14275287892934949, 0.14276636580558155, 0.1428950098557942, 0.14325241207594153, 0.14344019089117135, 0.1439718850503165, 0.14439360929557013, 0.14449424214130105, 0.1445819068368087, 0.14728239443925717, 0.1475739184562714, 0.14793806411453467, 0.14847650171179586, 0.15113134142545917, 0.15334267040149402, 0.15436611681709722, 0.1550912566776199, 0.15516858595289978, 0.15536808432660246, 0.15635387488328673, 0.15675433136217454, 0.15740585122938072, 0.15848428260192968, 0.16094530125469136, 0.16277518414773323, 0.16337366884218793, 0.16343396617906414, 0.16464050723583695, 0.1649407948550723, 0.16513901857039123, 0.16589222698198947, 0.1667221885962649, 0.1669583522968094, 0.16712934941331833, 0.16952385144106286, 0.16995080183571676, 0.1718036181530123, 0.17420531175433127, 0.1743780475153024, 0.17462392364353138, 0.17671374105197638, 0.17748569513275392, 0.1804582944288827, 0.182856105405125, 0.1852430531118088, 0.1857492671365959, 0.18841319162759215, 0.3310991804129058], \"coloraxis\": \"coloraxis\"}, \"name\": \"\", \"offsetgroup\": \"\", \"orientation\": \"v\", \"showlegend\": false, \"textposition\": \"outside\", \"texttemplate\": \"%{text:.2s}\", \"type\": \"bar\", \"x\": [\"Guatemala\", \"Peru\", \"El Salvador\", \"Chile\", \"Italy\", \"Spain\", \"Paraguay\", \"Nicaragua\", \"Bolivia\", \"Ecuador\", \"Panama\", \"Colombia\", \"Philippines\", \"Honduras\", \"Portugal\", \"Costa Rica\", \"Mexico\", \"France\", \"Taiwan\", \"Greece\", \"Hong Kong\", \"Indonesia\", \"Turkey\", \"India\", \"Germany\", \"Dominican Republic\", \"Austria\", \"Czech Republic\", \"Netherlands\", \"Argentina\", \"Singapore\", \"Slovakia\", \"Switzerland\", \"Denmark\", \"Malaysia\", \"Belgium\", \"Thailand\", \"New Zealand\", \"Australia\", \"Israel\", \"Sweden\", \"United Kingdom\", \"Ireland\", \"United States\", \"Canada\", \"Hungary\", \"Finland\", \"Japan\", \"Poland\", \"Iceland\", \"Lithuania\", \"Luxembourg\", \"Bulgaria\", \"Estonia\", \"Romania\", \"Norway\", \"Latvia\", \"Brazil\"], \"xaxis\": \"x\", \"y\": [0.13774406058719785, 0.13950876646955077, 0.13972559394128017, 0.13975568004979777, 0.13979147214441323, 0.14139485423799156, 0.14159093266936407, 0.14225178425703994, 0.14241363211951452, 0.14260141093474427, 0.14275287892934949, 0.14276636580558155, 0.1428950098557942, 0.14325241207594153, 0.14344019089117135, 0.1439718850503165, 0.14439360929557013, 0.14449424214130105, 0.1445819068368087, 0.14728239443925717, 0.1475739184562714, 0.14793806411453467, 0.14847650171179586, 0.15113134142545917, 0.15334267040149402, 0.15436611681709722, 0.1550912566776199, 0.15516858595289978, 0.15536808432660246, 0.15635387488328673, 0.15675433136217454, 0.15740585122938072, 0.15848428260192968, 0.16094530125469136, 0.16277518414773323, 0.16337366884218793, 0.16343396617906414, 0.16464050723583695, 0.1649407948550723, 0.16513901857039123, 0.16589222698198947, 0.1667221885962649, 0.1669583522968094, 0.16712934941331833, 0.16952385144106286, 0.16995080183571676, 0.1718036181530123, 0.17420531175433127, 0.1743780475153024, 0.17462392364353138, 0.17671374105197638, 0.17748569513275392, 0.1804582944288827, 0.182856105405125, 0.1852430531118088, 0.1857492671365959, 0.18841319162759215, 0.3310991804129058], \"yaxis\": \"y\"}],\n",
              "                        {\"barmode\": \"relative\", \"coloraxis\": {\"colorbar\": {\"title\": {\"text\": \"Average\"}}, \"colorscale\": [[0.0, \"#0d0887\"], [0.1111111111111111, \"#46039f\"], [0.2222222222222222, \"#7201a8\"], [0.3333333333333333, \"#9c179e\"], [0.4444444444444444, \"#bd3786\"], [0.5555555555555556, \"#d8576b\"], [0.6666666666666666, \"#ed7953\"], [0.7777777777777778, \"#fb9f3a\"], [0.8888888888888888, \"#fdca26\"], [1.0, \"#f0f921\"]]}, \"legend\": {\"tracegroupgap\": 0}, \"template\": {\"data\": {\"bar\": [{\"error_x\": {\"color\": \"#2a3f5f\"}, \"error_y\": {\"color\": \"#2a3f5f\"}, \"marker\": {\"line\": {\"color\": \"#E5ECF6\", \"width\": 0.5}}, \"type\": \"bar\"}], \"barpolar\": [{\"marker\": {\"line\": {\"color\": \"#E5ECF6\", \"width\": 0.5}}, \"type\": \"barpolar\"}], \"carpet\": [{\"aaxis\": {\"endlinecolor\": \"#2a3f5f\", \"gridcolor\": \"white\", \"linecolor\": \"white\", \"minorgridcolor\": \"white\", \"startlinecolor\": \"#2a3f5f\"}, \"baxis\": {\"endlinecolor\": \"#2a3f5f\", \"gridcolor\": \"white\", \"linecolor\": \"white\", \"minorgridcolor\": \"white\", \"startlinecolor\": \"#2a3f5f\"}, \"type\": \"carpet\"}], \"choropleth\": [{\"colorbar\": {\"outlinewidth\": 0, \"ticks\": \"\"}, \"type\": \"choropleth\"}], \"contour\": [{\"colorbar\": {\"outlinewidth\": 0, \"ticks\": \"\"}, \"colorscale\": [[0.0, \"#0d0887\"], [0.1111111111111111, \"#46039f\"], [0.2222222222222222, \"#7201a8\"], [0.3333333333333333, \"#9c179e\"], [0.4444444444444444, \"#bd3786\"], [0.5555555555555556, \"#d8576b\"], [0.6666666666666666, \"#ed7953\"], [0.7777777777777778, \"#fb9f3a\"], [0.8888888888888888, \"#fdca26\"], [1.0, \"#f0f921\"]], \"type\": \"contour\"}], \"contourcarpet\": [{\"colorbar\": {\"outlinewidth\": 0, \"ticks\": \"\"}, \"type\": \"contourcarpet\"}], \"heatmap\": [{\"colorbar\": {\"outlinewidth\": 0, \"ticks\": \"\"}, \"colorscale\": [[0.0, \"#0d0887\"], [0.1111111111111111, \"#46039f\"], [0.2222222222222222, \"#7201a8\"], [0.3333333333333333, \"#9c179e\"], [0.4444444444444444, \"#bd3786\"], [0.5555555555555556, \"#d8576b\"], [0.6666666666666666, \"#ed7953\"], [0.7777777777777778, \"#fb9f3a\"], [0.8888888888888888, \"#fdca26\"], [1.0, \"#f0f921\"]], \"type\": \"heatmap\"}], \"heatmapgl\": [{\"colorbar\": {\"outlinewidth\": 0, \"ticks\": \"\"}, \"colorscale\": [[0.0, \"#0d0887\"], [0.1111111111111111, \"#46039f\"], [0.2222222222222222, \"#7201a8\"], [0.3333333333333333, \"#9c179e\"], [0.4444444444444444, \"#bd3786\"], [0.5555555555555556, \"#d8576b\"], [0.6666666666666666, \"#ed7953\"], [0.7777777777777778, \"#fb9f3a\"], [0.8888888888888888, \"#fdca26\"], [1.0, \"#f0f921\"]], \"type\": \"heatmapgl\"}], \"histogram\": [{\"marker\": {\"colorbar\": {\"outlinewidth\": 0, \"ticks\": \"\"}}, \"type\": \"histogram\"}], \"histogram2d\": [{\"colorbar\": {\"outlinewidth\": 0, \"ticks\": \"\"}, \"colorscale\": [[0.0, \"#0d0887\"], [0.1111111111111111, \"#46039f\"], [0.2222222222222222, \"#7201a8\"], [0.3333333333333333, \"#9c179e\"], [0.4444444444444444, \"#bd3786\"], [0.5555555555555556, \"#d8576b\"], [0.6666666666666666, \"#ed7953\"], [0.7777777777777778, \"#fb9f3a\"], [0.8888888888888888, \"#fdca26\"], [1.0, \"#f0f921\"]], \"type\": \"histogram2d\"}], \"histogram2dcontour\": [{\"colorbar\": {\"outlinewidth\": 0, \"ticks\": \"\"}, \"colorscale\": [[0.0, \"#0d0887\"], [0.1111111111111111, \"#46039f\"], [0.2222222222222222, \"#7201a8\"], [0.3333333333333333, \"#9c179e\"], [0.4444444444444444, \"#bd3786\"], [0.5555555555555556, \"#d8576b\"], [0.6666666666666666, \"#ed7953\"], [0.7777777777777778, \"#fb9f3a\"], [0.8888888888888888, \"#fdca26\"], [1.0, \"#f0f921\"]], \"type\": \"histogram2dcontour\"}], \"mesh3d\": [{\"colorbar\": {\"outlinewidth\": 0, \"ticks\": \"\"}, \"type\": \"mesh3d\"}], \"parcoords\": [{\"line\": {\"colorbar\": {\"outlinewidth\": 0, \"ticks\": \"\"}}, \"type\": \"parcoords\"}], \"pie\": [{\"automargin\": true, \"type\": \"pie\"}], \"scatter\": [{\"marker\": {\"colorbar\": {\"outlinewidth\": 0, \"ticks\": \"\"}}, \"type\": \"scatter\"}], \"scatter3d\": [{\"line\": {\"colorbar\": {\"outlinewidth\": 0, \"ticks\": \"\"}}, \"marker\": {\"colorbar\": {\"outlinewidth\": 0, \"ticks\": \"\"}}, \"type\": \"scatter3d\"}], \"scattercarpet\": [{\"marker\": {\"colorbar\": {\"outlinewidth\": 0, \"ticks\": \"\"}}, \"type\": \"scattercarpet\"}], \"scattergeo\": [{\"marker\": {\"colorbar\": {\"outlinewidth\": 0, \"ticks\": \"\"}}, \"type\": \"scattergeo\"}], \"scattergl\": [{\"marker\": {\"colorbar\": {\"outlinewidth\": 0, \"ticks\": \"\"}}, \"type\": \"scattergl\"}], \"scattermapbox\": [{\"marker\": {\"colorbar\": {\"outlinewidth\": 0, \"ticks\": \"\"}}, \"type\": \"scattermapbox\"}], \"scatterpolar\": [{\"marker\": {\"colorbar\": {\"outlinewidth\": 0, \"ticks\": \"\"}}, \"type\": \"scatterpolar\"}], \"scatterpolargl\": [{\"marker\": {\"colorbar\": {\"outlinewidth\": 0, \"ticks\": \"\"}}, \"type\": \"scatterpolargl\"}], \"scatterternary\": [{\"marker\": {\"colorbar\": {\"outlinewidth\": 0, \"ticks\": \"\"}}, \"type\": \"scatterternary\"}], \"surface\": [{\"colorbar\": {\"outlinewidth\": 0, \"ticks\": \"\"}, \"colorscale\": [[0.0, \"#0d0887\"], [0.1111111111111111, \"#46039f\"], [0.2222222222222222, \"#7201a8\"], [0.3333333333333333, \"#9c179e\"], [0.4444444444444444, \"#bd3786\"], [0.5555555555555556, \"#d8576b\"], [0.6666666666666666, \"#ed7953\"], [0.7777777777777778, \"#fb9f3a\"], [0.8888888888888888, \"#fdca26\"], [1.0, \"#f0f921\"]], \"type\": \"surface\"}], \"table\": [{\"cells\": {\"fill\": {\"color\": \"#EBF0F8\"}, \"line\": {\"color\": \"white\"}}, \"header\": {\"fill\": {\"color\": \"#C8D4E3\"}, \"line\": {\"color\": \"white\"}}, \"type\": \"table\"}]}, \"layout\": {\"annotationdefaults\": {\"arrowcolor\": \"#2a3f5f\", \"arrowhead\": 0, \"arrowwidth\": 1}, \"coloraxis\": {\"colorbar\": {\"outlinewidth\": 0, \"ticks\": \"\"}}, \"colorscale\": {\"diverging\": [[0, \"#8e0152\"], [0.1, \"#c51b7d\"], [0.2, \"#de77ae\"], [0.3, \"#f1b6da\"], [0.4, \"#fde0ef\"], [0.5, \"#f7f7f7\"], [0.6, \"#e6f5d0\"], [0.7, \"#b8e186\"], [0.8, \"#7fbc41\"], [0.9, \"#4d9221\"], [1, \"#276419\"]], \"sequential\": [[0.0, \"#0d0887\"], [0.1111111111111111, \"#46039f\"], [0.2222222222222222, \"#7201a8\"], [0.3333333333333333, \"#9c179e\"], [0.4444444444444444, \"#bd3786\"], [0.5555555555555556, \"#d8576b\"], [0.6666666666666666, \"#ed7953\"], [0.7777777777777778, \"#fb9f3a\"], [0.8888888888888888, \"#fdca26\"], [1.0, \"#f0f921\"]], \"sequentialminus\": [[0.0, \"#0d0887\"], [0.1111111111111111, \"#46039f\"], [0.2222222222222222, \"#7201a8\"], [0.3333333333333333, \"#9c179e\"], [0.4444444444444444, \"#bd3786\"], [0.5555555555555556, \"#d8576b\"], [0.6666666666666666, \"#ed7953\"], [0.7777777777777778, \"#fb9f3a\"], [0.8888888888888888, \"#fdca26\"], [1.0, \"#f0f921\"]]}, \"colorway\": [\"#636efa\", \"#EF553B\", \"#00cc96\", \"#ab63fa\", \"#FFA15A\", \"#19d3f3\", \"#FF6692\", \"#B6E880\", \"#FF97FF\", \"#FECB52\"], \"font\": {\"color\": \"#2a3f5f\"}, \"geo\": {\"bgcolor\": \"white\", \"lakecolor\": \"white\", \"landcolor\": \"#E5ECF6\", \"showlakes\": true, \"showland\": true, \"subunitcolor\": \"white\"}, \"hoverlabel\": {\"align\": \"left\"}, \"hovermode\": \"closest\", \"mapbox\": {\"style\": \"light\"}, \"paper_bgcolor\": \"white\", \"plot_bgcolor\": \"#E5ECF6\", \"polar\": {\"angularaxis\": {\"gridcolor\": \"white\", \"linecolor\": \"white\", \"ticks\": \"\"}, \"bgcolor\": \"#E5ECF6\", \"radialaxis\": {\"gridcolor\": \"white\", \"linecolor\": \"white\", \"ticks\": \"\"}}, \"scene\": {\"xaxis\": {\"backgroundcolor\": \"#E5ECF6\", \"gridcolor\": \"white\", \"gridwidth\": 2, \"linecolor\": \"white\", \"showbackground\": true, \"ticks\": \"\", \"zerolinecolor\": \"white\"}, \"yaxis\": {\"backgroundcolor\": \"#E5ECF6\", \"gridcolor\": \"white\", \"gridwidth\": 2, \"linecolor\": \"white\", \"showbackground\": true, \"ticks\": \"\", \"zerolinecolor\": \"white\"}, \"zaxis\": {\"backgroundcolor\": \"#E5ECF6\", \"gridcolor\": \"white\", \"gridwidth\": 2, \"linecolor\": \"white\", \"showbackground\": true, \"ticks\": \"\", \"zerolinecolor\": \"white\"}}, \"shapedefaults\": {\"line\": {\"color\": \"#2a3f5f\"}}, \"ternary\": {\"aaxis\": {\"gridcolor\": \"white\", \"linecolor\": \"white\", \"ticks\": \"\"}, \"baxis\": {\"gridcolor\": \"white\", \"linecolor\": \"white\", \"ticks\": \"\"}, \"bgcolor\": \"#E5ECF6\", \"caxis\": {\"gridcolor\": \"white\", \"linecolor\": \"white\", \"ticks\": \"\"}}, \"title\": {\"x\": 0.05}, \"xaxis\": {\"automargin\": true, \"gridcolor\": \"white\", \"linecolor\": \"white\", \"ticks\": \"\", \"title\": {\"standoff\": 15}, \"zerolinecolor\": \"white\", \"zerolinewidth\": 2}, \"yaxis\": {\"automargin\": true, \"gridcolor\": \"white\", \"linecolor\": \"white\", \"ticks\": \"\", \"title\": {\"standoff\": 15}, \"zerolinecolor\": \"white\", \"zerolinewidth\": 2}}}, \"title\": {\"text\": \"liveness\"}, \"xaxis\": {\"anchor\": \"y\", \"domain\": [0.0, 1.0], \"title\": {\"text\": \"country_name\"}}, \"yaxis\": {\"anchor\": \"x\", \"domain\": [0.0, 1.0], \"title\": {\"text\": \"Average\"}}},\n",
              "                        {\"responsive\": true}\n",
              "                    ).then(function(){\n",
              "                            \n",
              "var gd = document.getElementById('d7819d3b-bd5a-4cca-8769-3ef46b307140');\n",
              "var x = new MutationObserver(function (mutations, observer) {{\n",
              "        var display = window.getComputedStyle(gd).display;\n",
              "        if (!display || display === 'none') {{\n",
              "            console.log([gd, 'removed!']);\n",
              "            Plotly.purge(gd);\n",
              "            observer.disconnect();\n",
              "        }}\n",
              "}});\n",
              "\n",
              "// Listen for the removal of the full notebook cells\n",
              "var notebookContainer = gd.closest('#notebook-container');\n",
              "if (notebookContainer) {{\n",
              "    x.observe(notebookContainer, {childList: true});\n",
              "}}\n",
              "\n",
              "// Listen for the clearing of the current output cell\n",
              "var outputEl = gd.closest('.output');\n",
              "if (outputEl) {{\n",
              "    x.observe(outputEl, {childList: true});\n",
              "}}\n",
              "\n",
              "                        })\n",
              "                };\n",
              "                \n",
              "            </script>\n",
              "        </div>\n",
              "</body>\n",
              "</html>"
            ]
          },
          "metadata": {
            "tags": []
          }
        },
        {
          "output_type": "stream",
          "text": [
            "None\n"
          ],
          "name": "stdout"
        },
        {
          "output_type": "display_data",
          "data": {
            "text/html": [
              "<html>\n",
              "<head><meta charset=\"utf-8\" /></head>\n",
              "<body>\n",
              "    <div>\n",
              "            <script src=\"https://cdnjs.cloudflare.com/ajax/libs/mathjax/2.7.5/MathJax.js?config=TeX-AMS-MML_SVG\"></script><script type=\"text/javascript\">if (window.MathJax) {MathJax.Hub.Config({SVG: {font: \"STIX-Web\"}});}</script>\n",
              "                <script type=\"text/javascript\">window.PlotlyConfig = {MathJaxConfig: 'local'};</script>\n",
              "        <script src=\"https://cdn.plot.ly/plotly-latest.min.js\"></script>    \n",
              "            <div id=\"52c8b137-af85-4935-87af-4c7d2c7c00cc\" class=\"plotly-graph-div\" style=\"height:525px; width:100%;\"></div>\n",
              "            <script type=\"text/javascript\">\n",
              "                \n",
              "                    window.PLOTLYENV=window.PLOTLYENV || {};\n",
              "                    \n",
              "                if (document.getElementById(\"52c8b137-af85-4935-87af-4c7d2c7c00cc\")) {\n",
              "                    Plotly.newPlot(\n",
              "                        '52c8b137-af85-4935-87af-4c7d2c7c00cc',\n",
              "                        [{\"alignmentgroup\": \"True\", \"hoverlabel\": {\"namelength\": 0}, \"hovertemplate\": \"country_name=%{x}<br>Average=%{marker.color}\", \"legendgroup\": \"\", \"marker\": {\"color\": [0.4288683762502661, 0.4294461587571825, 0.4299707384549903, 0.4386997233453927, 0.4449595658650778, 0.4481297166336536, 0.4547419663758251, 0.4655378804000854, 0.47428566539871087, 0.47606033198552905, 0.4784815918280488, 0.4802957113723542, 0.4865009234296616, 0.49070945945945976, 0.4944791183335137, 0.4945032675614721, 0.4956602468610343, 0.4958911470525644, 0.49668515203485103, 0.4968712449027412, 0.4981964247712278, 0.4985879974462653, 0.4994168972121731, 0.5032730811520183, 0.5040141519472229, 0.5057079395701644, 0.5060007448393274, 0.5105812099441664, 0.512446783823352, 0.5133076533978682, 0.5133135351154581, 0.5139582889976595, 0.5169708940531558, 0.5237045115982129, 0.5273446477974041, 0.5277216044042302, 0.5278242671112534, 0.531456495073794, 0.5385331985528833, 0.5417992281047714, 0.5772132368589064, 0.602891040646946, 0.6043599702064273, 0.6075170248989147, 0.6120025537348373, 0.6223185784209407, 0.6263194296658865, 0.6312938923175144, 0.6313960417110027, 0.6328128599416855, 0.6389949989359437, 0.6408491168333686, 0.64392423919983, 0.647935731006597, 0.648409236007661, 0.6494626516280064, 0.6525643753990211, 0.6576399233879549], \"coloraxis\": \"coloraxis\"}, \"name\": \"\", \"offsetgroup\": \"\", \"orientation\": \"v\", \"showlegend\": false, \"textposition\": \"outside\", \"texttemplate\": \"%{text:.2s}\", \"type\": \"bar\", \"x\": [\"Hong Kong\", \"Indonesia\", \"Malaysia\", \"Taiwan\", \"Singapore\", \"Luxembourg\", \"Philippines\", \"Israel\", \"United States\", \"Germany\", \"India\", \"Norway\", \"Austria\", \"Lithuania\", \"Latvia\", \"Romania\", \"Czech Republic\", \"Turkey\", \"Iceland\", \"Canada\", \"Estonia\", \"Greece\", \"Switzerland\", \"Bulgaria\", \"Poland\", \"Sweden\", \"Slovakia\", \"United Kingdom\", \"Hungary\", \"Ireland\", \"New Zealand\", \"Portugal\", \"Australia\", \"Italy\", \"Thailand\", \"Belgium\", \"Denmark\", \"Finland\", \"France\", \"Netherlands\", \"Japan\", \"Costa Rica\", \"Honduras\", \"Panama\", \"Dominican Republic\", \"El Salvador\", \"Argentina\", \"Chile\", \"Brazil\", \"Nicaragua\", \"Guatemala\", \"Bolivia\", \"Spain\", \"Paraguay\", \"Ecuador\", \"Mexico\", \"Peru\", \"Colombia\"], \"xaxis\": \"x\", \"y\": [0.4288683762502661, 0.4294461587571825, 0.4299707384549903, 0.4386997233453927, 0.4449595658650778, 0.4481297166336536, 0.4547419663758251, 0.4655378804000854, 0.47428566539871087, 0.47606033198552905, 0.4784815918280488, 0.4802957113723542, 0.4865009234296616, 0.49070945945945976, 0.4944791183335137, 0.4945032675614721, 0.4956602468610343, 0.4958911470525644, 0.49668515203485103, 0.4968712449027412, 0.4981964247712278, 0.4985879974462653, 0.4994168972121731, 0.5032730811520183, 0.5040141519472229, 0.5057079395701644, 0.5060007448393274, 0.5105812099441664, 0.512446783823352, 0.5133076533978682, 0.5133135351154581, 0.5139582889976595, 0.5169708940531558, 0.5237045115982129, 0.5273446477974041, 0.5277216044042302, 0.5278242671112534, 0.531456495073794, 0.5385331985528833, 0.5417992281047714, 0.5772132368589064, 0.602891040646946, 0.6043599702064273, 0.6075170248989147, 0.6120025537348373, 0.6223185784209407, 0.6263194296658865, 0.6312938923175144, 0.6313960417110027, 0.6328128599416855, 0.6389949989359437, 0.6408491168333686, 0.64392423919983, 0.647935731006597, 0.648409236007661, 0.6494626516280064, 0.6525643753990211, 0.6576399233879549], \"yaxis\": \"y\"}],\n",
              "                        {\"barmode\": \"relative\", \"coloraxis\": {\"colorbar\": {\"title\": {\"text\": \"Average\"}}, \"colorscale\": [[0.0, \"#0d0887\"], [0.1111111111111111, \"#46039f\"], [0.2222222222222222, \"#7201a8\"], [0.3333333333333333, \"#9c179e\"], [0.4444444444444444, \"#bd3786\"], [0.5555555555555556, \"#d8576b\"], [0.6666666666666666, \"#ed7953\"], [0.7777777777777778, \"#fb9f3a\"], [0.8888888888888888, \"#fdca26\"], [1.0, \"#f0f921\"]]}, \"legend\": {\"tracegroupgap\": 0}, \"template\": {\"data\": {\"bar\": [{\"error_x\": {\"color\": \"#2a3f5f\"}, \"error_y\": {\"color\": \"#2a3f5f\"}, \"marker\": {\"line\": {\"color\": \"#E5ECF6\", \"width\": 0.5}}, \"type\": \"bar\"}], \"barpolar\": [{\"marker\": {\"line\": {\"color\": \"#E5ECF6\", \"width\": 0.5}}, \"type\": \"barpolar\"}], \"carpet\": [{\"aaxis\": {\"endlinecolor\": \"#2a3f5f\", \"gridcolor\": \"white\", \"linecolor\": \"white\", \"minorgridcolor\": \"white\", \"startlinecolor\": \"#2a3f5f\"}, \"baxis\": {\"endlinecolor\": \"#2a3f5f\", \"gridcolor\": \"white\", \"linecolor\": \"white\", \"minorgridcolor\": \"white\", \"startlinecolor\": \"#2a3f5f\"}, \"type\": \"carpet\"}], \"choropleth\": [{\"colorbar\": {\"outlinewidth\": 0, \"ticks\": \"\"}, \"type\": \"choropleth\"}], \"contour\": [{\"colorbar\": {\"outlinewidth\": 0, \"ticks\": \"\"}, \"colorscale\": [[0.0, \"#0d0887\"], [0.1111111111111111, \"#46039f\"], [0.2222222222222222, \"#7201a8\"], [0.3333333333333333, \"#9c179e\"], [0.4444444444444444, \"#bd3786\"], [0.5555555555555556, \"#d8576b\"], [0.6666666666666666, \"#ed7953\"], [0.7777777777777778, \"#fb9f3a\"], [0.8888888888888888, \"#fdca26\"], [1.0, \"#f0f921\"]], \"type\": \"contour\"}], \"contourcarpet\": [{\"colorbar\": {\"outlinewidth\": 0, \"ticks\": \"\"}, \"type\": \"contourcarpet\"}], \"heatmap\": [{\"colorbar\": {\"outlinewidth\": 0, \"ticks\": \"\"}, \"colorscale\": [[0.0, \"#0d0887\"], [0.1111111111111111, \"#46039f\"], [0.2222222222222222, \"#7201a8\"], [0.3333333333333333, \"#9c179e\"], [0.4444444444444444, \"#bd3786\"], [0.5555555555555556, \"#d8576b\"], [0.6666666666666666, \"#ed7953\"], [0.7777777777777778, \"#fb9f3a\"], [0.8888888888888888, \"#fdca26\"], [1.0, \"#f0f921\"]], \"type\": \"heatmap\"}], \"heatmapgl\": [{\"colorbar\": {\"outlinewidth\": 0, \"ticks\": \"\"}, \"colorscale\": [[0.0, \"#0d0887\"], [0.1111111111111111, \"#46039f\"], [0.2222222222222222, \"#7201a8\"], [0.3333333333333333, \"#9c179e\"], [0.4444444444444444, \"#bd3786\"], [0.5555555555555556, \"#d8576b\"], [0.6666666666666666, \"#ed7953\"], [0.7777777777777778, \"#fb9f3a\"], [0.8888888888888888, \"#fdca26\"], [1.0, \"#f0f921\"]], \"type\": \"heatmapgl\"}], \"histogram\": [{\"marker\": {\"colorbar\": {\"outlinewidth\": 0, \"ticks\": \"\"}}, \"type\": \"histogram\"}], \"histogram2d\": [{\"colorbar\": {\"outlinewidth\": 0, \"ticks\": \"\"}, \"colorscale\": [[0.0, \"#0d0887\"], [0.1111111111111111, \"#46039f\"], [0.2222222222222222, \"#7201a8\"], [0.3333333333333333, \"#9c179e\"], [0.4444444444444444, \"#bd3786\"], [0.5555555555555556, \"#d8576b\"], [0.6666666666666666, \"#ed7953\"], [0.7777777777777778, \"#fb9f3a\"], [0.8888888888888888, \"#fdca26\"], [1.0, \"#f0f921\"]], \"type\": \"histogram2d\"}], \"histogram2dcontour\": [{\"colorbar\": {\"outlinewidth\": 0, \"ticks\": \"\"}, \"colorscale\": [[0.0, \"#0d0887\"], [0.1111111111111111, \"#46039f\"], [0.2222222222222222, \"#7201a8\"], [0.3333333333333333, \"#9c179e\"], [0.4444444444444444, \"#bd3786\"], [0.5555555555555556, \"#d8576b\"], [0.6666666666666666, \"#ed7953\"], [0.7777777777777778, \"#fb9f3a\"], [0.8888888888888888, \"#fdca26\"], [1.0, \"#f0f921\"]], \"type\": \"histogram2dcontour\"}], \"mesh3d\": [{\"colorbar\": {\"outlinewidth\": 0, \"ticks\": \"\"}, \"type\": \"mesh3d\"}], \"parcoords\": [{\"line\": {\"colorbar\": {\"outlinewidth\": 0, \"ticks\": \"\"}}, \"type\": \"parcoords\"}], \"pie\": [{\"automargin\": true, \"type\": \"pie\"}], \"scatter\": [{\"marker\": {\"colorbar\": {\"outlinewidth\": 0, \"ticks\": \"\"}}, \"type\": \"scatter\"}], \"scatter3d\": [{\"line\": {\"colorbar\": {\"outlinewidth\": 0, \"ticks\": \"\"}}, \"marker\": {\"colorbar\": {\"outlinewidth\": 0, \"ticks\": \"\"}}, \"type\": \"scatter3d\"}], \"scattercarpet\": [{\"marker\": {\"colorbar\": {\"outlinewidth\": 0, \"ticks\": \"\"}}, \"type\": \"scattercarpet\"}], \"scattergeo\": [{\"marker\": {\"colorbar\": {\"outlinewidth\": 0, \"ticks\": \"\"}}, \"type\": \"scattergeo\"}], \"scattergl\": [{\"marker\": {\"colorbar\": {\"outlinewidth\": 0, \"ticks\": \"\"}}, \"type\": \"scattergl\"}], \"scattermapbox\": [{\"marker\": {\"colorbar\": {\"outlinewidth\": 0, \"ticks\": \"\"}}, \"type\": \"scattermapbox\"}], \"scatterpolar\": [{\"marker\": {\"colorbar\": {\"outlinewidth\": 0, \"ticks\": \"\"}}, \"type\": \"scatterpolar\"}], \"scatterpolargl\": [{\"marker\": {\"colorbar\": {\"outlinewidth\": 0, \"ticks\": \"\"}}, \"type\": \"scatterpolargl\"}], \"scatterternary\": [{\"marker\": {\"colorbar\": {\"outlinewidth\": 0, \"ticks\": \"\"}}, \"type\": \"scatterternary\"}], \"surface\": [{\"colorbar\": {\"outlinewidth\": 0, \"ticks\": \"\"}, \"colorscale\": [[0.0, \"#0d0887\"], [0.1111111111111111, \"#46039f\"], [0.2222222222222222, \"#7201a8\"], [0.3333333333333333, \"#9c179e\"], [0.4444444444444444, \"#bd3786\"], [0.5555555555555556, \"#d8576b\"], [0.6666666666666666, \"#ed7953\"], [0.7777777777777778, \"#fb9f3a\"], [0.8888888888888888, \"#fdca26\"], [1.0, \"#f0f921\"]], \"type\": \"surface\"}], \"table\": [{\"cells\": {\"fill\": {\"color\": \"#EBF0F8\"}, \"line\": {\"color\": \"white\"}}, \"header\": {\"fill\": {\"color\": \"#C8D4E3\"}, \"line\": {\"color\": \"white\"}}, \"type\": \"table\"}]}, \"layout\": {\"annotationdefaults\": {\"arrowcolor\": \"#2a3f5f\", \"arrowhead\": 0, \"arrowwidth\": 1}, \"coloraxis\": {\"colorbar\": {\"outlinewidth\": 0, \"ticks\": \"\"}}, \"colorscale\": {\"diverging\": [[0, \"#8e0152\"], [0.1, \"#c51b7d\"], [0.2, \"#de77ae\"], [0.3, \"#f1b6da\"], [0.4, \"#fde0ef\"], [0.5, \"#f7f7f7\"], [0.6, \"#e6f5d0\"], [0.7, \"#b8e186\"], [0.8, \"#7fbc41\"], [0.9, \"#4d9221\"], [1, \"#276419\"]], \"sequential\": [[0.0, \"#0d0887\"], [0.1111111111111111, \"#46039f\"], [0.2222222222222222, \"#7201a8\"], [0.3333333333333333, \"#9c179e\"], [0.4444444444444444, \"#bd3786\"], [0.5555555555555556, \"#d8576b\"], [0.6666666666666666, \"#ed7953\"], [0.7777777777777778, \"#fb9f3a\"], [0.8888888888888888, \"#fdca26\"], [1.0, \"#f0f921\"]], \"sequentialminus\": [[0.0, \"#0d0887\"], [0.1111111111111111, \"#46039f\"], [0.2222222222222222, \"#7201a8\"], [0.3333333333333333, \"#9c179e\"], [0.4444444444444444, \"#bd3786\"], [0.5555555555555556, \"#d8576b\"], [0.6666666666666666, \"#ed7953\"], [0.7777777777777778, \"#fb9f3a\"], [0.8888888888888888, \"#fdca26\"], [1.0, \"#f0f921\"]]}, \"colorway\": [\"#636efa\", \"#EF553B\", \"#00cc96\", \"#ab63fa\", \"#FFA15A\", \"#19d3f3\", \"#FF6692\", \"#B6E880\", \"#FF97FF\", \"#FECB52\"], \"font\": {\"color\": \"#2a3f5f\"}, \"geo\": {\"bgcolor\": \"white\", \"lakecolor\": \"white\", \"landcolor\": \"#E5ECF6\", \"showlakes\": true, \"showland\": true, \"subunitcolor\": \"white\"}, \"hoverlabel\": {\"align\": \"left\"}, \"hovermode\": \"closest\", \"mapbox\": {\"style\": \"light\"}, \"paper_bgcolor\": \"white\", \"plot_bgcolor\": \"#E5ECF6\", \"polar\": {\"angularaxis\": {\"gridcolor\": \"white\", \"linecolor\": \"white\", \"ticks\": \"\"}, \"bgcolor\": \"#E5ECF6\", \"radialaxis\": {\"gridcolor\": \"white\", \"linecolor\": \"white\", \"ticks\": \"\"}}, \"scene\": {\"xaxis\": {\"backgroundcolor\": \"#E5ECF6\", \"gridcolor\": \"white\", \"gridwidth\": 2, \"linecolor\": \"white\", \"showbackground\": true, \"ticks\": \"\", \"zerolinecolor\": \"white\"}, \"yaxis\": {\"backgroundcolor\": \"#E5ECF6\", \"gridcolor\": \"white\", \"gridwidth\": 2, \"linecolor\": \"white\", \"showbackground\": true, \"ticks\": \"\", \"zerolinecolor\": \"white\"}, \"zaxis\": {\"backgroundcolor\": \"#E5ECF6\", \"gridcolor\": \"white\", \"gridwidth\": 2, \"linecolor\": \"white\", \"showbackground\": true, \"ticks\": \"\", \"zerolinecolor\": \"white\"}}, \"shapedefaults\": {\"line\": {\"color\": \"#2a3f5f\"}}, \"ternary\": {\"aaxis\": {\"gridcolor\": \"white\", \"linecolor\": \"white\", \"ticks\": \"\"}, \"baxis\": {\"gridcolor\": \"white\", \"linecolor\": \"white\", \"ticks\": \"\"}, \"bgcolor\": \"#E5ECF6\", \"caxis\": {\"gridcolor\": \"white\", \"linecolor\": \"white\", \"ticks\": \"\"}}, \"title\": {\"x\": 0.05}, \"xaxis\": {\"automargin\": true, \"gridcolor\": \"white\", \"linecolor\": \"white\", \"ticks\": \"\", \"title\": {\"standoff\": 15}, \"zerolinecolor\": \"white\", \"zerolinewidth\": 2}, \"yaxis\": {\"automargin\": true, \"gridcolor\": \"white\", \"linecolor\": \"white\", \"ticks\": \"\", \"title\": {\"standoff\": 15}, \"zerolinecolor\": \"white\", \"zerolinewidth\": 2}}}, \"title\": {\"text\": \"valence\"}, \"xaxis\": {\"anchor\": \"y\", \"domain\": [0.0, 1.0], \"title\": {\"text\": \"country_name\"}}, \"yaxis\": {\"anchor\": \"x\", \"domain\": [0.0, 1.0], \"title\": {\"text\": \"Average\"}}},\n",
              "                        {\"responsive\": true}\n",
              "                    ).then(function(){\n",
              "                            \n",
              "var gd = document.getElementById('52c8b137-af85-4935-87af-4c7d2c7c00cc');\n",
              "var x = new MutationObserver(function (mutations, observer) {{\n",
              "        var display = window.getComputedStyle(gd).display;\n",
              "        if (!display || display === 'none') {{\n",
              "            console.log([gd, 'removed!']);\n",
              "            Plotly.purge(gd);\n",
              "            observer.disconnect();\n",
              "        }}\n",
              "}});\n",
              "\n",
              "// Listen for the removal of the full notebook cells\n",
              "var notebookContainer = gd.closest('#notebook-container');\n",
              "if (notebookContainer) {{\n",
              "    x.observe(notebookContainer, {childList: true});\n",
              "}}\n",
              "\n",
              "// Listen for the clearing of the current output cell\n",
              "var outputEl = gd.closest('.output');\n",
              "if (outputEl) {{\n",
              "    x.observe(outputEl, {childList: true});\n",
              "}}\n",
              "\n",
              "                        })\n",
              "                };\n",
              "                \n",
              "            </script>\n",
              "        </div>\n",
              "</body>\n",
              "</html>"
            ]
          },
          "metadata": {
            "tags": []
          }
        },
        {
          "output_type": "stream",
          "text": [
            "None\n"
          ],
          "name": "stdout"
        },
        {
          "output_type": "display_data",
          "data": {
            "text/html": [
              "<html>\n",
              "<head><meta charset=\"utf-8\" /></head>\n",
              "<body>\n",
              "    <div>\n",
              "            <script src=\"https://cdnjs.cloudflare.com/ajax/libs/mathjax/2.7.5/MathJax.js?config=TeX-AMS-MML_SVG\"></script><script type=\"text/javascript\">if (window.MathJax) {MathJax.Hub.Config({SVG: {font: \"STIX-Web\"}});}</script>\n",
              "                <script type=\"text/javascript\">window.PlotlyConfig = {MathJaxConfig: 'local'};</script>\n",
              "        <script src=\"https://cdn.plot.ly/plotly-latest.min.js\"></script>    \n",
              "            <div id=\"8207d3a1-7689-4805-a6fd-01a9cfe664fc\" class=\"plotly-graph-div\" style=\"height:525px; width:100%;\"></div>\n",
              "            <script type=\"text/javascript\">\n",
              "                \n",
              "                    window.PLOTLYENV=window.PLOTLYENV || {};\n",
              "                    \n",
              "                if (document.getElementById(\"8207d3a1-7689-4805-a6fd-01a9cfe664fc\")) {\n",
              "                    Plotly.newPlot(\n",
              "                        '8207d3a1-7689-4805-a6fd-01a9cfe664fc',\n",
              "                        [{\"alignmentgroup\": \"True\", \"hoverlabel\": {\"namelength\": 0}, \"hovertemplate\": \"country_name=%{x}<br>Average=%{marker.color}\", \"legendgroup\": \"\", \"marker\": {\"color\": [0.3991728329401167, 0.4134105402124074, 0.4134583377535747, 0.41899879183036365, 0.4205226493157471, 0.42070664922144785, 0.4259011501985807, 0.42954114949845007, 0.429877886432291, 0.43063724980620555, 0.4308480294135433, 0.43097934863326154, 0.43236807767908564, 0.4327597333710527, 0.4352787404080765, 0.43593664910357527, 0.4363586053255065, 0.43717797069674774, 0.4372036994619833, 0.4372688850620607, 0.43792308075497777, 0.43944053191708804, 0.4395649303959359, 0.44059808928300753, 0.4417084657110414, 0.4425907328170491, 0.44325988891615564, 0.4433979867274892, 0.4450307943468062, 0.44596895625385746, 0.44628089748576677, 0.45047573582281314, 0.4513175092166364, 0.4544421066280045, 0.45493073796095385, 0.45526727724931326, 0.4559421596708982, 0.4573337887144272, 0.45882925492414856, 0.46182349682332025, 0.4648894645025166, 0.4654565814444171, 0.46676367622617443, 0.4687490309471286, 0.46902227212183356, 0.47070311302851325, 0.4731367210061649, 0.475290299338732, 0.4781723481499814, 0.4782752218961065, 0.4791340158185698, 0.47958602968044595, 0.4811632601341397, 0.4814003542754944, 0.48146996593467456, 0.4826030505557714, 0.4859333191885616, 0.4863785848155876], \"coloraxis\": \"coloraxis\"}, \"name\": \"\", \"offsetgroup\": \"\", \"orientation\": \"v\", \"showlegend\": false, \"textposition\": \"outside\", \"texttemplate\": \"%{text:.2s}\", \"type\": \"bar\", \"x\": [\"Netherlands\", \"India\", \"Indonesia\", \"Denmark\", \"Thailand\", \"Philippines\", \"New Zealand\", \"Israel\", \"Hungary\", \"Finland\", \"Australia\", \"Malaysia\", \"Canada\", \"Italy\", \"Slovakia\", \"Spain\", \"Czech Republic\", \"Germany\", \"Belgium\", \"United States\", \"Norway\", \"Lithuania\", \"Estonia\", \"Ireland\", \"Sweden\", \"Taiwan\", \"Austria\", \"Singapore\", \"Portugal\", \"United Kingdom\", \"Greece\", \"Turkey\", \"Iceland\", \"Switzerland\", \"Latvia\", \"Poland\", \"France\", \"Romania\", \"Chile\", \"Japan\", \"Hong Kong\", \"Colombia\", \"Argentina\", \"Luxembourg\", \"Ecuador\", \"Mexico\", \"Brazil\", \"Bulgaria\", \"Guatemala\", \"Honduras\", \"Costa Rica\", \"El Salvador\", \"Paraguay\", \"Nicaragua\", \"Panama\", \"Bolivia\", \"Peru\", \"Dominican Republic\"], \"xaxis\": \"x\", \"y\": [0.3991728329401167, 0.4134105402124074, 0.4134583377535747, 0.41899879183036365, 0.4205226493157471, 0.42070664922144785, 0.4259011501985807, 0.42954114949845007, 0.429877886432291, 0.43063724980620555, 0.4308480294135433, 0.43097934863326154, 0.43236807767908564, 0.4327597333710527, 0.4352787404080765, 0.43593664910357527, 0.4363586053255065, 0.43717797069674774, 0.4372036994619833, 0.4372688850620607, 0.43792308075497777, 0.43944053191708804, 0.4395649303959359, 0.44059808928300753, 0.4417084657110414, 0.4425907328170491, 0.44325988891615564, 0.4433979867274892, 0.4450307943468062, 0.44596895625385746, 0.44628089748576677, 0.45047573582281314, 0.4513175092166364, 0.4544421066280045, 0.45493073796095385, 0.45526727724931326, 0.4559421596708982, 0.4573337887144272, 0.45882925492414856, 0.46182349682332025, 0.4648894645025166, 0.4654565814444171, 0.46676367622617443, 0.4687490309471286, 0.46902227212183356, 0.47070311302851325, 0.4731367210061649, 0.475290299338732, 0.4781723481499814, 0.4782752218961065, 0.4791340158185698, 0.47958602968044595, 0.4811632601341397, 0.4814003542754944, 0.48146996593467456, 0.4826030505557714, 0.4859333191885616, 0.4863785848155876], \"yaxis\": \"y\"}],\n",
              "                        {\"barmode\": \"relative\", \"coloraxis\": {\"colorbar\": {\"title\": {\"text\": \"Average\"}}, \"colorscale\": [[0.0, \"#0d0887\"], [0.1111111111111111, \"#46039f\"], [0.2222222222222222, \"#7201a8\"], [0.3333333333333333, \"#9c179e\"], [0.4444444444444444, \"#bd3786\"], [0.5555555555555556, \"#d8576b\"], [0.6666666666666666, \"#ed7953\"], [0.7777777777777778, \"#fb9f3a\"], [0.8888888888888888, \"#fdca26\"], [1.0, \"#f0f921\"]]}, \"legend\": {\"tracegroupgap\": 0}, \"template\": {\"data\": {\"bar\": [{\"error_x\": {\"color\": \"#2a3f5f\"}, \"error_y\": {\"color\": \"#2a3f5f\"}, \"marker\": {\"line\": {\"color\": \"#E5ECF6\", \"width\": 0.5}}, \"type\": \"bar\"}], \"barpolar\": [{\"marker\": {\"line\": {\"color\": \"#E5ECF6\", \"width\": 0.5}}, \"type\": \"barpolar\"}], \"carpet\": [{\"aaxis\": {\"endlinecolor\": \"#2a3f5f\", \"gridcolor\": \"white\", \"linecolor\": \"white\", \"minorgridcolor\": \"white\", \"startlinecolor\": \"#2a3f5f\"}, \"baxis\": {\"endlinecolor\": \"#2a3f5f\", \"gridcolor\": \"white\", \"linecolor\": \"white\", \"minorgridcolor\": \"white\", \"startlinecolor\": \"#2a3f5f\"}, \"type\": \"carpet\"}], \"choropleth\": [{\"colorbar\": {\"outlinewidth\": 0, \"ticks\": \"\"}, \"type\": \"choropleth\"}], \"contour\": [{\"colorbar\": {\"outlinewidth\": 0, \"ticks\": \"\"}, \"colorscale\": [[0.0, \"#0d0887\"], [0.1111111111111111, \"#46039f\"], [0.2222222222222222, \"#7201a8\"], [0.3333333333333333, \"#9c179e\"], [0.4444444444444444, \"#bd3786\"], [0.5555555555555556, \"#d8576b\"], [0.6666666666666666, \"#ed7953\"], [0.7777777777777778, \"#fb9f3a\"], [0.8888888888888888, \"#fdca26\"], [1.0, \"#f0f921\"]], \"type\": \"contour\"}], \"contourcarpet\": [{\"colorbar\": {\"outlinewidth\": 0, \"ticks\": \"\"}, \"type\": \"contourcarpet\"}], \"heatmap\": [{\"colorbar\": {\"outlinewidth\": 0, \"ticks\": \"\"}, \"colorscale\": [[0.0, \"#0d0887\"], [0.1111111111111111, \"#46039f\"], [0.2222222222222222, \"#7201a8\"], [0.3333333333333333, \"#9c179e\"], [0.4444444444444444, \"#bd3786\"], [0.5555555555555556, \"#d8576b\"], [0.6666666666666666, \"#ed7953\"], [0.7777777777777778, \"#fb9f3a\"], [0.8888888888888888, \"#fdca26\"], [1.0, \"#f0f921\"]], \"type\": \"heatmap\"}], \"heatmapgl\": [{\"colorbar\": {\"outlinewidth\": 0, \"ticks\": \"\"}, \"colorscale\": [[0.0, \"#0d0887\"], [0.1111111111111111, \"#46039f\"], [0.2222222222222222, \"#7201a8\"], [0.3333333333333333, \"#9c179e\"], [0.4444444444444444, \"#bd3786\"], [0.5555555555555556, \"#d8576b\"], [0.6666666666666666, \"#ed7953\"], [0.7777777777777778, \"#fb9f3a\"], [0.8888888888888888, \"#fdca26\"], [1.0, \"#f0f921\"]], \"type\": \"heatmapgl\"}], \"histogram\": [{\"marker\": {\"colorbar\": {\"outlinewidth\": 0, \"ticks\": \"\"}}, \"type\": \"histogram\"}], \"histogram2d\": [{\"colorbar\": {\"outlinewidth\": 0, \"ticks\": \"\"}, \"colorscale\": [[0.0, \"#0d0887\"], [0.1111111111111111, \"#46039f\"], [0.2222222222222222, \"#7201a8\"], [0.3333333333333333, \"#9c179e\"], [0.4444444444444444, \"#bd3786\"], [0.5555555555555556, \"#d8576b\"], [0.6666666666666666, \"#ed7953\"], [0.7777777777777778, \"#fb9f3a\"], [0.8888888888888888, \"#fdca26\"], [1.0, \"#f0f921\"]], \"type\": \"histogram2d\"}], \"histogram2dcontour\": [{\"colorbar\": {\"outlinewidth\": 0, \"ticks\": \"\"}, \"colorscale\": [[0.0, \"#0d0887\"], [0.1111111111111111, \"#46039f\"], [0.2222222222222222, \"#7201a8\"], [0.3333333333333333, \"#9c179e\"], [0.4444444444444444, \"#bd3786\"], [0.5555555555555556, \"#d8576b\"], [0.6666666666666666, \"#ed7953\"], [0.7777777777777778, \"#fb9f3a\"], [0.8888888888888888, \"#fdca26\"], [1.0, \"#f0f921\"]], \"type\": \"histogram2dcontour\"}], \"mesh3d\": [{\"colorbar\": {\"outlinewidth\": 0, \"ticks\": \"\"}, \"type\": \"mesh3d\"}], \"parcoords\": [{\"line\": {\"colorbar\": {\"outlinewidth\": 0, \"ticks\": \"\"}}, \"type\": \"parcoords\"}], \"pie\": [{\"automargin\": true, \"type\": \"pie\"}], \"scatter\": [{\"marker\": {\"colorbar\": {\"outlinewidth\": 0, \"ticks\": \"\"}}, \"type\": \"scatter\"}], \"scatter3d\": [{\"line\": {\"colorbar\": {\"outlinewidth\": 0, \"ticks\": \"\"}}, \"marker\": {\"colorbar\": {\"outlinewidth\": 0, \"ticks\": \"\"}}, \"type\": \"scatter3d\"}], \"scattercarpet\": [{\"marker\": {\"colorbar\": {\"outlinewidth\": 0, \"ticks\": \"\"}}, \"type\": \"scattercarpet\"}], \"scattergeo\": [{\"marker\": {\"colorbar\": {\"outlinewidth\": 0, \"ticks\": \"\"}}, \"type\": \"scattergeo\"}], \"scattergl\": [{\"marker\": {\"colorbar\": {\"outlinewidth\": 0, \"ticks\": \"\"}}, \"type\": \"scattergl\"}], \"scattermapbox\": [{\"marker\": {\"colorbar\": {\"outlinewidth\": 0, \"ticks\": \"\"}}, \"type\": \"scattermapbox\"}], \"scatterpolar\": [{\"marker\": {\"colorbar\": {\"outlinewidth\": 0, \"ticks\": \"\"}}, \"type\": \"scatterpolar\"}], \"scatterpolargl\": [{\"marker\": {\"colorbar\": {\"outlinewidth\": 0, \"ticks\": \"\"}}, \"type\": \"scatterpolargl\"}], \"scatterternary\": [{\"marker\": {\"colorbar\": {\"outlinewidth\": 0, \"ticks\": \"\"}}, \"type\": \"scatterternary\"}], \"surface\": [{\"colorbar\": {\"outlinewidth\": 0, \"ticks\": \"\"}, \"colorscale\": [[0.0, \"#0d0887\"], [0.1111111111111111, \"#46039f\"], [0.2222222222222222, \"#7201a8\"], [0.3333333333333333, \"#9c179e\"], [0.4444444444444444, \"#bd3786\"], [0.5555555555555556, \"#d8576b\"], [0.6666666666666666, \"#ed7953\"], [0.7777777777777778, \"#fb9f3a\"], [0.8888888888888888, \"#fdca26\"], [1.0, \"#f0f921\"]], \"type\": \"surface\"}], \"table\": [{\"cells\": {\"fill\": {\"color\": \"#EBF0F8\"}, \"line\": {\"color\": \"white\"}}, \"header\": {\"fill\": {\"color\": \"#C8D4E3\"}, \"line\": {\"color\": \"white\"}}, \"type\": \"table\"}]}, \"layout\": {\"annotationdefaults\": {\"arrowcolor\": \"#2a3f5f\", \"arrowhead\": 0, \"arrowwidth\": 1}, \"coloraxis\": {\"colorbar\": {\"outlinewidth\": 0, \"ticks\": \"\"}}, \"colorscale\": {\"diverging\": [[0, \"#8e0152\"], [0.1, \"#c51b7d\"], [0.2, \"#de77ae\"], [0.3, \"#f1b6da\"], [0.4, \"#fde0ef\"], [0.5, \"#f7f7f7\"], [0.6, \"#e6f5d0\"], [0.7, \"#b8e186\"], [0.8, \"#7fbc41\"], [0.9, \"#4d9221\"], [1, \"#276419\"]], \"sequential\": [[0.0, \"#0d0887\"], [0.1111111111111111, \"#46039f\"], [0.2222222222222222, \"#7201a8\"], [0.3333333333333333, \"#9c179e\"], [0.4444444444444444, \"#bd3786\"], [0.5555555555555556, \"#d8576b\"], [0.6666666666666666, \"#ed7953\"], [0.7777777777777778, \"#fb9f3a\"], [0.8888888888888888, \"#fdca26\"], [1.0, \"#f0f921\"]], \"sequentialminus\": [[0.0, \"#0d0887\"], [0.1111111111111111, \"#46039f\"], [0.2222222222222222, \"#7201a8\"], [0.3333333333333333, \"#9c179e\"], [0.4444444444444444, \"#bd3786\"], [0.5555555555555556, \"#d8576b\"], [0.6666666666666666, \"#ed7953\"], [0.7777777777777778, \"#fb9f3a\"], [0.8888888888888888, \"#fdca26\"], [1.0, \"#f0f921\"]]}, \"colorway\": [\"#636efa\", \"#EF553B\", \"#00cc96\", \"#ab63fa\", \"#FFA15A\", \"#19d3f3\", \"#FF6692\", \"#B6E880\", \"#FF97FF\", \"#FECB52\"], \"font\": {\"color\": \"#2a3f5f\"}, \"geo\": {\"bgcolor\": \"white\", \"lakecolor\": \"white\", \"landcolor\": \"#E5ECF6\", \"showlakes\": true, \"showland\": true, \"subunitcolor\": \"white\"}, \"hoverlabel\": {\"align\": \"left\"}, \"hovermode\": \"closest\", \"mapbox\": {\"style\": \"light\"}, \"paper_bgcolor\": \"white\", \"plot_bgcolor\": \"#E5ECF6\", \"polar\": {\"angularaxis\": {\"gridcolor\": \"white\", \"linecolor\": \"white\", \"ticks\": \"\"}, \"bgcolor\": \"#E5ECF6\", \"radialaxis\": {\"gridcolor\": \"white\", \"linecolor\": \"white\", \"ticks\": \"\"}}, \"scene\": {\"xaxis\": {\"backgroundcolor\": \"#E5ECF6\", \"gridcolor\": \"white\", \"gridwidth\": 2, \"linecolor\": \"white\", \"showbackground\": true, \"ticks\": \"\", \"zerolinecolor\": \"white\"}, \"yaxis\": {\"backgroundcolor\": \"#E5ECF6\", \"gridcolor\": \"white\", \"gridwidth\": 2, \"linecolor\": \"white\", \"showbackground\": true, \"ticks\": \"\", \"zerolinecolor\": \"white\"}, \"zaxis\": {\"backgroundcolor\": \"#E5ECF6\", \"gridcolor\": \"white\", \"gridwidth\": 2, \"linecolor\": \"white\", \"showbackground\": true, \"ticks\": \"\", \"zerolinecolor\": \"white\"}}, \"shapedefaults\": {\"line\": {\"color\": \"#2a3f5f\"}}, \"ternary\": {\"aaxis\": {\"gridcolor\": \"white\", \"linecolor\": \"white\", \"ticks\": \"\"}, \"baxis\": {\"gridcolor\": \"white\", \"linecolor\": \"white\", \"ticks\": \"\"}, \"bgcolor\": \"#E5ECF6\", \"caxis\": {\"gridcolor\": \"white\", \"linecolor\": \"white\", \"ticks\": \"\"}}, \"title\": {\"x\": 0.05}, \"xaxis\": {\"automargin\": true, \"gridcolor\": \"white\", \"linecolor\": \"white\", \"ticks\": \"\", \"title\": {\"standoff\": 15}, \"zerolinecolor\": \"white\", \"zerolinewidth\": 2}, \"yaxis\": {\"automargin\": true, \"gridcolor\": \"white\", \"linecolor\": \"white\", \"ticks\": \"\", \"title\": {\"standoff\": 15}, \"zerolinecolor\": \"white\", \"zerolinewidth\": 2}}}, \"title\": {\"text\": \"tempo\"}, \"xaxis\": {\"anchor\": \"y\", \"domain\": [0.0, 1.0], \"title\": {\"text\": \"country_name\"}}, \"yaxis\": {\"anchor\": \"x\", \"domain\": [0.0, 1.0], \"title\": {\"text\": \"Average\"}}},\n",
              "                        {\"responsive\": true}\n",
              "                    ).then(function(){\n",
              "                            \n",
              "var gd = document.getElementById('8207d3a1-7689-4805-a6fd-01a9cfe664fc');\n",
              "var x = new MutationObserver(function (mutations, observer) {{\n",
              "        var display = window.getComputedStyle(gd).display;\n",
              "        if (!display || display === 'none') {{\n",
              "            console.log([gd, 'removed!']);\n",
              "            Plotly.purge(gd);\n",
              "            observer.disconnect();\n",
              "        }}\n",
              "}});\n",
              "\n",
              "// Listen for the removal of the full notebook cells\n",
              "var notebookContainer = gd.closest('#notebook-container');\n",
              "if (notebookContainer) {{\n",
              "    x.observe(notebookContainer, {childList: true});\n",
              "}}\n",
              "\n",
              "// Listen for the clearing of the current output cell\n",
              "var outputEl = gd.closest('.output');\n",
              "if (outputEl) {{\n",
              "    x.observe(outputEl, {childList: true});\n",
              "}}\n",
              "\n",
              "                        })\n",
              "                };\n",
              "                \n",
              "            </script>\n",
              "        </div>\n",
              "</body>\n",
              "</html>"
            ]
          },
          "metadata": {
            "tags": []
          }
        },
        {
          "output_type": "stream",
          "text": [
            "None\n"
          ],
          "name": "stdout"
        }
      ]
    },
    {
      "cell_type": "code",
      "metadata": {
        "id": "t_3ADnvLAWDm",
        "colab_type": "code",
        "colab": {
          "base_uri": "https://localhost:8080/",
          "height": 68
        },
        "outputId": "00cd2308-6b5b-4068-ff8a-2201259a1037"
      },
      "source": [
        "song_with_normalized_meta_data.columns[5:]"
      ],
      "execution_count": null,
      "outputs": [
        {
          "output_type": "execute_result",
          "data": {
            "text/plain": [
              "Index(['danceability', 'energy', 'key', 'loudness', 'mode', 'speechiness',\n",
              "       'acousticness', 'instrumentalness', 'liveness', 'valence', 'tempo'],\n",
              "      dtype='object')"
            ]
          },
          "metadata": {
            "tags": []
          },
          "execution_count": 32
        }
      ]
    },
    {
      "cell_type": "markdown",
      "metadata": {
        "id": "inz8QjEmIoD9",
        "colab_type": "text"
      },
      "source": [
        "### Comparing Two Audio features "
      ]
    },
    {
      "cell_type": "code",
      "metadata": {
        "id": "LLwFHHlhBw2B",
        "colab_type": "code",
        "colab": {}
      },
      "source": [
        "def scatterplot_for_meta_data(audio_feature_1,audio_feature_2):\n",
        "    temp1 = song_with_normalized_meta_data.groupby(['country_name'])[[audio_feature_1,audio_feature_2]].mean().reset_index()\n",
        "    temp1['sum_of_two_features'] = temp1[audio_feature_1] + temp1[audio_feature_2]\n",
        "    \n",
        "    fig = px.scatter(temp1, x=audio_feature_1, y=audio_feature_2, color='country_name',size='sum_of_two_features'\n",
        "                  )\n",
        "    #fig.show()\n",
        "    print(fig.show())"
      ],
      "execution_count": null,
      "outputs": []
    },
    {
      "cell_type": "code",
      "metadata": {
        "id": "_GKtNSHvNjAj",
        "colab_type": "code",
        "colab": {
          "base_uri": "https://localhost:8080/",
          "height": 644
        },
        "outputId": "3e3e9945-bc13-4b1c-a2ca-b1853bc53e67"
      },
      "source": [
        "print(\"Choose from \"+ str(song_with_normalized_meta_data.columns[5:]))\n",
        "first_feature = input()\n",
        "second_feature = input()\n",
        "scatterplot_for_meta_data(first_feature,second_feature\n",
        ")"
      ],
      "execution_count": null,
      "outputs": [
        {
          "output_type": "stream",
          "text": [
            "Choose from Index(['danceability', 'energy', 'key', 'loudness', 'mode', 'speechiness',\n",
            "       'acousticness', 'instrumentalness', 'liveness', 'valence', 'tempo'],\n",
            "      dtype='object')\n",
            "danceability\n",
            "loudness\n"
          ],
          "name": "stdout"
        },
        {
          "output_type": "display_data",
          "data": {
            "text/html": [
              "<html>\n",
              "<head><meta charset=\"utf-8\" /></head>\n",
              "<body>\n",
              "    <div>\n",
              "            <script src=\"https://cdnjs.cloudflare.com/ajax/libs/mathjax/2.7.5/MathJax.js?config=TeX-AMS-MML_SVG\"></script><script type=\"text/javascript\">if (window.MathJax) {MathJax.Hub.Config({SVG: {font: \"STIX-Web\"}});}</script>\n",
              "                <script type=\"text/javascript\">window.PlotlyConfig = {MathJaxConfig: 'local'};</script>\n",
              "        <script src=\"https://cdn.plot.ly/plotly-latest.min.js\"></script>    \n",
              "            <div id=\"52b48d1f-4ed1-4da5-b814-1f01ba0bd7fb\" class=\"plotly-graph-div\" style=\"height:525px; width:100%;\"></div>\n",
              "            <script type=\"text/javascript\">\n",
              "                \n",
              "                    window.PLOTLYENV=window.PLOTLYENV || {};\n",
              "                    \n",
              "                if (document.getElementById(\"52b48d1f-4ed1-4da5-b814-1f01ba0bd7fb\")) {\n",
              "                    Plotly.newPlot(\n",
              "                        '52b48d1f-4ed1-4da5-b814-1f01ba0bd7fb',\n",
              "                        [{\"hoverlabel\": {\"namelength\": 0}, \"hovertemplate\": \"country_name=Argentina<br>danceability=%{x}<br>loudness=%{y}<br>sum_of_two_features=%{marker.size}\", \"legendgroup\": \"country_name=Argentina\", \"marker\": {\"color\": \"#636efa\", \"size\": [1.349854018844784], \"sizemode\": \"area\", \"sizeref\": 0.003535434831835481, \"symbol\": \"circle\"}, \"mode\": \"markers\", \"name\": \"country_name=Argentina\", \"showlegend\": true, \"type\": \"scatter\", \"x\": [0.6887702871410734], \"xaxis\": \"x\", \"y\": [0.6610837317037108], \"yaxis\": \"y\"}, {\"hoverlabel\": {\"namelength\": 0}, \"hovertemplate\": \"country_name=Australia<br>danceability=%{x}<br>loudness=%{y}<br>sum_of_two_features=%{marker.size}\", \"legendgroup\": \"country_name=Australia\", \"marker\": {\"color\": \"#EF553B\", \"size\": [1.2283551232187129], \"sizemode\": \"area\", \"sizeref\": 0.003535434831835481, \"symbol\": \"circle\"}, \"mode\": \"markers\", \"name\": \"country_name=Australia\", \"showlegend\": true, \"type\": \"scatter\", \"x\": [0.625424249838456], \"xaxis\": \"x\", \"y\": [0.6029308733802569], \"yaxis\": \"y\"}, {\"hoverlabel\": {\"namelength\": 0}, \"hovertemplate\": \"country_name=Austria<br>danceability=%{x}<br>loudness=%{y}<br>sum_of_two_features=%{marker.size}\", \"legendgroup\": \"country_name=Austria\", \"marker\": {\"color\": \"#00cc96\", \"size\": [1.2948404156186442], \"sizemode\": \"area\", \"sizeref\": 0.003535434831835481, \"symbol\": \"circle\"}, \"mode\": \"markers\", \"name\": \"country_name=Austria\", \"showlegend\": true, \"type\": \"scatter\", \"x\": [0.679558842903657], \"xaxis\": \"x\", \"y\": [0.6152815727149871], \"yaxis\": \"y\"}, {\"hoverlabel\": {\"namelength\": 0}, \"hovertemplate\": \"country_name=Belgium<br>danceability=%{x}<br>loudness=%{y}<br>sum_of_two_features=%{marker.size}\", \"legendgroup\": \"country_name=Belgium\", \"marker\": {\"color\": \"#ab63fa\", \"size\": [1.2646110263243011], \"sizemode\": \"area\", \"sizeref\": 0.003535434831835481, \"symbol\": \"circle\"}, \"mode\": \"markers\", \"name\": \"country_name=Belgium\", \"showlegend\": true, \"type\": \"scatter\", \"x\": [0.6654370479112168], \"xaxis\": \"x\", \"y\": [0.5991739784130843], \"yaxis\": \"y\"}, {\"hoverlabel\": {\"namelength\": 0}, \"hovertemplate\": \"country_name=Bolivia<br>danceability=%{x}<br>loudness=%{y}<br>sum_of_two_features=%{marker.size}\", \"legendgroup\": \"country_name=Bolivia\", \"marker\": {\"color\": \"#FFA15A\", \"size\": [1.3895648436965], \"sizemode\": \"area\", \"sizeref\": 0.003535434831835481, \"symbol\": \"circle\"}, \"mode\": \"markers\", \"name\": \"country_name=Bolivia\", \"showlegend\": true, \"type\": \"scatter\", \"x\": [0.6997565543071161], \"xaxis\": \"x\", \"y\": [0.6898082893893839], \"yaxis\": \"y\"}, {\"hoverlabel\": {\"namelength\": 0}, \"hovertemplate\": \"country_name=Brazil<br>danceability=%{x}<br>loudness=%{y}<br>sum_of_two_features=%{marker.size}\", \"legendgroup\": \"country_name=Brazil\", \"marker\": {\"color\": \"#19d3f3\", \"size\": [1.2874782144516388], \"sizemode\": \"area\", \"sizeref\": 0.003535434831835481, \"symbol\": \"circle\"}, \"mode\": \"markers\", \"name\": \"country_name=Brazil\", \"showlegend\": true, \"type\": \"scatter\", \"x\": [0.6295505617977531], \"xaxis\": \"x\", \"y\": [0.6579276526538856], \"yaxis\": \"y\"}, {\"hoverlabel\": {\"namelength\": 0}, \"hovertemplate\": \"country_name=Bulgaria<br>danceability=%{x}<br>loudness=%{y}<br>sum_of_two_features=%{marker.size}\", \"legendgroup\": \"country_name=Bulgaria\", \"marker\": {\"color\": \"#FF6692\", \"size\": [1.2739264757392914], \"sizemode\": \"area\", \"sizeref\": 0.003535434831835481, \"symbol\": \"circle\"}, \"mode\": \"markers\", \"name\": \"country_name=Bulgaria\", \"showlegend\": true, \"type\": \"scatter\", \"x\": [0.6537141073657929], \"xaxis\": \"x\", \"y\": [0.6202123683734986], \"yaxis\": \"y\"}, {\"hoverlabel\": {\"namelength\": 0}, \"hovertemplate\": \"country_name=Canada<br>danceability=%{x}<br>loudness=%{y}<br>sum_of_two_features=%{marker.size}\", \"legendgroup\": \"country_name=Canada\", \"marker\": {\"color\": \"#B6E880\", \"size\": [1.2675843150218151], \"sizemode\": \"area\", \"sizeref\": 0.003535434831835481, \"symbol\": \"circle\"}, \"mode\": \"markers\", \"name\": \"country_name=Canada\", \"showlegend\": true, \"type\": \"scatter\", \"x\": [0.6604686061614905], \"xaxis\": \"x\", \"y\": [0.6071157088603246], \"yaxis\": \"y\"}, {\"hoverlabel\": {\"namelength\": 0}, \"hovertemplate\": \"country_name=Chile<br>danceability=%{x}<br>loudness=%{y}<br>sum_of_two_features=%{marker.size}\", \"legendgroup\": \"country_name=Chile\", \"marker\": {\"color\": \"#FF97FF\", \"size\": [1.4033915425687336], \"sizemode\": \"area\", \"sizeref\": 0.003535434831835481, \"symbol\": \"circle\"}, \"mode\": \"markers\", \"name\": \"country_name=Chile\", \"showlegend\": true, \"type\": \"scatter\", \"x\": [0.7172097378277151], \"xaxis\": \"x\", \"y\": [0.6861818047410183], \"yaxis\": \"y\"}, {\"hoverlabel\": {\"namelength\": 0}, \"hovertemplate\": \"country_name=Colombia<br>danceability=%{x}<br>loudness=%{y}<br>sum_of_two_features=%{marker.size}\", \"legendgroup\": \"country_name=Colombia\", \"marker\": {\"color\": \"#FECB52\", \"size\": [1.392258411953763], \"sizemode\": \"area\", \"sizeref\": 0.003535434831835481, \"symbol\": \"circle\"}, \"mode\": \"markers\", \"name\": \"country_name=Colombia\", \"showlegend\": true, \"type\": \"scatter\", \"x\": [0.7078963795255929], \"xaxis\": \"x\", \"y\": [0.6843620324281702], \"yaxis\": \"y\"}, {\"hoverlabel\": {\"namelength\": 0}, \"hovertemplate\": \"country_name=Costa Rica<br>danceability=%{x}<br>loudness=%{y}<br>sum_of_two_features=%{marker.size}\", \"legendgroup\": \"country_name=Costa Rica\", \"marker\": {\"color\": \"#636efa\", \"size\": [1.3580182711091693], \"sizemode\": \"area\", \"sizeref\": 0.003535434831835481, \"symbol\": \"circle\"}, \"mode\": \"markers\", \"name\": \"country_name=Costa Rica\", \"showlegend\": true, \"type\": \"scatter\", \"x\": [0.6879275905118603], \"xaxis\": \"x\", \"y\": [0.6700906805973089], \"yaxis\": \"y\"}, {\"hoverlabel\": {\"namelength\": 0}, \"hovertemplate\": \"country_name=Czech Republic<br>danceability=%{x}<br>loudness=%{y}<br>sum_of_two_features=%{marker.size}\", \"legendgroup\": \"country_name=Czech Republic\", \"marker\": {\"color\": \"#EF553B\", \"size\": [1.2287304221086313], \"sizemode\": \"area\", \"sizeref\": 0.003535434831835481, \"symbol\": \"circle\"}, \"mode\": \"markers\", \"name\": \"country_name=Czech Republic\", \"showlegend\": true, \"type\": \"scatter\", \"x\": [0.6293383270911362], \"xaxis\": \"x\", \"y\": [0.5993920950174949], \"yaxis\": \"y\"}, {\"hoverlabel\": {\"namelength\": 0}, \"hovertemplate\": \"country_name=Denmark<br>danceability=%{x}<br>loudness=%{y}<br>sum_of_two_features=%{marker.size}\", \"legendgroup\": \"country_name=Denmark\", \"marker\": {\"color\": \"#00cc96\", \"size\": [1.295491608953045], \"sizemode\": \"area\", \"sizeref\": 0.003535434831835481, \"symbol\": \"circle\"}, \"mode\": \"markers\", \"name\": \"country_name=Denmark\", \"showlegend\": true, \"type\": \"scatter\", \"x\": [0.688975464086977], \"xaxis\": \"x\", \"y\": [0.6065161448660681], \"yaxis\": \"y\"}, {\"hoverlabel\": {\"namelength\": 0}, \"hovertemplate\": \"country_name=Dominican Republic<br>danceability=%{x}<br>loudness=%{y}<br>sum_of_two_features=%{marker.size}\", \"legendgroup\": \"country_name=Dominican Republic\", \"marker\": {\"color\": \"#ab63fa\", \"size\": [1.3985820672510845], \"sizemode\": \"area\", \"sizeref\": 0.003535434831835481, \"symbol\": \"circle\"}, \"mode\": \"markers\", \"name\": \"country_name=Dominican Republic\", \"showlegend\": true, \"type\": \"scatter\", \"x\": [0.7212734082397004], \"xaxis\": \"x\", \"y\": [0.677308659011384], \"yaxis\": \"y\"}, {\"hoverlabel\": {\"namelength\": 0}, \"hovertemplate\": \"country_name=Ecuador<br>danceability=%{x}<br>loudness=%{y}<br>sum_of_two_features=%{marker.size}\", \"legendgroup\": \"country_name=Ecuador\", \"marker\": {\"color\": \"#FFA15A\", \"size\": [1.403936603812776], \"sizemode\": \"area\", \"sizeref\": 0.003535434831835481, \"symbol\": \"circle\"}, \"mode\": \"markers\", \"name\": \"country_name=Ecuador\", \"showlegend\": true, \"type\": \"scatter\", \"x\": [0.720705368289638], \"xaxis\": \"x\", \"y\": [0.6832312355231381], \"yaxis\": \"y\"}, {\"hoverlabel\": {\"namelength\": 0}, \"hovertemplate\": \"country_name=El Salvador<br>danceability=%{x}<br>loudness=%{y}<br>sum_of_two_features=%{marker.size}\", \"legendgroup\": \"country_name=El Salvador\", \"marker\": {\"color\": \"#19d3f3\", \"size\": [1.3769906548852768], \"sizemode\": \"area\", \"sizeref\": 0.003535434831835481, \"symbol\": \"circle\"}, \"mode\": \"markers\", \"name\": \"country_name=El Salvador\", \"showlegend\": true, \"type\": \"scatter\", \"x\": [0.7026217228464422], \"xaxis\": \"x\", \"y\": [0.6743689320388345], \"yaxis\": \"y\"}, {\"hoverlabel\": {\"namelength\": 0}, \"hovertemplate\": \"country_name=Estonia<br>danceability=%{x}<br>loudness=%{y}<br>sum_of_two_features=%{marker.size}\", \"legendgroup\": \"country_name=Estonia\", \"marker\": {\"color\": \"#FF6692\", \"size\": [1.276916260420864], \"sizemode\": \"area\", \"sizeref\": 0.003535434831835481, \"symbol\": \"circle\"}, \"mode\": \"markers\", \"name\": \"country_name=Estonia\", \"showlegend\": true, \"type\": \"scatter\", \"x\": [0.678826466916355], \"xaxis\": \"x\", \"y\": [0.5980897935045091], \"yaxis\": \"y\"}, {\"hoverlabel\": {\"namelength\": 0}, \"hovertemplate\": \"country_name=Finland<br>danceability=%{x}<br>loudness=%{y}<br>sum_of_two_features=%{marker.size}\", \"legendgroup\": \"country_name=Finland\", \"marker\": {\"color\": \"#B6E880\", \"size\": [1.2583548250860135], \"sizemode\": \"area\", \"sizeref\": 0.003535434831835481, \"symbol\": \"circle\"}, \"mode\": \"markers\", \"name\": \"country_name=Finland\", \"showlegend\": true, \"type\": \"scatter\", \"x\": [0.6468672952778877], \"xaxis\": \"x\", \"y\": [0.6114875298081258], \"yaxis\": \"y\"}, {\"hoverlabel\": {\"namelength\": 0}, \"hovertemplate\": \"country_name=France<br>danceability=%{x}<br>loudness=%{y}<br>sum_of_two_features=%{marker.size}\", \"legendgroup\": \"country_name=France\", \"marker\": {\"color\": \"#FF97FF\", \"size\": [1.3163827329829145], \"sizemode\": \"area\", \"sizeref\": 0.003535434831835481, \"symbol\": \"circle\"}, \"mode\": \"markers\", \"name\": \"country_name=France\", \"showlegend\": true, \"type\": \"scatter\", \"x\": [0.7246317103620483], \"xaxis\": \"x\", \"y\": [0.5917510226208662], \"yaxis\": \"y\"}, {\"hoverlabel\": {\"namelength\": 0}, \"hovertemplate\": \"country_name=Germany<br>danceability=%{x}<br>loudness=%{y}<br>sum_of_two_features=%{marker.size}\", \"legendgroup\": \"country_name=Germany\", \"marker\": {\"color\": \"#FECB52\", \"size\": [1.2947211407356294], \"sizemode\": \"area\", \"sizeref\": 0.003535434831835481, \"symbol\": \"circle\"}, \"mode\": \"markers\", \"name\": \"country_name=Germany\", \"showlegend\": true, \"type\": \"scatter\", \"x\": [0.688333333333333], \"xaxis\": \"x\", \"y\": [0.6063878074022965], \"yaxis\": \"y\"}, {\"hoverlabel\": {\"namelength\": 0}, \"hovertemplate\": \"country_name=Greece<br>danceability=%{x}<br>loudness=%{y}<br>sum_of_two_features=%{marker.size}\", \"legendgroup\": \"country_name=Greece\", \"marker\": {\"color\": \"#636efa\", \"size\": [1.2779907089672968], \"sizemode\": \"area\", \"sizeref\": 0.003535434831835481, \"symbol\": \"circle\"}, \"mode\": \"markers\", \"name\": \"country_name=Greece\", \"showlegend\": true, \"type\": \"scatter\", \"x\": [0.6855243445692883], \"xaxis\": \"x\", \"y\": [0.5924663643980086], \"yaxis\": \"y\"}, {\"hoverlabel\": {\"namelength\": 0}, \"hovertemplate\": \"country_name=Guatemala<br>danceability=%{x}<br>loudness=%{y}<br>sum_of_two_features=%{marker.size}\", \"legendgroup\": \"country_name=Guatemala\", \"marker\": {\"color\": \"#EF553B\", \"size\": [1.3703403921752484], \"sizemode\": \"area\", \"sizeref\": 0.003535434831835481, \"symbol\": \"circle\"}, \"mode\": \"markers\", \"name\": \"country_name=Guatemala\", \"showlegend\": true, \"type\": \"scatter\", \"x\": [0.6964357053682897], \"xaxis\": \"x\", \"y\": [0.6739046868069586], \"yaxis\": \"y\"}, {\"hoverlabel\": {\"namelength\": 0}, \"hovertemplate\": \"country_name=Honduras<br>danceability=%{x}<br>loudness=%{y}<br>sum_of_two_features=%{marker.size}\", \"legendgroup\": \"country_name=Honduras\", \"marker\": {\"color\": \"#00cc96\", \"size\": [1.3720659888632878], \"sizemode\": \"area\", \"sizeref\": 0.003535434831835481, \"symbol\": \"circle\"}, \"mode\": \"markers\", \"name\": \"country_name=Honduras\", \"showlegend\": true, \"type\": \"scatter\", \"x\": [0.7023533083645446], \"xaxis\": \"x\", \"y\": [0.6697126804987431], \"yaxis\": \"y\"}, {\"hoverlabel\": {\"namelength\": 0}, \"hovertemplate\": \"country_name=Hong Kong<br>danceability=%{x}<br>loudness=%{y}<br>sum_of_two_features=%{marker.size}\", \"legendgroup\": \"country_name=Hong Kong\", \"marker\": {\"color\": \"#ab63fa\", \"size\": [1.1338376232557854], \"sizemode\": \"area\", \"sizeref\": 0.003535434831835481, \"symbol\": \"circle\"}, \"mode\": \"markers\", \"name\": \"country_name=Hong Kong\", \"showlegend\": true, \"type\": \"scatter\", \"x\": [0.5457865168539326], \"xaxis\": \"x\", \"y\": [0.5880511064018529], \"yaxis\": \"y\"}, {\"hoverlabel\": {\"namelength\": 0}, \"hovertemplate\": \"country_name=Hungary<br>danceability=%{x}<br>loudness=%{y}<br>sum_of_two_features=%{marker.size}\", \"legendgroup\": \"country_name=Hungary\", \"marker\": {\"color\": \"#FFA15A\", \"size\": [1.2910992594435635], \"sizemode\": \"area\", \"sizeref\": 0.003535434831835481, \"symbol\": \"circle\"}, \"mode\": \"markers\", \"name\": \"country_name=Hungary\", \"showlegend\": true, \"type\": \"scatter\", \"x\": [0.6550103827502058], \"xaxis\": \"x\", \"y\": [0.6360888766933578], \"yaxis\": \"y\"}, {\"hoverlabel\": {\"namelength\": 0}, \"hovertemplate\": \"country_name=Iceland<br>danceability=%{x}<br>loudness=%{y}<br>sum_of_two_features=%{marker.size}\", \"legendgroup\": \"country_name=Iceland\", \"marker\": {\"color\": \"#19d3f3\", \"size\": [1.2126999763053217], \"sizemode\": \"area\", \"sizeref\": 0.003535434831835481, \"symbol\": \"circle\"}, \"mode\": \"markers\", \"name\": \"country_name=Iceland\", \"showlegend\": true, \"type\": \"scatter\", \"x\": [0.6400749063670415], \"xaxis\": \"x\", \"y\": [0.5726250699382802], \"yaxis\": \"y\"}, {\"hoverlabel\": {\"namelength\": 0}, \"hovertemplate\": \"country_name=India<br>danceability=%{x}<br>loudness=%{y}<br>sum_of_two_features=%{marker.size}\", \"legendgroup\": \"country_name=India\", \"marker\": {\"color\": \"#FF6692\", \"size\": [1.1778925110306706], \"sizemode\": \"area\", \"sizeref\": 0.003535434831835481, \"symbol\": \"circle\"}, \"mode\": \"markers\", \"name\": \"country_name=India\", \"showlegend\": true, \"type\": \"scatter\", \"x\": [0.5747253433208488], \"xaxis\": \"x\", \"y\": [0.6031671677098218], \"yaxis\": \"y\"}, {\"hoverlabel\": {\"namelength\": 0}, \"hovertemplate\": \"country_name=Indonesia<br>danceability=%{x}<br>loudness=%{y}<br>sum_of_two_features=%{marker.size}\", \"legendgroup\": \"country_name=Indonesia\", \"marker\": {\"color\": \"#B6E880\", \"size\": [1.0783776676694912], \"sizemode\": \"area\", \"sizeref\": 0.003535434831835481, \"symbol\": \"circle\"}, \"mode\": \"markers\", \"name\": \"country_name=Indonesia\", \"showlegend\": true, \"type\": \"scatter\", \"x\": [0.5287453183520602], \"xaxis\": \"x\", \"y\": [0.549632349317431], \"yaxis\": \"y\"}, {\"hoverlabel\": {\"namelength\": 0}, \"hovertemplate\": \"country_name=Ireland<br>danceability=%{x}<br>loudness=%{y}<br>sum_of_two_features=%{marker.size}\", \"legendgroup\": \"country_name=Ireland\", \"marker\": {\"color\": \"#FF97FF\", \"size\": [1.229646339843694], \"sizemode\": \"area\", \"sizeref\": 0.003535434831835481, \"symbol\": \"circle\"}, \"mode\": \"markers\", \"name\": \"country_name=Ireland\", \"showlegend\": true, \"type\": \"scatter\", \"x\": [0.6280277793461693], \"xaxis\": \"x\", \"y\": [0.6016185604975248], \"yaxis\": \"y\"}, {\"hoverlabel\": {\"namelength\": 0}, \"hovertemplate\": \"country_name=Israel<br>danceability=%{x}<br>loudness=%{y}<br>sum_of_two_features=%{marker.size}\", \"legendgroup\": \"country_name=Israel\", \"marker\": {\"color\": \"#FECB52\", \"size\": [1.1830099831472056], \"sizemode\": \"area\", \"sizeref\": 0.003535434831835481, \"symbol\": \"circle\"}, \"mode\": \"markers\", \"name\": \"country_name=Israel\", \"showlegend\": true, \"type\": \"scatter\", \"x\": [0.5977652933832711], \"xaxis\": \"x\", \"y\": [0.5852446897639344], \"yaxis\": \"y\"}, {\"hoverlabel\": {\"namelength\": 0}, \"hovertemplate\": \"country_name=Italy<br>danceability=%{x}<br>loudness=%{y}<br>sum_of_two_features=%{marker.size}\", \"legendgroup\": \"country_name=Italy\", \"marker\": {\"color\": \"#636efa\", \"size\": [1.3009746069224621], \"sizemode\": \"area\", \"sizeref\": 0.003535434831835481, \"symbol\": \"circle\"}, \"mode\": \"markers\", \"name\": \"country_name=Italy\", \"showlegend\": true, \"type\": \"scatter\", \"x\": [0.6742509363295887], \"xaxis\": \"x\", \"y\": [0.6267236705928736], \"yaxis\": \"y\"}, {\"hoverlabel\": {\"namelength\": 0}, \"hovertemplate\": \"country_name=Japan<br>danceability=%{x}<br>loudness=%{y}<br>sum_of_two_features=%{marker.size}\", \"legendgroup\": \"country_name=Japan\", \"marker\": {\"color\": \"#EF553B\", \"size\": [1.2362575115711836], \"sizemode\": \"area\", \"sizeref\": 0.003535434831835481, \"symbol\": \"circle\"}, \"mode\": \"markers\", \"name\": \"country_name=Japan\", \"showlegend\": true, \"type\": \"scatter\", \"x\": [0.5321660424469414], \"xaxis\": \"x\", \"y\": [0.7040914691242421], \"yaxis\": \"y\"}, {\"hoverlabel\": {\"namelength\": 0}, \"hovertemplate\": \"country_name=Latvia<br>danceability=%{x}<br>loudness=%{y}<br>sum_of_two_features=%{marker.size}\", \"legendgroup\": \"country_name=Latvia\", \"marker\": {\"color\": \"#00cc96\", \"size\": [1.2663772714240564], \"sizemode\": \"area\", \"sizeref\": 0.003535434831835481, \"symbol\": \"circle\"}, \"mode\": \"markers\", \"name\": \"country_name=Latvia\", \"showlegend\": true, \"type\": \"scatter\", \"x\": [0.6682937311966602], \"xaxis\": \"x\", \"y\": [0.5980835402273962], \"yaxis\": \"y\"}, {\"hoverlabel\": {\"namelength\": 0}, \"hovertemplate\": \"country_name=Lithuania<br>danceability=%{x}<br>loudness=%{y}<br>sum_of_two_features=%{marker.size}\", \"legendgroup\": \"country_name=Lithuania\", \"marker\": {\"color\": \"#ab63fa\", \"size\": [1.2645375621358732], \"sizemode\": \"area\", \"sizeref\": 0.003535434831835481, \"symbol\": \"circle\"}, \"mode\": \"markers\", \"name\": \"country_name=Lithuania\", \"showlegend\": true, \"type\": \"scatter\", \"x\": [0.6771808676654183], \"xaxis\": \"x\", \"y\": [0.5873566944704549], \"yaxis\": \"y\"}, {\"hoverlabel\": {\"namelength\": 0}, \"hovertemplate\": \"country_name=Luxembourg<br>danceability=%{x}<br>loudness=%{y}<br>sum_of_two_features=%{marker.size}\", \"legendgroup\": \"country_name=Luxembourg\", \"marker\": {\"color\": \"#FFA15A\", \"size\": [1.2621666166099161], \"sizemode\": \"area\", \"sizeref\": 0.003535434831835481, \"symbol\": \"circle\"}, \"mode\": \"markers\", \"name\": \"country_name=Luxembourg\", \"showlegend\": true, \"type\": \"scatter\", \"x\": [0.6541054451166811], \"xaxis\": \"x\", \"y\": [0.6080611714932349], \"yaxis\": \"y\"}, {\"hoverlabel\": {\"namelength\": 0}, \"hovertemplate\": \"country_name=Malaysia<br>danceability=%{x}<br>loudness=%{y}<br>sum_of_two_features=%{marker.size}\", \"legendgroup\": \"country_name=Malaysia\", \"marker\": {\"color\": \"#19d3f3\", \"size\": [1.1767092616413708], \"sizemode\": \"area\", \"sizeref\": 0.003535434831835481, \"symbol\": \"circle\"}, \"mode\": \"markers\", \"name\": \"country_name=Malaysia\", \"showlegend\": true, \"type\": \"scatter\", \"x\": [0.5757053682896384], \"xaxis\": \"x\", \"y\": [0.6010038933517324], \"yaxis\": \"y\"}, {\"hoverlabel\": {\"namelength\": 0}, \"hovertemplate\": \"country_name=Mexico<br>danceability=%{x}<br>loudness=%{y}<br>sum_of_two_features=%{marker.size}\", \"legendgroup\": \"country_name=Mexico\", \"marker\": {\"color\": \"#FF6692\", \"size\": [1.3449344038620106], \"sizemode\": \"area\", \"sizeref\": 0.003535434831835481, \"symbol\": \"circle\"}, \"mode\": \"markers\", \"name\": \"country_name=Mexico\", \"showlegend\": true, \"type\": \"scatter\", \"x\": [0.6810112359550566], \"xaxis\": \"x\", \"y\": [0.6639231679069539], \"yaxis\": \"y\"}, {\"hoverlabel\": {\"namelength\": 0}, \"hovertemplate\": \"country_name=Netherlands<br>danceability=%{x}<br>loudness=%{y}<br>sum_of_two_features=%{marker.size}\", \"legendgroup\": \"country_name=Netherlands\", \"marker\": {\"color\": \"#B6E880\", \"size\": [1.2452416165982085], \"sizemode\": \"area\", \"sizeref\": 0.003535434831835481, \"symbol\": \"circle\"}, \"mode\": \"markers\", \"name\": \"country_name=Netherlands\", \"showlegend\": true, \"type\": \"scatter\", \"x\": [0.644903669408215], \"xaxis\": \"x\", \"y\": [0.6003379471899934], \"yaxis\": \"y\"}, {\"hoverlabel\": {\"namelength\": 0}, \"hovertemplate\": \"country_name=New Zealand<br>danceability=%{x}<br>loudness=%{y}<br>sum_of_two_features=%{marker.size}\", \"legendgroup\": \"country_name=New Zealand\", \"marker\": {\"color\": \"#FF97FF\", \"size\": [1.2157901020691468], \"sizemode\": \"area\", \"sizeref\": 0.003535434831835481, \"symbol\": \"circle\"}, \"mode\": \"markers\", \"name\": \"country_name=New Zealand\", \"showlegend\": true, \"type\": \"scatter\", \"x\": [0.63754477757075], \"xaxis\": \"x\", \"y\": [0.5782453244983968], \"yaxis\": \"y\"}, {\"hoverlabel\": {\"namelength\": 0}, \"hovertemplate\": \"country_name=Nicaragua<br>danceability=%{x}<br>loudness=%{y}<br>sum_of_two_features=%{marker.size}\", \"legendgroup\": \"country_name=Nicaragua\", \"marker\": {\"color\": \"#FECB52\", \"size\": [1.4141739327341925], \"sizemode\": \"area\", \"sizeref\": 0.003535434831835481, \"symbol\": \"circle\"}, \"mode\": \"markers\", \"name\": \"country_name=Nicaragua\", \"showlegend\": true, \"type\": \"scatter\", \"x\": [0.7218168011634944], \"xaxis\": \"x\", \"y\": [0.692357131570698], \"yaxis\": \"y\"}, {\"hoverlabel\": {\"namelength\": 0}, \"hovertemplate\": \"country_name=Norway<br>danceability=%{x}<br>loudness=%{y}<br>sum_of_two_features=%{marker.size}\", \"legendgroup\": \"country_name=Norway\", \"marker\": {\"color\": \"#636efa\", \"size\": [1.2225989613839847], \"sizemode\": \"area\", \"sizeref\": 0.003535434831835481, \"symbol\": \"circle\"}, \"mode\": \"markers\", \"name\": \"country_name=Norway\", \"showlegend\": true, \"type\": \"scatter\", \"x\": [0.6196839377913287], \"xaxis\": \"x\", \"y\": [0.602915023592656], \"yaxis\": \"y\"}, {\"hoverlabel\": {\"namelength\": 0}, \"hovertemplate\": \"country_name=Panama<br>danceability=%{x}<br>loudness=%{y}<br>sum_of_two_features=%{marker.size}\", \"legendgroup\": \"country_name=Panama\", \"marker\": {\"color\": \"#EF553B\", \"size\": [1.3861596563386005], \"sizemode\": \"area\", \"sizeref\": 0.003535434831835481, \"symbol\": \"circle\"}, \"mode\": \"markers\", \"name\": \"country_name=Panama\", \"showlegend\": true, \"type\": \"scatter\", \"x\": [0.7027465667915105], \"xaxis\": \"x\", \"y\": [0.6834130895470899], \"yaxis\": \"y\"}, {\"hoverlabel\": {\"namelength\": 0}, \"hovertemplate\": \"country_name=Paraguay<br>danceability=%{x}<br>loudness=%{y}<br>sum_of_two_features=%{marker.size}\", \"legendgroup\": \"country_name=Paraguay\", \"marker\": {\"color\": \"#00cc96\", \"size\": [1.379012440156768], \"sizemode\": \"area\", \"sizeref\": 0.003535434831835481, \"symbol\": \"circle\"}, \"mode\": \"markers\", \"name\": \"country_name=Paraguay\", \"showlegend\": true, \"type\": \"scatter\", \"x\": [0.6985767790262174], \"xaxis\": \"x\", \"y\": [0.6804356611305507], \"yaxis\": \"y\"}, {\"hoverlabel\": {\"namelength\": 0}, \"hovertemplate\": \"country_name=Peru<br>danceability=%{x}<br>loudness=%{y}<br>sum_of_two_features=%{marker.size}\", \"legendgroup\": \"country_name=Peru\", \"marker\": {\"color\": \"#ab63fa\", \"size\": [1.3977720333319985], \"sizemode\": \"area\", \"sizeref\": 0.003535434831835481, \"symbol\": \"circle\"}, \"mode\": \"markers\", \"name\": \"country_name=Peru\", \"showlegend\": true, \"type\": \"scatter\", \"x\": [0.706004993757803], \"xaxis\": \"x\", \"y\": [0.6917670395741955], \"yaxis\": \"y\"}, {\"hoverlabel\": {\"namelength\": 0}, \"hovertemplate\": \"country_name=Philippines<br>danceability=%{x}<br>loudness=%{y}<br>sum_of_two_features=%{marker.size}\", \"legendgroup\": \"country_name=Philippines\", \"marker\": {\"color\": \"#FFA15A\", \"size\": [1.1524233421199697], \"sizemode\": \"area\", \"sizeref\": 0.003535434831835481, \"symbol\": \"circle\"}, \"mode\": \"markers\", \"name\": \"country_name=Philippines\", \"showlegend\": true, \"type\": \"scatter\", \"x\": [0.5796317103620475], \"xaxis\": \"x\", \"y\": [0.5727916317579221], \"yaxis\": \"y\"}, {\"hoverlabel\": {\"namelength\": 0}, \"hovertemplate\": \"country_name=Poland<br>danceability=%{x}<br>loudness=%{y}<br>sum_of_two_features=%{marker.size}\", \"legendgroup\": \"country_name=Poland\", \"marker\": {\"color\": \"#19d3f3\", \"size\": [1.269595354508259], \"sizemode\": \"area\", \"sizeref\": 0.003535434831835481, \"symbol\": \"circle\"}, \"mode\": \"markers\", \"name\": \"country_name=Poland\", \"showlegend\": true, \"type\": \"scatter\", \"x\": [0.6773283395755308], \"xaxis\": \"x\", \"y\": [0.5922670149327282], \"yaxis\": \"y\"}, {\"hoverlabel\": {\"namelength\": 0}, \"hovertemplate\": \"country_name=Portugal<br>danceability=%{x}<br>loudness=%{y}<br>sum_of_two_features=%{marker.size}\", \"legendgroup\": \"country_name=Portugal\", \"marker\": {\"color\": \"#FF6692\", \"size\": [1.244159798588465], \"sizemode\": \"area\", \"sizeref\": 0.003535434831835481, \"symbol\": \"circle\"}, \"mode\": \"markers\", \"name\": \"country_name=Portugal\", \"showlegend\": true, \"type\": \"scatter\", \"x\": [0.6551935081148563], \"xaxis\": \"x\", \"y\": [0.5889662904736086], \"yaxis\": \"y\"}, {\"hoverlabel\": {\"namelength\": 0}, \"hovertemplate\": \"country_name=Romania<br>danceability=%{x}<br>loudness=%{y}<br>sum_of_two_features=%{marker.size}\", \"legendgroup\": \"country_name=Romania\", \"marker\": {\"color\": \"#B6E880\", \"size\": [1.277721265141189], \"sizemode\": \"area\", \"sizeref\": 0.003535434831835481, \"symbol\": \"circle\"}, \"mode\": \"markers\", \"name\": \"country_name=Romania\", \"showlegend\": true, \"type\": \"scatter\", \"x\": [0.6807570938337132], \"xaxis\": \"x\", \"y\": [0.5969641713074759], \"yaxis\": \"y\"}, {\"hoverlabel\": {\"namelength\": 0}, \"hovertemplate\": \"country_name=Singapore<br>danceability=%{x}<br>loudness=%{y}<br>sum_of_two_features=%{marker.size}\", \"legendgroup\": \"country_name=Singapore\", \"marker\": {\"color\": \"#FF97FF\", \"size\": [1.1872566249090708], \"sizemode\": \"area\", \"sizeref\": 0.003535434831835481, \"symbol\": \"circle\"}, \"mode\": \"markers\", \"name\": \"country_name=Singapore\", \"showlegend\": true, \"type\": \"scatter\", \"x\": [0.5858239700374533], \"xaxis\": \"x\", \"y\": [0.6014326548716176], \"yaxis\": \"y\"}, {\"hoverlabel\": {\"namelength\": 0}, \"hovertemplate\": \"country_name=Slovakia<br>danceability=%{x}<br>loudness=%{y}<br>sum_of_two_features=%{marker.size}\", \"legendgroup\": \"country_name=Slovakia\", \"marker\": {\"color\": \"#FECB52\", \"size\": [1.2827029898497462], \"sizemode\": \"area\", \"sizeref\": 0.003535434831835481, \"symbol\": \"circle\"}, \"mode\": \"markers\", \"name\": \"country_name=Slovakia\", \"showlegend\": true, \"type\": \"scatter\", \"x\": [0.6586329588014985], \"xaxis\": \"x\", \"y\": [0.6240700310482475], \"yaxis\": \"y\"}, {\"hoverlabel\": {\"namelength\": 0}, \"hovertemplate\": \"country_name=Spain<br>danceability=%{x}<br>loudness=%{y}<br>sum_of_two_features=%{marker.size}\", \"legendgroup\": \"country_name=Spain\", \"marker\": {\"color\": \"#636efa\", \"size\": [1.3956949967240075], \"sizemode\": \"area\", \"sizeref\": 0.003535434831835481, \"symbol\": \"circle\"}, \"mode\": \"markers\", \"name\": \"country_name=Spain\", \"showlegend\": true, \"type\": \"scatter\", \"x\": [0.7111548064918849], \"xaxis\": \"x\", \"y\": [0.6845401902321225], \"yaxis\": \"y\"}, {\"hoverlabel\": {\"namelength\": 0}, \"hovertemplate\": \"country_name=Sweden<br>danceability=%{x}<br>loudness=%{y}<br>sum_of_two_features=%{marker.size}\", \"legendgroup\": \"country_name=Sweden\", \"marker\": {\"color\": \"#EF553B\", \"size\": [1.2105026625180555], \"sizemode\": \"area\", \"sizeref\": 0.003535434831835481, \"symbol\": \"circle\"}, \"mode\": \"markers\", \"name\": \"country_name=Sweden\", \"showlegend\": true, \"type\": \"scatter\", \"x\": [0.6301733386031282], \"xaxis\": \"x\", \"y\": [0.5803293239149272], \"yaxis\": \"y\"}, {\"hoverlabel\": {\"namelength\": 0}, \"hovertemplate\": \"country_name=Switzerland<br>danceability=%{x}<br>loudness=%{y}<br>sum_of_two_features=%{marker.size}\", \"legendgroup\": \"country_name=Switzerland\", \"marker\": {\"color\": \"#00cc96\", \"size\": [1.2931771365828197], \"sizemode\": \"area\", \"sizeref\": 0.003535434831835481, \"symbol\": \"circle\"}, \"mode\": \"markers\", \"name\": \"country_name=Switzerland\", \"showlegend\": true, \"type\": \"scatter\", \"x\": [0.6793882646691638], \"xaxis\": \"x\", \"y\": [0.6137888719136559], \"yaxis\": \"y\"}, {\"hoverlabel\": {\"namelength\": 0}, \"hovertemplate\": \"country_name=Taiwan<br>danceability=%{x}<br>loudness=%{y}<br>sum_of_two_features=%{marker.size}\", \"legendgroup\": \"country_name=Taiwan\", \"marker\": {\"color\": \"#ab63fa\", \"size\": [1.1374034535953808], \"sizemode\": \"area\", \"sizeref\": 0.003535434831835481, \"symbol\": \"circle\"}, \"mode\": \"markers\", \"name\": \"country_name=Taiwan\", \"showlegend\": true, \"type\": \"scatter\", \"x\": [0.5531897627965047], \"xaxis\": \"x\", \"y\": [0.5842136907988761], \"yaxis\": \"y\"}, {\"hoverlabel\": {\"namelength\": 0}, \"hovertemplate\": \"country_name=Thailand<br>danceability=%{x}<br>loudness=%{y}<br>sum_of_two_features=%{marker.size}\", \"legendgroup\": \"country_name=Thailand\", \"marker\": {\"color\": \"#FFA15A\", \"size\": [1.1906301315239052], \"sizemode\": \"area\", \"sizeref\": 0.003535434831835481, \"symbol\": \"circle\"}, \"mode\": \"markers\", \"name\": \"country_name=Thailand\", \"showlegend\": true, \"type\": \"scatter\", \"x\": [0.5873345817727842], \"xaxis\": \"x\", \"y\": [0.6032955497511209], \"yaxis\": \"y\"}, {\"hoverlabel\": {\"namelength\": 0}, \"hovertemplate\": \"country_name=Turkey<br>danceability=%{x}<br>loudness=%{y}<br>sum_of_two_features=%{marker.size}\", \"legendgroup\": \"country_name=Turkey\", \"marker\": {\"color\": \"#19d3f3\", \"size\": [1.21290366398613], \"sizemode\": \"area\", \"sizeref\": 0.003535434831835481, \"symbol\": \"circle\"}, \"mode\": \"markers\", \"name\": \"country_name=Turkey\", \"showlegend\": true, \"type\": \"scatter\", \"x\": [0.6550873907615481], \"xaxis\": \"x\", \"y\": [0.5578162732245819], \"yaxis\": \"y\"}, {\"hoverlabel\": {\"namelength\": 0}, \"hovertemplate\": \"country_name=United Kingdom<br>danceability=%{x}<br>loudness=%{y}<br>sum_of_two_features=%{marker.size}\", \"legendgroup\": \"country_name=United Kingdom\", \"marker\": {\"color\": \"#FF6692\", \"size\": [1.235836886465745], \"sizemode\": \"area\", \"sizeref\": 0.003535434831835481, \"symbol\": \"circle\"}, \"mode\": \"markers\", \"name\": \"country_name=United Kingdom\", \"showlegend\": true, \"type\": \"scatter\", \"x\": [0.6354117654439491], \"xaxis\": \"x\", \"y\": [0.6004251210217959], \"yaxis\": \"y\"}, {\"hoverlabel\": {\"namelength\": 0}, \"hovertemplate\": \"country_name=United States<br>danceability=%{x}<br>loudness=%{y}<br>sum_of_two_features=%{marker.size}\", \"legendgroup\": \"country_name=United States\", \"marker\": {\"color\": \"#B6E880\", \"size\": [1.2642635729719036], \"sizemode\": \"area\", \"sizeref\": 0.003535434831835481, \"symbol\": \"circle\"}, \"mode\": \"markers\", \"name\": \"country_name=United States\", \"showlegend\": true, \"type\": \"scatter\", \"x\": [0.6603366395021303], \"xaxis\": \"x\", \"y\": [0.6039269334697733], \"yaxis\": \"y\"}],\n",
              "                        {\"legend\": {\"itemsizing\": \"constant\", \"tracegroupgap\": 0}, \"margin\": {\"t\": 60}, \"template\": {\"data\": {\"bar\": [{\"error_x\": {\"color\": \"#2a3f5f\"}, \"error_y\": {\"color\": \"#2a3f5f\"}, \"marker\": {\"line\": {\"color\": \"#E5ECF6\", \"width\": 0.5}}, \"type\": \"bar\"}], \"barpolar\": [{\"marker\": {\"line\": {\"color\": \"#E5ECF6\", \"width\": 0.5}}, \"type\": \"barpolar\"}], \"carpet\": [{\"aaxis\": {\"endlinecolor\": \"#2a3f5f\", \"gridcolor\": \"white\", \"linecolor\": \"white\", \"minorgridcolor\": \"white\", \"startlinecolor\": \"#2a3f5f\"}, \"baxis\": {\"endlinecolor\": \"#2a3f5f\", \"gridcolor\": \"white\", \"linecolor\": \"white\", \"minorgridcolor\": \"white\", \"startlinecolor\": \"#2a3f5f\"}, \"type\": \"carpet\"}], \"choropleth\": [{\"colorbar\": {\"outlinewidth\": 0, \"ticks\": \"\"}, \"type\": \"choropleth\"}], \"contour\": [{\"colorbar\": {\"outlinewidth\": 0, \"ticks\": \"\"}, \"colorscale\": [[0.0, \"#0d0887\"], [0.1111111111111111, \"#46039f\"], [0.2222222222222222, \"#7201a8\"], [0.3333333333333333, \"#9c179e\"], [0.4444444444444444, \"#bd3786\"], [0.5555555555555556, \"#d8576b\"], [0.6666666666666666, \"#ed7953\"], [0.7777777777777778, \"#fb9f3a\"], [0.8888888888888888, \"#fdca26\"], [1.0, \"#f0f921\"]], \"type\": \"contour\"}], \"contourcarpet\": [{\"colorbar\": {\"outlinewidth\": 0, \"ticks\": \"\"}, \"type\": \"contourcarpet\"}], \"heatmap\": [{\"colorbar\": {\"outlinewidth\": 0, \"ticks\": \"\"}, \"colorscale\": [[0.0, \"#0d0887\"], [0.1111111111111111, \"#46039f\"], [0.2222222222222222, \"#7201a8\"], [0.3333333333333333, \"#9c179e\"], [0.4444444444444444, \"#bd3786\"], [0.5555555555555556, \"#d8576b\"], [0.6666666666666666, \"#ed7953\"], [0.7777777777777778, \"#fb9f3a\"], [0.8888888888888888, \"#fdca26\"], [1.0, \"#f0f921\"]], \"type\": \"heatmap\"}], \"heatmapgl\": [{\"colorbar\": {\"outlinewidth\": 0, \"ticks\": \"\"}, \"colorscale\": [[0.0, \"#0d0887\"], [0.1111111111111111, \"#46039f\"], [0.2222222222222222, \"#7201a8\"], [0.3333333333333333, \"#9c179e\"], [0.4444444444444444, \"#bd3786\"], [0.5555555555555556, \"#d8576b\"], [0.6666666666666666, \"#ed7953\"], [0.7777777777777778, \"#fb9f3a\"], [0.8888888888888888, \"#fdca26\"], [1.0, \"#f0f921\"]], \"type\": \"heatmapgl\"}], \"histogram\": [{\"marker\": {\"colorbar\": {\"outlinewidth\": 0, \"ticks\": \"\"}}, \"type\": \"histogram\"}], \"histogram2d\": [{\"colorbar\": {\"outlinewidth\": 0, \"ticks\": \"\"}, \"colorscale\": [[0.0, \"#0d0887\"], [0.1111111111111111, \"#46039f\"], [0.2222222222222222, \"#7201a8\"], [0.3333333333333333, \"#9c179e\"], [0.4444444444444444, \"#bd3786\"], [0.5555555555555556, \"#d8576b\"], [0.6666666666666666, \"#ed7953\"], [0.7777777777777778, \"#fb9f3a\"], [0.8888888888888888, \"#fdca26\"], [1.0, \"#f0f921\"]], \"type\": \"histogram2d\"}], \"histogram2dcontour\": [{\"colorbar\": {\"outlinewidth\": 0, \"ticks\": \"\"}, \"colorscale\": [[0.0, \"#0d0887\"], [0.1111111111111111, \"#46039f\"], [0.2222222222222222, \"#7201a8\"], [0.3333333333333333, \"#9c179e\"], [0.4444444444444444, \"#bd3786\"], [0.5555555555555556, \"#d8576b\"], [0.6666666666666666, \"#ed7953\"], [0.7777777777777778, \"#fb9f3a\"], [0.8888888888888888, \"#fdca26\"], [1.0, \"#f0f921\"]], \"type\": \"histogram2dcontour\"}], \"mesh3d\": [{\"colorbar\": {\"outlinewidth\": 0, \"ticks\": \"\"}, \"type\": \"mesh3d\"}], \"parcoords\": [{\"line\": {\"colorbar\": {\"outlinewidth\": 0, \"ticks\": \"\"}}, \"type\": \"parcoords\"}], \"pie\": [{\"automargin\": true, \"type\": \"pie\"}], \"scatter\": [{\"marker\": {\"colorbar\": {\"outlinewidth\": 0, \"ticks\": \"\"}}, \"type\": \"scatter\"}], \"scatter3d\": [{\"line\": {\"colorbar\": {\"outlinewidth\": 0, \"ticks\": \"\"}}, \"marker\": {\"colorbar\": {\"outlinewidth\": 0, \"ticks\": \"\"}}, \"type\": \"scatter3d\"}], \"scattercarpet\": [{\"marker\": {\"colorbar\": {\"outlinewidth\": 0, \"ticks\": \"\"}}, \"type\": \"scattercarpet\"}], \"scattergeo\": [{\"marker\": {\"colorbar\": {\"outlinewidth\": 0, \"ticks\": \"\"}}, \"type\": \"scattergeo\"}], \"scattergl\": [{\"marker\": {\"colorbar\": {\"outlinewidth\": 0, \"ticks\": \"\"}}, \"type\": \"scattergl\"}], \"scattermapbox\": [{\"marker\": {\"colorbar\": {\"outlinewidth\": 0, \"ticks\": \"\"}}, \"type\": \"scattermapbox\"}], \"scatterpolar\": [{\"marker\": {\"colorbar\": {\"outlinewidth\": 0, \"ticks\": \"\"}}, \"type\": \"scatterpolar\"}], \"scatterpolargl\": [{\"marker\": {\"colorbar\": {\"outlinewidth\": 0, \"ticks\": \"\"}}, \"type\": \"scatterpolargl\"}], \"scatterternary\": [{\"marker\": {\"colorbar\": {\"outlinewidth\": 0, \"ticks\": \"\"}}, \"type\": \"scatterternary\"}], \"surface\": [{\"colorbar\": {\"outlinewidth\": 0, \"ticks\": \"\"}, \"colorscale\": [[0.0, \"#0d0887\"], [0.1111111111111111, \"#46039f\"], [0.2222222222222222, \"#7201a8\"], [0.3333333333333333, \"#9c179e\"], [0.4444444444444444, \"#bd3786\"], [0.5555555555555556, \"#d8576b\"], [0.6666666666666666, \"#ed7953\"], [0.7777777777777778, \"#fb9f3a\"], [0.8888888888888888, \"#fdca26\"], [1.0, \"#f0f921\"]], \"type\": \"surface\"}], \"table\": [{\"cells\": {\"fill\": {\"color\": \"#EBF0F8\"}, \"line\": {\"color\": \"white\"}}, \"header\": {\"fill\": {\"color\": \"#C8D4E3\"}, \"line\": {\"color\": \"white\"}}, \"type\": \"table\"}]}, \"layout\": {\"annotationdefaults\": {\"arrowcolor\": \"#2a3f5f\", \"arrowhead\": 0, \"arrowwidth\": 1}, \"coloraxis\": {\"colorbar\": {\"outlinewidth\": 0, \"ticks\": \"\"}}, \"colorscale\": {\"diverging\": [[0, \"#8e0152\"], [0.1, \"#c51b7d\"], [0.2, \"#de77ae\"], [0.3, \"#f1b6da\"], [0.4, \"#fde0ef\"], [0.5, \"#f7f7f7\"], [0.6, \"#e6f5d0\"], [0.7, \"#b8e186\"], [0.8, \"#7fbc41\"], [0.9, \"#4d9221\"], [1, \"#276419\"]], \"sequential\": [[0.0, \"#0d0887\"], [0.1111111111111111, \"#46039f\"], [0.2222222222222222, \"#7201a8\"], [0.3333333333333333, \"#9c179e\"], [0.4444444444444444, \"#bd3786\"], [0.5555555555555556, \"#d8576b\"], [0.6666666666666666, \"#ed7953\"], [0.7777777777777778, \"#fb9f3a\"], [0.8888888888888888, \"#fdca26\"], [1.0, \"#f0f921\"]], \"sequentialminus\": [[0.0, \"#0d0887\"], [0.1111111111111111, \"#46039f\"], [0.2222222222222222, \"#7201a8\"], [0.3333333333333333, \"#9c179e\"], [0.4444444444444444, \"#bd3786\"], [0.5555555555555556, \"#d8576b\"], [0.6666666666666666, \"#ed7953\"], [0.7777777777777778, \"#fb9f3a\"], [0.8888888888888888, \"#fdca26\"], [1.0, \"#f0f921\"]]}, \"colorway\": [\"#636efa\", \"#EF553B\", \"#00cc96\", \"#ab63fa\", \"#FFA15A\", \"#19d3f3\", \"#FF6692\", \"#B6E880\", \"#FF97FF\", \"#FECB52\"], \"font\": {\"color\": \"#2a3f5f\"}, \"geo\": {\"bgcolor\": \"white\", \"lakecolor\": \"white\", \"landcolor\": \"#E5ECF6\", \"showlakes\": true, \"showland\": true, \"subunitcolor\": \"white\"}, \"hoverlabel\": {\"align\": \"left\"}, \"hovermode\": \"closest\", \"mapbox\": {\"style\": \"light\"}, \"paper_bgcolor\": \"white\", \"plot_bgcolor\": \"#E5ECF6\", \"polar\": {\"angularaxis\": {\"gridcolor\": \"white\", \"linecolor\": \"white\", \"ticks\": \"\"}, \"bgcolor\": \"#E5ECF6\", \"radialaxis\": {\"gridcolor\": \"white\", \"linecolor\": \"white\", \"ticks\": \"\"}}, \"scene\": {\"xaxis\": {\"backgroundcolor\": \"#E5ECF6\", \"gridcolor\": \"white\", \"gridwidth\": 2, \"linecolor\": \"white\", \"showbackground\": true, \"ticks\": \"\", \"zerolinecolor\": \"white\"}, \"yaxis\": {\"backgroundcolor\": \"#E5ECF6\", \"gridcolor\": \"white\", \"gridwidth\": 2, \"linecolor\": \"white\", \"showbackground\": true, \"ticks\": \"\", \"zerolinecolor\": \"white\"}, \"zaxis\": {\"backgroundcolor\": \"#E5ECF6\", \"gridcolor\": \"white\", \"gridwidth\": 2, \"linecolor\": \"white\", \"showbackground\": true, \"ticks\": \"\", \"zerolinecolor\": \"white\"}}, \"shapedefaults\": {\"line\": {\"color\": \"#2a3f5f\"}}, \"ternary\": {\"aaxis\": {\"gridcolor\": \"white\", \"linecolor\": \"white\", \"ticks\": \"\"}, \"baxis\": {\"gridcolor\": \"white\", \"linecolor\": \"white\", \"ticks\": \"\"}, \"bgcolor\": \"#E5ECF6\", \"caxis\": {\"gridcolor\": \"white\", \"linecolor\": \"white\", \"ticks\": \"\"}}, \"title\": {\"x\": 0.05}, \"xaxis\": {\"automargin\": true, \"gridcolor\": \"white\", \"linecolor\": \"white\", \"ticks\": \"\", \"title\": {\"standoff\": 15}, \"zerolinecolor\": \"white\", \"zerolinewidth\": 2}, \"yaxis\": {\"automargin\": true, \"gridcolor\": \"white\", \"linecolor\": \"white\", \"ticks\": \"\", \"title\": {\"standoff\": 15}, \"zerolinecolor\": \"white\", \"zerolinewidth\": 2}}}, \"xaxis\": {\"anchor\": \"y\", \"domain\": [0.0, 1.0], \"title\": {\"text\": \"danceability\"}}, \"yaxis\": {\"anchor\": \"x\", \"domain\": [0.0, 1.0], \"title\": {\"text\": \"loudness\"}}},\n",
              "                        {\"responsive\": true}\n",
              "                    ).then(function(){\n",
              "                            \n",
              "var gd = document.getElementById('52b48d1f-4ed1-4da5-b814-1f01ba0bd7fb');\n",
              "var x = new MutationObserver(function (mutations, observer) {{\n",
              "        var display = window.getComputedStyle(gd).display;\n",
              "        if (!display || display === 'none') {{\n",
              "            console.log([gd, 'removed!']);\n",
              "            Plotly.purge(gd);\n",
              "            observer.disconnect();\n",
              "        }}\n",
              "}});\n",
              "\n",
              "// Listen for the removal of the full notebook cells\n",
              "var notebookContainer = gd.closest('#notebook-container');\n",
              "if (notebookContainer) {{\n",
              "    x.observe(notebookContainer, {childList: true});\n",
              "}}\n",
              "\n",
              "// Listen for the clearing of the current output cell\n",
              "var outputEl = gd.closest('.output');\n",
              "if (outputEl) {{\n",
              "    x.observe(outputEl, {childList: true});\n",
              "}}\n",
              "\n",
              "                        })\n",
              "                };\n",
              "                \n",
              "            </script>\n",
              "        </div>\n",
              "</body>\n",
              "</html>"
            ]
          },
          "metadata": {
            "tags": []
          }
        },
        {
          "output_type": "stream",
          "text": [
            "None\n"
          ],
          "name": "stdout"
        }
      ]
    },
    {
      "cell_type": "markdown",
      "metadata": {
        "id": "HpHJAoIjI0_F",
        "colab_type": "text"
      },
      "source": [
        "### A 3-D plot to extending the previous plot to 3 audio features "
      ]
    },
    {
      "cell_type": "code",
      "metadata": {
        "id": "ZgsC-BmONu7F",
        "colab_type": "code",
        "colab": {}
      },
      "source": [
        "def ThreeDscatterplot_for_meta_data(audio_feature_1,audio_feature_2,audio_feature_3):\n",
        "    temp1 = song_with_normalized_meta_data.groupby(['country_name'])[[audio_feature_1,audio_feature_2,audio_feature_3]].mean().reset_index()\n",
        "    temp1['sum_of_two_features'] = temp1[audio_feature_1] + temp1[audio_feature_2] + temp1[audio_feature_3]\n",
        "    \n",
        "    fig = px.scatter_3d(temp1, x=audio_feature_1, y=audio_feature_2,z=audio_feature_3 ,color='country_name',size='sum_of_two_features')\n",
        "                  \n",
        "    #fig.show()\n",
        "    print(fig.show())"
      ],
      "execution_count": null,
      "outputs": []
    },
    {
      "cell_type": "code",
      "metadata": {
        "id": "vDpRUbjdN605",
        "colab_type": "code",
        "colab": {
          "base_uri": "https://localhost:8080/",
          "height": 661
        },
        "outputId": "efcba6d0-ad20-45ed-82af-b47314c1416e"
      },
      "source": [
        "print(\"Choose from \"+ str(song_with_normalized_meta_data.columns[5:]))\n",
        "first_feature = input()\n",
        "second_feature = input()\n",
        "third_feature = input()\n",
        "ThreeDscatterplot_for_meta_data(first_feature,second_feature,third_feature\n",
        ")"
      ],
      "execution_count": null,
      "outputs": [
        {
          "output_type": "stream",
          "text": [
            "Choose from Index(['danceability', 'energy', 'key', 'loudness', 'mode', 'speechiness',\n",
            "       'acousticness', 'instrumentalness', 'liveness', 'valence', 'tempo'],\n",
            "      dtype='object')\n",
            "energy\n",
            "key\n",
            "loudness\n"
          ],
          "name": "stdout"
        },
        {
          "output_type": "display_data",
          "data": {
            "text/html": [
              "<html>\n",
              "<head><meta charset=\"utf-8\" /></head>\n",
              "<body>\n",
              "    <div>\n",
              "            <script src=\"https://cdnjs.cloudflare.com/ajax/libs/mathjax/2.7.5/MathJax.js?config=TeX-AMS-MML_SVG\"></script><script type=\"text/javascript\">if (window.MathJax) {MathJax.Hub.Config({SVG: {font: \"STIX-Web\"}});}</script>\n",
              "                <script type=\"text/javascript\">window.PlotlyConfig = {MathJaxConfig: 'local'};</script>\n",
              "        <script src=\"https://cdn.plot.ly/plotly-latest.min.js\"></script>    \n",
              "            <div id=\"87fc2763-3962-4bd3-a969-0b0684da8e5b\" class=\"plotly-graph-div\" style=\"height:525px; width:100%;\"></div>\n",
              "            <script type=\"text/javascript\">\n",
              "                \n",
              "                    window.PLOTLYENV=window.PLOTLYENV || {};\n",
              "                    \n",
              "                if (document.getElementById(\"87fc2763-3962-4bd3-a969-0b0684da8e5b\")) {\n",
              "                    Plotly.newPlot(\n",
              "                        '87fc2763-3962-4bd3-a969-0b0684da8e5b',\n",
              "                        [{\"hoverlabel\": {\"namelength\": 0}, \"hovertemplate\": \"country_name=Argentina<br>energy=%{x}<br>key=%{y}<br>loudness=%{z}<br>sum_of_two_features=%{marker.size}\", \"legendgroup\": \"country_name=Argentina\", \"marker\": {\"color\": \"#636efa\", \"size\": [1.795020794640774], \"sizemode\": \"area\", \"sizeref\": 0.004761815835647768, \"symbol\": \"circle\"}, \"mode\": \"markers\", \"name\": \"country_name=Argentina\", \"scene\": \"scene\", \"showlegend\": true, \"type\": \"scatter3d\", \"x\": [0.6398461538461536], \"y\": [0.4940909090909094], \"z\": [0.6610837317037108]}, {\"hoverlabel\": {\"namelength\": 0}, \"hovertemplate\": \"country_name=Australia<br>energy=%{x}<br>key=%{y}<br>loudness=%{z}<br>sum_of_two_features=%{marker.size}\", \"legendgroup\": \"country_name=Australia\", \"marker\": {\"color\": \"#EF553B\", \"size\": [1.7110117372400153], \"sizemode\": \"area\", \"sizeref\": 0.004761815835647768, \"symbol\": \"circle\"}, \"mode\": \"markers\", \"name\": \"country_name=Australia\", \"scene\": \"scene\", \"showlegend\": true, \"type\": \"scatter3d\", \"x\": [0.5927770721740572], \"y\": [0.5153037916857013], \"z\": [0.6029308733802569]}, {\"hoverlabel\": {\"namelength\": 0}, \"hovertemplate\": \"country_name=Austria<br>energy=%{x}<br>key=%{y}<br>loudness=%{z}<br>sum_of_two_features=%{marker.size}\", \"legendgroup\": \"country_name=Austria\", \"marker\": {\"color\": \"#00cc96\", \"size\": [1.7480342471762045], \"sizemode\": \"area\", \"sizeref\": 0.004761815835647768, \"symbol\": \"circle\"}, \"mode\": \"markers\", \"name\": \"country_name=Austria\", \"scene\": \"scene\", \"showlegend\": true, \"type\": \"scatter3d\", \"x\": [0.6389198740957535], \"y\": [0.493832800365464], \"z\": [0.6152815727149871]}, {\"hoverlabel\": {\"namelength\": 0}, \"hovertemplate\": \"country_name=Belgium<br>energy=%{x}<br>key=%{y}<br>loudness=%{z}<br>sum_of_two_features=%{marker.size}\", \"legendgroup\": \"country_name=Belgium\", \"marker\": {\"color\": \"#ab63fa\", \"size\": [1.7095992315519055], \"sizemode\": \"area\", \"sizeref\": 0.004761815835647768, \"symbol\": \"circle\"}, \"mode\": \"markers\", \"name\": \"country_name=Belgium\", \"scene\": \"scene\", \"showlegend\": true, \"type\": \"scatter3d\", \"x\": [0.6060853719145177], \"y\": [0.5043398812243036], \"z\": [0.5991739784130843]}, {\"hoverlabel\": {\"namelength\": 0}, \"hovertemplate\": \"country_name=Bolivia<br>energy=%{x}<br>key=%{y}<br>loudness=%{z}<br>sum_of_two_features=%{marker.size}\", \"legendgroup\": \"country_name=Bolivia\", \"marker\": {\"color\": \"#FFA15A\", \"size\": [1.8476454522265469], \"sizemode\": \"area\", \"sizeref\": 0.004761815835647768, \"symbol\": \"circle\"}, \"mode\": \"markers\", \"name\": \"country_name=Bolivia\", \"scene\": \"scene\", \"showlegend\": true, \"type\": \"scatter3d\", \"x\": [0.6601098901098902], \"y\": [0.49772727272727296], \"z\": [0.6898082893893839]}, {\"hoverlabel\": {\"namelength\": 0}, \"hovertemplate\": \"country_name=Brazil<br>energy=%{x}<br>key=%{y}<br>loudness=%{z}<br>sum_of_two_features=%{marker.size}\", \"legendgroup\": \"country_name=Brazil\", \"marker\": {\"color\": \"#19d3f3\", \"size\": [1.8371883919146255], \"sizemode\": \"area\", \"sizeref\": 0.004761815835647768, \"symbol\": \"circle\"}, \"mode\": \"markers\", \"name\": \"country_name=Brazil\", \"scene\": \"scene\", \"showlegend\": true, \"type\": \"scatter3d\", \"x\": [0.6933516483516486], \"y\": [0.4859090909090911], \"z\": [0.6579276526538856]}, {\"hoverlabel\": {\"namelength\": 0}, \"hovertemplate\": \"country_name=Bulgaria<br>energy=%{x}<br>key=%{y}<br>loudness=%{z}<br>sum_of_two_features=%{marker.size}\", \"legendgroup\": \"country_name=Bulgaria\", \"marker\": {\"color\": \"#FF6692\", \"size\": [1.7863566407677711], \"sizemode\": \"area\", \"sizeref\": 0.004761815835647768, \"symbol\": \"circle\"}, \"mode\": \"markers\", \"name\": \"country_name=Bulgaria\", \"scene\": \"scene\", \"showlegend\": true, \"type\": \"scatter3d\", \"x\": [0.6292124542124542], \"y\": [0.5369318181818182], \"z\": [0.6202123683734986]}, {\"hoverlabel\": {\"namelength\": 0}, \"hovertemplate\": \"country_name=Canada<br>energy=%{x}<br>key=%{y}<br>loudness=%{z}<br>sum_of_two_features=%{marker.size}\", \"legendgroup\": \"country_name=Canada\", \"marker\": {\"color\": \"#B6E880\", \"size\": [1.7396352095616434], \"sizemode\": \"area\", \"sizeref\": 0.004761815835647768, \"symbol\": \"circle\"}, \"mode\": \"markers\", \"name\": \"country_name=Canada\", \"scene\": \"scene\", \"showlegend\": true, \"type\": \"scatter3d\", \"x\": [0.5893606393606392], \"y\": [0.5431588613406795], \"z\": [0.6071157088603246]}, {\"hoverlabel\": {\"namelength\": 0}, \"hovertemplate\": \"country_name=Chile<br>energy=%{x}<br>key=%{y}<br>loudness=%{z}<br>sum_of_two_features=%{marker.size}\", \"legendgroup\": \"country_name=Chile\", \"marker\": {\"color\": \"#FF97FF\", \"size\": [1.8372827038419182], \"sizemode\": \"area\", \"sizeref\": 0.004761815835647768, \"symbol\": \"circle\"}, \"mode\": \"markers\", \"name\": \"country_name=Chile\", \"scene\": \"scene\", \"showlegend\": true, \"type\": \"scatter3d\", \"x\": [0.6783736263736266], \"y\": [0.4727272727272731], \"z\": [0.6861818047410183]}, {\"hoverlabel\": {\"namelength\": 0}, \"hovertemplate\": \"country_name=Colombia<br>energy=%{x}<br>key=%{y}<br>loudness=%{z}<br>sum_of_two_features=%{marker.size}\", \"legendgroup\": \"country_name=Colombia\", \"marker\": {\"color\": \"#FECB52\", \"size\": [1.8374614330275714], \"sizemode\": \"area\", \"sizeref\": 0.004761815835647768, \"symbol\": \"circle\"}, \"mode\": \"markers\", \"name\": \"country_name=Colombia\", \"scene\": \"scene\", \"showlegend\": true, \"type\": \"scatter3d\", \"x\": [0.6649175824175826], \"y\": [0.4881818181818186], \"z\": [0.6843620324281702]}, {\"hoverlabel\": {\"namelength\": 0}, \"hovertemplate\": \"country_name=Costa Rica<br>energy=%{x}<br>key=%{y}<br>loudness=%{z}<br>sum_of_two_features=%{marker.size}\", \"legendgroup\": \"country_name=Costa Rica\", \"marker\": {\"color\": \"#636efa\", \"size\": [1.7901566146632435], \"sizemode\": \"area\", \"sizeref\": 0.004761815835647768, \"symbol\": \"circle\"}, \"mode\": \"markers\", \"name\": \"country_name=Costa Rica\", \"scene\": \"scene\", \"showlegend\": true, \"type\": \"scatter3d\", \"x\": [0.6400659340659339], \"y\": [0.4800000000000006], \"z\": [0.6700906805973089]}, {\"hoverlabel\": {\"namelength\": 0}, \"hovertemplate\": \"country_name=Czech Republic<br>energy=%{x}<br>key=%{y}<br>loudness=%{z}<br>sum_of_two_features=%{marker.size}\", \"legendgroup\": \"country_name=Czech Republic\", \"marker\": {\"color\": \"#EF553B\", \"size\": [1.7214984886238887], \"sizemode\": \"area\", \"sizeref\": 0.004761815835647768, \"symbol\": \"circle\"}, \"mode\": \"markers\", \"name\": \"country_name=Czech Republic\", \"scene\": \"scene\", \"showlegend\": true, \"type\": \"scatter3d\", \"x\": [0.634379120879121], \"y\": [0.4877272727272727], \"z\": [0.5993920950174949]}, {\"hoverlabel\": {\"namelength\": 0}, \"hovertemplate\": \"country_name=Denmark<br>energy=%{x}<br>key=%{y}<br>loudness=%{z}<br>sum_of_two_features=%{marker.size}\", \"legendgroup\": \"country_name=Denmark\", \"marker\": {\"color\": \"#00cc96\", \"size\": [1.7097922657301288], \"sizemode\": \"area\", \"sizeref\": 0.004761815835647768, \"symbol\": \"circle\"}, \"mode\": \"markers\", \"name\": \"country_name=Denmark\", \"scene\": \"scene\", \"showlegend\": true, \"type\": \"scatter3d\", \"x\": [0.6012203876525485], \"y\": [0.5020557332115123], \"z\": [0.6065161448660681]}, {\"hoverlabel\": {\"namelength\": 0}, \"hovertemplate\": \"country_name=Dominican Republic<br>energy=%{x}<br>key=%{y}<br>loudness=%{z}<br>sum_of_two_features=%{marker.size}\", \"legendgroup\": \"country_name=Dominican Republic\", \"marker\": {\"color\": \"#ab63fa\", \"size\": [1.8494864811892069], \"sizemode\": \"area\", \"sizeref\": 0.004761815835647768, \"symbol\": \"circle\"}, \"mode\": \"markers\", \"name\": \"country_name=Dominican Republic\", \"scene\": \"scene\", \"showlegend\": true, \"type\": \"scatter3d\", \"x\": [0.6694505494505495], \"y\": [0.5027272727272731], \"z\": [0.677308659011384]}, {\"hoverlabel\": {\"namelength\": 0}, \"hovertemplate\": \"country_name=Ecuador<br>energy=%{x}<br>key=%{y}<br>loudness=%{z}<br>sum_of_two_features=%{marker.size}\", \"legendgroup\": \"country_name=Ecuador\", \"marker\": {\"color\": \"#FFA15A\", \"size\": [1.844420546212449], \"sizemode\": \"area\", \"sizeref\": 0.004761815835647768, \"symbol\": \"circle\"}, \"mode\": \"markers\", \"name\": \"country_name=Ecuador\", \"scene\": \"scene\", \"showlegend\": true, \"type\": \"scatter3d\", \"x\": [0.6652802197802197], \"y\": [0.4959090909090913], \"z\": [0.6832312355231381]}, {\"hoverlabel\": {\"namelength\": 0}, \"hovertemplate\": \"country_name=El Salvador<br>energy=%{x}<br>key=%{y}<br>loudness=%{z}<br>sum_of_two_features=%{marker.size}\", \"legendgroup\": \"country_name=El Salvador\", \"marker\": {\"color\": \"#19d3f3\", \"size\": [1.8194928081627104], \"sizemode\": \"area\", \"sizeref\": 0.004761815835647768, \"symbol\": \"circle\"}, \"mode\": \"markers\", \"name\": \"country_name=El Salvador\", \"scene\": \"scene\", \"showlegend\": true, \"type\": \"scatter3d\", \"x\": [0.6510329670329668], \"y\": [0.4940909090909093], \"z\": [0.6743689320388345]}, {\"hoverlabel\": {\"namelength\": 0}, \"hovertemplate\": \"country_name=Estonia<br>energy=%{x}<br>key=%{y}<br>loudness=%{z}<br>sum_of_two_features=%{marker.size}\", \"legendgroup\": \"country_name=Estonia\", \"marker\": {\"color\": \"#FF6692\", \"size\": [1.7408969863117014], \"sizemode\": \"area\", \"sizeref\": 0.004761815835647768, \"symbol\": \"circle\"}, \"mode\": \"markers\", \"name\": \"country_name=Estonia\", \"scene\": \"scene\", \"showlegend\": true, \"type\": \"scatter3d\", \"x\": [0.6209890109890108], \"y\": [0.5218181818181816], \"z\": [0.5980897935045091]}, {\"hoverlabel\": {\"namelength\": 0}, \"hovertemplate\": \"country_name=Finland<br>energy=%{x}<br>key=%{y}<br>loudness=%{z}<br>sum_of_two_features=%{marker.size}\", \"legendgroup\": \"country_name=Finland\", \"marker\": {\"color\": \"#B6E880\", \"size\": [1.8000517294276022], \"sizemode\": \"area\", \"sizeref\": 0.004761815835647768, \"symbol\": \"circle\"}, \"mode\": \"markers\", \"name\": \"country_name=Finland\", \"scene\": \"scene\", \"showlegend\": true, \"type\": \"scatter3d\", \"x\": [0.6627533270749351], \"y\": [0.5258108725445415], \"z\": [0.6114875298081258]}, {\"hoverlabel\": {\"namelength\": 0}, \"hovertemplate\": \"country_name=France<br>energy=%{x}<br>key=%{y}<br>loudness=%{z}<br>sum_of_two_features=%{marker.size}\", \"legendgroup\": \"country_name=France\", \"marker\": {\"color\": \"#FF97FF\", \"size\": [1.687731042600886], \"sizemode\": \"area\", \"sizeref\": 0.004761815835647768, \"symbol\": \"circle\"}, \"mode\": \"markers\", \"name\": \"country_name=France\", \"scene\": \"scene\", \"showlegend\": true, \"type\": \"scatter3d\", \"x\": [0.618252747252747], \"y\": [0.47772727272727267], \"z\": [0.5917510226208662]}, {\"hoverlabel\": {\"namelength\": 0}, \"hovertemplate\": \"country_name=Germany<br>energy=%{x}<br>key=%{y}<br>loudness=%{z}<br>sum_of_two_features=%{marker.size}\", \"legendgroup\": \"country_name=Germany\", \"marker\": {\"color\": \"#FECB52\", \"size\": [1.7463878074022965], \"sizemode\": \"area\", \"sizeref\": 0.004761815835647768, \"symbol\": \"circle\"}, \"mode\": \"markers\", \"name\": \"country_name=Germany\", \"scene\": \"scene\", \"showlegend\": true, \"type\": \"scatter3d\", \"x\": [0.6299999999999999], \"y\": [0.5100000000000002], \"z\": [0.6063878074022965]}, {\"hoverlabel\": {\"namelength\": 0}, \"hovertemplate\": \"country_name=Greece<br>energy=%{x}<br>key=%{y}<br>loudness=%{z}<br>sum_of_two_features=%{marker.size}\", \"legendgroup\": \"country_name=Greece\", \"marker\": {\"color\": \"#636efa\", \"size\": [1.7244828479144925], \"sizemode\": \"area\", \"sizeref\": 0.004761815835647768, \"symbol\": \"circle\"}, \"mode\": \"markers\", \"name\": \"country_name=Greece\", \"scene\": \"scene\", \"showlegend\": true, \"type\": \"scatter3d\", \"x\": [0.6270164835164836], \"y\": [0.5050000000000002], \"z\": [0.5924663643980086]}, {\"hoverlabel\": {\"namelength\": 0}, \"hovertemplate\": \"country_name=Guatemala<br>energy=%{x}<br>key=%{y}<br>loudness=%{z}<br>sum_of_two_features=%{marker.size}\", \"legendgroup\": \"country_name=Guatemala\", \"marker\": {\"color\": \"#EF553B\", \"size\": [1.8020420494443212], \"sizemode\": \"area\", \"sizeref\": 0.004761815835647768, \"symbol\": \"circle\"}, \"mode\": \"markers\", \"name\": \"country_name=Guatemala\", \"scene\": \"scene\", \"showlegend\": true, \"type\": \"scatter3d\", \"x\": [0.6281373626373623], \"y\": [0.5000000000000002], \"z\": [0.6739046868069586]}, {\"hoverlabel\": {\"namelength\": 0}, \"hovertemplate\": \"country_name=Honduras<br>energy=%{x}<br>key=%{y}<br>loudness=%{z}<br>sum_of_two_features=%{marker.size}\", \"legendgroup\": \"country_name=Honduras\", \"marker\": {\"color\": \"#00cc96\", \"size\": [1.812804089090152], \"sizemode\": \"area\", \"sizeref\": 0.004761815835647768, \"symbol\": \"circle\"}, \"mode\": \"markers\", \"name\": \"country_name=Honduras\", \"scene\": \"scene\", \"showlegend\": true, \"type\": \"scatter3d\", \"x\": [0.645818681318681], \"y\": [0.4972727272727277], \"z\": [0.6697126804987431]}, {\"hoverlabel\": {\"namelength\": 0}, \"hovertemplate\": \"country_name=Hong Kong<br>energy=%{x}<br>key=%{y}<br>loudness=%{z}<br>sum_of_two_features=%{marker.size}\", \"legendgroup\": \"country_name=Hong Kong\", \"marker\": {\"color\": \"#ab63fa\", \"size\": [1.6218712862220328], \"sizemode\": \"area\", \"sizeref\": 0.004761815835647768, \"symbol\": \"circle\"}, \"mode\": \"markers\", \"name\": \"country_name=Hong Kong\", \"scene\": \"scene\", \"showlegend\": true, \"type\": \"scatter3d\", \"x\": [0.5392747252747252], \"y\": [0.4945454545454546], \"z\": [0.5880511064018529]}, {\"hoverlabel\": {\"namelength\": 0}, \"hovertemplate\": \"country_name=Hungary<br>energy=%{x}<br>key=%{y}<br>loudness=%{z}<br>sum_of_two_features=%{marker.size}\", \"legendgroup\": \"country_name=Hungary\", \"marker\": {\"color\": \"#FFA15A\", \"size\": [1.8085822125032767], \"sizemode\": \"area\", \"sizeref\": 0.004761815835647768, \"symbol\": \"circle\"}, \"mode\": \"markers\", \"name\": \"country_name=Hungary\", \"scene\": \"scene\", \"showlegend\": true, \"type\": \"scatter3d\", \"x\": [0.6512507592909603], \"y\": [0.5212425765189586], \"z\": [0.6360888766933578]}, {\"hoverlabel\": {\"namelength\": 0}, \"hovertemplate\": \"country_name=Iceland<br>energy=%{x}<br>key=%{y}<br>loudness=%{z}<br>sum_of_two_features=%{marker.size}\", \"legendgroup\": \"country_name=Iceland\", \"marker\": {\"color\": \"#19d3f3\", \"size\": [1.635736840520639], \"sizemode\": \"area\", \"sizeref\": 0.004761815835647768, \"symbol\": \"circle\"}, \"mode\": \"markers\", \"name\": \"country_name=Iceland\", \"scene\": \"scene\", \"showlegend\": true, \"type\": \"scatter3d\", \"x\": [0.5711331609566902], \"y\": [0.4919786096256685], \"z\": [0.5726250699382802]}, {\"hoverlabel\": {\"namelength\": 0}, \"hovertemplate\": \"country_name=India<br>energy=%{x}<br>key=%{y}<br>loudness=%{z}<br>sum_of_two_features=%{marker.size}\", \"legendgroup\": \"country_name=India\", \"marker\": {\"color\": \"#FF6692\", \"size\": [1.6764683665110212], \"sizemode\": \"area\", \"sizeref\": 0.004761815835647768, \"symbol\": \"circle\"}, \"mode\": \"markers\", \"name\": \"country_name=India\", \"scene\": \"scene\", \"showlegend\": true, \"type\": \"scatter3d\", \"x\": [0.5846648351648355], \"y\": [0.48863636363636387], \"z\": [0.6031671677098218]}, {\"hoverlabel\": {\"namelength\": 0}, \"hovertemplate\": \"country_name=Indonesia<br>energy=%{x}<br>key=%{y}<br>loudness=%{z}<br>sum_of_two_features=%{marker.size}\", \"legendgroup\": \"country_name=Indonesia\", \"marker\": {\"color\": \"#B6E880\", \"size\": [1.509069911754993], \"sizemode\": \"area\", \"sizeref\": 0.004761815835647768, \"symbol\": \"circle\"}, \"mode\": \"markers\", \"name\": \"country_name=Indonesia\", \"scene\": \"scene\", \"showlegend\": true, \"type\": \"scatter3d\", \"x\": [0.4671648351648349], \"y\": [0.49227272727272725], \"z\": [0.549632349317431]}, {\"hoverlabel\": {\"namelength\": 0}, \"hovertemplate\": \"country_name=Ireland<br>energy=%{x}<br>key=%{y}<br>loudness=%{z}<br>sum_of_two_features=%{marker.size}\", \"legendgroup\": \"country_name=Ireland\", \"marker\": {\"color\": \"#FF97FF\", \"size\": [1.7297793444372027], \"sizemode\": \"area\", \"sizeref\": 0.004761815835647768, \"symbol\": \"circle\"}, \"mode\": \"markers\", \"name\": \"country_name=Ireland\", \"scene\": \"scene\", \"showlegend\": true, \"type\": \"scatter3d\", \"x\": [0.613313821856535], \"y\": [0.514846962083143], \"z\": [0.6016185604975248]}, {\"hoverlabel\": {\"namelength\": 0}, \"hovertemplate\": \"country_name=Israel<br>energy=%{x}<br>key=%{y}<br>loudness=%{z}<br>sum_of_two_features=%{marker.size}\", \"legendgroup\": \"country_name=Israel\", \"marker\": {\"color\": \"#FECB52\", \"size\": [1.6699364979557427], \"sizemode\": \"area\", \"sizeref\": 0.004761815835647768, \"symbol\": \"circle\"}, \"mode\": \"markers\", \"name\": \"country_name=Israel\", \"scene\": \"scene\", \"showlegend\": true, \"type\": \"scatter3d\", \"x\": [0.5478736263736262], \"y\": [0.536818181818182], \"z\": [0.5852446897639344]}, {\"hoverlabel\": {\"namelength\": 0}, \"hovertemplate\": \"country_name=Italy<br>energy=%{x}<br>key=%{y}<br>loudness=%{z}<br>sum_of_two_features=%{marker.size}\", \"legendgroup\": \"country_name=Italy\", \"marker\": {\"color\": \"#636efa\", \"size\": [1.782935458804662], \"sizemode\": \"area\", \"sizeref\": 0.004761815835647768, \"symbol\": \"circle\"}, \"mode\": \"markers\", \"name\": \"country_name=Italy\", \"scene\": \"scene\", \"showlegend\": true, \"type\": \"scatter3d\", \"x\": [0.6721208791208791], \"y\": [0.4840909090909093], \"z\": [0.6267236705928736]}, {\"hoverlabel\": {\"namelength\": 0}, \"hovertemplate\": \"country_name=Japan<br>energy=%{x}<br>key=%{y}<br>loudness=%{z}<br>sum_of_two_features=%{marker.size}\", \"legendgroup\": \"country_name=Japan\", \"marker\": {\"color\": \"#EF553B\", \"size\": [1.9047263342591072], \"sizemode\": \"area\", \"sizeref\": 0.004761815835647768, \"symbol\": \"circle\"}, \"mode\": \"markers\", \"name\": \"country_name=Japan\", \"scene\": \"scene\", \"showlegend\": true, \"type\": \"scatter3d\", \"x\": [0.7315439560439558], \"y\": [0.4690909090909093], \"z\": [0.7040914691242421]}, {\"hoverlabel\": {\"namelength\": 0}, \"hovertemplate\": \"country_name=Latvia<br>energy=%{x}<br>key=%{y}<br>loudness=%{z}<br>sum_of_two_features=%{marker.size}\", \"legendgroup\": \"country_name=Latvia\", \"marker\": {\"color\": \"#00cc96\", \"size\": [1.7192017662636547], \"sizemode\": \"area\", \"sizeref\": 0.004761815835647768, \"symbol\": \"circle\"}, \"mode\": \"markers\", \"name\": \"country_name=Latvia\", \"scene\": \"scene\", \"showlegend\": true, \"type\": \"scatter3d\", \"x\": [0.6062150963790307], \"y\": [0.514903129657228], \"z\": [0.5980835402273962]}, {\"hoverlabel\": {\"namelength\": 0}, \"hovertemplate\": \"country_name=Lithuania<br>energy=%{x}<br>key=%{y}<br>loudness=%{z}<br>sum_of_two_features=%{marker.size}\", \"legendgroup\": \"country_name=Lithuania\", \"marker\": {\"color\": \"#ab63fa\", \"size\": [1.69770493997495], \"sizemode\": \"area\", \"sizeref\": 0.004761815835647768, \"symbol\": \"circle\"}, \"mode\": \"markers\", \"name\": \"country_name=Lithuania\", \"scene\": \"scene\", \"showlegend\": true, \"type\": \"scatter3d\", \"x\": [0.5982743818681316], \"y\": [0.5120738636363635], \"z\": [0.5873566944704549]}, {\"hoverlabel\": {\"namelength\": 0}, \"hovertemplate\": \"country_name=Luxembourg<br>energy=%{x}<br>key=%{y}<br>loudness=%{z}<br>sum_of_two_features=%{marker.size}\", \"legendgroup\": \"country_name=Luxembourg\", \"marker\": {\"color\": \"#FFA15A\", \"size\": [1.6833581821748607], \"sizemode\": \"area\", \"sizeref\": 0.004761815835647768, \"symbol\": \"circle\"}, \"mode\": \"markers\", \"name\": \"country_name=Luxembourg\", \"scene\": \"scene\", \"showlegend\": true, \"type\": \"scatter3d\", \"x\": [0.6025697379543531], \"y\": [0.4727272727272728], \"z\": [0.6080611714932349]}, {\"hoverlabel\": {\"namelength\": 0}, \"hovertemplate\": \"country_name=Malaysia<br>energy=%{x}<br>key=%{y}<br>loudness=%{z}<br>sum_of_two_features=%{marker.size}\", \"legendgroup\": \"country_name=Malaysia\", \"marker\": {\"color\": \"#19d3f3\", \"size\": [1.6611167804646194], \"sizemode\": \"area\", \"sizeref\": 0.004761815835647768, \"symbol\": \"circle\"}, \"mode\": \"markers\", \"name\": \"country_name=Malaysia\", \"scene\": \"scene\", \"showlegend\": true, \"type\": \"scatter3d\", \"x\": [0.5560219780219778], \"y\": [0.5040909090909091], \"z\": [0.6010038933517324]}, {\"hoverlabel\": {\"namelength\": 0}, \"hovertemplate\": \"country_name=Mexico<br>energy=%{x}<br>key=%{y}<br>loudness=%{z}<br>sum_of_two_features=%{marker.size}\", \"legendgroup\": \"country_name=Mexico\", \"marker\": {\"color\": \"#FF6692\", \"size\": [1.7941499411337276], \"sizemode\": \"area\", \"sizeref\": 0.004761815835647768, \"symbol\": \"circle\"}, \"mode\": \"markers\", \"name\": \"country_name=Mexico\", \"scene\": \"scene\", \"showlegend\": true, \"type\": \"scatter3d\", \"x\": [0.6356813186813187], \"y\": [0.49454545454545484], \"z\": [0.6639231679069539]}, {\"hoverlabel\": {\"namelength\": 0}, \"hovertemplate\": \"country_name=Netherlands<br>energy=%{x}<br>key=%{y}<br>loudness=%{z}<br>sum_of_two_features=%{marker.size}\", \"legendgroup\": \"country_name=Netherlands\", \"marker\": {\"color\": \"#B6E880\", \"size\": [1.7507608910802743], \"sizemode\": \"area\", \"sizeref\": 0.004761815835647768, \"symbol\": \"circle\"}, \"mode\": \"markers\", \"name\": \"country_name=Netherlands\", \"scene\": \"scene\", \"showlegend\": true, \"type\": \"scatter3d\", \"x\": [0.6145618200894585], \"y\": [0.5358611238008224], \"z\": [0.6003379471899934]}, {\"hoverlabel\": {\"namelength\": 0}, \"hovertemplate\": \"country_name=New Zealand<br>energy=%{x}<br>key=%{y}<br>loudness=%{z}<br>sum_of_two_features=%{marker.size}\", \"legendgroup\": \"country_name=New Zealand\", \"marker\": {\"color\": \"#FF97FF\", \"size\": [1.6405799747727459], \"sizemode\": \"area\", \"sizeref\": 0.004761815835647768, \"symbol\": \"circle\"}, \"mode\": \"markers\", \"name\": \"country_name=New Zealand\", \"scene\": \"scene\", \"showlegend\": true, \"type\": \"scatter3d\", \"x\": [0.5634767242807445], \"y\": [0.4988579259936045], \"z\": [0.5782453244983968]}, {\"hoverlabel\": {\"namelength\": 0}, \"hovertemplate\": \"country_name=Nicaragua<br>energy=%{x}<br>key=%{y}<br>loudness=%{z}<br>sum_of_two_features=%{marker.size}\", \"legendgroup\": \"country_name=Nicaragua\", \"marker\": {\"color\": \"#FECB52\", \"size\": [1.883025226362504], \"sizemode\": \"area\", \"sizeref\": 0.004761815835647768, \"symbol\": \"circle\"}, \"mode\": \"markers\", \"name\": \"country_name=Nicaragua\", \"scene\": \"scene\", \"showlegend\": true, \"type\": \"scatter3d\", \"x\": [0.676141384388807], \"y\": [0.5145267104029989], \"z\": [0.692357131570698]}, {\"hoverlabel\": {\"namelength\": 0}, \"hovertemplate\": \"country_name=Norway<br>energy=%{x}<br>key=%{y}<br>loudness=%{z}<br>sum_of_two_features=%{marker.size}\", \"legendgroup\": \"country_name=Norway\", \"marker\": {\"color\": \"#636efa\", \"size\": [1.7095265025659439], \"sizemode\": \"area\", \"sizeref\": 0.004761815835647768, \"symbol\": \"circle\"}, \"mode\": \"markers\", \"name\": \"country_name=Norway\", \"scene\": \"scene\", \"showlegend\": true, \"type\": \"scatter3d\", \"x\": [0.6045557457617757], \"y\": [0.5020557332115122], \"z\": [0.602915023592656]}, {\"hoverlabel\": {\"namelength\": 0}, \"hovertemplate\": \"country_name=Panama<br>energy=%{x}<br>key=%{y}<br>loudness=%{z}<br>sum_of_two_features=%{marker.size}\", \"legendgroup\": \"country_name=Panama\", \"marker\": {\"color\": \"#EF553B\", \"size\": [1.8336243782583783], \"sizemode\": \"area\", \"sizeref\": 0.004761815835647768, \"symbol\": \"circle\"}, \"mode\": \"markers\", \"name\": \"country_name=Panama\", \"scene\": \"scene\", \"showlegend\": true, \"type\": \"scatter3d\", \"x\": [0.6593021978021973], \"y\": [0.4909090909090911], \"z\": [0.6834130895470899]}, {\"hoverlabel\": {\"namelength\": 0}, \"hovertemplate\": \"country_name=Paraguay<br>energy=%{x}<br>key=%{y}<br>loudness=%{z}<br>sum_of_two_features=%{marker.size}\", \"legendgroup\": \"country_name=Paraguay\", \"marker\": {\"color\": \"#00cc96\", \"size\": [1.8357018948967843], \"sizemode\": \"area\", \"sizeref\": 0.004761815835647768, \"symbol\": \"circle\"}, \"mode\": \"markers\", \"name\": \"country_name=Paraguay\", \"scene\": \"scene\", \"showlegend\": true, \"type\": \"scatter3d\", \"x\": [0.6643571428571426], \"y\": [0.490909090909091], \"z\": [0.6804356611305507]}, {\"hoverlabel\": {\"namelength\": 0}, \"hovertemplate\": \"country_name=Peru<br>energy=%{x}<br>key=%{y}<br>loudness=%{z}<br>sum_of_two_features=%{marker.size}\", \"legendgroup\": \"country_name=Peru\", \"marker\": {\"color\": \"#ab63fa\", \"size\": [1.855300506107662], \"sizemode\": \"area\", \"sizeref\": 0.004761815835647768, \"symbol\": \"circle\"}, \"mode\": \"markers\", \"name\": \"country_name=Peru\", \"scene\": \"scene\", \"showlegend\": true, \"type\": \"scatter3d\", \"x\": [0.680351648351648], \"y\": [0.4831818181818185], \"z\": [0.6917670395741955]}, {\"hoverlabel\": {\"namelength\": 0}, \"hovertemplate\": \"country_name=Philippines<br>energy=%{x}<br>key=%{y}<br>loudness=%{z}<br>sum_of_two_features=%{marker.size}\", \"legendgroup\": \"country_name=Philippines\", \"marker\": {\"color\": \"#FFA15A\", \"size\": [1.5902232001894903], \"sizemode\": \"area\", \"sizeref\": 0.004761815835647768, \"symbol\": \"circle\"}, \"mode\": \"markers\", \"name\": \"country_name=Philippines\", \"scene\": \"scene\", \"showlegend\": true, \"type\": \"scatter3d\", \"x\": [0.5133406593406589], \"y\": [0.5040909090909093], \"z\": [0.5727916317579221]}, {\"hoverlabel\": {\"namelength\": 0}, \"hovertemplate\": \"country_name=Poland<br>energy=%{x}<br>key=%{y}<br>loudness=%{z}<br>sum_of_two_features=%{marker.size}\", \"legendgroup\": \"country_name=Poland\", \"marker\": {\"color\": \"#19d3f3\", \"size\": [1.7366646173303306], \"sizemode\": \"area\", \"sizeref\": 0.004761815835647768, \"symbol\": \"circle\"}, \"mode\": \"markers\", \"name\": \"country_name=Poland\", \"scene\": \"scene\", \"showlegend\": true, \"type\": \"scatter3d\", \"x\": [0.6466703296703297], \"y\": [0.4977272727272728], \"z\": [0.5922670149327282]}, {\"hoverlabel\": {\"namelength\": 0}, \"hovertemplate\": \"country_name=Portugal<br>energy=%{x}<br>key=%{y}<br>loudness=%{z}<br>sum_of_two_features=%{marker.size}\", \"legendgroup\": \"country_name=Portugal\", \"marker\": {\"color\": \"#FF6692\", \"size\": [1.6789762804835988], \"sizemode\": \"area\", \"sizeref\": 0.004761815835647768, \"symbol\": \"circle\"}, \"mode\": \"markers\", \"name\": \"country_name=Portugal\", \"scene\": \"scene\", \"showlegend\": true, \"type\": \"scatter3d\", \"x\": [0.5763736263736265], \"y\": [0.5136363636363638], \"z\": [0.5889662904736086]}, {\"hoverlabel\": {\"namelength\": 0}, \"hovertemplate\": \"country_name=Romania<br>energy=%{x}<br>key=%{y}<br>loudness=%{z}<br>sum_of_two_features=%{marker.size}\", \"legendgroup\": \"country_name=Romania\", \"marker\": {\"color\": \"#B6E880\", \"size\": [1.7052950364222612], \"sizemode\": \"area\", \"sizeref\": 0.004761815835647768, \"symbol\": \"circle\"}, \"mode\": \"markers\", \"name\": \"country_name=Romania\", \"scene\": \"scene\", \"showlegend\": true, \"type\": \"scatter3d\", \"x\": [0.5985090286597826], \"y\": [0.5098218364550026], \"z\": [0.5969641713074759]}, {\"hoverlabel\": {\"namelength\": 0}, \"hovertemplate\": \"country_name=Singapore<br>energy=%{x}<br>key=%{y}<br>loudness=%{z}<br>sum_of_two_features=%{marker.size}\", \"legendgroup\": \"country_name=Singapore\", \"marker\": {\"color\": \"#FF97FF\", \"size\": [1.6614811064200692], \"sizemode\": \"area\", \"sizeref\": 0.004761815835647768, \"symbol\": \"circle\"}, \"mode\": \"markers\", \"name\": \"country_name=Singapore\", \"scene\": \"scene\", \"showlegend\": true, \"type\": \"scatter3d\", \"x\": [0.556412087912088], \"y\": [0.5036363636363635], \"z\": [0.6014326548716176]}, {\"hoverlabel\": {\"namelength\": 0}, \"hovertemplate\": \"country_name=Slovakia<br>energy=%{x}<br>key=%{y}<br>loudness=%{z}<br>sum_of_two_features=%{marker.size}\", \"legendgroup\": \"country_name=Slovakia\", \"marker\": {\"color\": \"#FECB52\", \"size\": [1.7701554456336623], \"sizemode\": \"area\", \"sizeref\": 0.004761815835647768, \"symbol\": \"circle\"}, \"mode\": \"markers\", \"name\": \"country_name=Slovakia\", \"scene\": \"scene\", \"showlegend\": true, \"type\": \"scatter3d\", \"x\": [0.6319945054945056], \"y\": [0.5140909090909093], \"z\": [0.6240700310482475]}, {\"hoverlabel\": {\"namelength\": 0}, \"hovertemplate\": \"country_name=Spain<br>energy=%{x}<br>key=%{y}<br>loudness=%{z}<br>sum_of_two_features=%{marker.size}\", \"legendgroup\": \"country_name=Spain\", \"marker\": {\"color\": \"#636efa\", \"size\": [1.8666251053170377], \"sizemode\": \"area\", \"sizeref\": 0.004761815835647768, \"symbol\": \"circle\"}, \"mode\": \"markers\", \"name\": \"country_name=Spain\", \"scene\": \"scene\", \"showlegend\": true, \"type\": \"scatter3d\", \"x\": [0.6911758241758241], \"y\": [0.49090909090909113], \"z\": [0.6845401902321225]}, {\"hoverlabel\": {\"namelength\": 0}, \"hovertemplate\": \"country_name=Sweden<br>energy=%{x}<br>key=%{y}<br>loudness=%{z}<br>sum_of_two_features=%{marker.size}\", \"legendgroup\": \"country_name=Sweden\", \"marker\": {\"color\": \"#EF553B\", \"size\": [1.686808422705584], \"sizemode\": \"area\", \"sizeref\": 0.004761815835647768, \"symbol\": \"circle\"}, \"mode\": \"markers\", \"name\": \"country_name=Sweden\", \"scene\": \"scene\", \"showlegend\": true, \"type\": \"scatter3d\", \"x\": [0.5989414103484454], \"y\": [0.5075376884422113], \"z\": [0.5803293239149272]}, {\"hoverlabel\": {\"namelength\": 0}, \"hovertemplate\": \"country_name=Switzerland<br>energy=%{x}<br>key=%{y}<br>loudness=%{z}<br>sum_of_two_features=%{marker.size}\", \"legendgroup\": \"country_name=Switzerland\", \"marker\": {\"color\": \"#00cc96\", \"size\": [1.7572703903951745], \"sizemode\": \"area\", \"sizeref\": 0.004761815835647768, \"symbol\": \"circle\"}, \"mode\": \"markers\", \"name\": \"country_name=Switzerland\", \"scene\": \"scene\", \"showlegend\": true, \"type\": \"scatter3d\", \"x\": [0.6212087912087911], \"y\": [0.5222727272727273], \"z\": [0.6137888719136559]}, {\"hoverlabel\": {\"namelength\": 0}, \"hovertemplate\": \"country_name=Taiwan<br>energy=%{x}<br>key=%{y}<br>loudness=%{z}<br>sum_of_two_features=%{marker.size}\", \"legendgroup\": \"country_name=Taiwan\", \"marker\": {\"color\": \"#ab63fa\", \"size\": [1.6241762282614132], \"sizemode\": \"area\", \"sizeref\": 0.004761815835647768, \"symbol\": \"circle\"}, \"mode\": \"markers\", \"name\": \"country_name=Taiwan\", \"scene\": \"scene\", \"showlegend\": true, \"type\": \"scatter3d\", \"x\": [0.5435989010989012], \"y\": [0.4963636363636361], \"z\": [0.5842136907988761]}, {\"hoverlabel\": {\"namelength\": 0}, \"hovertemplate\": \"country_name=Thailand<br>energy=%{x}<br>key=%{y}<br>loudness=%{z}<br>sum_of_two_features=%{marker.size}\", \"legendgroup\": \"country_name=Thailand\", \"marker\": {\"color\": \"#FFA15A\", \"size\": [1.7138859593415305], \"sizemode\": \"area\", \"sizeref\": 0.004761815835647768, \"symbol\": \"circle\"}, \"mode\": \"markers\", \"name\": \"country_name=Thailand\", \"scene\": \"scene\", \"showlegend\": true, \"type\": \"scatter3d\", \"x\": [0.5896813186813187], \"y\": [0.5209090909090912], \"z\": [0.6032955497511209]}, {\"hoverlabel\": {\"namelength\": 0}, \"hovertemplate\": \"country_name=Turkey<br>energy=%{x}<br>key=%{y}<br>loudness=%{z}<br>sum_of_two_features=%{marker.size}\", \"legendgroup\": \"country_name=Turkey\", \"marker\": {\"color\": \"#19d3f3\", \"size\": [1.665477112385421], \"sizemode\": \"area\", \"sizeref\": 0.004761815835647768, \"symbol\": \"circle\"}, \"mode\": \"markers\", \"name\": \"country_name=Turkey\", \"scene\": \"scene\", \"showlegend\": true, \"type\": \"scatter3d\", \"x\": [0.5931153846153844], \"y\": [0.5145454545454548], \"z\": [0.5578162732245819]}, {\"hoverlabel\": {\"namelength\": 0}, \"hovertemplate\": \"country_name=United Kingdom<br>energy=%{x}<br>key=%{y}<br>loudness=%{z}<br>sum_of_two_features=%{marker.size}\", \"legendgroup\": \"country_name=United Kingdom\", \"marker\": {\"color\": \"#FF6692\", \"size\": [1.7381210933911346], \"sizemode\": \"area\", \"sizeref\": 0.004761815835647768, \"symbol\": \"circle\"}, \"mode\": \"markers\", \"name\": \"country_name=United Kingdom\", \"scene\": \"scene\", \"showlegend\": true, \"type\": \"scatter3d\", \"x\": [0.6073168037992154], \"y\": [0.5303791685701235], \"z\": [0.6004251210217959]}, {\"hoverlabel\": {\"namelength\": 0}, \"hovertemplate\": \"country_name=United States<br>energy=%{x}<br>key=%{y}<br>loudness=%{z}<br>sum_of_two_features=%{marker.size}\", \"legendgroup\": \"country_name=United States\", \"marker\": {\"color\": \"#B6E880\", \"size\": [1.692569948745954], \"sizemode\": \"area\", \"sizeref\": 0.004761815835647768, \"symbol\": \"circle\"}, \"mode\": \"markers\", \"name\": \"country_name=United States\", \"scene\": \"scene\", \"showlegend\": true, \"type\": \"scatter3d\", \"x\": [0.5733392235904795], \"y\": [0.5153037916857013], \"z\": [0.6039269334697733]}],\n",
              "                        {\"legend\": {\"itemsizing\": \"constant\", \"tracegroupgap\": 0}, \"margin\": {\"t\": 60}, \"scene\": {\"domain\": {\"x\": [0.0, 1.0], \"y\": [0.0, 1.0]}, \"xaxis\": {\"title\": {\"text\": \"energy\"}}, \"yaxis\": {\"title\": {\"text\": \"key\"}}, \"zaxis\": {\"title\": {\"text\": \"loudness\"}}}, \"template\": {\"data\": {\"bar\": [{\"error_x\": {\"color\": \"#2a3f5f\"}, \"error_y\": {\"color\": \"#2a3f5f\"}, \"marker\": {\"line\": {\"color\": \"#E5ECF6\", \"width\": 0.5}}, \"type\": \"bar\"}], \"barpolar\": [{\"marker\": {\"line\": {\"color\": \"#E5ECF6\", \"width\": 0.5}}, \"type\": \"barpolar\"}], \"carpet\": [{\"aaxis\": {\"endlinecolor\": \"#2a3f5f\", \"gridcolor\": \"white\", \"linecolor\": \"white\", \"minorgridcolor\": \"white\", \"startlinecolor\": \"#2a3f5f\"}, \"baxis\": {\"endlinecolor\": \"#2a3f5f\", \"gridcolor\": \"white\", \"linecolor\": \"white\", \"minorgridcolor\": \"white\", \"startlinecolor\": \"#2a3f5f\"}, \"type\": \"carpet\"}], \"choropleth\": [{\"colorbar\": {\"outlinewidth\": 0, \"ticks\": \"\"}, \"type\": \"choropleth\"}], \"contour\": [{\"colorbar\": {\"outlinewidth\": 0, \"ticks\": \"\"}, \"colorscale\": [[0.0, \"#0d0887\"], [0.1111111111111111, \"#46039f\"], [0.2222222222222222, \"#7201a8\"], [0.3333333333333333, \"#9c179e\"], [0.4444444444444444, \"#bd3786\"], [0.5555555555555556, \"#d8576b\"], [0.6666666666666666, \"#ed7953\"], [0.7777777777777778, \"#fb9f3a\"], [0.8888888888888888, \"#fdca26\"], [1.0, \"#f0f921\"]], \"type\": \"contour\"}], \"contourcarpet\": [{\"colorbar\": {\"outlinewidth\": 0, \"ticks\": \"\"}, \"type\": \"contourcarpet\"}], \"heatmap\": [{\"colorbar\": {\"outlinewidth\": 0, \"ticks\": \"\"}, \"colorscale\": [[0.0, \"#0d0887\"], [0.1111111111111111, \"#46039f\"], [0.2222222222222222, \"#7201a8\"], [0.3333333333333333, \"#9c179e\"], [0.4444444444444444, \"#bd3786\"], [0.5555555555555556, \"#d8576b\"], [0.6666666666666666, \"#ed7953\"], [0.7777777777777778, \"#fb9f3a\"], [0.8888888888888888, \"#fdca26\"], [1.0, \"#f0f921\"]], \"type\": \"heatmap\"}], \"heatmapgl\": [{\"colorbar\": {\"outlinewidth\": 0, \"ticks\": \"\"}, \"colorscale\": [[0.0, \"#0d0887\"], [0.1111111111111111, \"#46039f\"], [0.2222222222222222, \"#7201a8\"], [0.3333333333333333, \"#9c179e\"], [0.4444444444444444, \"#bd3786\"], [0.5555555555555556, \"#d8576b\"], [0.6666666666666666, \"#ed7953\"], [0.7777777777777778, \"#fb9f3a\"], [0.8888888888888888, \"#fdca26\"], [1.0, \"#f0f921\"]], \"type\": \"heatmapgl\"}], \"histogram\": [{\"marker\": {\"colorbar\": {\"outlinewidth\": 0, \"ticks\": \"\"}}, \"type\": \"histogram\"}], \"histogram2d\": [{\"colorbar\": {\"outlinewidth\": 0, \"ticks\": \"\"}, \"colorscale\": [[0.0, \"#0d0887\"], [0.1111111111111111, \"#46039f\"], [0.2222222222222222, \"#7201a8\"], [0.3333333333333333, \"#9c179e\"], [0.4444444444444444, \"#bd3786\"], [0.5555555555555556, \"#d8576b\"], [0.6666666666666666, \"#ed7953\"], [0.7777777777777778, \"#fb9f3a\"], [0.8888888888888888, \"#fdca26\"], [1.0, \"#f0f921\"]], \"type\": \"histogram2d\"}], \"histogram2dcontour\": [{\"colorbar\": {\"outlinewidth\": 0, \"ticks\": \"\"}, \"colorscale\": [[0.0, \"#0d0887\"], [0.1111111111111111, \"#46039f\"], [0.2222222222222222, \"#7201a8\"], [0.3333333333333333, \"#9c179e\"], [0.4444444444444444, \"#bd3786\"], [0.5555555555555556, \"#d8576b\"], [0.6666666666666666, \"#ed7953\"], [0.7777777777777778, \"#fb9f3a\"], [0.8888888888888888, \"#fdca26\"], [1.0, \"#f0f921\"]], \"type\": \"histogram2dcontour\"}], \"mesh3d\": [{\"colorbar\": {\"outlinewidth\": 0, \"ticks\": \"\"}, \"type\": \"mesh3d\"}], \"parcoords\": [{\"line\": {\"colorbar\": {\"outlinewidth\": 0, \"ticks\": \"\"}}, \"type\": \"parcoords\"}], \"pie\": [{\"automargin\": true, \"type\": \"pie\"}], \"scatter\": [{\"marker\": {\"colorbar\": {\"outlinewidth\": 0, \"ticks\": \"\"}}, \"type\": \"scatter\"}], \"scatter3d\": [{\"line\": {\"colorbar\": {\"outlinewidth\": 0, \"ticks\": \"\"}}, \"marker\": {\"colorbar\": {\"outlinewidth\": 0, \"ticks\": \"\"}}, \"type\": \"scatter3d\"}], \"scattercarpet\": [{\"marker\": {\"colorbar\": {\"outlinewidth\": 0, \"ticks\": \"\"}}, \"type\": \"scattercarpet\"}], \"scattergeo\": [{\"marker\": {\"colorbar\": {\"outlinewidth\": 0, \"ticks\": \"\"}}, \"type\": \"scattergeo\"}], \"scattergl\": [{\"marker\": {\"colorbar\": {\"outlinewidth\": 0, \"ticks\": \"\"}}, \"type\": \"scattergl\"}], \"scattermapbox\": [{\"marker\": {\"colorbar\": {\"outlinewidth\": 0, \"ticks\": \"\"}}, \"type\": \"scattermapbox\"}], \"scatterpolar\": [{\"marker\": {\"colorbar\": {\"outlinewidth\": 0, \"ticks\": \"\"}}, \"type\": \"scatterpolar\"}], \"scatterpolargl\": [{\"marker\": {\"colorbar\": {\"outlinewidth\": 0, \"ticks\": \"\"}}, \"type\": \"scatterpolargl\"}], \"scatterternary\": [{\"marker\": {\"colorbar\": {\"outlinewidth\": 0, \"ticks\": \"\"}}, \"type\": \"scatterternary\"}], \"surface\": [{\"colorbar\": {\"outlinewidth\": 0, \"ticks\": \"\"}, \"colorscale\": [[0.0, \"#0d0887\"], [0.1111111111111111, \"#46039f\"], [0.2222222222222222, \"#7201a8\"], [0.3333333333333333, \"#9c179e\"], [0.4444444444444444, \"#bd3786\"], [0.5555555555555556, \"#d8576b\"], [0.6666666666666666, \"#ed7953\"], [0.7777777777777778, \"#fb9f3a\"], [0.8888888888888888, \"#fdca26\"], [1.0, \"#f0f921\"]], \"type\": \"surface\"}], \"table\": [{\"cells\": {\"fill\": {\"color\": \"#EBF0F8\"}, \"line\": {\"color\": \"white\"}}, \"header\": {\"fill\": {\"color\": \"#C8D4E3\"}, \"line\": {\"color\": \"white\"}}, \"type\": \"table\"}]}, \"layout\": {\"annotationdefaults\": {\"arrowcolor\": \"#2a3f5f\", \"arrowhead\": 0, \"arrowwidth\": 1}, \"coloraxis\": {\"colorbar\": {\"outlinewidth\": 0, \"ticks\": \"\"}}, \"colorscale\": {\"diverging\": [[0, \"#8e0152\"], [0.1, \"#c51b7d\"], [0.2, \"#de77ae\"], [0.3, \"#f1b6da\"], [0.4, \"#fde0ef\"], [0.5, \"#f7f7f7\"], [0.6, \"#e6f5d0\"], [0.7, \"#b8e186\"], [0.8, \"#7fbc41\"], [0.9, \"#4d9221\"], [1, \"#276419\"]], \"sequential\": [[0.0, \"#0d0887\"], [0.1111111111111111, \"#46039f\"], [0.2222222222222222, \"#7201a8\"], [0.3333333333333333, \"#9c179e\"], [0.4444444444444444, \"#bd3786\"], [0.5555555555555556, \"#d8576b\"], [0.6666666666666666, \"#ed7953\"], [0.7777777777777778, \"#fb9f3a\"], [0.8888888888888888, \"#fdca26\"], [1.0, \"#f0f921\"]], \"sequentialminus\": [[0.0, \"#0d0887\"], [0.1111111111111111, \"#46039f\"], [0.2222222222222222, \"#7201a8\"], [0.3333333333333333, \"#9c179e\"], [0.4444444444444444, \"#bd3786\"], [0.5555555555555556, \"#d8576b\"], [0.6666666666666666, \"#ed7953\"], [0.7777777777777778, \"#fb9f3a\"], [0.8888888888888888, \"#fdca26\"], [1.0, \"#f0f921\"]]}, \"colorway\": [\"#636efa\", \"#EF553B\", \"#00cc96\", \"#ab63fa\", \"#FFA15A\", \"#19d3f3\", \"#FF6692\", \"#B6E880\", \"#FF97FF\", \"#FECB52\"], \"font\": {\"color\": \"#2a3f5f\"}, \"geo\": {\"bgcolor\": \"white\", \"lakecolor\": \"white\", \"landcolor\": \"#E5ECF6\", \"showlakes\": true, \"showland\": true, \"subunitcolor\": \"white\"}, \"hoverlabel\": {\"align\": \"left\"}, \"hovermode\": \"closest\", \"mapbox\": {\"style\": \"light\"}, \"paper_bgcolor\": \"white\", \"plot_bgcolor\": \"#E5ECF6\", \"polar\": {\"angularaxis\": {\"gridcolor\": \"white\", \"linecolor\": \"white\", \"ticks\": \"\"}, \"bgcolor\": \"#E5ECF6\", \"radialaxis\": {\"gridcolor\": \"white\", \"linecolor\": \"white\", \"ticks\": \"\"}}, \"scene\": {\"xaxis\": {\"backgroundcolor\": \"#E5ECF6\", \"gridcolor\": \"white\", \"gridwidth\": 2, \"linecolor\": \"white\", \"showbackground\": true, \"ticks\": \"\", \"zerolinecolor\": \"white\"}, \"yaxis\": {\"backgroundcolor\": \"#E5ECF6\", \"gridcolor\": \"white\", \"gridwidth\": 2, \"linecolor\": \"white\", \"showbackground\": true, \"ticks\": \"\", \"zerolinecolor\": \"white\"}, \"zaxis\": {\"backgroundcolor\": \"#E5ECF6\", \"gridcolor\": \"white\", \"gridwidth\": 2, \"linecolor\": \"white\", \"showbackground\": true, \"ticks\": \"\", \"zerolinecolor\": \"white\"}}, \"shapedefaults\": {\"line\": {\"color\": \"#2a3f5f\"}}, \"ternary\": {\"aaxis\": {\"gridcolor\": \"white\", \"linecolor\": \"white\", \"ticks\": \"\"}, \"baxis\": {\"gridcolor\": \"white\", \"linecolor\": \"white\", \"ticks\": \"\"}, \"bgcolor\": \"#E5ECF6\", \"caxis\": {\"gridcolor\": \"white\", \"linecolor\": \"white\", \"ticks\": \"\"}}, \"title\": {\"x\": 0.05}, \"xaxis\": {\"automargin\": true, \"gridcolor\": \"white\", \"linecolor\": \"white\", \"ticks\": \"\", \"title\": {\"standoff\": 15}, \"zerolinecolor\": \"white\", \"zerolinewidth\": 2}, \"yaxis\": {\"automargin\": true, \"gridcolor\": \"white\", \"linecolor\": \"white\", \"ticks\": \"\", \"title\": {\"standoff\": 15}, \"zerolinecolor\": \"white\", \"zerolinewidth\": 2}}}},\n",
              "                        {\"responsive\": true}\n",
              "                    ).then(function(){\n",
              "                            \n",
              "var gd = document.getElementById('87fc2763-3962-4bd3-a969-0b0684da8e5b');\n",
              "var x = new MutationObserver(function (mutations, observer) {{\n",
              "        var display = window.getComputedStyle(gd).display;\n",
              "        if (!display || display === 'none') {{\n",
              "            console.log([gd, 'removed!']);\n",
              "            Plotly.purge(gd);\n",
              "            observer.disconnect();\n",
              "        }}\n",
              "}});\n",
              "\n",
              "// Listen for the removal of the full notebook cells\n",
              "var notebookContainer = gd.closest('#notebook-container');\n",
              "if (notebookContainer) {{\n",
              "    x.observe(notebookContainer, {childList: true});\n",
              "}}\n",
              "\n",
              "// Listen for the clearing of the current output cell\n",
              "var outputEl = gd.closest('.output');\n",
              "if (outputEl) {{\n",
              "    x.observe(outputEl, {childList: true});\n",
              "}}\n",
              "\n",
              "                        })\n",
              "                };\n",
              "                \n",
              "            </script>\n",
              "        </div>\n",
              "</body>\n",
              "</html>"
            ]
          },
          "metadata": {
            "tags": []
          }
        },
        {
          "output_type": "stream",
          "text": [
            "None\n"
          ],
          "name": "stdout"
        }
      ]
    },
    {
      "cell_type": "markdown",
      "metadata": {
        "id": "5kQfJ2weI-jX",
        "colab_type": "text"
      },
      "source": [
        "## PCA"
      ]
    },
    {
      "cell_type": "code",
      "metadata": {
        "id": "QNn3OO3TQP3k",
        "colab_type": "code",
        "colab": {}
      },
      "source": [
        "##Applying PCA\n",
        "original_base_audio_information\n",
        "original_base_audio_information.fillna(0,inplace=True)"
      ],
      "execution_count": null,
      "outputs": []
    },
    {
      "cell_type": "code",
      "metadata": {
        "id": "8UzS3hFIRtPU",
        "colab_type": "code",
        "colab": {}
      },
      "source": [
        "pca = PCA(n_components=2)#To be run for original scalar\n",
        "pct = pca.fit_transform(original_base_audio_information)\n"
      ],
      "execution_count": null,
      "outputs": []
    },
    {
      "cell_type": "code",
      "metadata": {
        "id": "xyjD6G6sR01d",
        "colab_type": "code",
        "colab": {
          "base_uri": "https://localhost:8080/",
          "height": 136
        },
        "outputId": "5df101eb-b6f0-480c-e27e-af07001ae4c2"
      },
      "source": [
        "pct"
      ],
      "execution_count": null,
      "outputs": [
        {
          "output_type": "execute_result",
          "data": {
            "text/plain": [
              "array([[-0.34295287, -0.56100407],\n",
              "       [-0.51136913,  0.37065879],\n",
              "       [-0.5028352 ,  0.43284977],\n",
              "       ...,\n",
              "       [-0.38523458, -0.15338166],\n",
              "       [-0.51243048,  0.33962015],\n",
              "       [-0.44645543,  0.15114721]])"
            ]
          },
          "metadata": {
            "tags": []
          },
          "execution_count": 39
        }
      ]
    },
    {
      "cell_type": "code",
      "metadata": {
        "id": "r5aj0fRsSLj0",
        "colab_type": "code",
        "colab": {}
      },
      "source": [
        "PCA_raw_data = pd.DataFrame(pct,columns=['pc1','pc2'])\n"
      ],
      "execution_count": null,
      "outputs": []
    },
    {
      "cell_type": "code",
      "metadata": {
        "id": "WkbtjakySYgA",
        "colab_type": "code",
        "colab": {
          "base_uri": "https://localhost:8080/",
          "height": 419
        },
        "outputId": "706b9ac1-e125-42e6-aa62-65b2968efd02"
      },
      "source": [
        "PCA_raw_data"
      ],
      "execution_count": null,
      "outputs": [
        {
          "output_type": "execute_result",
          "data": {
            "text/html": [
              "<div>\n",
              "<style scoped>\n",
              "    .dataframe tbody tr th:only-of-type {\n",
              "        vertical-align: middle;\n",
              "    }\n",
              "\n",
              "    .dataframe tbody tr th {\n",
              "        vertical-align: top;\n",
              "    }\n",
              "\n",
              "    .dataframe thead th {\n",
              "        text-align: right;\n",
              "    }\n",
              "</style>\n",
              "<table border=\"1\" class=\"dataframe\">\n",
              "  <thead>\n",
              "    <tr style=\"text-align: right;\">\n",
              "      <th></th>\n",
              "      <th>pc1</th>\n",
              "      <th>pc2</th>\n",
              "    </tr>\n",
              "  </thead>\n",
              "  <tbody>\n",
              "    <tr>\n",
              "      <th>0</th>\n",
              "      <td>-0.342953</td>\n",
              "      <td>-0.561004</td>\n",
              "    </tr>\n",
              "    <tr>\n",
              "      <th>1</th>\n",
              "      <td>-0.511369</td>\n",
              "      <td>0.370659</td>\n",
              "    </tr>\n",
              "    <tr>\n",
              "      <th>2</th>\n",
              "      <td>-0.502835</td>\n",
              "      <td>0.432850</td>\n",
              "    </tr>\n",
              "    <tr>\n",
              "      <th>3</th>\n",
              "      <td>-0.410741</td>\n",
              "      <td>-0.126821</td>\n",
              "    </tr>\n",
              "    <tr>\n",
              "      <th>4</th>\n",
              "      <td>0.475031</td>\n",
              "      <td>0.559810</td>\n",
              "    </tr>\n",
              "    <tr>\n",
              "      <th>...</th>\n",
              "      <td>...</td>\n",
              "      <td>...</td>\n",
              "    </tr>\n",
              "    <tr>\n",
              "      <th>10977</th>\n",
              "      <td>0.585220</td>\n",
              "      <td>-0.098602</td>\n",
              "    </tr>\n",
              "    <tr>\n",
              "      <th>10978</th>\n",
              "      <td>-0.418072</td>\n",
              "      <td>-0.061043</td>\n",
              "    </tr>\n",
              "    <tr>\n",
              "      <th>10979</th>\n",
              "      <td>-0.385235</td>\n",
              "      <td>-0.153382</td>\n",
              "    </tr>\n",
              "    <tr>\n",
              "      <th>10980</th>\n",
              "      <td>-0.512430</td>\n",
              "      <td>0.339620</td>\n",
              "    </tr>\n",
              "    <tr>\n",
              "      <th>10981</th>\n",
              "      <td>-0.446455</td>\n",
              "      <td>0.151147</td>\n",
              "    </tr>\n",
              "  </tbody>\n",
              "</table>\n",
              "<p>10982 rows × 2 columns</p>\n",
              "</div>"
            ],
            "text/plain": [
              "            pc1       pc2\n",
              "0     -0.342953 -0.561004\n",
              "1     -0.511369  0.370659\n",
              "2     -0.502835  0.432850\n",
              "3     -0.410741 -0.126821\n",
              "4      0.475031  0.559810\n",
              "...         ...       ...\n",
              "10977  0.585220 -0.098602\n",
              "10978 -0.418072 -0.061043\n",
              "10979 -0.385235 -0.153382\n",
              "10980 -0.512430  0.339620\n",
              "10981 -0.446455  0.151147\n",
              "\n",
              "[10982 rows x 2 columns]"
            ]
          },
          "metadata": {
            "tags": []
          },
          "execution_count": 41
        }
      ]
    },
    {
      "cell_type": "code",
      "metadata": {
        "id": "DIDt9liLSZj6",
        "colab_type": "code",
        "colab": {}
      },
      "source": [
        "PCA_with_country_names = pd.concat([PCA_raw_data,song_with_normalized_meta_data['country_name']],axis=1)\n"
      ],
      "execution_count": null,
      "outputs": []
    },
    {
      "cell_type": "code",
      "metadata": {
        "id": "T0R7ShMNTTK1",
        "colab_type": "code",
        "colab": {
          "base_uri": "https://localhost:8080/",
          "height": 559
        },
        "outputId": "9c96e0ed-224b-48ab-d9a4-ffe811898967"
      },
      "source": [
        "temp1 = PCA_with_country_names.groupby(['country_name'])[['pc1','pc2']].mean().reset_index()\n",
        "#temp1['sum_of_two_features'] = temp1['pc1'] + temp1['pc2']\n",
        "    \n",
        "fig = px.scatter(temp1, x='pc1', y='pc2', color='country_name')\n",
        "    #fig.show()\n",
        "print(fig.show())"
      ],
      "execution_count": null,
      "outputs": [
        {
          "output_type": "display_data",
          "data": {
            "text/html": [
              "<html>\n",
              "<head><meta charset=\"utf-8\" /></head>\n",
              "<body>\n",
              "    <div>\n",
              "            <script src=\"https://cdnjs.cloudflare.com/ajax/libs/mathjax/2.7.5/MathJax.js?config=TeX-AMS-MML_SVG\"></script><script type=\"text/javascript\">if (window.MathJax) {MathJax.Hub.Config({SVG: {font: \"STIX-Web\"}});}</script>\n",
              "                <script type=\"text/javascript\">window.PlotlyConfig = {MathJaxConfig: 'local'};</script>\n",
              "        <script src=\"https://cdn.plot.ly/plotly-latest.min.js\"></script>    \n",
              "            <div id=\"c0d277a7-c092-4440-a6fd-806bc9d651f2\" class=\"plotly-graph-div\" style=\"height:525px; width:100%;\"></div>\n",
              "            <script type=\"text/javascript\">\n",
              "                \n",
              "                    window.PLOTLYENV=window.PLOTLYENV || {};\n",
              "                    \n",
              "                if (document.getElementById(\"c0d277a7-c092-4440-a6fd-806bc9d651f2\")) {\n",
              "                    Plotly.newPlot(\n",
              "                        'c0d277a7-c092-4440-a6fd-806bc9d651f2',\n",
              "                        [{\"hoverlabel\": {\"namelength\": 0}, \"hovertemplate\": \"country_name=Argentina<br>pc1=%{x}<br>pc2=%{y}\", \"legendgroup\": \"country_name=Argentina\", \"marker\": {\"color\": \"#636efa\", \"symbol\": \"circle\"}, \"mode\": \"markers\", \"name\": \"country_name=Argentina\", \"showlegend\": true, \"type\": \"scatter\", \"x\": [0.00314122387845233], \"xaxis\": \"x\", \"y\": [-0.015710847698202475], \"yaxis\": \"y\"}, {\"hoverlabel\": {\"namelength\": 0}, \"hovertemplate\": \"country_name=Australia<br>pc1=%{x}<br>pc2=%{y}\", \"legendgroup\": \"country_name=Australia\", \"marker\": {\"color\": \"#EF553B\", \"symbol\": \"circle\"}, \"mode\": \"markers\", \"name\": \"country_name=Australia\", \"showlegend\": true, \"type\": \"scatter\", \"x\": [-0.017072190086010342], \"xaxis\": \"x\", \"y\": [-0.004217676467358111], \"yaxis\": \"y\"}, {\"hoverlabel\": {\"namelength\": 0}, \"hovertemplate\": \"country_name=Austria<br>pc1=%{x}<br>pc2=%{y}\", \"legendgroup\": \"country_name=Austria\", \"marker\": {\"color\": \"#00cc96\", \"symbol\": \"circle\"}, \"mode\": \"markers\", \"name\": \"country_name=Austria\", \"showlegend\": true, \"type\": \"scatter\", \"x\": [0.08435151282181447], \"xaxis\": \"x\", \"y\": [0.02151885126322175], \"yaxis\": \"y\"}, {\"hoverlabel\": {\"namelength\": 0}, \"hovertemplate\": \"country_name=Belgium<br>pc1=%{x}<br>pc2=%{y}\", \"legendgroup\": \"country_name=Belgium\", \"marker\": {\"color\": \"#ab63fa\", \"symbol\": \"circle\"}, \"mode\": \"markers\", \"name\": \"country_name=Belgium\", \"showlegend\": true, \"type\": \"scatter\", \"x\": [0.04722658058961703], \"xaxis\": \"x\", \"y\": [0.013758717922209982], \"yaxis\": \"y\"}, {\"hoverlabel\": {\"namelength\": 0}, \"hovertemplate\": \"country_name=Bolivia<br>pc1=%{x}<br>pc2=%{y}\", \"legendgroup\": \"country_name=Bolivia\", \"marker\": {\"color\": \"#FFA15A\", \"symbol\": \"circle\"}, \"mode\": \"markers\", \"name\": \"country_name=Bolivia\", \"showlegend\": true, \"type\": \"scatter\", \"x\": [-0.026166148280915708], \"xaxis\": \"x\", \"y\": [-0.031574072664842905], \"yaxis\": \"y\"}, {\"hoverlabel\": {\"namelength\": 0}, \"hovertemplate\": \"country_name=Brazil<br>pc1=%{x}<br>pc2=%{y}\", \"legendgroup\": \"country_name=Brazil\", \"marker\": {\"color\": \"#19d3f3\", \"symbol\": \"circle\"}, \"mode\": \"markers\", \"name\": \"country_name=Brazil\", \"showlegend\": true, \"type\": \"scatter\", \"x\": [-0.017764917849670044], \"xaxis\": \"x\", \"y\": [-0.007013386852946151], \"yaxis\": \"y\"}, {\"hoverlabel\": {\"namelength\": 0}, \"hovertemplate\": \"country_name=Bulgaria<br>pc1=%{x}<br>pc2=%{y}\", \"legendgroup\": \"country_name=Bulgaria\", \"marker\": {\"color\": \"#FF6692\", \"symbol\": \"circle\"}, \"mode\": \"markers\", \"name\": \"country_name=Bulgaria\", \"showlegend\": true, \"type\": \"scatter\", \"x\": [0.12750760993177204], \"xaxis\": \"x\", \"y\": [-0.01802693823354827], \"yaxis\": \"y\"}, {\"hoverlabel\": {\"namelength\": 0}, \"hovertemplate\": \"country_name=Canada<br>pc1=%{x}<br>pc2=%{y}\", \"legendgroup\": \"country_name=Canada\", \"marker\": {\"color\": \"#B6E880\", \"symbol\": \"circle\"}, \"mode\": \"markers\", \"name\": \"country_name=Canada\", \"showlegend\": true, \"type\": \"scatter\", \"x\": [-0.0016365136203754576], \"xaxis\": \"x\", \"y\": [-0.027610994274956235], \"yaxis\": \"y\"}, {\"hoverlabel\": {\"namelength\": 0}, \"hovertemplate\": \"country_name=Chile<br>pc1=%{x}<br>pc2=%{y}\", \"legendgroup\": \"country_name=Chile\", \"marker\": {\"color\": \"#FF97FF\", \"symbol\": \"circle\"}, \"mode\": \"markers\", \"name\": \"country_name=Chile\", \"showlegend\": true, \"type\": \"scatter\", \"x\": [-0.019531609091220318], \"xaxis\": \"x\", \"y\": [-0.007622367586768939], \"yaxis\": \"y\"}, {\"hoverlabel\": {\"namelength\": 0}, \"hovertemplate\": \"country_name=Colombia<br>pc1=%{x}<br>pc2=%{y}\", \"legendgroup\": \"country_name=Colombia\", \"marker\": {\"color\": \"#FECB52\", \"symbol\": \"circle\"}, \"mode\": \"markers\", \"name\": \"country_name=Colombia\", \"showlegend\": true, \"type\": \"scatter\", \"x\": [-0.055957725463529326], \"xaxis\": \"x\", \"y\": [-0.03250106334758165], \"yaxis\": \"y\"}, {\"hoverlabel\": {\"namelength\": 0}, \"hovertemplate\": \"country_name=Costa Rica<br>pc1=%{x}<br>pc2=%{y}\", \"legendgroup\": \"country_name=Costa Rica\", \"marker\": {\"color\": \"#636efa\", \"symbol\": \"circle\"}, \"mode\": \"markers\", \"name\": \"country_name=Costa Rica\", \"showlegend\": true, \"type\": \"scatter\", \"x\": [-0.04453308220329918], \"xaxis\": \"x\", \"y\": [-0.006379744216204003], \"yaxis\": \"y\"}, {\"hoverlabel\": {\"namelength\": 0}, \"hovertemplate\": \"country_name=Czech Republic<br>pc1=%{x}<br>pc2=%{y}\", \"legendgroup\": \"country_name=Czech Republic\", \"marker\": {\"color\": \"#EF553B\", \"symbol\": \"circle\"}, \"mode\": \"markers\", \"name\": \"country_name=Czech Republic\", \"showlegend\": true, \"type\": \"scatter\", \"x\": [0.037274606209972444], \"xaxis\": \"x\", \"y\": [0.023338582491388555], \"yaxis\": \"y\"}, {\"hoverlabel\": {\"namelength\": 0}, \"hovertemplate\": \"country_name=Denmark<br>pc1=%{x}<br>pc2=%{y}\", \"legendgroup\": \"country_name=Denmark\", \"marker\": {\"color\": \"#00cc96\", \"symbol\": \"circle\"}, \"mode\": \"markers\", \"name\": \"country_name=Denmark\", \"showlegend\": true, \"type\": \"scatter\", \"x\": [0.09766480453711121], \"xaxis\": \"x\", \"y\": [0.015816290150296793], \"yaxis\": \"y\"}, {\"hoverlabel\": {\"namelength\": 0}, \"hovertemplate\": \"country_name=Dominican Republic<br>pc1=%{x}<br>pc2=%{y}\", \"legendgroup\": \"country_name=Dominican Republic\", \"marker\": {\"color\": \"#ab63fa\", \"symbol\": \"circle\"}, \"mode\": \"markers\", \"name\": \"country_name=Dominican Republic\", \"showlegend\": true, \"type\": \"scatter\", \"x\": [-0.004745317712988359], \"xaxis\": \"x\", \"y\": [-0.031812646167198755], \"yaxis\": \"y\"}, {\"hoverlabel\": {\"namelength\": 0}, \"hovertemplate\": \"country_name=Ecuador<br>pc1=%{x}<br>pc2=%{y}\", \"legendgroup\": \"country_name=Ecuador\", \"marker\": {\"color\": \"#FFA15A\", \"symbol\": \"circle\"}, \"mode\": \"markers\", \"name\": \"country_name=Ecuador\", \"showlegend\": true, \"type\": \"scatter\", \"x\": [-0.02505002089144549], \"xaxis\": \"x\", \"y\": [-0.03355530666663287], \"yaxis\": \"y\"}, {\"hoverlabel\": {\"namelength\": 0}, \"hovertemplate\": \"country_name=El Salvador<br>pc1=%{x}<br>pc2=%{y}\", \"legendgroup\": \"country_name=El Salvador\", \"marker\": {\"color\": \"#19d3f3\", \"symbol\": \"circle\"}, \"mode\": \"markers\", \"name\": \"country_name=El Salvador\", \"showlegend\": true, \"type\": \"scatter\", \"x\": [-0.0216986625122859], \"xaxis\": \"x\", \"y\": [-0.02352687642296833], \"yaxis\": \"y\"}, {\"hoverlabel\": {\"namelength\": 0}, \"hovertemplate\": \"country_name=Estonia<br>pc1=%{x}<br>pc2=%{y}\", \"legendgroup\": \"country_name=Estonia\", \"marker\": {\"color\": \"#FF6692\", \"symbol\": \"circle\"}, \"mode\": \"markers\", \"name\": \"country_name=Estonia\", \"showlegend\": true, \"type\": \"scatter\", \"x\": [0.05948527320543595], \"xaxis\": \"x\", \"y\": [-0.0049964767958351215], \"yaxis\": \"y\"}, {\"hoverlabel\": {\"namelength\": 0}, \"hovertemplate\": \"country_name=Finland<br>pc1=%{x}<br>pc2=%{y}\", \"legendgroup\": \"country_name=Finland\", \"marker\": {\"color\": \"#B6E880\", \"symbol\": \"circle\"}, \"mode\": \"markers\", \"name\": \"country_name=Finland\", \"showlegend\": true, \"type\": \"scatter\", \"x\": [0.11328567076755214], \"xaxis\": \"x\", \"y\": [-0.011769990154241712], \"yaxis\": \"y\"}, {\"hoverlabel\": {\"namelength\": 0}, \"hovertemplate\": \"country_name=France<br>pc1=%{x}<br>pc2=%{y}\", \"legendgroup\": \"country_name=France\", \"marker\": {\"color\": \"#FF97FF\", \"symbol\": \"circle\"}, \"mode\": \"markers\", \"name\": \"country_name=France\", \"showlegend\": true, \"type\": \"scatter\", \"x\": [0.16891518010328035], \"xaxis\": \"x\", \"y\": [0.05084426519222455], \"yaxis\": \"y\"}, {\"hoverlabel\": {\"namelength\": 0}, \"hovertemplate\": \"country_name=Germany<br>pc1=%{x}<br>pc2=%{y}\", \"legendgroup\": \"country_name=Germany\", \"marker\": {\"color\": \"#FECB52\", \"symbol\": \"circle\"}, \"mode\": \"markers\", \"name\": \"country_name=Germany\", \"showlegend\": true, \"type\": \"scatter\", \"x\": [0.1524028722473095], \"xaxis\": \"x\", \"y\": [0.016696876211860206], \"yaxis\": \"y\"}, {\"hoverlabel\": {\"namelength\": 0}, \"hovertemplate\": \"country_name=Greece<br>pc1=%{x}<br>pc2=%{y}\", \"legendgroup\": \"country_name=Greece\", \"marker\": {\"color\": \"#636efa\", \"symbol\": \"circle\"}, \"mode\": \"markers\", \"name\": \"country_name=Greece\", \"showlegend\": true, \"type\": \"scatter\", \"x\": [0.1416365797991569], \"xaxis\": \"x\", \"y\": [0.02094308004527384], \"yaxis\": \"y\"}, {\"hoverlabel\": {\"namelength\": 0}, \"hovertemplate\": \"country_name=Guatemala<br>pc1=%{x}<br>pc2=%{y}\", \"legendgroup\": \"country_name=Guatemala\", \"marker\": {\"color\": \"#EF553B\", \"symbol\": \"circle\"}, \"mode\": \"markers\", \"name\": \"country_name=Guatemala\", \"showlegend\": true, \"type\": \"scatter\", \"x\": [-0.045465250322550395], \"xaxis\": \"x\", \"y\": [-0.030082161535635886], \"yaxis\": \"y\"}, {\"hoverlabel\": {\"namelength\": 0}, \"hovertemplate\": \"country_name=Honduras<br>pc1=%{x}<br>pc2=%{y}\", \"legendgroup\": \"country_name=Honduras\", \"marker\": {\"color\": \"#00cc96\", \"symbol\": \"circle\"}, \"mode\": \"markers\", \"name\": \"country_name=Honduras\", \"showlegend\": true, \"type\": \"scatter\", \"x\": [-0.021504199210537683], \"xaxis\": \"x\", \"y\": [-0.02264669672362234], \"yaxis\": \"y\"}, {\"hoverlabel\": {\"namelength\": 0}, \"hovertemplate\": \"country_name=Hong Kong<br>pc1=%{x}<br>pc2=%{y}\", \"legendgroup\": \"country_name=Hong Kong\", \"marker\": {\"color\": \"#ab63fa\", \"symbol\": \"circle\"}, \"mode\": \"markers\", \"name\": \"country_name=Hong Kong\", \"showlegend\": true, \"type\": \"scatter\", \"x\": [-0.2053579395572781], \"xaxis\": \"x\", \"y\": [0.027251178265870188], \"yaxis\": \"y\"}, {\"hoverlabel\": {\"namelength\": 0}, \"hovertemplate\": \"country_name=Hungary<br>pc1=%{x}<br>pc2=%{y}\", \"legendgroup\": \"country_name=Hungary\", \"marker\": {\"color\": \"#FFA15A\", \"symbol\": \"circle\"}, \"mode\": \"markers\", \"name\": \"country_name=Hungary\", \"showlegend\": true, \"type\": \"scatter\", \"x\": [0.01374861192634387], \"xaxis\": \"x\", \"y\": [-0.020950286426889377], \"yaxis\": \"y\"}, {\"hoverlabel\": {\"namelength\": 0}, \"hovertemplate\": \"country_name=Iceland<br>pc1=%{x}<br>pc2=%{y}\", \"legendgroup\": \"country_name=Iceland\", \"marker\": {\"color\": \"#19d3f3\", \"symbol\": \"circle\"}, \"mode\": \"markers\", \"name\": \"country_name=Iceland\", \"showlegend\": true, \"type\": \"scatter\", \"x\": [-0.034910915053703966], \"xaxis\": \"x\", \"y\": [0.027903886207453207], \"yaxis\": \"y\"}, {\"hoverlabel\": {\"namelength\": 0}, \"hovertemplate\": \"country_name=India<br>pc1=%{x}<br>pc2=%{y}\", \"legendgroup\": \"country_name=India\", \"marker\": {\"color\": \"#FF6692\", \"symbol\": \"circle\"}, \"mode\": \"markers\", \"name\": \"country_name=India\", \"showlegend\": true, \"type\": \"scatter\", \"x\": [0.028739308817323873], \"xaxis\": \"x\", \"y\": [0.049380949089289444], \"yaxis\": \"y\"}, {\"hoverlabel\": {\"namelength\": 0}, \"hovertemplate\": \"country_name=Indonesia<br>pc1=%{x}<br>pc2=%{y}\", \"legendgroup\": \"country_name=Indonesia\", \"marker\": {\"color\": \"#B6E880\", \"symbol\": \"circle\"}, \"mode\": \"markers\", \"name\": \"country_name=Indonesia\", \"showlegend\": true, \"type\": \"scatter\", \"x\": [-0.2152225365167531], \"xaxis\": \"x\", \"y\": [0.048810513611774346], \"yaxis\": \"y\"}, {\"hoverlabel\": {\"namelength\": 0}, \"hovertemplate\": \"country_name=Ireland<br>pc1=%{x}<br>pc2=%{y}\", \"legendgroup\": \"country_name=Ireland\", \"marker\": {\"color\": \"#FF97FF\", \"symbol\": \"circle\"}, \"mode\": \"markers\", \"name\": \"country_name=Ireland\", \"showlegend\": true, \"type\": \"scatter\", \"x\": [-0.002468648391185057], \"xaxis\": \"x\", \"y\": [-0.00514860373131917], \"yaxis\": \"y\"}, {\"hoverlabel\": {\"namelength\": 0}, \"hovertemplate\": \"country_name=Israel<br>pc1=%{x}<br>pc2=%{y}\", \"legendgroup\": \"country_name=Israel\", \"marker\": {\"color\": \"#FECB52\", \"symbol\": \"circle\"}, \"mode\": \"markers\", \"name\": \"country_name=Israel\", \"showlegend\": true, \"type\": \"scatter\", \"x\": [0.18062640284877463], \"xaxis\": \"x\", \"y\": [0.03176516038122373], \"yaxis\": \"y\"}, {\"hoverlabel\": {\"namelength\": 0}, \"hovertemplate\": \"country_name=Italy<br>pc1=%{x}<br>pc2=%{y}\", \"legendgroup\": \"country_name=Italy\", \"marker\": {\"color\": \"#636efa\", \"symbol\": \"circle\"}, \"mode\": \"markers\", \"name\": \"country_name=Italy\", \"showlegend\": true, \"type\": \"scatter\", \"x\": [0.08846270467921688], \"xaxis\": \"x\", \"y\": [0.017667514679893973], \"yaxis\": \"y\"}, {\"hoverlabel\": {\"namelength\": 0}, \"hovertemplate\": \"country_name=Japan<br>pc1=%{x}<br>pc2=%{y}\", \"legendgroup\": \"country_name=Japan\", \"marker\": {\"color\": \"#EF553B\", \"symbol\": \"circle\"}, \"mode\": \"markers\", \"name\": \"country_name=Japan\", \"showlegend\": true, \"type\": \"scatter\", \"x\": [-0.266950854965544], \"xaxis\": \"x\", \"y\": [-0.03285937032143123], \"yaxis\": \"y\"}, {\"hoverlabel\": {\"namelength\": 0}, \"hovertemplate\": \"country_name=Latvia<br>pc1=%{x}<br>pc2=%{y}\", \"legendgroup\": \"country_name=Latvia\", \"marker\": {\"color\": \"#00cc96\", \"symbol\": \"circle\"}, \"mode\": \"markers\", \"name\": \"country_name=Latvia\", \"showlegend\": true, \"type\": \"scatter\", \"x\": [0.08469808320343594], \"xaxis\": \"x\", \"y\": [0.012581922294001424], \"yaxis\": \"y\"}, {\"hoverlabel\": {\"namelength\": 0}, \"hovertemplate\": \"country_name=Lithuania<br>pc1=%{x}<br>pc2=%{y}\", \"legendgroup\": \"country_name=Lithuania\", \"marker\": {\"color\": \"#ab63fa\", \"symbol\": \"circle\"}, \"mode\": \"markers\", \"name\": \"country_name=Lithuania\", \"showlegend\": true, \"type\": \"scatter\", \"x\": [0.035041255810280905], \"xaxis\": \"x\", \"y\": [-0.0008336606126767157], \"yaxis\": \"y\"}, {\"hoverlabel\": {\"namelength\": 0}, \"hovertemplate\": \"country_name=Luxembourg<br>pc1=%{x}<br>pc2=%{y}\", \"legendgroup\": \"country_name=Luxembourg\", \"marker\": {\"color\": \"#FFA15A\", \"symbol\": \"circle\"}, \"mode\": \"markers\", \"name\": \"country_name=Luxembourg\", \"showlegend\": true, \"type\": \"scatter\", \"x\": [0.02715276702949228], \"xaxis\": \"x\", \"y\": [0.04420167999497437], \"yaxis\": \"y\"}, {\"hoverlabel\": {\"namelength\": 0}, \"hovertemplate\": \"country_name=Malaysia<br>pc1=%{x}<br>pc2=%{y}\", \"legendgroup\": \"country_name=Malaysia\", \"marker\": {\"color\": \"#19d3f3\", \"symbol\": \"circle\"}, \"mode\": \"markers\", \"name\": \"country_name=Malaysia\", \"showlegend\": true, \"type\": \"scatter\", \"x\": [0.00044002429963910017], \"xaxis\": \"x\", \"y\": [0.03722013030495592], \"yaxis\": \"y\"}, {\"hoverlabel\": {\"namelength\": 0}, \"hovertemplate\": \"country_name=Mexico<br>pc1=%{x}<br>pc2=%{y}\", \"legendgroup\": \"country_name=Mexico\", \"marker\": {\"color\": \"#FF6692\", \"symbol\": \"circle\"}, \"mode\": \"markers\", \"name\": \"country_name=Mexico\", \"showlegend\": true, \"type\": \"scatter\", \"x\": [-0.036715648469333485], \"xaxis\": \"x\", \"y\": [-0.024026325345523528], \"yaxis\": \"y\"}, {\"hoverlabel\": {\"namelength\": 0}, \"hovertemplate\": \"country_name=Netherlands<br>pc1=%{x}<br>pc2=%{y}\", \"legendgroup\": \"country_name=Netherlands\", \"marker\": {\"color\": \"#B6E880\", \"symbol\": \"circle\"}, \"mode\": \"markers\", \"name\": \"country_name=Netherlands\", \"showlegend\": true, \"type\": \"scatter\", \"x\": [0.032488446052069096], \"xaxis\": \"x\", \"y\": [-0.02162028340383839], \"yaxis\": \"y\"}, {\"hoverlabel\": {\"namelength\": 0}, \"hovertemplate\": \"country_name=New Zealand<br>pc1=%{x}<br>pc2=%{y}\", \"legendgroup\": \"country_name=New Zealand\", \"marker\": {\"color\": \"#FF97FF\", \"symbol\": \"circle\"}, \"mode\": \"markers\", \"name\": \"country_name=New Zealand\", \"showlegend\": true, \"type\": \"scatter\", \"x\": [-0.018803407138842793], \"xaxis\": \"x\", \"y\": [0.017342755367080638], \"yaxis\": \"y\"}, {\"hoverlabel\": {\"namelength\": 0}, \"hovertemplate\": \"country_name=Nicaragua<br>pc1=%{x}<br>pc2=%{y}\", \"legendgroup\": \"country_name=Nicaragua\", \"marker\": {\"color\": \"#FECB52\", \"symbol\": \"circle\"}, \"mode\": \"markers\", \"name\": \"country_name=Nicaragua\", \"showlegend\": true, \"type\": \"scatter\", \"x\": [-0.04060763547126171], \"xaxis\": \"x\", \"y\": [-0.05603754594042556], \"yaxis\": \"y\"}, {\"hoverlabel\": {\"namelength\": 0}, \"hovertemplate\": \"country_name=Norway<br>pc1=%{x}<br>pc2=%{y}\", \"legendgroup\": \"country_name=Norway\", \"marker\": {\"color\": \"#636efa\", \"symbol\": \"circle\"}, \"mode\": \"markers\", \"name\": \"country_name=Norway\", \"showlegend\": true, \"type\": \"scatter\", \"x\": [-0.0500419090299736], \"xaxis\": \"x\", \"y\": [0.007469394778737521], \"yaxis\": \"y\"}, {\"hoverlabel\": {\"namelength\": 0}, \"hovertemplate\": \"country_name=Panama<br>pc1=%{x}<br>pc2=%{y}\", \"legendgroup\": \"country_name=Panama\", \"marker\": {\"color\": \"#EF553B\", \"symbol\": \"circle\"}, \"mode\": \"markers\", \"name\": \"country_name=Panama\", \"showlegend\": true, \"type\": \"scatter\", \"x\": [-0.03752248555844413], \"xaxis\": \"x\", \"y\": [-0.022532037810575646], \"yaxis\": \"y\"}, {\"hoverlabel\": {\"namelength\": 0}, \"hovertemplate\": \"country_name=Paraguay<br>pc1=%{x}<br>pc2=%{y}\", \"legendgroup\": \"country_name=Paraguay\", \"marker\": {\"color\": \"#00cc96\", \"symbol\": \"circle\"}, \"mode\": \"markers\", \"name\": \"country_name=Paraguay\", \"showlegend\": true, \"type\": \"scatter\", \"x\": [-0.05133730665781929], \"xaxis\": \"x\", \"y\": [-0.03115696600046419], \"yaxis\": \"y\"}, {\"hoverlabel\": {\"namelength\": 0}, \"hovertemplate\": \"country_name=Peru<br>pc1=%{x}<br>pc2=%{y}\", \"legendgroup\": \"country_name=Peru\", \"marker\": {\"color\": \"#ab63fa\", \"symbol\": \"circle\"}, \"mode\": \"markers\", \"name\": \"country_name=Peru\", \"showlegend\": true, \"type\": \"scatter\", \"x\": [-0.06260512252848911], \"xaxis\": \"x\", \"y\": [-0.0282639900100913], \"yaxis\": \"y\"}, {\"hoverlabel\": {\"namelength\": 0}, \"hovertemplate\": \"country_name=Philippines<br>pc1=%{x}<br>pc2=%{y}\", \"legendgroup\": \"country_name=Philippines\", \"marker\": {\"color\": \"#FFA15A\", \"symbol\": \"circle\"}, \"mode\": \"markers\", \"name\": \"country_name=Philippines\", \"showlegend\": true, \"type\": \"scatter\", \"x\": [-0.220233490383266], \"xaxis\": \"x\", \"y\": [0.00697428127944742], \"yaxis\": \"y\"}, {\"hoverlabel\": {\"namelength\": 0}, \"hovertemplate\": \"country_name=Poland<br>pc1=%{x}<br>pc2=%{y}\", \"legendgroup\": \"country_name=Poland\", \"marker\": {\"color\": \"#19d3f3\", \"symbol\": \"circle\"}, \"mode\": \"markers\", \"name\": \"country_name=Poland\", \"showlegend\": true, \"type\": \"scatter\", \"x\": [0.037394919193998455], \"xaxis\": \"x\", \"y\": [0.00997627811437624], \"yaxis\": \"y\"}, {\"hoverlabel\": {\"namelength\": 0}, \"hovertemplate\": \"country_name=Portugal<br>pc1=%{x}<br>pc2=%{y}\", \"legendgroup\": \"country_name=Portugal\", \"marker\": {\"color\": \"#FF6692\", \"symbol\": \"circle\"}, \"mode\": \"markers\", \"name\": \"country_name=Portugal\", \"showlegend\": true, \"type\": \"scatter\", \"x\": [0.13260385543831954], \"xaxis\": \"x\", \"y\": [0.025411969964099713], \"yaxis\": \"y\"}, {\"hoverlabel\": {\"namelength\": 0}, \"hovertemplate\": \"country_name=Romania<br>pc1=%{x}<br>pc2=%{y}\", \"legendgroup\": \"country_name=Romania\", \"marker\": {\"color\": \"#B6E880\", \"symbol\": \"circle\"}, \"mode\": \"markers\", \"name\": \"country_name=Romania\", \"showlegend\": true, \"type\": \"scatter\", \"x\": [0.08802981511340544], \"xaxis\": \"x\", \"y\": [0.013900933463532434], \"yaxis\": \"y\"}, {\"hoverlabel\": {\"namelength\": 0}, \"hovertemplate\": \"country_name=Singapore<br>pc1=%{x}<br>pc2=%{y}\", \"legendgroup\": \"country_name=Singapore\", \"marker\": {\"color\": \"#FF97FF\", \"symbol\": \"circle\"}, \"mode\": \"markers\", \"name\": \"country_name=Singapore\", \"showlegend\": true, \"type\": \"scatter\", \"x\": [-0.08290694031649869], \"xaxis\": \"x\", \"y\": [0.022315078864642186], \"yaxis\": \"y\"}, {\"hoverlabel\": {\"namelength\": 0}, \"hovertemplate\": \"country_name=Slovakia<br>pc1=%{x}<br>pc2=%{y}\", \"legendgroup\": \"country_name=Slovakia\", \"marker\": {\"color\": \"#FECB52\", \"symbol\": \"circle\"}, \"mode\": \"markers\", \"name\": \"country_name=Slovakia\", \"showlegend\": true, \"type\": \"scatter\", \"x\": [0.05844719916234809], \"xaxis\": \"x\", \"y\": [-0.002630233969777898], \"yaxis\": \"y\"}, {\"hoverlabel\": {\"namelength\": 0}, \"hovertemplate\": \"country_name=Spain<br>pc1=%{x}<br>pc2=%{y}\", \"legendgroup\": \"country_name=Spain\", \"marker\": {\"color\": \"#636efa\", \"symbol\": \"circle\"}, \"mode\": \"markers\", \"name\": \"country_name=Spain\", \"showlegend\": true, \"type\": \"scatter\", \"x\": [-0.04132510079770155], \"xaxis\": \"x\", \"y\": [-0.03392530892668109], \"yaxis\": \"y\"}, {\"hoverlabel\": {\"namelength\": 0}, \"hovertemplate\": \"country_name=Sweden<br>pc1=%{x}<br>pc2=%{y}\", \"legendgroup\": \"country_name=Sweden\", \"marker\": {\"color\": \"#EF553B\", \"symbol\": \"circle\"}, \"mode\": \"markers\", \"name\": \"country_name=Sweden\", \"showlegend\": true, \"type\": \"scatter\", \"x\": [-0.0029777007949655016], \"xaxis\": \"x\", \"y\": [0.006899647318401461], \"yaxis\": \"y\"}, {\"hoverlabel\": {\"namelength\": 0}, \"hovertemplate\": \"country_name=Switzerland<br>pc1=%{x}<br>pc2=%{y}\", \"legendgroup\": \"country_name=Switzerland\", \"marker\": {\"color\": \"#00cc96\", \"symbol\": \"circle\"}, \"mode\": \"markers\", \"name\": \"country_name=Switzerland\", \"showlegend\": true, \"type\": \"scatter\", \"x\": [0.07993877261172871], \"xaxis\": \"x\", \"y\": [-0.0072420167542097905], \"yaxis\": \"y\"}, {\"hoverlabel\": {\"namelength\": 0}, \"hovertemplate\": \"country_name=Taiwan<br>pc1=%{x}<br>pc2=%{y}\", \"legendgroup\": \"country_name=Taiwan\", \"marker\": {\"color\": \"#ab63fa\", \"symbol\": \"circle\"}, \"mode\": \"markers\", \"name\": \"country_name=Taiwan\", \"showlegend\": true, \"type\": \"scatter\", \"x\": [-0.1892363093018114], \"xaxis\": \"x\", \"y\": [0.022831706450535713], \"yaxis\": \"y\"}, {\"hoverlabel\": {\"namelength\": 0}, \"hovertemplate\": \"country_name=Thailand<br>pc1=%{x}<br>pc2=%{y}\", \"legendgroup\": \"country_name=Thailand\", \"marker\": {\"color\": \"#FFA15A\", \"symbol\": \"circle\"}, \"mode\": \"markers\", \"name\": \"country_name=Thailand\", \"showlegend\": true, \"type\": \"scatter\", \"x\": [-0.16169129521569797], \"xaxis\": \"x\", \"y\": [-0.02468466981459124], \"yaxis\": \"y\"}, {\"hoverlabel\": {\"namelength\": 0}, \"hovertemplate\": \"country_name=Turkey<br>pc1=%{x}<br>pc2=%{y}\", \"legendgroup\": \"country_name=Turkey\", \"marker\": {\"color\": \"#19d3f3\", \"symbol\": \"circle\"}, \"mode\": \"markers\", \"name\": \"country_name=Turkey\", \"showlegend\": true, \"type\": \"scatter\", \"x\": [0.22025187245208627], \"xaxis\": \"x\", \"y\": [0.039373749300676025], \"yaxis\": \"y\"}, {\"hoverlabel\": {\"namelength\": 0}, \"hovertemplate\": \"country_name=United Kingdom<br>pc1=%{x}<br>pc2=%{y}\", \"legendgroup\": \"country_name=United Kingdom\", \"marker\": {\"color\": \"#FF6692\", \"symbol\": \"circle\"}, \"mode\": \"markers\", \"name\": \"country_name=United Kingdom\", \"showlegend\": true, \"type\": \"scatter\", \"x\": [0.010584806461300902], \"xaxis\": \"x\", \"y\": [-0.017823843351748407], \"yaxis\": \"y\"}, {\"hoverlabel\": {\"namelength\": 0}, \"hovertemplate\": \"country_name=United States<br>pc1=%{x}<br>pc2=%{y}\", \"legendgroup\": \"country_name=United States\", \"marker\": {\"color\": \"#B6E880\", \"symbol\": \"circle\"}, \"mode\": \"markers\", \"name\": \"country_name=United States\", \"showlegend\": true, \"type\": \"scatter\", \"x\": [0.004000563098085064], \"xaxis\": \"x\", \"y\": [0.004166995494922135], \"yaxis\": \"y\"}],\n",
              "                        {\"legend\": {\"tracegroupgap\": 0}, \"margin\": {\"t\": 60}, \"template\": {\"data\": {\"bar\": [{\"error_x\": {\"color\": \"#2a3f5f\"}, \"error_y\": {\"color\": \"#2a3f5f\"}, \"marker\": {\"line\": {\"color\": \"#E5ECF6\", \"width\": 0.5}}, \"type\": \"bar\"}], \"barpolar\": [{\"marker\": {\"line\": {\"color\": \"#E5ECF6\", \"width\": 0.5}}, \"type\": \"barpolar\"}], \"carpet\": [{\"aaxis\": {\"endlinecolor\": \"#2a3f5f\", \"gridcolor\": \"white\", \"linecolor\": \"white\", \"minorgridcolor\": \"white\", \"startlinecolor\": \"#2a3f5f\"}, \"baxis\": {\"endlinecolor\": \"#2a3f5f\", \"gridcolor\": \"white\", \"linecolor\": \"white\", \"minorgridcolor\": \"white\", \"startlinecolor\": \"#2a3f5f\"}, \"type\": \"carpet\"}], \"choropleth\": [{\"colorbar\": {\"outlinewidth\": 0, \"ticks\": \"\"}, \"type\": \"choropleth\"}], \"contour\": [{\"colorbar\": {\"outlinewidth\": 0, \"ticks\": \"\"}, \"colorscale\": [[0.0, \"#0d0887\"], [0.1111111111111111, \"#46039f\"], [0.2222222222222222, \"#7201a8\"], [0.3333333333333333, \"#9c179e\"], [0.4444444444444444, \"#bd3786\"], [0.5555555555555556, \"#d8576b\"], [0.6666666666666666, \"#ed7953\"], [0.7777777777777778, \"#fb9f3a\"], [0.8888888888888888, \"#fdca26\"], [1.0, \"#f0f921\"]], \"type\": \"contour\"}], \"contourcarpet\": [{\"colorbar\": {\"outlinewidth\": 0, \"ticks\": \"\"}, \"type\": \"contourcarpet\"}], \"heatmap\": [{\"colorbar\": {\"outlinewidth\": 0, \"ticks\": \"\"}, \"colorscale\": [[0.0, \"#0d0887\"], [0.1111111111111111, \"#46039f\"], [0.2222222222222222, \"#7201a8\"], [0.3333333333333333, \"#9c179e\"], [0.4444444444444444, \"#bd3786\"], [0.5555555555555556, \"#d8576b\"], [0.6666666666666666, \"#ed7953\"], [0.7777777777777778, \"#fb9f3a\"], [0.8888888888888888, \"#fdca26\"], [1.0, \"#f0f921\"]], \"type\": \"heatmap\"}], \"heatmapgl\": [{\"colorbar\": {\"outlinewidth\": 0, \"ticks\": \"\"}, \"colorscale\": [[0.0, \"#0d0887\"], [0.1111111111111111, \"#46039f\"], [0.2222222222222222, \"#7201a8\"], [0.3333333333333333, \"#9c179e\"], [0.4444444444444444, \"#bd3786\"], [0.5555555555555556, \"#d8576b\"], [0.6666666666666666, \"#ed7953\"], [0.7777777777777778, \"#fb9f3a\"], [0.8888888888888888, \"#fdca26\"], [1.0, \"#f0f921\"]], \"type\": \"heatmapgl\"}], \"histogram\": [{\"marker\": {\"colorbar\": {\"outlinewidth\": 0, \"ticks\": \"\"}}, \"type\": \"histogram\"}], \"histogram2d\": [{\"colorbar\": {\"outlinewidth\": 0, \"ticks\": \"\"}, \"colorscale\": [[0.0, \"#0d0887\"], [0.1111111111111111, \"#46039f\"], [0.2222222222222222, \"#7201a8\"], [0.3333333333333333, \"#9c179e\"], [0.4444444444444444, \"#bd3786\"], [0.5555555555555556, \"#d8576b\"], [0.6666666666666666, \"#ed7953\"], [0.7777777777777778, \"#fb9f3a\"], [0.8888888888888888, \"#fdca26\"], [1.0, \"#f0f921\"]], \"type\": \"histogram2d\"}], \"histogram2dcontour\": [{\"colorbar\": {\"outlinewidth\": 0, \"ticks\": \"\"}, \"colorscale\": [[0.0, \"#0d0887\"], [0.1111111111111111, \"#46039f\"], [0.2222222222222222, \"#7201a8\"], [0.3333333333333333, \"#9c179e\"], [0.4444444444444444, \"#bd3786\"], [0.5555555555555556, \"#d8576b\"], [0.6666666666666666, \"#ed7953\"], [0.7777777777777778, \"#fb9f3a\"], [0.8888888888888888, \"#fdca26\"], [1.0, \"#f0f921\"]], \"type\": \"histogram2dcontour\"}], \"mesh3d\": [{\"colorbar\": {\"outlinewidth\": 0, \"ticks\": \"\"}, \"type\": \"mesh3d\"}], \"parcoords\": [{\"line\": {\"colorbar\": {\"outlinewidth\": 0, \"ticks\": \"\"}}, \"type\": \"parcoords\"}], \"pie\": [{\"automargin\": true, \"type\": \"pie\"}], \"scatter\": [{\"marker\": {\"colorbar\": {\"outlinewidth\": 0, \"ticks\": \"\"}}, \"type\": \"scatter\"}], \"scatter3d\": [{\"line\": {\"colorbar\": {\"outlinewidth\": 0, \"ticks\": \"\"}}, \"marker\": {\"colorbar\": {\"outlinewidth\": 0, \"ticks\": \"\"}}, \"type\": \"scatter3d\"}], \"scattercarpet\": [{\"marker\": {\"colorbar\": {\"outlinewidth\": 0, \"ticks\": \"\"}}, \"type\": \"scattercarpet\"}], \"scattergeo\": [{\"marker\": {\"colorbar\": {\"outlinewidth\": 0, \"ticks\": \"\"}}, \"type\": \"scattergeo\"}], \"scattergl\": [{\"marker\": {\"colorbar\": {\"outlinewidth\": 0, \"ticks\": \"\"}}, \"type\": \"scattergl\"}], \"scattermapbox\": [{\"marker\": {\"colorbar\": {\"outlinewidth\": 0, \"ticks\": \"\"}}, \"type\": \"scattermapbox\"}], \"scatterpolar\": [{\"marker\": {\"colorbar\": {\"outlinewidth\": 0, \"ticks\": \"\"}}, \"type\": \"scatterpolar\"}], \"scatterpolargl\": [{\"marker\": {\"colorbar\": {\"outlinewidth\": 0, \"ticks\": \"\"}}, \"type\": \"scatterpolargl\"}], \"scatterternary\": [{\"marker\": {\"colorbar\": {\"outlinewidth\": 0, \"ticks\": \"\"}}, \"type\": \"scatterternary\"}], \"surface\": [{\"colorbar\": {\"outlinewidth\": 0, \"ticks\": \"\"}, \"colorscale\": [[0.0, \"#0d0887\"], [0.1111111111111111, \"#46039f\"], [0.2222222222222222, \"#7201a8\"], [0.3333333333333333, \"#9c179e\"], [0.4444444444444444, \"#bd3786\"], [0.5555555555555556, \"#d8576b\"], [0.6666666666666666, \"#ed7953\"], [0.7777777777777778, \"#fb9f3a\"], [0.8888888888888888, \"#fdca26\"], [1.0, \"#f0f921\"]], \"type\": \"surface\"}], \"table\": [{\"cells\": {\"fill\": {\"color\": \"#EBF0F8\"}, \"line\": {\"color\": \"white\"}}, \"header\": {\"fill\": {\"color\": \"#C8D4E3\"}, \"line\": {\"color\": \"white\"}}, \"type\": \"table\"}]}, \"layout\": {\"annotationdefaults\": {\"arrowcolor\": \"#2a3f5f\", \"arrowhead\": 0, \"arrowwidth\": 1}, \"coloraxis\": {\"colorbar\": {\"outlinewidth\": 0, \"ticks\": \"\"}}, \"colorscale\": {\"diverging\": [[0, \"#8e0152\"], [0.1, \"#c51b7d\"], [0.2, \"#de77ae\"], [0.3, \"#f1b6da\"], [0.4, \"#fde0ef\"], [0.5, \"#f7f7f7\"], [0.6, \"#e6f5d0\"], [0.7, \"#b8e186\"], [0.8, \"#7fbc41\"], [0.9, \"#4d9221\"], [1, \"#276419\"]], \"sequential\": [[0.0, \"#0d0887\"], [0.1111111111111111, \"#46039f\"], [0.2222222222222222, \"#7201a8\"], [0.3333333333333333, \"#9c179e\"], [0.4444444444444444, \"#bd3786\"], [0.5555555555555556, \"#d8576b\"], [0.6666666666666666, \"#ed7953\"], [0.7777777777777778, \"#fb9f3a\"], [0.8888888888888888, \"#fdca26\"], [1.0, \"#f0f921\"]], \"sequentialminus\": [[0.0, \"#0d0887\"], [0.1111111111111111, \"#46039f\"], [0.2222222222222222, \"#7201a8\"], [0.3333333333333333, \"#9c179e\"], [0.4444444444444444, \"#bd3786\"], [0.5555555555555556, \"#d8576b\"], [0.6666666666666666, \"#ed7953\"], [0.7777777777777778, \"#fb9f3a\"], [0.8888888888888888, \"#fdca26\"], [1.0, \"#f0f921\"]]}, \"colorway\": [\"#636efa\", \"#EF553B\", \"#00cc96\", \"#ab63fa\", \"#FFA15A\", \"#19d3f3\", \"#FF6692\", \"#B6E880\", \"#FF97FF\", \"#FECB52\"], \"font\": {\"color\": \"#2a3f5f\"}, \"geo\": {\"bgcolor\": \"white\", \"lakecolor\": \"white\", \"landcolor\": \"#E5ECF6\", \"showlakes\": true, \"showland\": true, \"subunitcolor\": \"white\"}, \"hoverlabel\": {\"align\": \"left\"}, \"hovermode\": \"closest\", \"mapbox\": {\"style\": \"light\"}, \"paper_bgcolor\": \"white\", \"plot_bgcolor\": \"#E5ECF6\", \"polar\": {\"angularaxis\": {\"gridcolor\": \"white\", \"linecolor\": \"white\", \"ticks\": \"\"}, \"bgcolor\": \"#E5ECF6\", \"radialaxis\": {\"gridcolor\": \"white\", \"linecolor\": \"white\", \"ticks\": \"\"}}, \"scene\": {\"xaxis\": {\"backgroundcolor\": \"#E5ECF6\", \"gridcolor\": \"white\", \"gridwidth\": 2, \"linecolor\": \"white\", \"showbackground\": true, \"ticks\": \"\", \"zerolinecolor\": \"white\"}, \"yaxis\": {\"backgroundcolor\": \"#E5ECF6\", \"gridcolor\": \"white\", \"gridwidth\": 2, \"linecolor\": \"white\", \"showbackground\": true, \"ticks\": \"\", \"zerolinecolor\": \"white\"}, \"zaxis\": {\"backgroundcolor\": \"#E5ECF6\", \"gridcolor\": \"white\", \"gridwidth\": 2, \"linecolor\": \"white\", \"showbackground\": true, \"ticks\": \"\", \"zerolinecolor\": \"white\"}}, \"shapedefaults\": {\"line\": {\"color\": \"#2a3f5f\"}}, \"ternary\": {\"aaxis\": {\"gridcolor\": \"white\", \"linecolor\": \"white\", \"ticks\": \"\"}, \"baxis\": {\"gridcolor\": \"white\", \"linecolor\": \"white\", \"ticks\": \"\"}, \"bgcolor\": \"#E5ECF6\", \"caxis\": {\"gridcolor\": \"white\", \"linecolor\": \"white\", \"ticks\": \"\"}}, \"title\": {\"x\": 0.05}, \"xaxis\": {\"automargin\": true, \"gridcolor\": \"white\", \"linecolor\": \"white\", \"ticks\": \"\", \"title\": {\"standoff\": 15}, \"zerolinecolor\": \"white\", \"zerolinewidth\": 2}, \"yaxis\": {\"automargin\": true, \"gridcolor\": \"white\", \"linecolor\": \"white\", \"ticks\": \"\", \"title\": {\"standoff\": 15}, \"zerolinecolor\": \"white\", \"zerolinewidth\": 2}}}, \"xaxis\": {\"anchor\": \"y\", \"domain\": [0.0, 1.0], \"title\": {\"text\": \"pc1\"}}, \"yaxis\": {\"anchor\": \"x\", \"domain\": [0.0, 1.0], \"title\": {\"text\": \"pc2\"}}},\n",
              "                        {\"responsive\": true}\n",
              "                    ).then(function(){\n",
              "                            \n",
              "var gd = document.getElementById('c0d277a7-c092-4440-a6fd-806bc9d651f2');\n",
              "var x = new MutationObserver(function (mutations, observer) {{\n",
              "        var display = window.getComputedStyle(gd).display;\n",
              "        if (!display || display === 'none') {{\n",
              "            console.log([gd, 'removed!']);\n",
              "            Plotly.purge(gd);\n",
              "            observer.disconnect();\n",
              "        }}\n",
              "}});\n",
              "\n",
              "// Listen for the removal of the full notebook cells\n",
              "var notebookContainer = gd.closest('#notebook-container');\n",
              "if (notebookContainer) {{\n",
              "    x.observe(notebookContainer, {childList: true});\n",
              "}}\n",
              "\n",
              "// Listen for the clearing of the current output cell\n",
              "var outputEl = gd.closest('.output');\n",
              "if (outputEl) {{\n",
              "    x.observe(outputEl, {childList: true});\n",
              "}}\n",
              "\n",
              "                        })\n",
              "                };\n",
              "                \n",
              "            </script>\n",
              "        </div>\n",
              "</body>\n",
              "</html>"
            ]
          },
          "metadata": {
            "tags": []
          }
        },
        {
          "output_type": "stream",
          "text": [
            "None\n"
          ],
          "name": "stdout"
        }
      ]
    },
    {
      "cell_type": "markdown",
      "metadata": {
        "id": "_mjdE09gJDx7",
        "colab_type": "text"
      },
      "source": [
        "## K-Means Clustering"
      ]
    },
    {
      "cell_type": "code",
      "metadata": {
        "id": "5lHH11bsUhcm",
        "colab_type": "code",
        "colab": {
          "base_uri": "https://localhost:8080/",
          "height": 278
        },
        "outputId": "da0226b6-e7d2-45cc-f949-a06d006f29f6"
      },
      "source": [
        "ks = range(1, 10)\n",
        "inertias = []\n",
        "for k in ks:\n",
        "    # Create a KMeans instance with k clusters: model\n",
        "    model = KMeans(n_clusters=k)\n",
        "    \n",
        "    # Fit model to samples\n",
        "    model.fit(temp1[['pc1','pc2']])\n",
        "    \n",
        "    # Append the inertia to the list of inertias\n",
        "    inertias.append(model.inertia_)\n",
        "    \n",
        "plt.plot(ks, inertias, '-o', color='black')\n",
        "plt.xlabel('number of clusters, k')\n",
        "plt.ylabel('inertia')\n",
        "plt.xticks(ks)\n",
        "plt.show()"
      ],
      "execution_count": null,
      "outputs": [
        {
          "output_type": "display_data",
          "data": {
            "image/png": "[encoded data removed]",
            "text/plain": [
              "<Figure size 432x288 with 1 Axes>"
            ]
          },
          "metadata": {
            "tags": [],
            "image/png": {
              "width": 385,
              "height": 261
            },
            "needs_background": "light"
          }
        }
      ]
    },
    {
      "cell_type": "markdown",
      "metadata": {
        "id": "7HFK7UlDJIk0",
        "colab_type": "text"
      },
      "source": [
        "### With elbow method I could have chosen 3 but I felt that I could further divide my countries hence number of clusters chosen is 4"
      ]
    },
    {
      "cell_type": "code",
      "metadata": {
        "id": "Pqam47TyUqqY",
        "colab_type": "code",
        "colab": {}
      },
      "source": [
        "kmeans = KMeans(n_clusters=4, init ='k-means++', max_iter=300, n_init=10,random_state=0 )"
      ],
      "execution_count": null,
      "outputs": []
    },
    {
      "cell_type": "code",
      "metadata": {
        "id": "RXmXC_-zWAlt",
        "colab_type": "code",
        "colab": {
          "base_uri": "https://localhost:8080/",
          "height": 68
        },
        "outputId": "12d84ae6-54ad-4146-9e45-4ee50216c486"
      },
      "source": [
        "y_kmeans = kmeans.fit_predict(temp1[['pc1','pc2']])\n",
        "X = temp1[['pc1','pc2']]\n",
        "y_kmeans"
      ],
      "execution_count": null,
      "outputs": [
        {
          "output_type": "execute_result",
          "data": {
            "text/plain": [
              "array([2, 2, 0, 0, 2, 2, 3, 2, 2, 2, 2, 0, 0, 2, 2, 2, 0, 3, 3, 3, 3, 2,\n",
              "       2, 1, 2, 2, 0, 1, 2, 3, 0, 1, 0, 0, 0, 2, 2, 0, 2, 2, 2, 2, 2, 2,\n",
              "       1, 0, 3, 0, 2, 0, 2, 2, 0, 1, 1, 3, 2, 2], dtype=int32)"
            ]
          },
          "metadata": {
            "tags": []
          },
          "execution_count": 47
        }
      ]
    },
    {
      "cell_type": "code",
      "metadata": {
        "id": "4hy5YB77WljE",
        "colab_type": "code",
        "colab": {
          "base_uri": "https://localhost:8080/",
          "height": 1000
        },
        "outputId": "858162e5-53a4-4a04-d684-4d2954a9ea27"
      },
      "source": [
        "X['Label'] = pd.DataFrame({'Label':y_kmeans})\n",
        "X['Country'] = temp1['country_name']\n",
        "X"
      ],
      "execution_count": null,
      "outputs": [
        {
          "output_type": "execute_result",
          "data": {
            "text/html": [
              "<div>\n",
              "<style scoped>\n",
              "    .dataframe tbody tr th:only-of-type {\n",
              "        vertical-align: middle;\n",
              "    }\n",
              "\n",
              "    .dataframe tbody tr th {\n",
              "        vertical-align: top;\n",
              "    }\n",
              "\n",
              "    .dataframe thead th {\n",
              "        text-align: right;\n",
              "    }\n",
              "</style>\n",
              "<table border=\"1\" class=\"dataframe\">\n",
              "  <thead>\n",
              "    <tr style=\"text-align: right;\">\n",
              "      <th></th>\n",
              "      <th>pc1</th>\n",
              "      <th>pc2</th>\n",
              "      <th>Label</th>\n",
              "      <th>Country</th>\n",
              "    </tr>\n",
              "  </thead>\n",
              "  <tbody>\n",
              "    <tr>\n",
              "      <th>0</th>\n",
              "      <td>0.003141</td>\n",
              "      <td>-0.015711</td>\n",
              "      <td>2</td>\n",
              "      <td>Argentina</td>\n",
              "    </tr>\n",
              "    <tr>\n",
              "      <th>1</th>\n",
              "      <td>-0.017072</td>\n",
              "      <td>-0.004218</td>\n",
              "      <td>2</td>\n",
              "      <td>Australia</td>\n",
              "    </tr>\n",
              "    <tr>\n",
              "      <th>2</th>\n",
              "      <td>0.084352</td>\n",
              "      <td>0.021519</td>\n",
              "      <td>0</td>\n",
              "      <td>Austria</td>\n",
              "    </tr>\n",
              "    <tr>\n",
              "      <th>3</th>\n",
              "      <td>0.047227</td>\n",
              "      <td>0.013759</td>\n",
              "      <td>0</td>\n",
              "      <td>Belgium</td>\n",
              "    </tr>\n",
              "    <tr>\n",
              "      <th>4</th>\n",
              "      <td>-0.026166</td>\n",
              "      <td>-0.031574</td>\n",
              "      <td>2</td>\n",
              "      <td>Bolivia</td>\n",
              "    </tr>\n",
              "    <tr>\n",
              "      <th>5</th>\n",
              "      <td>-0.017765</td>\n",
              "      <td>-0.007013</td>\n",
              "      <td>2</td>\n",
              "      <td>Brazil</td>\n",
              "    </tr>\n",
              "    <tr>\n",
              "      <th>6</th>\n",
              "      <td>0.127508</td>\n",
              "      <td>-0.018027</td>\n",
              "      <td>3</td>\n",
              "      <td>Bulgaria</td>\n",
              "    </tr>\n",
              "    <tr>\n",
              "      <th>7</th>\n",
              "      <td>-0.001637</td>\n",
              "      <td>-0.027611</td>\n",
              "      <td>2</td>\n",
              "      <td>Canada</td>\n",
              "    </tr>\n",
              "    <tr>\n",
              "      <th>8</th>\n",
              "      <td>-0.019532</td>\n",
              "      <td>-0.007622</td>\n",
              "      <td>2</td>\n",
              "      <td>Chile</td>\n",
              "    </tr>\n",
              "    <tr>\n",
              "      <th>9</th>\n",
              "      <td>-0.055958</td>\n",
              "      <td>-0.032501</td>\n",
              "      <td>2</td>\n",
              "      <td>Colombia</td>\n",
              "    </tr>\n",
              "    <tr>\n",
              "      <th>10</th>\n",
              "      <td>-0.044533</td>\n",
              "      <td>-0.006380</td>\n",
              "      <td>2</td>\n",
              "      <td>Costa Rica</td>\n",
              "    </tr>\n",
              "    <tr>\n",
              "      <th>11</th>\n",
              "      <td>0.037275</td>\n",
              "      <td>0.023339</td>\n",
              "      <td>0</td>\n",
              "      <td>Czech Republic</td>\n",
              "    </tr>\n",
              "    <tr>\n",
              "      <th>12</th>\n",
              "      <td>0.097665</td>\n",
              "      <td>0.015816</td>\n",
              "      <td>0</td>\n",
              "      <td>Denmark</td>\n",
              "    </tr>\n",
              "    <tr>\n",
              "      <th>13</th>\n",
              "      <td>-0.004745</td>\n",
              "      <td>-0.031813</td>\n",
              "      <td>2</td>\n",
              "      <td>Dominican Republic</td>\n",
              "    </tr>\n",
              "    <tr>\n",
              "      <th>14</th>\n",
              "      <td>-0.025050</td>\n",
              "      <td>-0.033555</td>\n",
              "      <td>2</td>\n",
              "      <td>Ecuador</td>\n",
              "    </tr>\n",
              "    <tr>\n",
              "      <th>15</th>\n",
              "      <td>-0.021699</td>\n",
              "      <td>-0.023527</td>\n",
              "      <td>2</td>\n",
              "      <td>El Salvador</td>\n",
              "    </tr>\n",
              "    <tr>\n",
              "      <th>16</th>\n",
              "      <td>0.059485</td>\n",
              "      <td>-0.004996</td>\n",
              "      <td>0</td>\n",
              "      <td>Estonia</td>\n",
              "    </tr>\n",
              "    <tr>\n",
              "      <th>17</th>\n",
              "      <td>0.113286</td>\n",
              "      <td>-0.011770</td>\n",
              "      <td>3</td>\n",
              "      <td>Finland</td>\n",
              "    </tr>\n",
              "    <tr>\n",
              "      <th>18</th>\n",
              "      <td>0.168915</td>\n",
              "      <td>0.050844</td>\n",
              "      <td>3</td>\n",
              "      <td>France</td>\n",
              "    </tr>\n",
              "    <tr>\n",
              "      <th>19</th>\n",
              "      <td>0.152403</td>\n",
              "      <td>0.016697</td>\n",
              "      <td>3</td>\n",
              "      <td>Germany</td>\n",
              "    </tr>\n",
              "    <tr>\n",
              "      <th>20</th>\n",
              "      <td>0.141637</td>\n",
              "      <td>0.020943</td>\n",
              "      <td>3</td>\n",
              "      <td>Greece</td>\n",
              "    </tr>\n",
              "    <tr>\n",
              "      <th>21</th>\n",
              "      <td>-0.045465</td>\n",
              "      <td>-0.030082</td>\n",
              "      <td>2</td>\n",
              "      <td>Guatemala</td>\n",
              "    </tr>\n",
              "    <tr>\n",
              "      <th>22</th>\n",
              "      <td>-0.021504</td>\n",
              "      <td>-0.022647</td>\n",
              "      <td>2</td>\n",
              "      <td>Honduras</td>\n",
              "    </tr>\n",
              "    <tr>\n",
              "      <th>23</th>\n",
              "      <td>-0.205358</td>\n",
              "      <td>0.027251</td>\n",
              "      <td>1</td>\n",
              "      <td>Hong Kong</td>\n",
              "    </tr>\n",
              "    <tr>\n",
              "      <th>24</th>\n",
              "      <td>0.013749</td>\n",
              "      <td>-0.020950</td>\n",
              "      <td>2</td>\n",
              "      <td>Hungary</td>\n",
              "    </tr>\n",
              "    <tr>\n",
              "      <th>25</th>\n",
              "      <td>-0.034911</td>\n",
              "      <td>0.027904</td>\n",
              "      <td>2</td>\n",
              "      <td>Iceland</td>\n",
              "    </tr>\n",
              "    <tr>\n",
              "      <th>26</th>\n",
              "      <td>0.028739</td>\n",
              "      <td>0.049381</td>\n",
              "      <td>0</td>\n",
              "      <td>India</td>\n",
              "    </tr>\n",
              "    <tr>\n",
              "      <th>27</th>\n",
              "      <td>-0.215223</td>\n",
              "      <td>0.048811</td>\n",
              "      <td>1</td>\n",
              "      <td>Indonesia</td>\n",
              "    </tr>\n",
              "    <tr>\n",
              "      <th>28</th>\n",
              "      <td>-0.002469</td>\n",
              "      <td>-0.005149</td>\n",
              "      <td>2</td>\n",
              "      <td>Ireland</td>\n",
              "    </tr>\n",
              "    <tr>\n",
              "      <th>29</th>\n",
              "      <td>0.180626</td>\n",
              "      <td>0.031765</td>\n",
              "      <td>3</td>\n",
              "      <td>Israel</td>\n",
              "    </tr>\n",
              "    <tr>\n",
              "      <th>30</th>\n",
              "      <td>0.088463</td>\n",
              "      <td>0.017668</td>\n",
              "      <td>0</td>\n",
              "      <td>Italy</td>\n",
              "    </tr>\n",
              "    <tr>\n",
              "      <th>31</th>\n",
              "      <td>-0.266951</td>\n",
              "      <td>-0.032859</td>\n",
              "      <td>1</td>\n",
              "      <td>Japan</td>\n",
              "    </tr>\n",
              "    <tr>\n",
              "      <th>32</th>\n",
              "      <td>0.084698</td>\n",
              "      <td>0.012582</td>\n",
              "      <td>0</td>\n",
              "      <td>Latvia</td>\n",
              "    </tr>\n",
              "    <tr>\n",
              "      <th>33</th>\n",
              "      <td>0.035041</td>\n",
              "      <td>-0.000834</td>\n",
              "      <td>0</td>\n",
              "      <td>Lithuania</td>\n",
              "    </tr>\n",
              "    <tr>\n",
              "      <th>34</th>\n",
              "      <td>0.027153</td>\n",
              "      <td>0.044202</td>\n",
              "      <td>0</td>\n",
              "      <td>Luxembourg</td>\n",
              "    </tr>\n",
              "    <tr>\n",
              "      <th>35</th>\n",
              "      <td>0.000440</td>\n",
              "      <td>0.037220</td>\n",
              "      <td>2</td>\n",
              "      <td>Malaysia</td>\n",
              "    </tr>\n",
              "    <tr>\n",
              "      <th>36</th>\n",
              "      <td>-0.036716</td>\n",
              "      <td>-0.024026</td>\n",
              "      <td>2</td>\n",
              "      <td>Mexico</td>\n",
              "    </tr>\n",
              "    <tr>\n",
              "      <th>37</th>\n",
              "      <td>0.032488</td>\n",
              "      <td>-0.021620</td>\n",
              "      <td>0</td>\n",
              "      <td>Netherlands</td>\n",
              "    </tr>\n",
              "    <tr>\n",
              "      <th>38</th>\n",
              "      <td>-0.018803</td>\n",
              "      <td>0.017343</td>\n",
              "      <td>2</td>\n",
              "      <td>New Zealand</td>\n",
              "    </tr>\n",
              "    <tr>\n",
              "      <th>39</th>\n",
              "      <td>-0.040608</td>\n",
              "      <td>-0.056038</td>\n",
              "      <td>2</td>\n",
              "      <td>Nicaragua</td>\n",
              "    </tr>\n",
              "    <tr>\n",
              "      <th>40</th>\n",
              "      <td>-0.050042</td>\n",
              "      <td>0.007469</td>\n",
              "      <td>2</td>\n",
              "      <td>Norway</td>\n",
              "    </tr>\n",
              "    <tr>\n",
              "      <th>41</th>\n",
              "      <td>-0.037522</td>\n",
              "      <td>-0.022532</td>\n",
              "      <td>2</td>\n",
              "      <td>Panama</td>\n",
              "    </tr>\n",
              "    <tr>\n",
              "      <th>42</th>\n",
              "      <td>-0.051337</td>\n",
              "      <td>-0.031157</td>\n",
              "      <td>2</td>\n",
              "      <td>Paraguay</td>\n",
              "    </tr>\n",
              "    <tr>\n",
              "      <th>43</th>\n",
              "      <td>-0.062605</td>\n",
              "      <td>-0.028264</td>\n",
              "      <td>2</td>\n",
              "      <td>Peru</td>\n",
              "    </tr>\n",
              "    <tr>\n",
              "      <th>44</th>\n",
              "      <td>-0.220233</td>\n",
              "      <td>0.006974</td>\n",
              "      <td>1</td>\n",
              "      <td>Philippines</td>\n",
              "    </tr>\n",
              "    <tr>\n",
              "      <th>45</th>\n",
              "      <td>0.037395</td>\n",
              "      <td>0.009976</td>\n",
              "      <td>0</td>\n",
              "      <td>Poland</td>\n",
              "    </tr>\n",
              "    <tr>\n",
              "      <th>46</th>\n",
              "      <td>0.132604</td>\n",
              "      <td>0.025412</td>\n",
              "      <td>3</td>\n",
              "      <td>Portugal</td>\n",
              "    </tr>\n",
              "    <tr>\n",
              "      <th>47</th>\n",
              "      <td>0.088030</td>\n",
              "      <td>0.013901</td>\n",
              "      <td>0</td>\n",
              "      <td>Romania</td>\n",
              "    </tr>\n",
              "    <tr>\n",
              "      <th>48</th>\n",
              "      <td>-0.082907</td>\n",
              "      <td>0.022315</td>\n",
              "      <td>2</td>\n",
              "      <td>Singapore</td>\n",
              "    </tr>\n",
              "    <tr>\n",
              "      <th>49</th>\n",
              "      <td>0.058447</td>\n",
              "      <td>-0.002630</td>\n",
              "      <td>0</td>\n",
              "      <td>Slovakia</td>\n",
              "    </tr>\n",
              "    <tr>\n",
              "      <th>50</th>\n",
              "      <td>-0.041325</td>\n",
              "      <td>-0.033925</td>\n",
              "      <td>2</td>\n",
              "      <td>Spain</td>\n",
              "    </tr>\n",
              "    <tr>\n",
              "      <th>51</th>\n",
              "      <td>-0.002978</td>\n",
              "      <td>0.006900</td>\n",
              "      <td>2</td>\n",
              "      <td>Sweden</td>\n",
              "    </tr>\n",
              "    <tr>\n",
              "      <th>52</th>\n",
              "      <td>0.079939</td>\n",
              "      <td>-0.007242</td>\n",
              "      <td>0</td>\n",
              "      <td>Switzerland</td>\n",
              "    </tr>\n",
              "    <tr>\n",
              "      <th>53</th>\n",
              "      <td>-0.189236</td>\n",
              "      <td>0.022832</td>\n",
              "      <td>1</td>\n",
              "      <td>Taiwan</td>\n",
              "    </tr>\n",
              "    <tr>\n",
              "      <th>54</th>\n",
              "      <td>-0.161691</td>\n",
              "      <td>-0.024685</td>\n",
              "      <td>1</td>\n",
              "      <td>Thailand</td>\n",
              "    </tr>\n",
              "    <tr>\n",
              "      <th>55</th>\n",
              "      <td>0.220252</td>\n",
              "      <td>0.039374</td>\n",
              "      <td>3</td>\n",
              "      <td>Turkey</td>\n",
              "    </tr>\n",
              "    <tr>\n",
              "      <th>56</th>\n",
              "      <td>0.010585</td>\n",
              "      <td>-0.017824</td>\n",
              "      <td>2</td>\n",
              "      <td>United Kingdom</td>\n",
              "    </tr>\n",
              "    <tr>\n",
              "      <th>57</th>\n",
              "      <td>0.004001</td>\n",
              "      <td>0.004167</td>\n",
              "      <td>2</td>\n",
              "      <td>United States</td>\n",
              "    </tr>\n",
              "  </tbody>\n",
              "</table>\n",
              "</div>"
            ],
            "text/plain": [
              "         pc1       pc2  Label             Country\n",
              "0   0.003141 -0.015711      2           Argentina\n",
              "1  -0.017072 -0.004218      2           Australia\n",
              "2   0.084352  0.021519      0             Austria\n",
              "3   0.047227  0.013759      0             Belgium\n",
              "4  -0.026166 -0.031574      2             Bolivia\n",
              "5  -0.017765 -0.007013      2              Brazil\n",
              "6   0.127508 -0.018027      3            Bulgaria\n",
              "7  -0.001637 -0.027611      2              Canada\n",
              "8  -0.019532 -0.007622      2               Chile\n",
              "9  -0.055958 -0.032501      2            Colombia\n",
              "10 -0.044533 -0.006380      2          Costa Rica\n",
              "11  0.037275  0.023339      0      Czech Republic\n",
              "12  0.097665  0.015816      0             Denmark\n",
              "13 -0.004745 -0.031813      2  Dominican Republic\n",
              "14 -0.025050 -0.033555      2             Ecuador\n",
              "15 -0.021699 -0.023527      2         El Salvador\n",
              "16  0.059485 -0.004996      0             Estonia\n",
              "17  0.113286 -0.011770      3             Finland\n",
              "18  0.168915  0.050844      3              France\n",
              "19  0.152403  0.016697      3             Germany\n",
              "20  0.141637  0.020943      3              Greece\n",
              "21 -0.045465 -0.030082      2           Guatemala\n",
              "22 -0.021504 -0.022647      2            Honduras\n",
              "23 -0.205358  0.027251      1           Hong Kong\n",
              "24  0.013749 -0.020950      2             Hungary\n",
              "25 -0.034911  0.027904      2             Iceland\n",
              "26  0.028739  0.049381      0               India\n",
              "27 -0.215223  0.048811      1           Indonesia\n",
              "28 -0.002469 -0.005149      2             Ireland\n",
              "29  0.180626  0.031765      3              Israel\n",
              "30  0.088463  0.017668      0               Italy\n",
              "31 -0.266951 -0.032859      1               Japan\n",
              "32  0.084698  0.012582      0              Latvia\n",
              "33  0.035041 -0.000834      0           Lithuania\n",
              "34  0.027153  0.044202      0          Luxembourg\n",
              "35  0.000440  0.037220      2            Malaysia\n",
              "36 -0.036716 -0.024026      2              Mexico\n",
              "37  0.032488 -0.021620      0         Netherlands\n",
              "38 -0.018803  0.017343      2         New Zealand\n",
              "39 -0.040608 -0.056038      2           Nicaragua\n",
              "40 -0.050042  0.007469      2              Norway\n",
              "41 -0.037522 -0.022532      2              Panama\n",
              "42 -0.051337 -0.031157      2            Paraguay\n",
              "43 -0.062605 -0.028264      2                Peru\n",
              "44 -0.220233  0.006974      1         Philippines\n",
              "45  0.037395  0.009976      0              Poland\n",
              "46  0.132604  0.025412      3            Portugal\n",
              "47  0.088030  0.013901      0             Romania\n",
              "48 -0.082907  0.022315      2           Singapore\n",
              "49  0.058447 -0.002630      0            Slovakia\n",
              "50 -0.041325 -0.033925      2               Spain\n",
              "51 -0.002978  0.006900      2              Sweden\n",
              "52  0.079939 -0.007242      0         Switzerland\n",
              "53 -0.189236  0.022832      1              Taiwan\n",
              "54 -0.161691 -0.024685      1            Thailand\n",
              "55  0.220252  0.039374      3              Turkey\n",
              "56  0.010585 -0.017824      2      United Kingdom\n",
              "57  0.004001  0.004167      2       United States"
            ]
          },
          "metadata": {
            "tags": []
          },
          "execution_count": 48
        }
      ]
    },
    {
      "cell_type": "code",
      "metadata": {
        "id": "cnUSCCVTWG3O",
        "colab_type": "code",
        "colab": {
          "base_uri": "https://localhost:8080/",
          "height": 542
        },
        "outputId": "1cca4b26-a045-41d3-ebd0-f88766aae3c8"
      },
      "source": [
        "fig = px.scatter(X, x=\"pc1\", y=\"pc2\", color=\"Label\",\n",
        "                  hover_data=['Country'],color_continuous_scale=[\"red\", \"green\", \"blue\",\"orange\"])\n",
        "fig.show()"
      ],
      "execution_count": null,
      "outputs": [
        {
          "output_type": "display_data",
          "data": {
            "text/html": [
              "<html>\n",
              "<head><meta charset=\"utf-8\" /></head>\n",
              "<body>\n",
              "    <div>\n",
              "            <script src=\"https://cdnjs.cloudflare.com/ajax/libs/mathjax/2.7.5/MathJax.js?config=TeX-AMS-MML_SVG\"></script><script type=\"text/javascript\">if (window.MathJax) {MathJax.Hub.Config({SVG: {font: \"STIX-Web\"}});}</script>\n",
              "                <script type=\"text/javascript\">window.PlotlyConfig = {MathJaxConfig: 'local'};</script>\n",
              "        <script src=\"https://cdn.plot.ly/plotly-latest.min.js\"></script>    \n",
              "            <div id=\"919f975d-27e3-4243-a355-40b984a9470b\" class=\"plotly-graph-div\" style=\"height:525px; width:100%;\"></div>\n",
              "            <script type=\"text/javascript\">\n",
              "                \n",
              "                    window.PLOTLYENV=window.PLOTLYENV || {};\n",
              "                    \n",
              "                if (document.getElementById(\"919f975d-27e3-4243-a355-40b984a9470b\")) {\n",
              "                    Plotly.newPlot(\n",
              "                        '919f975d-27e3-4243-a355-40b984a9470b',\n",
              "                        [{\"customdata\": [[\"Argentina\"], [\"Australia\"], [\"Austria\"], [\"Belgium\"], [\"Bolivia\"], [\"Brazil\"], [\"Bulgaria\"], [\"Canada\"], [\"Chile\"], [\"Colombia\"], [\"Costa Rica\"], [\"Czech Republic\"], [\"Denmark\"], [\"Dominican Republic\"], [\"Ecuador\"], [\"El Salvador\"], [\"Estonia\"], [\"Finland\"], [\"France\"], [\"Germany\"], [\"Greece\"], [\"Guatemala\"], [\"Honduras\"], [\"Hong Kong\"], [\"Hungary\"], [\"Iceland\"], [\"India\"], [\"Indonesia\"], [\"Ireland\"], [\"Israel\"], [\"Italy\"], [\"Japan\"], [\"Latvia\"], [\"Lithuania\"], [\"Luxembourg\"], [\"Malaysia\"], [\"Mexico\"], [\"Netherlands\"], [\"New Zealand\"], [\"Nicaragua\"], [\"Norway\"], [\"Panama\"], [\"Paraguay\"], [\"Peru\"], [\"Philippines\"], [\"Poland\"], [\"Portugal\"], [\"Romania\"], [\"Singapore\"], [\"Slovakia\"], [\"Spain\"], [\"Sweden\"], [\"Switzerland\"], [\"Taiwan\"], [\"Thailand\"], [\"Turkey\"], [\"United Kingdom\"], [\"United States\"]], \"hoverlabel\": {\"namelength\": 0}, \"hovertemplate\": \"pc1=%{x}<br>pc2=%{y}<br>Country=%{customdata[0]}<br>Label=%{marker.color}\", \"legendgroup\": \"\", \"marker\": {\"color\": [2, 2, 0, 0, 2, 2, 3, 2, 2, 2, 2, 0, 0, 2, 2, 2, 0, 3, 3, 3, 3, 2, 2, 1, 2, 2, 0, 1, 2, 3, 0, 1, 0, 0, 0, 2, 2, 0, 2, 2, 2, 2, 2, 2, 1, 0, 3, 0, 2, 0, 2, 2, 0, 1, 1, 3, 2, 2], \"coloraxis\": \"coloraxis\", \"symbol\": \"circle\"}, \"mode\": \"markers\", \"name\": \"\", \"showlegend\": false, \"type\": \"scatter\", \"x\": [0.00314122387845233, -0.017072190086010342, 0.08435151282181447, 0.04722658058961703, -0.026166148280915708, -0.017764917849670044, 0.12750760993177204, -0.0016365136203754576, -0.019531609091220318, -0.055957725463529326, -0.04453308220329918, 0.037274606209972444, 0.09766480453711121, -0.004745317712988359, -0.02505002089144549, -0.0216986625122859, 0.05948527320543595, 0.11328567076755214, 0.16891518010328035, 0.1524028722473095, 0.1416365797991569, -0.045465250322550395, -0.021504199210537683, -0.2053579395572781, 0.01374861192634387, -0.034910915053703966, 0.028739308817323873, -0.2152225365167531, -0.002468648391185057, 0.18062640284877463, 0.08846270467921688, -0.266950854965544, 0.08469808320343594, 0.035041255810280905, 0.02715276702949228, 0.00044002429963910017, -0.036715648469333485, 0.032488446052069096, -0.018803407138842793, -0.04060763547126171, -0.0500419090299736, -0.03752248555844413, -0.05133730665781929, -0.06260512252848911, -0.220233490383266, 0.037394919193998455, 0.13260385543831954, 0.08802981511340544, -0.08290694031649869, 0.05844719916234809, -0.04132510079770155, -0.0029777007949655016, 0.07993877261172871, -0.1892363093018114, -0.16169129521569797, 0.22025187245208627, 0.010584806461300902, 0.004000563098085064], \"xaxis\": \"x\", \"y\": [-0.015710847698202475, -0.004217676467358111, 0.02151885126322175, 0.013758717922209982, -0.031574072664842905, -0.007013386852946151, -0.01802693823354827, -0.027610994274956235, -0.007622367586768939, -0.03250106334758165, -0.006379744216204003, 0.023338582491388555, 0.015816290150296793, -0.031812646167198755, -0.03355530666663287, -0.02352687642296833, -0.0049964767958351215, -0.011769990154241712, 0.05084426519222455, 0.016696876211860206, 0.02094308004527384, -0.030082161535635886, -0.02264669672362234, 0.027251178265870188, -0.020950286426889377, 0.027903886207453207, 0.049380949089289444, 0.048810513611774346, -0.00514860373131917, 0.03176516038122373, 0.017667514679893973, -0.03285937032143123, 0.012581922294001424, -0.0008336606126767157, 0.04420167999497437, 0.03722013030495592, -0.024026325345523528, -0.02162028340383839, 0.017342755367080638, -0.05603754594042556, 0.007469394778737521, -0.022532037810575646, -0.03115696600046419, -0.0282639900100913, 0.00697428127944742, 0.00997627811437624, 0.025411969964099713, 0.013900933463532434, 0.022315078864642186, -0.002630233969777898, -0.03392530892668109, 0.006899647318401461, -0.0072420167542097905, 0.022831706450535713, -0.02468466981459124, 0.039373749300676025, -0.017823843351748407, 0.004166995494922135], \"yaxis\": \"y\"}],\n",
              "                        {\"coloraxis\": {\"colorbar\": {\"title\": {\"text\": \"Label\"}}, \"colorscale\": [[0.0, \"red\"], [0.3333333333333333, \"green\"], [0.6666666666666666, \"blue\"], [1.0, \"orange\"]]}, \"legend\": {\"tracegroupgap\": 0}, \"margin\": {\"t\": 60}, \"template\": {\"data\": {\"bar\": [{\"error_x\": {\"color\": \"#2a3f5f\"}, \"error_y\": {\"color\": \"#2a3f5f\"}, \"marker\": {\"line\": {\"color\": \"#E5ECF6\", \"width\": 0.5}}, \"type\": \"bar\"}], \"barpolar\": [{\"marker\": {\"line\": {\"color\": \"#E5ECF6\", \"width\": 0.5}}, \"type\": \"barpolar\"}], \"carpet\": [{\"aaxis\": {\"endlinecolor\": \"#2a3f5f\", \"gridcolor\": \"white\", \"linecolor\": \"white\", \"minorgridcolor\": \"white\", \"startlinecolor\": \"#2a3f5f\"}, \"baxis\": {\"endlinecolor\": \"#2a3f5f\", \"gridcolor\": \"white\", \"linecolor\": \"white\", \"minorgridcolor\": \"white\", \"startlinecolor\": \"#2a3f5f\"}, \"type\": \"carpet\"}], \"choropleth\": [{\"colorbar\": {\"outlinewidth\": 0, \"ticks\": \"\"}, \"type\": \"choropleth\"}], \"contour\": [{\"colorbar\": {\"outlinewidth\": 0, \"ticks\": \"\"}, \"colorscale\": [[0.0, \"#0d0887\"], [0.1111111111111111, \"#46039f\"], [0.2222222222222222, \"#7201a8\"], [0.3333333333333333, \"#9c179e\"], [0.4444444444444444, \"#bd3786\"], [0.5555555555555556, \"#d8576b\"], [0.6666666666666666, \"#ed7953\"], [0.7777777777777778, \"#fb9f3a\"], [0.8888888888888888, \"#fdca26\"], [1.0, \"#f0f921\"]], \"type\": \"contour\"}], \"contourcarpet\": [{\"colorbar\": {\"outlinewidth\": 0, \"ticks\": \"\"}, \"type\": \"contourcarpet\"}], \"heatmap\": [{\"colorbar\": {\"outlinewidth\": 0, \"ticks\": \"\"}, \"colorscale\": [[0.0, \"#0d0887\"], [0.1111111111111111, \"#46039f\"], [0.2222222222222222, \"#7201a8\"], [0.3333333333333333, \"#9c179e\"], [0.4444444444444444, \"#bd3786\"], [0.5555555555555556, \"#d8576b\"], [0.6666666666666666, \"#ed7953\"], [0.7777777777777778, \"#fb9f3a\"], [0.8888888888888888, \"#fdca26\"], [1.0, \"#f0f921\"]], \"type\": \"heatmap\"}], \"heatmapgl\": [{\"colorbar\": {\"outlinewidth\": 0, \"ticks\": \"\"}, \"colorscale\": [[0.0, \"#0d0887\"], [0.1111111111111111, \"#46039f\"], [0.2222222222222222, \"#7201a8\"], [0.3333333333333333, \"#9c179e\"], [0.4444444444444444, \"#bd3786\"], [0.5555555555555556, \"#d8576b\"], [0.6666666666666666, \"#ed7953\"], [0.7777777777777778, \"#fb9f3a\"], [0.8888888888888888, \"#fdca26\"], [1.0, \"#f0f921\"]], \"type\": \"heatmapgl\"}], \"histogram\": [{\"marker\": {\"colorbar\": {\"outlinewidth\": 0, \"ticks\": \"\"}}, \"type\": \"histogram\"}], \"histogram2d\": [{\"colorbar\": {\"outlinewidth\": 0, \"ticks\": \"\"}, \"colorscale\": [[0.0, \"#0d0887\"], [0.1111111111111111, \"#46039f\"], [0.2222222222222222, \"#7201a8\"], [0.3333333333333333, \"#9c179e\"], [0.4444444444444444, \"#bd3786\"], [0.5555555555555556, \"#d8576b\"], [0.6666666666666666, \"#ed7953\"], [0.7777777777777778, \"#fb9f3a\"], [0.8888888888888888, \"#fdca26\"], [1.0, \"#f0f921\"]], \"type\": \"histogram2d\"}], \"histogram2dcontour\": [{\"colorbar\": {\"outlinewidth\": 0, \"ticks\": \"\"}, \"colorscale\": [[0.0, \"#0d0887\"], [0.1111111111111111, \"#46039f\"], [0.2222222222222222, \"#7201a8\"], [0.3333333333333333, \"#9c179e\"], [0.4444444444444444, \"#bd3786\"], [0.5555555555555556, \"#d8576b\"], [0.6666666666666666, \"#ed7953\"], [0.7777777777777778, \"#fb9f3a\"], [0.8888888888888888, \"#fdca26\"], [1.0, \"#f0f921\"]], \"type\": \"histogram2dcontour\"}], \"mesh3d\": [{\"colorbar\": {\"outlinewidth\": 0, \"ticks\": \"\"}, \"type\": \"mesh3d\"}], \"parcoords\": [{\"line\": {\"colorbar\": {\"outlinewidth\": 0, \"ticks\": \"\"}}, \"type\": \"parcoords\"}], \"pie\": [{\"automargin\": true, \"type\": \"pie\"}], \"scatter\": [{\"marker\": {\"colorbar\": {\"outlinewidth\": 0, \"ticks\": \"\"}}, \"type\": \"scatter\"}], \"scatter3d\": [{\"line\": {\"colorbar\": {\"outlinewidth\": 0, \"ticks\": \"\"}}, \"marker\": {\"colorbar\": {\"outlinewidth\": 0, \"ticks\": \"\"}}, \"type\": \"scatter3d\"}], \"scattercarpet\": [{\"marker\": {\"colorbar\": {\"outlinewidth\": 0, \"ticks\": \"\"}}, \"type\": \"scattercarpet\"}], \"scattergeo\": [{\"marker\": {\"colorbar\": {\"outlinewidth\": 0, \"ticks\": \"\"}}, \"type\": \"scattergeo\"}], \"scattergl\": [{\"marker\": {\"colorbar\": {\"outlinewidth\": 0, \"ticks\": \"\"}}, \"type\": \"scattergl\"}], \"scattermapbox\": [{\"marker\": {\"colorbar\": {\"outlinewidth\": 0, \"ticks\": \"\"}}, \"type\": \"scattermapbox\"}], \"scatterpolar\": [{\"marker\": {\"colorbar\": {\"outlinewidth\": 0, \"ticks\": \"\"}}, \"type\": \"scatterpolar\"}], \"scatterpolargl\": [{\"marker\": {\"colorbar\": {\"outlinewidth\": 0, \"ticks\": \"\"}}, \"type\": \"scatterpolargl\"}], \"scatterternary\": [{\"marker\": {\"colorbar\": {\"outlinewidth\": 0, \"ticks\": \"\"}}, \"type\": \"scatterternary\"}], \"surface\": [{\"colorbar\": {\"outlinewidth\": 0, \"ticks\": \"\"}, \"colorscale\": [[0.0, \"#0d0887\"], [0.1111111111111111, \"#46039f\"], [0.2222222222222222, \"#7201a8\"], [0.3333333333333333, \"#9c179e\"], [0.4444444444444444, \"#bd3786\"], [0.5555555555555556, \"#d8576b\"], [0.6666666666666666, \"#ed7953\"], [0.7777777777777778, \"#fb9f3a\"], [0.8888888888888888, \"#fdca26\"], [1.0, \"#f0f921\"]], \"type\": \"surface\"}], \"table\": [{\"cells\": {\"fill\": {\"color\": \"#EBF0F8\"}, \"line\": {\"color\": \"white\"}}, \"header\": {\"fill\": {\"color\": \"#C8D4E3\"}, \"line\": {\"color\": \"white\"}}, \"type\": \"table\"}]}, \"layout\": {\"annotationdefaults\": {\"arrowcolor\": \"#2a3f5f\", \"arrowhead\": 0, \"arrowwidth\": 1}, \"coloraxis\": {\"colorbar\": {\"outlinewidth\": 0, \"ticks\": \"\"}}, \"colorscale\": {\"diverging\": [[0, \"#8e0152\"], [0.1, \"#c51b7d\"], [0.2, \"#de77ae\"], [0.3, \"#f1b6da\"], [0.4, \"#fde0ef\"], [0.5, \"#f7f7f7\"], [0.6, \"#e6f5d0\"], [0.7, \"#b8e186\"], [0.8, \"#7fbc41\"], [0.9, \"#4d9221\"], [1, \"#276419\"]], \"sequential\": [[0.0, \"#0d0887\"], [0.1111111111111111, \"#46039f\"], [0.2222222222222222, \"#7201a8\"], [0.3333333333333333, \"#9c179e\"], [0.4444444444444444, \"#bd3786\"], [0.5555555555555556, \"#d8576b\"], [0.6666666666666666, \"#ed7953\"], [0.7777777777777778, \"#fb9f3a\"], [0.8888888888888888, \"#fdca26\"], [1.0, \"#f0f921\"]], \"sequentialminus\": [[0.0, \"#0d0887\"], [0.1111111111111111, \"#46039f\"], [0.2222222222222222, \"#7201a8\"], [0.3333333333333333, \"#9c179e\"], [0.4444444444444444, \"#bd3786\"], [0.5555555555555556, \"#d8576b\"], [0.6666666666666666, \"#ed7953\"], [0.7777777777777778, \"#fb9f3a\"], [0.8888888888888888, \"#fdca26\"], [1.0, \"#f0f921\"]]}, \"colorway\": [\"#636efa\", \"#EF553B\", \"#00cc96\", \"#ab63fa\", \"#FFA15A\", \"#19d3f3\", \"#FF6692\", \"#B6E880\", \"#FF97FF\", \"#FECB52\"], \"font\": {\"color\": \"#2a3f5f\"}, \"geo\": {\"bgcolor\": \"white\", \"lakecolor\": \"white\", \"landcolor\": \"#E5ECF6\", \"showlakes\": true, \"showland\": true, \"subunitcolor\": \"white\"}, \"hoverlabel\": {\"align\": \"left\"}, \"hovermode\": \"closest\", \"mapbox\": {\"style\": \"light\"}, \"paper_bgcolor\": \"white\", \"plot_bgcolor\": \"#E5ECF6\", \"polar\": {\"angularaxis\": {\"gridcolor\": \"white\", \"linecolor\": \"white\", \"ticks\": \"\"}, \"bgcolor\": \"#E5ECF6\", \"radialaxis\": {\"gridcolor\": \"white\", \"linecolor\": \"white\", \"ticks\": \"\"}}, \"scene\": {\"xaxis\": {\"backgroundcolor\": \"#E5ECF6\", \"gridcolor\": \"white\", \"gridwidth\": 2, \"linecolor\": \"white\", \"showbackground\": true, \"ticks\": \"\", \"zerolinecolor\": \"white\"}, \"yaxis\": {\"backgroundcolor\": \"#E5ECF6\", \"gridcolor\": \"white\", \"gridwidth\": 2, \"linecolor\": \"white\", \"showbackground\": true, \"ticks\": \"\", \"zerolinecolor\": \"white\"}, \"zaxis\": {\"backgroundcolor\": \"#E5ECF6\", \"gridcolor\": \"white\", \"gridwidth\": 2, \"linecolor\": \"white\", \"showbackground\": true, \"ticks\": \"\", \"zerolinecolor\": \"white\"}}, \"shapedefaults\": {\"line\": {\"color\": \"#2a3f5f\"}}, \"ternary\": {\"aaxis\": {\"gridcolor\": \"white\", \"linecolor\": \"white\", \"ticks\": \"\"}, \"baxis\": {\"gridcolor\": \"white\", \"linecolor\": \"white\", \"ticks\": \"\"}, \"bgcolor\": \"#E5ECF6\", \"caxis\": {\"gridcolor\": \"white\", \"linecolor\": \"white\", \"ticks\": \"\"}}, \"title\": {\"x\": 0.05}, \"xaxis\": {\"automargin\": true, \"gridcolor\": \"white\", \"linecolor\": \"white\", \"ticks\": \"\", \"title\": {\"standoff\": 15}, \"zerolinecolor\": \"white\", \"zerolinewidth\": 2}, \"yaxis\": {\"automargin\": true, \"gridcolor\": \"white\", \"linecolor\": \"white\", \"ticks\": \"\", \"title\": {\"standoff\": 15}, \"zerolinecolor\": \"white\", \"zerolinewidth\": 2}}}, \"xaxis\": {\"anchor\": \"y\", \"domain\": [0.0, 1.0], \"title\": {\"text\": \"pc1\"}}, \"yaxis\": {\"anchor\": \"x\", \"domain\": [0.0, 1.0], \"title\": {\"text\": \"pc2\"}}},\n",
              "                        {\"responsive\": true}\n",
              "                    ).then(function(){\n",
              "                            \n",
              "var gd = document.getElementById('919f975d-27e3-4243-a355-40b984a9470b');\n",
              "var x = new MutationObserver(function (mutations, observer) {{\n",
              "        var display = window.getComputedStyle(gd).display;\n",
              "        if (!display || display === 'none') {{\n",
              "            console.log([gd, 'removed!']);\n",
              "            Plotly.purge(gd);\n",
              "            observer.disconnect();\n",
              "        }}\n",
              "}});\n",
              "\n",
              "// Listen for the removal of the full notebook cells\n",
              "var notebookContainer = gd.closest('#notebook-container');\n",
              "if (notebookContainer) {{\n",
              "    x.observe(notebookContainer, {childList: true});\n",
              "}}\n",
              "\n",
              "// Listen for the clearing of the current output cell\n",
              "var outputEl = gd.closest('.output');\n",
              "if (outputEl) {{\n",
              "    x.observe(outputEl, {childList: true});\n",
              "}}\n",
              "\n",
              "                        })\n",
              "                };\n",
              "                \n",
              "            </script>\n",
              "        </div>\n",
              "</body>\n",
              "</html>"
            ]
          },
          "metadata": {
            "tags": []
          }
        }
      ]
    },
    {
      "cell_type": "markdown",
      "metadata": {
        "id": "-MC-BSanJXB2",
        "colab_type": "text"
      },
      "source": [
        "## Where does an artist stand?\n",
        "\n",
        "*The idea is to obtain audio features and observe where the artist falls in the two dimensional space and to which cluster it is closer to*"
      ]
    },
    {
      "cell_type": "code",
      "metadata": {
        "id": "VJoBW6VVWKTd",
        "colab_type": "code",
        "colab": {}
      },
      "source": [
        "#Get a new artist\n",
        "cid= 'Your Client'\n",
        "secret= 'Your Secret ID'\n",
        "\n",
        "client_credentials_manager = SpotifyClientCredentials(client_id=cid, client_secret=secret)\n",
        "sp = spotipy.Spotify(client_credentials_manager\n",
        "=\n",
        "client_credentials_manager)"
      ],
      "execution_count": null,
      "outputs": []
    },
    {
      "cell_type": "markdown",
      "metadata": {
        "id": "MWGRM-dxJvZ6",
        "colab_type": "text"
      },
      "source": [
        "Choose any artist. I chose Led Zepplin(Because why not :)). Obtain it's artist ID"
      ]
    },
    {
      "cell_type": "code",
      "metadata": {
        "id": "NDwWrhFlKr6o",
        "colab_type": "code",
        "colab": {}
      },
      "source": [
        "lz_uri = 'spotify:artist:36QJpDe2go2KgaRleHCDTp'\n",
        "\n",
        "results = sp.artist_top_tracks(lz_uri)\n"
      ],
      "execution_count": null,
      "outputs": []
    },
    {
      "cell_type": "code",
      "metadata": {
        "id": "p_-PqGi_LnmN",
        "colab_type": "code",
        "colab": {}
      },
      "source": [
        "list_of_songs = []\n",
        "for i in range(0,len(results['tracks'])):\n",
        "    list_of_songs.append(results['tracks'][i]['uri'])"
      ],
      "execution_count": null,
      "outputs": []
    },
    {
      "cell_type": "code",
      "metadata": {
        "id": "BTHlK-fTL2W2",
        "colab_type": "code",
        "colab": {}
      },
      "source": [
        "list_of_artist_tracks = pd.DataFrame(list_of_songs,columns=['uri'])"
      ],
      "execution_count": null,
      "outputs": []
    },
    {
      "cell_type": "code",
      "metadata": {
        "id": "CBbqwFmnL-zG",
        "colab_type": "code",
        "colab": {}
      },
      "source": [
        "cnt=0\n",
        "artist_meta_info = pd.DataFrame()\n",
        "\n",
        "def create_audio_features_df(song):\n",
        "  global cnt\n",
        "  global artist_meta_info\n",
        "  try:\n",
        "    d = sp.audio_features(song)[0]\n",
        "\n",
        "    print(d)\n",
        "    new_df = pd.DataFrame(d.values())\n",
        "    new_df = new_df.transpose()\n",
        "  except:\n",
        "    new_df = pd.DataFrame(index=np.arange(1), columns=np.arange(18))\n",
        "  if cnt == 0:\n",
        "    artist_meta_info = new_df\n",
        "  else:\n",
        "    #print('here')\n",
        "    x = pd.concat([artist_meta_info, new_df], ignore_index=True)\n",
        "    artist_meta_info = x\n",
        "  cnt+=1\n"
      ],
      "execution_count": null,
      "outputs": []
    },
    {
      "cell_type": "code",
      "metadata": {
        "id": "yT8NK6QANcQN",
        "colab_type": "code",
        "colab": {
          "base_uri": "https://localhost:8080/",
          "height": 207
        },
        "outputId": "d03e7d64-957a-41d6-f4c5-1a9b4611e327"
      },
      "source": [
        "temp_df = list_of_artist_tracks['uri'].apply(lambda x : create_audio_features_df(x[14:]))"
      ],
      "execution_count": null,
      "outputs": [
        {
          "output_type": "stream",
          "text": [
            "{'danceability': 0.338, 'energy': 0.34, 'key': 9, 'loudness': -12.049, 'mode': 0, 'speechiness': 0.0339, 'acousticness': 0.58, 'instrumentalness': 0.0032, 'liveness': 0.116, 'valence': 0.197, 'tempo': 82.433, 'type': 'audio_features', 'id': '5CQ30WqJwcep0pYcV4AMNc', 'uri': 'spotify:track:5CQ30WqJwcep0pYcV4AMNc', 'track_href': 'https://api.spotify.com/v1/tracks/5CQ30WqJwcep0pYcV4AMNc', 'analysis_url': 'https://api.spotify.com/v1/audio-analysis/5CQ30WqJwcep0pYcV4AMNc', 'duration_ms': 482830, 'time_signature': 4}\n",
            "{'danceability': 0.564, 'energy': 0.932, 'key': 11, 'loudness': -10.068, 'mode': 1, 'speechiness': 0.0554, 'acousticness': 0.013, 'instrumentalness': 0.169, 'liveness': 0.349, 'valence': 0.619, 'tempo': 112.937, 'type': 'audio_features', 'id': '78lgmZwycJ3nzsdgmPPGNx', 'uri': 'spotify:track:78lgmZwycJ3nzsdgmPPGNx', 'track_href': 'https://api.spotify.com/v1/tracks/78lgmZwycJ3nzsdgmPPGNx', 'analysis_url': 'https://api.spotify.com/v1/audio-analysis/78lgmZwycJ3nzsdgmPPGNx', 'duration_ms': 146250, 'time_signature': 4}\n",
            "{'danceability': 0.412, 'energy': 0.902, 'key': 9, 'loudness': -11.6, 'mode': 1, 'speechiness': 0.405, 'acousticness': 0.0484, 'instrumentalness': 0.131, 'liveness': 0.405, 'valence': 0.422, 'tempo': 89.74, 'type': 'audio_features', 'id': '0hCB0YR03f6AmQaHbwWDe8', 'uri': 'spotify:track:0hCB0YR03f6AmQaHbwWDe8', 'track_href': 'https://api.spotify.com/v1/tracks/0hCB0YR03f6AmQaHbwWDe8', 'analysis_url': 'https://api.spotify.com/v1/audio-analysis/0hCB0YR03f6AmQaHbwWDe8', 'duration_ms': 333893, 'time_signature': 4}\n",
            "{'danceability': 0.437, 'energy': 0.864, 'key': 4, 'loudness': -7.842, 'mode': 0, 'speechiness': 0.0904, 'acousticness': 0.396, 'instrumentalness': 0.0314, 'liveness': 0.242, 'valence': 0.749, 'tempo': 81.394, 'type': 'audio_features', 'id': '3qT4bUD1MaWpGrTwcvguhb', 'uri': 'spotify:track:3qT4bUD1MaWpGrTwcvguhb', 'track_href': 'https://api.spotify.com/v1/tracks/3qT4bUD1MaWpGrTwcvguhb', 'analysis_url': 'https://api.spotify.com/v1/audio-analysis/3qT4bUD1MaWpGrTwcvguhb', 'duration_ms': 295387, 'time_signature': 4}\n",
            "{'danceability': 0.476, 'energy': 0.717, 'key': 9, 'loudness': -9.192, 'mode': 1, 'speechiness': 0.0949, 'acousticness': 0.0382, 'instrumentalness': 7.61e-05, 'liveness': 0.0818, 'valence': 0.753, 'tempo': 93.584, 'type': 'audio_features', 'id': '0QwZfbw26QeUoIy82Z2jYp', 'uri': 'spotify:track:0QwZfbw26QeUoIy82Z2jYp', 'track_href': 'https://api.spotify.com/v1/tracks/0QwZfbw26QeUoIy82Z2jYp', 'analysis_url': 'https://api.spotify.com/v1/audio-analysis/0QwZfbw26QeUoIy82Z2jYp', 'duration_ms': 166267, 'time_signature': 4}\n",
            "{'danceability': 0.468, 'energy': 0.607, 'key': 9, 'loudness': -11.367, 'mode': 1, 'speechiness': 0.0336, 'acousticness': 0.072, 'instrumentalness': 0.000852, 'liveness': 0.225, 'valence': 0.886, 'tempo': 98.429, 'type': 'audio_features', 'id': '3MODES4TNtygekLl146Dxd', 'uri': 'spotify:track:3MODES4TNtygekLl146Dxd', 'track_href': 'https://api.spotify.com/v1/tracks/3MODES4TNtygekLl146Dxd', 'analysis_url': 'https://api.spotify.com/v1/audio-analysis/3MODES4TNtygekLl146Dxd', 'duration_ms': 263333, 'time_signature': 4}\n",
            "{'danceability': 0.48, 'energy': 0.536, 'key': 2, 'loudness': -11.166, 'mode': 1, 'speechiness': 0.0427, 'acousticness': 0.488, 'instrumentalness': 4.22e-05, 'liveness': 0.155, 'valence': 0.581, 'tempo': 80.617, 'type': 'audio_features', 'id': '2nVHqZbOGkKWzlcy1aMbE7', 'uri': 'spotify:track:2nVHqZbOGkKWzlcy1aMbE7', 'track_href': 'https://api.spotify.com/v1/tracks/2nVHqZbOGkKWzlcy1aMbE7', 'analysis_url': 'https://api.spotify.com/v1/audio-analysis/2nVHqZbOGkKWzlcy1aMbE7', 'duration_ms': 508200, 'time_signature': 3}\n",
            "{'danceability': 0.317, 'energy': 0.887, 'key': 9, 'loudness': -7.292, 'mode': 1, 'speechiness': 0.0375, 'acousticness': 0.000582, 'instrumentalness': 0.00258, 'liveness': 0.0891, 'valence': 0.871, 'tempo': 169.613, 'type': 'audio_features', 'id': '4PRGxHpCpF2yoOHYKQIEwD', 'uri': 'spotify:track:4PRGxHpCpF2yoOHYKQIEwD', 'track_href': 'https://api.spotify.com/v1/tracks/4PRGxHpCpF2yoOHYKQIEwD', 'analysis_url': 'https://api.spotify.com/v1/audio-analysis/4PRGxHpCpF2yoOHYKQIEwD', 'duration_ms': 220561, 'time_signature': 4}\n",
            "{'danceability': 0.503, 'energy': 0.265, 'key': 2, 'loudness': -15.913, 'mode': 1, 'speechiness': 0.0333, 'acousticness': 0.943, 'instrumentalness': 0.045, 'liveness': 0.0867, 'valence': 0.522, 'tempo': 78.044, 'type': 'audio_features', 'id': '70gbuMqwNBE2Y5rkQJE9By', 'uri': 'spotify:track:70gbuMqwNBE2Y5rkQJE9By', 'track_href': 'https://api.spotify.com/v1/tracks/70gbuMqwNBE2Y5rkQJE9By', 'analysis_url': 'https://api.spotify.com/v1/audio-analysis/70gbuMqwNBE2Y5rkQJE9By', 'duration_ms': 212161, 'time_signature': 4}\n",
            "{'danceability': 0.525, 'energy': 0.929, 'key': 9, 'loudness': -8.56, 'mode': 0, 'speechiness': 0.0784, 'acousticness': 0.262, 'instrumentalness': 2.9e-05, 'liveness': 0.0754, 'valence': 0.556, 'tempo': 163.503, 'type': 'audio_features', 'id': '4ItljeeAXtHsnsnnQojaO2', 'uri': 'spotify:track:4ItljeeAXtHsnsnnQojaO2', 'track_href': 'https://api.spotify.com/v1/tracks/4ItljeeAXtHsnsnnQojaO2', 'analysis_url': 'https://api.spotify.com/v1/audio-analysis/4ItljeeAXtHsnsnnQojaO2', 'duration_ms': 262748, 'time_signature': 4}\n"
          ],
          "name": "stdout"
        }
      ]
    },
    {
      "cell_type": "code",
      "metadata": {
        "id": "csGcZZ8XNfms",
        "colab_type": "code",
        "colab": {
          "base_uri": "https://localhost:8080/",
          "height": 549
        },
        "outputId": "f5a19a2e-5694-44dc-cc4a-ca9ac406168a"
      },
      "source": [
        "artist_meta_info"
      ],
      "execution_count": null,
      "outputs": [
        {
          "output_type": "execute_result",
          "data": {
            "text/html": [
              "<div>\n",
              "<style scoped>\n",
              "    .dataframe tbody tr th:only-of-type {\n",
              "        vertical-align: middle;\n",
              "    }\n",
              "\n",
              "    .dataframe tbody tr th {\n",
              "        vertical-align: top;\n",
              "    }\n",
              "\n",
              "    .dataframe thead th {\n",
              "        text-align: right;\n",
              "    }\n",
              "</style>\n",
              "<table border=\"1\" class=\"dataframe\">\n",
              "  <thead>\n",
              "    <tr style=\"text-align: right;\">\n",
              "      <th></th>\n",
              "      <th>0</th>\n",
              "      <th>1</th>\n",
              "      <th>2</th>\n",
              "      <th>3</th>\n",
              "      <th>4</th>\n",
              "      <th>5</th>\n",
              "      <th>6</th>\n",
              "      <th>7</th>\n",
              "      <th>8</th>\n",
              "      <th>9</th>\n",
              "      <th>10</th>\n",
              "      <th>11</th>\n",
              "      <th>12</th>\n",
              "      <th>13</th>\n",
              "      <th>14</th>\n",
              "      <th>15</th>\n",
              "      <th>16</th>\n",
              "      <th>17</th>\n",
              "    </tr>\n",
              "  </thead>\n",
              "  <tbody>\n",
              "    <tr>\n",
              "      <th>0</th>\n",
              "      <td>0.338</td>\n",
              "      <td>0.34</td>\n",
              "      <td>9</td>\n",
              "      <td>-12.049</td>\n",
              "      <td>0</td>\n",
              "      <td>0.0339</td>\n",
              "      <td>0.58</td>\n",
              "      <td>0.0032</td>\n",
              "      <td>0.116</td>\n",
              "      <td>0.197</td>\n",
              "      <td>82.433</td>\n",
              "      <td>audio_features</td>\n",
              "      <td>5CQ30WqJwcep0pYcV4AMNc</td>\n",
              "      <td>spotify:track:5CQ30WqJwcep0pYcV4AMNc</td>\n",
              "      <td>https://api.spotify.com/v1/tracks/5CQ30WqJwcep...</td>\n",
              "      <td>https://api.spotify.com/v1/audio-analysis/5CQ3...</td>\n",
              "      <td>482830</td>\n",
              "      <td>4</td>\n",
              "    </tr>\n",
              "    <tr>\n",
              "      <th>1</th>\n",
              "      <td>0.564</td>\n",
              "      <td>0.932</td>\n",
              "      <td>11</td>\n",
              "      <td>-10.068</td>\n",
              "      <td>1</td>\n",
              "      <td>0.0554</td>\n",
              "      <td>0.013</td>\n",
              "      <td>0.169</td>\n",
              "      <td>0.349</td>\n",
              "      <td>0.619</td>\n",
              "      <td>112.937</td>\n",
              "      <td>audio_features</td>\n",
              "      <td>78lgmZwycJ3nzsdgmPPGNx</td>\n",
              "      <td>spotify:track:78lgmZwycJ3nzsdgmPPGNx</td>\n",
              "      <td>https://api.spotify.com/v1/tracks/78lgmZwycJ3n...</td>\n",
              "      <td>https://api.spotify.com/v1/audio-analysis/78lg...</td>\n",
              "      <td>146250</td>\n",
              "      <td>4</td>\n",
              "    </tr>\n",
              "    <tr>\n",
              "      <th>2</th>\n",
              "      <td>0.412</td>\n",
              "      <td>0.902</td>\n",
              "      <td>9</td>\n",
              "      <td>-11.6</td>\n",
              "      <td>1</td>\n",
              "      <td>0.405</td>\n",
              "      <td>0.0484</td>\n",
              "      <td>0.131</td>\n",
              "      <td>0.405</td>\n",
              "      <td>0.422</td>\n",
              "      <td>89.74</td>\n",
              "      <td>audio_features</td>\n",
              "      <td>0hCB0YR03f6AmQaHbwWDe8</td>\n",
              "      <td>spotify:track:0hCB0YR03f6AmQaHbwWDe8</td>\n",
              "      <td>https://api.spotify.com/v1/tracks/0hCB0YR03f6A...</td>\n",
              "      <td>https://api.spotify.com/v1/audio-analysis/0hCB...</td>\n",
              "      <td>333893</td>\n",
              "      <td>4</td>\n",
              "    </tr>\n",
              "    <tr>\n",
              "      <th>3</th>\n",
              "      <td>0.437</td>\n",
              "      <td>0.864</td>\n",
              "      <td>4</td>\n",
              "      <td>-7.842</td>\n",
              "      <td>0</td>\n",
              "      <td>0.0904</td>\n",
              "      <td>0.396</td>\n",
              "      <td>0.0314</td>\n",
              "      <td>0.242</td>\n",
              "      <td>0.749</td>\n",
              "      <td>81.394</td>\n",
              "      <td>audio_features</td>\n",
              "      <td>3qT4bUD1MaWpGrTwcvguhb</td>\n",
              "      <td>spotify:track:3qT4bUD1MaWpGrTwcvguhb</td>\n",
              "      <td>https://api.spotify.com/v1/tracks/3qT4bUD1MaWp...</td>\n",
              "      <td>https://api.spotify.com/v1/audio-analysis/3qT4...</td>\n",
              "      <td>295387</td>\n",
              "      <td>4</td>\n",
              "    </tr>\n",
              "    <tr>\n",
              "      <th>4</th>\n",
              "      <td>0.476</td>\n",
              "      <td>0.717</td>\n",
              "      <td>9</td>\n",
              "      <td>-9.192</td>\n",
              "      <td>1</td>\n",
              "      <td>0.0949</td>\n",
              "      <td>0.0382</td>\n",
              "      <td>7.61e-05</td>\n",
              "      <td>0.0818</td>\n",
              "      <td>0.753</td>\n",
              "      <td>93.584</td>\n",
              "      <td>audio_features</td>\n",
              "      <td>0QwZfbw26QeUoIy82Z2jYp</td>\n",
              "      <td>spotify:track:0QwZfbw26QeUoIy82Z2jYp</td>\n",
              "      <td>https://api.spotify.com/v1/tracks/0QwZfbw26QeU...</td>\n",
              "      <td>https://api.spotify.com/v1/audio-analysis/0QwZ...</td>\n",
              "      <td>166267</td>\n",
              "      <td>4</td>\n",
              "    </tr>\n",
              "    <tr>\n",
              "      <th>5</th>\n",
              "      <td>0.468</td>\n",
              "      <td>0.607</td>\n",
              "      <td>9</td>\n",
              "      <td>-11.367</td>\n",
              "      <td>1</td>\n",
              "      <td>0.0336</td>\n",
              "      <td>0.072</td>\n",
              "      <td>0.000852</td>\n",
              "      <td>0.225</td>\n",
              "      <td>0.886</td>\n",
              "      <td>98.429</td>\n",
              "      <td>audio_features</td>\n",
              "      <td>3MODES4TNtygekLl146Dxd</td>\n",
              "      <td>spotify:track:3MODES4TNtygekLl146Dxd</td>\n",
              "      <td>https://api.spotify.com/v1/tracks/3MODES4TNtyg...</td>\n",
              "      <td>https://api.spotify.com/v1/audio-analysis/3MOD...</td>\n",
              "      <td>263333</td>\n",
              "      <td>4</td>\n",
              "    </tr>\n",
              "    <tr>\n",
              "      <th>6</th>\n",
              "      <td>0.48</td>\n",
              "      <td>0.536</td>\n",
              "      <td>2</td>\n",
              "      <td>-11.166</td>\n",
              "      <td>1</td>\n",
              "      <td>0.0427</td>\n",
              "      <td>0.488</td>\n",
              "      <td>4.22e-05</td>\n",
              "      <td>0.155</td>\n",
              "      <td>0.581</td>\n",
              "      <td>80.617</td>\n",
              "      <td>audio_features</td>\n",
              "      <td>2nVHqZbOGkKWzlcy1aMbE7</td>\n",
              "      <td>spotify:track:2nVHqZbOGkKWzlcy1aMbE7</td>\n",
              "      <td>https://api.spotify.com/v1/tracks/2nVHqZbOGkKW...</td>\n",
              "      <td>https://api.spotify.com/v1/audio-analysis/2nVH...</td>\n",
              "      <td>508200</td>\n",
              "      <td>3</td>\n",
              "    </tr>\n",
              "    <tr>\n",
              "      <th>7</th>\n",
              "      <td>0.317</td>\n",
              "      <td>0.887</td>\n",
              "      <td>9</td>\n",
              "      <td>-7.292</td>\n",
              "      <td>1</td>\n",
              "      <td>0.0375</td>\n",
              "      <td>0.000582</td>\n",
              "      <td>0.00258</td>\n",
              "      <td>0.0891</td>\n",
              "      <td>0.871</td>\n",
              "      <td>169.613</td>\n",
              "      <td>audio_features</td>\n",
              "      <td>4PRGxHpCpF2yoOHYKQIEwD</td>\n",
              "      <td>spotify:track:4PRGxHpCpF2yoOHYKQIEwD</td>\n",
              "      <td>https://api.spotify.com/v1/tracks/4PRGxHpCpF2y...</td>\n",
              "      <td>https://api.spotify.com/v1/audio-analysis/4PRG...</td>\n",
              "      <td>220561</td>\n",
              "      <td>4</td>\n",
              "    </tr>\n",
              "    <tr>\n",
              "      <th>8</th>\n",
              "      <td>0.503</td>\n",
              "      <td>0.265</td>\n",
              "      <td>2</td>\n",
              "      <td>-15.913</td>\n",
              "      <td>1</td>\n",
              "      <td>0.0333</td>\n",
              "      <td>0.943</td>\n",
              "      <td>0.045</td>\n",
              "      <td>0.0867</td>\n",
              "      <td>0.522</td>\n",
              "      <td>78.044</td>\n",
              "      <td>audio_features</td>\n",
              "      <td>70gbuMqwNBE2Y5rkQJE9By</td>\n",
              "      <td>spotify:track:70gbuMqwNBE2Y5rkQJE9By</td>\n",
              "      <td>https://api.spotify.com/v1/tracks/70gbuMqwNBE2...</td>\n",
              "      <td>https://api.spotify.com/v1/audio-analysis/70gb...</td>\n",
              "      <td>212161</td>\n",
              "      <td>4</td>\n",
              "    </tr>\n",
              "    <tr>\n",
              "      <th>9</th>\n",
              "      <td>0.525</td>\n",
              "      <td>0.929</td>\n",
              "      <td>9</td>\n",
              "      <td>-8.56</td>\n",
              "      <td>0</td>\n",
              "      <td>0.0784</td>\n",
              "      <td>0.262</td>\n",
              "      <td>2.9e-05</td>\n",
              "      <td>0.0754</td>\n",
              "      <td>0.556</td>\n",
              "      <td>163.503</td>\n",
              "      <td>audio_features</td>\n",
              "      <td>4ItljeeAXtHsnsnnQojaO2</td>\n",
              "      <td>spotify:track:4ItljeeAXtHsnsnnQojaO2</td>\n",
              "      <td>https://api.spotify.com/v1/tracks/4ItljeeAXtHs...</td>\n",
              "      <td>https://api.spotify.com/v1/audio-analysis/4Itl...</td>\n",
              "      <td>262748</td>\n",
              "      <td>4</td>\n",
              "    </tr>\n",
              "  </tbody>\n",
              "</table>\n",
              "</div>"
            ],
            "text/plain": [
              "      0      1   ...      16 17\n",
              "0  0.338   0.34  ...  482830  4\n",
              "1  0.564  0.932  ...  146250  4\n",
              "2  0.412  0.902  ...  333893  4\n",
              "3  0.437  0.864  ...  295387  4\n",
              "4  0.476  0.717  ...  166267  4\n",
              "5  0.468  0.607  ...  263333  4\n",
              "6   0.48  0.536  ...  508200  3\n",
              "7  0.317  0.887  ...  220561  4\n",
              "8  0.503  0.265  ...  212161  4\n",
              "9  0.525  0.929  ...  262748  4\n",
              "\n",
              "[10 rows x 18 columns]"
            ]
          },
          "metadata": {
            "tags": []
          },
          "execution_count": 98
        }
      ]
    },
    {
      "cell_type": "code",
      "metadata": {
        "id": "51lEACWGOED7",
        "colab_type": "code",
        "colab": {}
      },
      "source": [
        "artist_meta_info.columns = artist_meta_info.columns.astype(str)\n",
        "artist_meta_info= artist_meta_info[['0','1','2','3','4','5','6','7','8','9','10']]\n",
        "artist_meta_info.columns = ['danceability', 'energy','key','loudness','mode','speechiness','acousticness','instrumentalness','liveness','valence','tempo']"
      ],
      "execution_count": null,
      "outputs": []
    },
    {
      "cell_type": "markdown",
      "metadata": {
        "id": "OiqcdMvRJ-mM",
        "colab_type": "text"
      },
      "source": [
        "### After obtaining audio feature info for top tracks of artist apply normaliztion and then PCA.\n",
        "The important thing to note is that PCA should be applied on the previ"
      ]
    },
    {
      "cell_type": "code",
      "metadata": {
        "id": "fZ0NlUedOXFG",
        "colab_type": "code",
        "colab": {}
      },
      "source": [
        "artist_meta_info_normalized = pd.DataFrame(min_max_scaler.transform(artist_meta_info))"
      ],
      "execution_count": null,
      "outputs": []
    },
    {
      "cell_type": "code",
      "metadata": {
        "id": "RSp2WoOyOoEE",
        "colab_type": "code",
        "colab": {}
      },
      "source": [
        "##PCA"
      ],
      "execution_count": null,
      "outputs": []
    },
    {
      "cell_type": "code",
      "metadata": {
        "id": "kwF0FtxhO9V_",
        "colab_type": "code",
        "colab": {}
      },
      "source": [
        "artist_meta_info_PCA = pd.DataFrame(pca.transform(artist_meta_info_normalized),columns=['pc1','pc2'])"
      ],
      "execution_count": null,
      "outputs": []
    },
    {
      "cell_type": "code",
      "metadata": {
        "id": "NnvHin4vO_-T",
        "colab_type": "code",
        "colab": {
          "base_uri": "https://localhost:8080/",
          "height": 359
        },
        "outputId": "eb1f1014-43e8-4bae-9fa2-492d4a9847cc"
      },
      "source": [
        "artist_meta_info_PCA"
      ],
      "execution_count": null,
      "outputs": [
        {
          "output_type": "execute_result",
          "data": {
            "text/html": [
              "<div>\n",
              "<style scoped>\n",
              "    .dataframe tbody tr th:only-of-type {\n",
              "        vertical-align: middle;\n",
              "    }\n",
              "\n",
              "    .dataframe tbody tr th {\n",
              "        vertical-align: top;\n",
              "    }\n",
              "\n",
              "    .dataframe thead th {\n",
              "        text-align: right;\n",
              "    }\n",
              "</style>\n",
              "<table border=\"1\" class=\"dataframe\">\n",
              "  <thead>\n",
              "    <tr style=\"text-align: right;\">\n",
              "      <th></th>\n",
              "      <th>pc1</th>\n",
              "      <th>pc2</th>\n",
              "    </tr>\n",
              "  </thead>\n",
              "  <tbody>\n",
              "    <tr>\n",
              "      <th>0</th>\n",
              "      <td>0.592498</td>\n",
              "      <td>-0.020510</td>\n",
              "    </tr>\n",
              "    <tr>\n",
              "      <th>1</th>\n",
              "      <td>-0.339538</td>\n",
              "      <td>-0.595269</td>\n",
              "    </tr>\n",
              "    <tr>\n",
              "      <th>2</th>\n",
              "      <td>-0.365686</td>\n",
              "      <td>-0.358793</td>\n",
              "    </tr>\n",
              "    <tr>\n",
              "      <th>3</th>\n",
              "      <td>0.537624</td>\n",
              "      <td>0.211007</td>\n",
              "    </tr>\n",
              "    <tr>\n",
              "      <th>4</th>\n",
              "      <td>-0.372243</td>\n",
              "      <td>-0.402638</td>\n",
              "    </tr>\n",
              "    <tr>\n",
              "      <th>5</th>\n",
              "      <td>-0.365635</td>\n",
              "      <td>-0.402113</td>\n",
              "    </tr>\n",
              "    <tr>\n",
              "      <th>6</th>\n",
              "      <td>-0.477820</td>\n",
              "      <td>0.306279</td>\n",
              "    </tr>\n",
              "    <tr>\n",
              "      <th>7</th>\n",
              "      <td>-0.387781</td>\n",
              "      <td>-0.430921</td>\n",
              "    </tr>\n",
              "    <tr>\n",
              "      <th>8</th>\n",
              "      <td>-0.475959</td>\n",
              "      <td>0.411072</td>\n",
              "    </tr>\n",
              "    <tr>\n",
              "      <th>9</th>\n",
              "      <td>0.599613</td>\n",
              "      <td>-0.214318</td>\n",
              "    </tr>\n",
              "  </tbody>\n",
              "</table>\n",
              "</div>"
            ],
            "text/plain": [
              "        pc1       pc2\n",
              "0  0.592498 -0.020510\n",
              "1 -0.339538 -0.595269\n",
              "2 -0.365686 -0.358793\n",
              "3  0.537624  0.211007\n",
              "4 -0.372243 -0.402638\n",
              "5 -0.365635 -0.402113\n",
              "6 -0.477820  0.306279\n",
              "7 -0.387781 -0.430921\n",
              "8 -0.475959  0.411072\n",
              "9  0.599613 -0.214318"
            ]
          },
          "metadata": {
            "tags": []
          },
          "execution_count": 111
        }
      ]
    },
    {
      "cell_type": "code",
      "metadata": {
        "id": "_JfV7d7ZPFwy",
        "colab_type": "code",
        "colab": {}
      },
      "source": [
        "### Taking Average"
      ],
      "execution_count": null,
      "outputs": []
    },
    {
      "cell_type": "code",
      "metadata": {
        "id": "EDX8Yz2_PJVd",
        "colab_type": "code",
        "colab": {}
      },
      "source": [
        "artist_meta_info_PCA['Name']='Led_Zepplin'"
      ],
      "execution_count": null,
      "outputs": []
    },
    {
      "cell_type": "code",
      "metadata": {
        "id": "b1MpzYW2PPYM",
        "colab_type": "code",
        "colab": {
          "base_uri": "https://localhost:8080/",
          "height": 85
        },
        "outputId": "5b012c8c-fe2a-49f2-efae-ad12caf6bd10"
      },
      "source": [
        "final_position_of_artist = artist_meta_info_PCA.groupby('Name')['pc1','pc2'].mean().reset_index()"
      ],
      "execution_count": null,
      "outputs": [
        {
          "output_type": "stream",
          "text": [
            "/usr/local/lib/python3.6/dist-packages/ipykernel_launcher.py:1: FutureWarning:\n",
            "\n",
            "Indexing with multiple keys (implicitly converted to a tuple of keys) will be deprecated, use a list instead.\n",
            "\n"
          ],
          "name": "stderr"
        }
      ]
    },
    {
      "cell_type": "code",
      "metadata": {
        "id": "LYU671BTPl9C",
        "colab_type": "code",
        "colab": {
          "base_uri": "https://localhost:8080/",
          "height": 80
        },
        "outputId": "3184a5b6-f863-44e3-d782-e73fd369c5ce"
      },
      "source": [
        "final_position_of_artist"
      ],
      "execution_count": null,
      "outputs": [
        {
          "output_type": "execute_result",
          "data": {
            "text/html": [
              "<div>\n",
              "<style scoped>\n",
              "    .dataframe tbody tr th:only-of-type {\n",
              "        vertical-align: middle;\n",
              "    }\n",
              "\n",
              "    .dataframe tbody tr th {\n",
              "        vertical-align: top;\n",
              "    }\n",
              "\n",
              "    .dataframe thead th {\n",
              "        text-align: right;\n",
              "    }\n",
              "</style>\n",
              "<table border=\"1\" class=\"dataframe\">\n",
              "  <thead>\n",
              "    <tr style=\"text-align: right;\">\n",
              "      <th></th>\n",
              "      <th>Name</th>\n",
              "      <th>pc1</th>\n",
              "      <th>pc2</th>\n",
              "    </tr>\n",
              "  </thead>\n",
              "  <tbody>\n",
              "    <tr>\n",
              "      <th>0</th>\n",
              "      <td>Led_Zepplin</td>\n",
              "      <td>-0.105493</td>\n",
              "      <td>-0.14962</td>\n",
              "    </tr>\n",
              "  </tbody>\n",
              "</table>\n",
              "</div>"
            ],
            "text/plain": [
              "          Name       pc1      pc2\n",
              "0  Led_Zepplin -0.105493 -0.14962"
            ]
          },
          "metadata": {
            "tags": []
          },
          "execution_count": 132
        }
      ]
    },
    {
      "cell_type": "code",
      "metadata": {
        "id": "5Au5_4JyQTxh",
        "colab_type": "code",
        "colab": {}
      },
      "source": [
        ""
      ],
      "execution_count": null,
      "outputs": []
    },
    {
      "cell_type": "code",
      "metadata": {
        "id": "T4hiWn0CPyOU",
        "colab_type": "code",
        "colab": {}
      },
      "source": [
        "country_data = X"
      ],
      "execution_count": null,
      "outputs": []
    },
    {
      "cell_type": "code",
      "metadata": {
        "id": "v1TRF_ApP6FG",
        "colab_type": "code",
        "colab": {
          "base_uri": "https://localhost:8080/",
          "height": 34
        },
        "outputId": "bf989eb9-7c36-455a-9604-ef26d0cb3128"
      },
      "source": [
        "kmeans.predict(final_position_of_artist[['pc1','pc2']])"
      ],
      "execution_count": null,
      "outputs": [
        {
          "output_type": "execute_result",
          "data": {
            "text/plain": [
              "array([2], dtype=int32)"
            ]
          },
          "metadata": {
            "tags": []
          },
          "execution_count": 133
        }
      ]
    },
    {
      "cell_type": "code",
      "metadata": {
        "id": "KecgfuNMQKS6",
        "colab_type": "code",
        "colab": {
          "base_uri": "https://localhost:8080/",
          "height": 542
        },
        "outputId": "37964f05-343c-4cfe-8d18-71e7fde19c3a"
      },
      "source": [
        "\n",
        "\n",
        "fig = go.Figure()\n",
        "\n",
        "# Add traces\n",
        "fig.add_trace(go.Scatter(x=X[\"pc1\"], y=X[\"pc2\"],marker_color=X[\"Label\"],\n",
        "                    mode='markers',text=X['Country']\n",
        "                    ))\n",
        "fig.add_trace(go.Scatter(x=final_position_of_artist[\"pc1\"], y=final_position_of_artist[\"pc2\"],marker_color='green',\n",
        "                    mode='markers'\n",
        "                    ))\n"
      ],
      "execution_count": 158,
      "outputs": [
        {
          "output_type": "display_data",
          "data": {
            "text/html": [
              "<html>\n",
              "<head><meta charset=\"utf-8\" /></head>\n",
              "<body>\n",
              "    <div>\n",
              "            <script src=\"https://cdnjs.cloudflare.com/ajax/libs/mathjax/2.7.5/MathJax.js?config=TeX-AMS-MML_SVG\"></script><script type=\"text/javascript\">if (window.MathJax) {MathJax.Hub.Config({SVG: {font: \"STIX-Web\"}});}</script>\n",
              "                <script type=\"text/javascript\">window.PlotlyConfig = {MathJaxConfig: 'local'};</script>\n",
              "        <script src=\"https://cdn.plot.ly/plotly-latest.min.js\"></script>    \n",
              "            <div id=\"385c4863-e4b4-42ea-8f63-2ec9f086321f\" class=\"plotly-graph-div\" style=\"height:525px; width:100%;\"></div>\n",
              "            <script type=\"text/javascript\">\n",
              "                \n",
              "                    window.PLOTLYENV=window.PLOTLYENV || {};\n",
              "                    \n",
              "                if (document.getElementById(\"385c4863-e4b4-42ea-8f63-2ec9f086321f\")) {\n",
              "                    Plotly.newPlot(\n",
              "                        '385c4863-e4b4-42ea-8f63-2ec9f086321f',\n",
              "                        [{\"marker\": {\"color\": [2, 2, 0, 0, 2, 2, 3, 2, 2, 2, 2, 0, 0, 2, 2, 2, 0, 3, 3, 3, 3, 2, 2, 1, 2, 2, 0, 1, 2, 3, 0, 1, 0, 0, 0, 2, 2, 0, 2, 2, 2, 2, 2, 2, 1, 0, 3, 0, 2, 0, 2, 2, 0, 1, 1, 3, 2, 2]}, \"mode\": \"markers\", \"text\": [\"Argentina\", \"Australia\", \"Austria\", \"Belgium\", \"Bolivia\", \"Brazil\", \"Bulgaria\", \"Canada\", \"Chile\", \"Colombia\", \"Costa Rica\", \"Czech Republic\", \"Denmark\", \"Dominican Republic\", \"Ecuador\", \"El Salvador\", \"Estonia\", \"Finland\", \"France\", \"Germany\", \"Greece\", \"Guatemala\", \"Honduras\", \"Hong Kong\", \"Hungary\", \"Iceland\", \"India\", \"Indonesia\", \"Ireland\", \"Israel\", \"Italy\", \"Japan\", \"Latvia\", \"Lithuania\", \"Luxembourg\", \"Malaysia\", \"Mexico\", \"Netherlands\", \"New Zealand\", \"Nicaragua\", \"Norway\", \"Panama\", \"Paraguay\", \"Peru\", \"Philippines\", \"Poland\", \"Portugal\", \"Romania\", \"Singapore\", \"Slovakia\", \"Spain\", \"Sweden\", \"Switzerland\", \"Taiwan\", \"Thailand\", \"Turkey\", \"United Kingdom\", \"United States\"], \"type\": \"scatter\", \"x\": [0.00314122387845233, -0.017072190086010342, 0.08435151282181447, 0.04722658058961703, -0.026166148280915708, -0.017764917849670044, 0.12750760993177204, -0.0016365136203754576, -0.019531609091220318, -0.055957725463529326, -0.04453308220329918, 0.037274606209972444, 0.09766480453711121, -0.004745317712988359, -0.02505002089144549, -0.0216986625122859, 0.05948527320543595, 0.11328567076755214, 0.16891518010328035, 0.1524028722473095, 0.1416365797991569, -0.045465250322550395, -0.021504199210537683, -0.2053579395572781, 0.01374861192634387, -0.034910915053703966, 0.028739308817323873, -0.2152225365167531, -0.002468648391185057, 0.18062640284877463, 0.08846270467921688, -0.266950854965544, 0.08469808320343594, 0.035041255810280905, 0.02715276702949228, 0.00044002429963910017, -0.036715648469333485, 0.032488446052069096, -0.018803407138842793, -0.04060763547126171, -0.0500419090299736, -0.03752248555844413, -0.05133730665781929, -0.06260512252848911, -0.220233490383266, 0.037394919193998455, 0.13260385543831954, 0.08802981511340544, -0.08290694031649869, 0.05844719916234809, -0.04132510079770155, -0.0029777007949655016, 0.07993877261172871, -0.1892363093018114, -0.16169129521569797, 0.22025187245208627, 0.010584806461300902, 0.004000563098085064], \"y\": [-0.015710847698202475, -0.004217676467358111, 0.02151885126322175, 0.013758717922209982, -0.031574072664842905, -0.007013386852946151, -0.01802693823354827, -0.027610994274956235, -0.007622367586768939, -0.03250106334758165, -0.006379744216204003, 0.023338582491388555, 0.015816290150296793, -0.031812646167198755, -0.03355530666663287, -0.02352687642296833, -0.0049964767958351215, -0.011769990154241712, 0.05084426519222455, 0.016696876211860206, 0.02094308004527384, -0.030082161535635886, -0.02264669672362234, 0.027251178265870188, -0.020950286426889377, 0.027903886207453207, 0.049380949089289444, 0.048810513611774346, -0.00514860373131917, 0.03176516038122373, 0.017667514679893973, -0.03285937032143123, 0.012581922294001424, -0.0008336606126767157, 0.04420167999497437, 0.03722013030495592, -0.024026325345523528, -0.02162028340383839, 0.017342755367080638, -0.05603754594042556, 0.007469394778737521, -0.022532037810575646, -0.03115696600046419, -0.0282639900100913, 0.00697428127944742, 0.00997627811437624, 0.025411969964099713, 0.013900933463532434, 0.022315078864642186, -0.002630233969777898, -0.03392530892668109, 0.006899647318401461, -0.0072420167542097905, 0.022831706450535713, -0.02468466981459124, 0.039373749300676025, -0.017823843351748407, 0.004166995494922135]}, {\"marker\": {\"color\": \"green\"}, \"mode\": \"markers\", \"type\": \"scatter\", \"x\": [-0.10549260208763703], \"y\": [-0.1496203646853398]}],\n",
              "                        {\"template\": {\"data\": {\"bar\": [{\"error_x\": {\"color\": \"#2a3f5f\"}, \"error_y\": {\"color\": \"#2a3f5f\"}, \"marker\": {\"line\": {\"color\": \"#E5ECF6\", \"width\": 0.5}}, \"type\": \"bar\"}], \"barpolar\": [{\"marker\": {\"line\": {\"color\": \"#E5ECF6\", \"width\": 0.5}}, \"type\": \"barpolar\"}], \"carpet\": [{\"aaxis\": {\"endlinecolor\": \"#2a3f5f\", \"gridcolor\": \"white\", \"linecolor\": \"white\", \"minorgridcolor\": \"white\", \"startlinecolor\": \"#2a3f5f\"}, \"baxis\": {\"endlinecolor\": \"#2a3f5f\", \"gridcolor\": \"white\", \"linecolor\": \"white\", \"minorgridcolor\": \"white\", \"startlinecolor\": \"#2a3f5f\"}, \"type\": \"carpet\"}], \"choropleth\": [{\"colorbar\": {\"outlinewidth\": 0, \"ticks\": \"\"}, \"type\": \"choropleth\"}], \"contour\": [{\"colorbar\": {\"outlinewidth\": 0, \"ticks\": \"\"}, \"colorscale\": [[0.0, \"#0d0887\"], [0.1111111111111111, \"#46039f\"], [0.2222222222222222, \"#7201a8\"], [0.3333333333333333, \"#9c179e\"], [0.4444444444444444, \"#bd3786\"], [0.5555555555555556, \"#d8576b\"], [0.6666666666666666, \"#ed7953\"], [0.7777777777777778, \"#fb9f3a\"], [0.8888888888888888, \"#fdca26\"], [1.0, \"#f0f921\"]], \"type\": \"contour\"}], \"contourcarpet\": [{\"colorbar\": {\"outlinewidth\": 0, \"ticks\": \"\"}, \"type\": \"contourcarpet\"}], \"heatmap\": [{\"colorbar\": {\"outlinewidth\": 0, \"ticks\": \"\"}, \"colorscale\": [[0.0, \"#0d0887\"], [0.1111111111111111, \"#46039f\"], [0.2222222222222222, \"#7201a8\"], [0.3333333333333333, \"#9c179e\"], [0.4444444444444444, \"#bd3786\"], [0.5555555555555556, \"#d8576b\"], [0.6666666666666666, \"#ed7953\"], [0.7777777777777778, \"#fb9f3a\"], [0.8888888888888888, \"#fdca26\"], [1.0, \"#f0f921\"]], \"type\": \"heatmap\"}], \"heatmapgl\": [{\"colorbar\": {\"outlinewidth\": 0, \"ticks\": \"\"}, \"colorscale\": [[0.0, \"#0d0887\"], [0.1111111111111111, \"#46039f\"], [0.2222222222222222, \"#7201a8\"], [0.3333333333333333, \"#9c179e\"], [0.4444444444444444, \"#bd3786\"], [0.5555555555555556, \"#d8576b\"], [0.6666666666666666, \"#ed7953\"], [0.7777777777777778, \"#fb9f3a\"], [0.8888888888888888, \"#fdca26\"], [1.0, \"#f0f921\"]], \"type\": \"heatmapgl\"}], \"histogram\": [{\"marker\": {\"colorbar\": {\"outlinewidth\": 0, \"ticks\": \"\"}}, \"type\": \"histogram\"}], \"histogram2d\": [{\"colorbar\": {\"outlinewidth\": 0, \"ticks\": \"\"}, \"colorscale\": [[0.0, \"#0d0887\"], [0.1111111111111111, \"#46039f\"], [0.2222222222222222, \"#7201a8\"], [0.3333333333333333, \"#9c179e\"], [0.4444444444444444, \"#bd3786\"], [0.5555555555555556, \"#d8576b\"], [0.6666666666666666, \"#ed7953\"], [0.7777777777777778, \"#fb9f3a\"], [0.8888888888888888, \"#fdca26\"], [1.0, \"#f0f921\"]], \"type\": \"histogram2d\"}], \"histogram2dcontour\": [{\"colorbar\": {\"outlinewidth\": 0, \"ticks\": \"\"}, \"colorscale\": [[0.0, \"#0d0887\"], [0.1111111111111111, \"#46039f\"], [0.2222222222222222, \"#7201a8\"], [0.3333333333333333, \"#9c179e\"], [0.4444444444444444, \"#bd3786\"], [0.5555555555555556, \"#d8576b\"], [0.6666666666666666, \"#ed7953\"], [0.7777777777777778, \"#fb9f3a\"], [0.8888888888888888, \"#fdca26\"], [1.0, \"#f0f921\"]], \"type\": \"histogram2dcontour\"}], \"mesh3d\": [{\"colorbar\": {\"outlinewidth\": 0, \"ticks\": \"\"}, \"type\": \"mesh3d\"}], \"parcoords\": [{\"line\": {\"colorbar\": {\"outlinewidth\": 0, \"ticks\": \"\"}}, \"type\": \"parcoords\"}], \"pie\": [{\"automargin\": true, \"type\": \"pie\"}], \"scatter\": [{\"marker\": {\"colorbar\": {\"outlinewidth\": 0, \"ticks\": \"\"}}, \"type\": \"scatter\"}], \"scatter3d\": [{\"line\": {\"colorbar\": {\"outlinewidth\": 0, \"ticks\": \"\"}}, \"marker\": {\"colorbar\": {\"outlinewidth\": 0, \"ticks\": \"\"}}, \"type\": \"scatter3d\"}], \"scattercarpet\": [{\"marker\": {\"colorbar\": {\"outlinewidth\": 0, \"ticks\": \"\"}}, \"type\": \"scattercarpet\"}], \"scattergeo\": [{\"marker\": {\"colorbar\": {\"outlinewidth\": 0, \"ticks\": \"\"}}, \"type\": \"scattergeo\"}], \"scattergl\": [{\"marker\": {\"colorbar\": {\"outlinewidth\": 0, \"ticks\": \"\"}}, \"type\": \"scattergl\"}], \"scattermapbox\": [{\"marker\": {\"colorbar\": {\"outlinewidth\": 0, \"ticks\": \"\"}}, \"type\": \"scattermapbox\"}], \"scatterpolar\": [{\"marker\": {\"colorbar\": {\"outlinewidth\": 0, \"ticks\": \"\"}}, \"type\": \"scatterpolar\"}], \"scatterpolargl\": [{\"marker\": {\"colorbar\": {\"outlinewidth\": 0, \"ticks\": \"\"}}, \"type\": \"scatterpolargl\"}], \"scatterternary\": [{\"marker\": {\"colorbar\": {\"outlinewidth\": 0, \"ticks\": \"\"}}, \"type\": \"scatterternary\"}], \"surface\": [{\"colorbar\": {\"outlinewidth\": 0, \"ticks\": \"\"}, \"colorscale\": [[0.0, \"#0d0887\"], [0.1111111111111111, \"#46039f\"], [0.2222222222222222, \"#7201a8\"], [0.3333333333333333, \"#9c179e\"], [0.4444444444444444, \"#bd3786\"], [0.5555555555555556, \"#d8576b\"], [0.6666666666666666, \"#ed7953\"], [0.7777777777777778, \"#fb9f3a\"], [0.8888888888888888, \"#fdca26\"], [1.0, \"#f0f921\"]], \"type\": \"surface\"}], \"table\": [{\"cells\": {\"fill\": {\"color\": \"#EBF0F8\"}, \"line\": {\"color\": \"white\"}}, \"header\": {\"fill\": {\"color\": \"#C8D4E3\"}, \"line\": {\"color\": \"white\"}}, \"type\": \"table\"}]}, \"layout\": {\"annotationdefaults\": {\"arrowcolor\": \"#2a3f5f\", \"arrowhead\": 0, \"arrowwidth\": 1}, \"coloraxis\": {\"colorbar\": {\"outlinewidth\": 0, \"ticks\": \"\"}}, \"colorscale\": {\"diverging\": [[0, \"#8e0152\"], [0.1, \"#c51b7d\"], [0.2, \"#de77ae\"], [0.3, \"#f1b6da\"], [0.4, \"#fde0ef\"], [0.5, \"#f7f7f7\"], [0.6, \"#e6f5d0\"], [0.7, \"#b8e186\"], [0.8, \"#7fbc41\"], [0.9, \"#4d9221\"], [1, \"#276419\"]], \"sequential\": [[0.0, \"#0d0887\"], [0.1111111111111111, \"#46039f\"], [0.2222222222222222, \"#7201a8\"], [0.3333333333333333, \"#9c179e\"], [0.4444444444444444, \"#bd3786\"], [0.5555555555555556, \"#d8576b\"], [0.6666666666666666, \"#ed7953\"], [0.7777777777777778, \"#fb9f3a\"], [0.8888888888888888, \"#fdca26\"], [1.0, \"#f0f921\"]], \"sequentialminus\": [[0.0, \"#0d0887\"], [0.1111111111111111, \"#46039f\"], [0.2222222222222222, \"#7201a8\"], [0.3333333333333333, \"#9c179e\"], [0.4444444444444444, \"#bd3786\"], [0.5555555555555556, \"#d8576b\"], [0.6666666666666666, \"#ed7953\"], [0.7777777777777778, \"#fb9f3a\"], [0.8888888888888888, \"#fdca26\"], [1.0, \"#f0f921\"]]}, \"colorway\": [\"#636efa\", \"#EF553B\", \"#00cc96\", \"#ab63fa\", \"#FFA15A\", \"#19d3f3\", \"#FF6692\", \"#B6E880\", \"#FF97FF\", \"#FECB52\"], \"font\": {\"color\": \"#2a3f5f\"}, \"geo\": {\"bgcolor\": \"white\", \"lakecolor\": \"white\", \"landcolor\": \"#E5ECF6\", \"showlakes\": true, \"showland\": true, \"subunitcolor\": \"white\"}, \"hoverlabel\": {\"align\": \"left\"}, \"hovermode\": \"closest\", \"mapbox\": {\"style\": \"light\"}, \"paper_bgcolor\": \"white\", \"plot_bgcolor\": \"#E5ECF6\", \"polar\": {\"angularaxis\": {\"gridcolor\": \"white\", \"linecolor\": \"white\", \"ticks\": \"\"}, \"bgcolor\": \"#E5ECF6\", \"radialaxis\": {\"gridcolor\": \"white\", \"linecolor\": \"white\", \"ticks\": \"\"}}, \"scene\": {\"xaxis\": {\"backgroundcolor\": \"#E5ECF6\", \"gridcolor\": \"white\", \"gridwidth\": 2, \"linecolor\": \"white\", \"showbackground\": true, \"ticks\": \"\", \"zerolinecolor\": \"white\"}, \"yaxis\": {\"backgroundcolor\": \"#E5ECF6\", \"gridcolor\": \"white\", \"gridwidth\": 2, \"linecolor\": \"white\", \"showbackground\": true, \"ticks\": \"\", \"zerolinecolor\": \"white\"}, \"zaxis\": {\"backgroundcolor\": \"#E5ECF6\", \"gridcolor\": \"white\", \"gridwidth\": 2, \"linecolor\": \"white\", \"showbackground\": true, \"ticks\": \"\", \"zerolinecolor\": \"white\"}}, \"shapedefaults\": {\"line\": {\"color\": \"#2a3f5f\"}}, \"ternary\": {\"aaxis\": {\"gridcolor\": \"white\", \"linecolor\": \"white\", \"ticks\": \"\"}, \"baxis\": {\"gridcolor\": \"white\", \"linecolor\": \"white\", \"ticks\": \"\"}, \"bgcolor\": \"#E5ECF6\", \"caxis\": {\"gridcolor\": \"white\", \"linecolor\": \"white\", \"ticks\": \"\"}}, \"title\": {\"x\": 0.05}, \"xaxis\": {\"automargin\": true, \"gridcolor\": \"white\", \"linecolor\": \"white\", \"ticks\": \"\", \"title\": {\"standoff\": 15}, \"zerolinecolor\": \"white\", \"zerolinewidth\": 2}, \"yaxis\": {\"automargin\": true, \"gridcolor\": \"white\", \"linecolor\": \"white\", \"ticks\": \"\", \"title\": {\"standoff\": 15}, \"zerolinecolor\": \"white\", \"zerolinewidth\": 2}}}},\n",
              "                        {\"responsive\": true}\n",
              "                    ).then(function(){\n",
              "                            \n",
              "var gd = document.getElementById('385c4863-e4b4-42ea-8f63-2ec9f086321f');\n",
              "var x = new MutationObserver(function (mutations, observer) {{\n",
              "        var display = window.getComputedStyle(gd).display;\n",
              "        if (!display || display === 'none') {{\n",
              "            console.log([gd, 'removed!']);\n",
              "            Plotly.purge(gd);\n",
              "            observer.disconnect();\n",
              "        }}\n",
              "}});\n",
              "\n",
              "// Listen for the removal of the full notebook cells\n",
              "var notebookContainer = gd.closest('#notebook-container');\n",
              "if (notebookContainer) {{\n",
              "    x.observe(notebookContainer, {childList: true});\n",
              "}}\n",
              "\n",
              "// Listen for the clearing of the current output cell\n",
              "var outputEl = gd.closest('.output');\n",
              "if (outputEl) {{\n",
              "    x.observe(outputEl, {childList: true});\n",
              "}}\n",
              "\n",
              "                        })\n",
              "                };\n",
              "                \n",
              "            </script>\n",
              "        </div>\n",
              "</body>\n",
              "</html>"
            ]
          },
          "metadata": {
            "tags": []
          }
        }
      ]
    },
    {
      "cell_type": "markdown",
      "metadata": {
        "id": "3WX9tBzKLJrt",
        "colab_type": "text"
      },
      "source": [
        "The green dot below is the 2D representation for current artist"
      ]
    },
    {
      "cell_type": "code",
      "metadata": {
        "id": "ja6uOa1D-Wef",
        "colab_type": "code",
        "colab": {}
      },
      "source": [
        "###"
      ],
      "execution_count": null,
      "outputs": []
    }
  ]
}