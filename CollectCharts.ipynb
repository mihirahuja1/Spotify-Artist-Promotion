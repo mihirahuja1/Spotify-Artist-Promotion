{
  "nbformat": 4,
  "nbformat_minor": 0,
  "metadata": {
    "colab": {
      "name": "CollectCharts.ipynb",
      "provenance": [],
      "mount_file_id": "1lBKLO-9VfCVw9WhxnBLFHwuqt1Yy6kQR",
      "authorship_tag": "ABX9TyPvD0QWeoumN9r1/Nxde2jA",
      "include_colab_link": true
    },
    "kernelspec": {
      "name": "python3",
      "display_name": "Python 3"
    }
  },
  "cells": [
    {
      "cell_type": "markdown",
      "metadata": {
        "id": "view-in-github",
        "colab_type": "text"
      },
      "source": [
        "<a href=\"https://colab.research.google.com/github/mihirahuja1/Spotify-Artist-Promotion/blob/master/CollectCharts.ipynb\" target=\"_parent\"><img src=\"https://colab.research.google.com/assets/colab-badge.svg\" alt=\"Open In Colab\"/></a>"
      ]
    },
    {
      "cell_type": "code",
      "metadata": {
        "id": "Xwxtw0omH8qp",
        "colab_type": "code",
        "colab": {}
      },
      "source": [
        "### Setup"
      ],
      "execution_count": null,
      "outputs": []
    },
    {
      "cell_type": "markdown",
      "metadata": {
        "id": "VXT_4prnC6Pc",
        "colab_type": "text"
      },
      "source": [
        ""
      ]
    },
    {
      "cell_type": "code",
      "metadata": {
        "id": "OMgv6FkuIDTv",
        "colab_type": "code",
        "colab": {
          "resources": {
            "http://localhost:8080/nbextensions/google.colab/files.js": {
              "data": "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",
              "ok": true,
              "headers": [
                [
                  "content-type",
                  "application/javascript"
                ]
              ],
              "status": 200,
              "status_text": ""
            }
          },
          "base_uri": "https://localhost:8080/",
          "height": 69
        },
        "outputId": "89c1ece1-4a12-4bdd-989d-236b28a1e1be"
      },
      "source": [
        "import pandas as pd\n",
        "import numpy\n",
        "\n",
        "from google.colab import files\n",
        "src = list(files.upload().values())[0]\n",
        "open('charts.py','wb').write(src)\n",
        "import charts"
      ],
      "execution_count": null,
      "outputs": [
        {
          "output_type": "display_data",
          "data": {
            "text/html": [
              "\n",
              "     <input type=\"file\" id=\"files-ebc288d4-aa0e-49f2-a0d7-1461344396a3\" name=\"files[]\" multiple disabled\n",
              "        style=\"border:none\" />\n",
              "     <output id=\"result-ebc288d4-aa0e-49f2-a0d7-1461344396a3\">\n",
              "      Upload widget is only available when the cell has been executed in the\n",
              "      current browser session. Please rerun this cell to enable.\n",
              "      </output>\n",
              "      <script src=\"/nbextensions/google.colab/files.js\"></script> "
            ],
            "text/plain": [
              "<IPython.core.display.HTML object>"
            ]
          },
          "metadata": {
            "tags": []
          }
        },
        {
          "output_type": "stream",
          "text": [
            "Saving charts.py to charts (2).py\n"
          ],
          "name": "stdout"
        }
      ]
    },
    {
      "cell_type": "code",
      "metadata": {
        "id": "mtGvyaGQIF4Y",
        "colab_type": "code",
        "colab": {}
      },
      "source": [
        "chart = charts.get_chart('2020-07-07', region='us')"
      ],
      "execution_count": null,
      "outputs": []
    },
    {
      "cell_type": "code",
      "metadata": {
        "id": "ET5XXfjlJY9I",
        "colab_type": "code",
        "colab": {
          "base_uri": "https://localhost:8080/",
          "height": 204
        },
        "outputId": "4f0cd2a9-0101-4ebf-acb6-ebaf4bbfddcf"
      },
      "source": [
        "chart.head()"
      ],
      "execution_count": null,
      "outputs": [
        {
          "output_type": "execute_result",
          "data": {
            "text/html": [
              "<div>\n",
              "<style scoped>\n",
              "    .dataframe tbody tr th:only-of-type {\n",
              "        vertical-align: middle;\n",
              "    }\n",
              "\n",
              "    .dataframe tbody tr th {\n",
              "        vertical-align: top;\n",
              "    }\n",
              "\n",
              "    .dataframe thead th {\n",
              "        text-align: right;\n",
              "    }\n",
              "</style>\n",
              "<table border=\"1\" class=\"dataframe\">\n",
              "  <thead>\n",
              "    <tr style=\"text-align: right;\">\n",
              "      <th></th>\n",
              "      <th>Position</th>\n",
              "      <th>Track Name</th>\n",
              "      <th>Artist</th>\n",
              "      <th>Streams</th>\n",
              "      <th>URL</th>\n",
              "    </tr>\n",
              "  </thead>\n",
              "  <tbody>\n",
              "    <tr>\n",
              "      <th>0</th>\n",
              "      <td>1</td>\n",
              "      <td>ROCKSTAR (feat. Roddy Ricch)</td>\n",
              "      <td>DaBaby</td>\n",
              "      <td>1454956</td>\n",
              "      <td>https://open.spotify.com/track/7ytR5pFWmSjzHJI...</td>\n",
              "    </tr>\n",
              "    <tr>\n",
              "      <th>1</th>\n",
              "      <td>2</td>\n",
              "      <td>WHATS POPPIN (feat. DaBaby, Tory Lanez &amp; Lil W...</td>\n",
              "      <td>Jack Harlow</td>\n",
              "      <td>1031996</td>\n",
              "      <td>https://open.spotify.com/track/2MbdDtCv5LUVjYy...</td>\n",
              "    </tr>\n",
              "    <tr>\n",
              "      <th>2</th>\n",
              "      <td>3</td>\n",
              "      <td>For The Night (feat. Lil Baby &amp; DaBaby)</td>\n",
              "      <td>Pop Smoke</td>\n",
              "      <td>984183</td>\n",
              "      <td>https://open.spotify.com/track/0PvFJmanyNQMseI...</td>\n",
              "    </tr>\n",
              "    <tr>\n",
              "      <th>3</th>\n",
              "      <td>4</td>\n",
              "      <td>Blueberry Faygo</td>\n",
              "      <td>Lil Mosey</td>\n",
              "      <td>926155</td>\n",
              "      <td>https://open.spotify.com/track/22LAwLoDA5b4AaG...</td>\n",
              "    </tr>\n",
              "    <tr>\n",
              "      <th>4</th>\n",
              "      <td>5</td>\n",
              "      <td>Party Girl</td>\n",
              "      <td>StaySolidRocky</td>\n",
              "      <td>916825</td>\n",
              "      <td>https://open.spotify.com/track/5RqR4ZCCKJDcBLI...</td>\n",
              "    </tr>\n",
              "  </tbody>\n",
              "</table>\n",
              "</div>"
            ],
            "text/plain": [
              "   Position  ...                                                URL\n",
              "0         1  ...  https://open.spotify.com/track/7ytR5pFWmSjzHJI...\n",
              "1         2  ...  https://open.spotify.com/track/2MbdDtCv5LUVjYy...\n",
              "2         3  ...  https://open.spotify.com/track/0PvFJmanyNQMseI...\n",
              "3         4  ...  https://open.spotify.com/track/22LAwLoDA5b4AaG...\n",
              "4         5  ...  https://open.spotify.com/track/5RqR4ZCCKJDcBLI...\n",
              "\n",
              "[5 rows x 5 columns]"
            ]
          },
          "metadata": {
            "tags": []
          },
          "execution_count": 34
        }
      ]
    },
    {
      "cell_type": "code",
      "metadata": {
        "id": "SYUvEQQwV0IM",
        "colab_type": "code",
        "colab": {}
      },
      "source": [
        "list_country_id = ['us',\n",
        "'gb',\n",
        "'ar',\n",
        "'at',\n",
        "'au',\n",
        "'be',\n",
        "'bg',\n",
        "'bo',\n",
        "'br',\n",
        "'ca',\n",
        "'ch',\n",
        "'cl',\n",
        "'co',\n",
        "'cr',\n",
        "'cz',\n",
        "'de',\n",
        "'dk',\n",
        "'do',\n",
        "'ec',\n",
        "'ee',\n",
        "'es',\n",
        "'fi',\n",
        "'fr',\n",
        "'gr',\n",
        "'gt',\n",
        "'hk',\n",
        "'hn',\n",
        "'hu',\n",
        "'id',\n",
        "'ie',\n",
        "'il',\n",
        "'in',\n",
        "'is',\n",
        "'it',\n",
        "'jp',\n",
        "'lt',\n",
        "'lu',\n",
        "'lv',\n",
        "'mx',\n",
        "'my',\n",
        "'ni',\n",
        "'nl',\n",
        "'no',\n",
        "'nz',\n",
        "'pa',\n",
        "'pe',\n",
        "'ph',\n",
        "'pl',\n",
        "'pt',\n",
        "'py',\n",
        "'ro',\n",
        "'se',\n",
        "'sg',\n",
        "'sk',\n",
        "'sv',\n",
        "'th',\n",
        "'tr',\n",
        "'tw']"
      ],
      "execution_count": null,
      "outputs": []
    },
    {
      "cell_type": "code",
      "metadata": {
        "id": "sBPj5SxzWnmz",
        "colab_type": "code",
        "colab": {}
      },
      "source": [
        "list_country_name = ['United States',\n",
        " 'United Kingdom',\n",
        "'Argentina',\n",
        "'Austria',\n",
        "'Australia',\n",
        "'Belgium',\n",
        "'Bulgaria',\n",
        "'Bolivia',\n",
        "'Brazil',\n",
        "'Canada',\n",
        "'Switzerland',\n",
        "'Chile',\n",
        "'Colombia',\n",
        "'Costa Rica',\n",
        "'Czech Republic',\n",
        "'Germany',\n",
        "'Denmark',\n",
        "'Dominican Republic',\n",
        "'Ecuador',\n",
        "'Estonia',\n",
        "'Spain',\n",
        "'Finland',\n",
        "'France',\n",
        "'Greece',\n",
        "'Guatemala',\n",
        "'Hong Kong',\n",
        "'Honduras',\n",
        "'Hungary',\n",
        "'Indonesia',\n",
        "'Ireland',\n",
        "'Israel',\n",
        "'India',\n",
        "'Iceland',\n",
        "'Italy',\n",
        "'Japan',\n",
        "'Lithuania',\n",
        "'Luxembourg',\n",
        "'Latvia',\n",
        "'Mexico',\n",
        "'Malaysia',\n",
        "'Nicaragua',\n",
        "'Netherlands',\n",
        "'Norway',\n",
        "'New Zealand',\n",
        "'Panama',\n",
        "'Peru',\n",
        "'Philippines',\n",
        "'Poland',\n",
        "'Portugal',\n",
        "'Paraguay',\n",
        "'Romania',\n",
        "'Sweden',\n",
        "'Singapore',\n",
        "'Slovakia',\n",
        "'El Salvador',\n",
        "'Thailand',\n",
        "'Turkey',\n",
        "'Taiwan'               \n",
        "]"
      ],
      "execution_count": null,
      "outputs": []
    },
    {
      "cell_type": "code",
      "metadata": {
        "id": "nDsIW2C4XxlV",
        "colab_type": "code",
        "colab": {}
      },
      "source": [
        "def create_collection_of_top_songs(country_code,country_name,date):\n",
        "  try:\n",
        "    print(country_code)\n",
        "    print(country_name)\n",
        "    df = charts.get_chart(date, region=country_code)\n",
        "    #print(df)\n",
        "    df['country_code'] = country_code\n",
        "    df['country_name'] = country_name\n",
        "    return df\n",
        "  except:\n",
        "    return 0"
      ],
      "execution_count": null,
      "outputs": []
    },
    {
      "cell_type": "code",
      "metadata": {
        "id": "jJs1j6FTX1CJ",
        "colab_type": "code",
        "colab": {
          "base_uri": "https://localhost:8080/",
          "height": 34
        },
        "outputId": "f7d8c3e0-9b1c-4306-c8ae-7c31a7ea511e"
      },
      "source": [
        "type(current_data)"
      ],
      "execution_count": null,
      "outputs": [
        {
          "output_type": "execute_result",
          "data": {
            "text/plain": [
              "pandas.core.frame.DataFrame"
            ]
          },
          "metadata": {
            "tags": []
          },
          "execution_count": 91
        }
      ]
    },
    {
      "cell_type": "code",
      "metadata": {
        "id": "DAkYenAxY6pA",
        "colab_type": "code",
        "colab": {
          "base_uri": "https://localhost:8080/",
          "height": 1000
        },
        "outputId": "51ab0cdc-96b9-416e-8d9b-aeb250307a5f"
      },
      "source": [
        "for index in range(0,len(list_country_id)):\n",
        "    current_data = create_collection_of_top_songs(list_country_id[index],list_country_name[index],'2020-07-10') #Get top charts\n",
        "    \n",
        "    if index == 0: #if first country initiate the main dataframe\n",
        "      main_data = current_data\n",
        "    else:\n",
        "      main_data = pd.concat([main_data, current_data], ignore_index=True) #Vertical stack\n"
      ],
      "execution_count": null,
      "outputs": [
        {
          "output_type": "stream",
          "text": [
            "us\n",
            "United States\n",
            "gb\n",
            "United Kingdom\n",
            "ar\n",
            "Argentina\n",
            "at\n",
            "Austria\n",
            "au\n",
            "Australia\n",
            "be\n",
            "Belgium\n",
            "bg\n",
            "Bulgaria\n",
            "bo\n",
            "Bolivia\n",
            "br\n",
            "Brazil\n",
            "ca\n",
            "Canada\n",
            "ch\n",
            "Switzerland\n",
            "cl\n",
            "Chile\n",
            "co\n",
            "Colombia\n",
            "cr\n",
            "Costa Rica\n",
            "cz\n",
            "Czech Republic\n",
            "de\n",
            "Germany\n",
            "dk\n",
            "Denmark\n",
            "do\n",
            "Dominican Republic\n",
            "ec\n",
            "Ecuador\n",
            "ee\n",
            "Estonia\n",
            "es\n",
            "Spain\n",
            "fi\n",
            "Finland\n",
            "fr\n",
            "France\n",
            "gr\n",
            "Greece\n",
            "gt\n",
            "Guatemala\n",
            "hk\n",
            "Hong Kong\n",
            "hn\n",
            "Honduras\n",
            "hu\n",
            "Hungary\n",
            "id\n",
            "Indonesia\n",
            "ie\n",
            "Ireland\n",
            "il\n",
            "Israel\n",
            "in\n",
            "India\n",
            "is\n",
            "Iceland\n",
            "it\n",
            "Italy\n",
            "jp\n",
            "Japan\n",
            "lt\n",
            "Lithuania\n",
            "lu\n",
            "Luxembourg\n",
            "lv\n",
            "Latvia\n",
            "mx\n",
            "Mexico\n",
            "my\n",
            "Malaysia\n",
            "ni\n",
            "Nicaragua\n",
            "nl\n",
            "Netherlands\n",
            "no\n",
            "Norway\n",
            "nz\n",
            "New Zealand\n",
            "pa\n",
            "Panama\n",
            "pe\n",
            "Peru\n",
            "ph\n",
            "Philippines\n",
            "pl\n",
            "Poland\n",
            "pt\n",
            "Portugal\n",
            "py\n",
            "Paraguay\n",
            "ro\n",
            "Romania\n",
            "se\n",
            "Sweden\n",
            "sg\n",
            "Singapore\n",
            "sk\n",
            "Slovakia\n",
            "sv\n",
            "El Salvador\n",
            "th\n",
            "Thailand\n",
            "tr\n",
            "Turkey\n",
            "tw\n",
            "Taiwan\n"
          ],
          "name": "stdout"
        }
      ]
    },
    {
      "cell_type": "code",
      "metadata": {
        "id": "Ooe3k2tBZEnr",
        "colab_type": "code",
        "colab": {
          "base_uri": "https://localhost:8080/",
          "height": 572
        },
        "outputId": "506f5570-bf2e-4bfc-ffbe-c544e45bfb7a"
      },
      "source": [
        "main_data"
      ],
      "execution_count": null,
      "outputs": [
        {
          "output_type": "execute_result",
          "data": {
            "text/html": [
              "<div>\n",
              "<style scoped>\n",
              "    .dataframe tbody tr th:only-of-type {\n",
              "        vertical-align: middle;\n",
              "    }\n",
              "\n",
              "    .dataframe tbody tr th {\n",
              "        vertical-align: top;\n",
              "    }\n",
              "\n",
              "    .dataframe thead th {\n",
              "        text-align: right;\n",
              "    }\n",
              "</style>\n",
              "<table border=\"1\" class=\"dataframe\">\n",
              "  <thead>\n",
              "    <tr style=\"text-align: right;\">\n",
              "      <th></th>\n",
              "      <th>Position</th>\n",
              "      <th>Track Name</th>\n",
              "      <th>Artist</th>\n",
              "      <th>Streams</th>\n",
              "      <th>URL</th>\n",
              "      <th>country_code</th>\n",
              "      <th>country_name</th>\n",
              "    </tr>\n",
              "  </thead>\n",
              "  <tbody>\n",
              "    <tr>\n",
              "      <th>0</th>\n",
              "      <td>1</td>\n",
              "      <td>Conversations</td>\n",
              "      <td>Juice WRLD</td>\n",
              "      <td>3452709</td>\n",
              "      <td>https://open.spotify.com/track/2fZTS0VboxRpF0F...</td>\n",
              "      <td>us</td>\n",
              "      <td>United States</td>\n",
              "    </tr>\n",
              "    <tr>\n",
              "      <th>1</th>\n",
              "      <td>2</td>\n",
              "      <td>Come &amp; Go (with Marshmello)</td>\n",
              "      <td>Juice WRLD</td>\n",
              "      <td>3220828</td>\n",
              "      <td>https://open.spotify.com/track/7y7w4tl4MaRC2UM...</td>\n",
              "      <td>us</td>\n",
              "      <td>United States</td>\n",
              "    </tr>\n",
              "    <tr>\n",
              "      <th>2</th>\n",
              "      <td>3</td>\n",
              "      <td>Life's A Mess (feat. Halsey)</td>\n",
              "      <td>Juice WRLD</td>\n",
              "      <td>3094307</td>\n",
              "      <td>https://open.spotify.com/track/4h5N4KyWZMtpeH9...</td>\n",
              "      <td>us</td>\n",
              "      <td>United States</td>\n",
              "    </tr>\n",
              "    <tr>\n",
              "      <th>3</th>\n",
              "      <td>4</td>\n",
              "      <td>Hate The Other Side (with Marshmello feat. Pol...</td>\n",
              "      <td>Juice WRLD</td>\n",
              "      <td>2855162</td>\n",
              "      <td>https://open.spotify.com/track/66FgjA5ZQJJuypF...</td>\n",
              "      <td>us</td>\n",
              "      <td>United States</td>\n",
              "    </tr>\n",
              "    <tr>\n",
              "      <th>4</th>\n",
              "      <td>5</td>\n",
              "      <td>Titanic</td>\n",
              "      <td>Juice WRLD</td>\n",
              "      <td>2826000</td>\n",
              "      <td>https://open.spotify.com/track/1QoG0Yqz1onMsdb...</td>\n",
              "      <td>us</td>\n",
              "      <td>United States</td>\n",
              "    </tr>\n",
              "    <tr>\n",
              "      <th>...</th>\n",
              "      <td>...</td>\n",
              "      <td>...</td>\n",
              "      <td>...</td>\n",
              "      <td>...</td>\n",
              "      <td>...</td>\n",
              "      <td>...</td>\n",
              "      <td>...</td>\n",
              "    </tr>\n",
              "    <tr>\n",
              "      <th>10977</th>\n",
              "      <td>196</td>\n",
              "      <td>In Your Eyes</td>\n",
              "      <td>The Weeknd</td>\n",
              "      <td>5653</td>\n",
              "      <td>https://open.spotify.com/track/7szuecWAPwGoV1e...</td>\n",
              "      <td>tw</td>\n",
              "      <td>Taiwan</td>\n",
              "    </tr>\n",
              "    <tr>\n",
              "      <th>10978</th>\n",
              "      <td>197</td>\n",
              "      <td>Sunday Best</td>\n",
              "      <td>Surfaces</td>\n",
              "      <td>5624</td>\n",
              "      <td>https://open.spotify.com/track/1Cv1YLb4q0RzL6p...</td>\n",
              "      <td>tw</td>\n",
              "      <td>Taiwan</td>\n",
              "    </tr>\n",
              "    <tr>\n",
              "      <th>10979</th>\n",
              "      <td>198</td>\n",
              "      <td>你啊你啊 - 電視劇「用九柑仔店」插曲</td>\n",
              "      <td>Waa Wei</td>\n",
              "      <td>5621</td>\n",
              "      <td>https://open.spotify.com/track/4nyO1azSuhT5JrE...</td>\n",
              "      <td>tw</td>\n",
              "      <td>Taiwan</td>\n",
              "    </tr>\n",
              "    <tr>\n",
              "      <th>10980</th>\n",
              "      <td>199</td>\n",
              "      <td>ME! (feat. Brendon Urie of Panic! At The Disco)</td>\n",
              "      <td>Taylor Swift</td>\n",
              "      <td>5616</td>\n",
              "      <td>https://open.spotify.com/track/2Rk4JlNc2TPmZe2...</td>\n",
              "      <td>tw</td>\n",
              "      <td>Taiwan</td>\n",
              "    </tr>\n",
              "    <tr>\n",
              "      <th>10981</th>\n",
              "      <td>200</td>\n",
              "      <td>水星記</td>\n",
              "      <td>Guo Ding</td>\n",
              "      <td>5608</td>\n",
              "      <td>https://open.spotify.com/track/3CDcr9ogSecLIwo...</td>\n",
              "      <td>tw</td>\n",
              "      <td>Taiwan</td>\n",
              "    </tr>\n",
              "  </tbody>\n",
              "</table>\n",
              "<p>10982 rows × 7 columns</p>\n",
              "</div>"
            ],
            "text/plain": [
              "       Position  ...   country_name\n",
              "0             1  ...  United States\n",
              "1             2  ...  United States\n",
              "2             3  ...  United States\n",
              "3             4  ...  United States\n",
              "4             5  ...  United States\n",
              "...         ...  ...            ...\n",
              "10977       196  ...         Taiwan\n",
              "10978       197  ...         Taiwan\n",
              "10979       198  ...         Taiwan\n",
              "10980       199  ...         Taiwan\n",
              "10981       200  ...         Taiwan\n",
              "\n",
              "[10982 rows x 7 columns]"
            ]
          },
          "metadata": {
            "tags": []
          },
          "execution_count": 100
        }
      ]
    },
    {
      "cell_type": "code",
      "metadata": {
        "id": "jC0N6ceobJ_n",
        "colab_type": "code",
        "colab": {}
      },
      "source": [
        "main_data.to_csv('drive/My Drive/SpotifyDS/chartCollection.csv')"
      ],
      "execution_count": null,
      "outputs": []
    },
    {
      "cell_type": "code",
      "metadata": {
        "id": "jN5P03VnbU5W",
        "colab_type": "code",
        "colab": {}
      },
      "source": [
        "#Part 2 Extract audio information "
      ],
      "execution_count": null,
      "outputs": []
    },
    {
      "cell_type": "code",
      "metadata": {
        "id": "s0KGyglJfyUD",
        "colab_type": "code",
        "colab": {}
      },
      "source": [
        ""
      ],
      "execution_count": null,
      "outputs": []
    }
  ]
}